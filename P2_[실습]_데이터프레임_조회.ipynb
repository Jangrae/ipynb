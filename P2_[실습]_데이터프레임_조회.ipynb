{
  "nbformat": 4,
  "nbformat_minor": 0,
  "metadata": {
    "colab": {
      "name": "P2 [실습] 데이터프레임 조회.ipynb",
      "provenance": [],
      "collapsed_sections": []
    },
    "kernelspec": {
      "display_name": "Python 3",
      "language": "python",
      "name": "python3"
    },
    "language_info": {
      "codemirror_mode": {
        "name": "ipython",
        "version": 3
      },
      "file_extension": ".py",
      "mimetype": "text/x-python",
      "name": "python",
      "nbconvert_exporter": "python",
      "pygments_lexer": "ipython3",
      "version": "3.7.6"
    }
  },
  "cells": [
    {
      "cell_type": "markdown",
      "metadata": {
        "id": "BFhIXgdYoYGp"
      },
      "source": [
        "<center><img src='https://raw.githubusercontent.com/Jangrae/img/master/title.png' width=500/></center>"
      ]
    },
    {
      "cell_type": "markdown",
      "metadata": {
        "id": "Qde8QCkNWnTj"
      },
      "source": [
        "<center><img src='https://raw.githubusercontent.com/Jangrae/img/master/practice.png' width=300/></center>"
      ]
    },
    {
      "cell_type": "markdown",
      "metadata": {
        "id": "-icG4pzIWnTk"
      },
      "source": [
        "# 실습 목표\n",
        "\n",
        "- CSV 파일에서 데이터를 읽어올 수 있습니다.\n",
        "- 조건에 맞는 데이터를 조회할 수 있습니다."
      ]
    },
    {
      "cell_type": "markdown",
      "metadata": {
        "id": "-sdzPN0Uwxi2"
      },
      "source": [
        "# P2. [실습] 데이터프레임 조회"
      ]
    },
    {
      "cell_type": "code",
      "metadata": {
        "id": "oN9BR9E4LA8y"
      },
      "source": [
        "# 라이브러리 불러오기\n",
        "import pandas as pd\n",
        "import numpy as np\n",
        "import matplotlib.pyplot as plt\n",
        "\n",
        "%config InlineBackend.figure_format='retina'"
      ],
      "execution_count": 1,
      "outputs": []
    },
    {
      "cell_type": "markdown",
      "metadata": {
        "id": "MSI7TDJqLOuu"
      },
      "source": [
        "1) 다음 파일을 읽어 **graduate**, **titanic** 데이터프레임을 만드세요.\n",
        "- 'https://raw.githubusercontent.com/Jangrae/csv/master/Graduate_apply.csv'\n",
        "- 'https://raw.githubusercontent.com/Jangrae/csv/master/titanic_simple.csv'"
      ]
    },
    {
      "cell_type": "code",
      "metadata": {
        "id": "brN0YxzRLjzK",
        "scrolled": false,
        "outputId": "f1957286-5454-4734-a087-f43df76eb0e9",
        "colab": {
          "base_uri": "https://localhost:8080/",
          "height": 196
        }
      },
      "source": [
        "# graduate 데이터프레임 만들기\n",
        "file_path = 'https://raw.githubusercontent.com/Jangrae/csv/master/Graduate_apply.csv'\n",
        "graduate = pd.read_csv(file_path, sep = ',')\n",
        "\n",
        "# 확인\n",
        "graduate.head()"
      ],
      "execution_count": 2,
      "outputs": [
        {
          "output_type": "execute_result",
          "data": {
            "text/html": [
              "<div>\n",
              "<style scoped>\n",
              "    .dataframe tbody tr th:only-of-type {\n",
              "        vertical-align: middle;\n",
              "    }\n",
              "\n",
              "    .dataframe tbody tr th {\n",
              "        vertical-align: top;\n",
              "    }\n",
              "\n",
              "    .dataframe thead th {\n",
              "        text-align: right;\n",
              "    }\n",
              "</style>\n",
              "<table border=\"1\" class=\"dataframe\">\n",
              "  <thead>\n",
              "    <tr style=\"text-align: right;\">\n",
              "      <th></th>\n",
              "      <th>admit</th>\n",
              "      <th>gre</th>\n",
              "      <th>gpa</th>\n",
              "      <th>rank</th>\n",
              "    </tr>\n",
              "  </thead>\n",
              "  <tbody>\n",
              "    <tr>\n",
              "      <th>0</th>\n",
              "      <td>0</td>\n",
              "      <td>380</td>\n",
              "      <td>3.61</td>\n",
              "      <td>3</td>\n",
              "    </tr>\n",
              "    <tr>\n",
              "      <th>1</th>\n",
              "      <td>1</td>\n",
              "      <td>660</td>\n",
              "      <td>3.67</td>\n",
              "      <td>3</td>\n",
              "    </tr>\n",
              "    <tr>\n",
              "      <th>2</th>\n",
              "      <td>1</td>\n",
              "      <td>800</td>\n",
              "      <td>4.00</td>\n",
              "      <td>1</td>\n",
              "    </tr>\n",
              "    <tr>\n",
              "      <th>3</th>\n",
              "      <td>1</td>\n",
              "      <td>640</td>\n",
              "      <td>3.19</td>\n",
              "      <td>4</td>\n",
              "    </tr>\n",
              "    <tr>\n",
              "      <th>4</th>\n",
              "      <td>0</td>\n",
              "      <td>520</td>\n",
              "      <td>2.93</td>\n",
              "      <td>4</td>\n",
              "    </tr>\n",
              "  </tbody>\n",
              "</table>\n",
              "</div>"
            ],
            "text/plain": [
              "   admit  gre   gpa  rank\n",
              "0      0  380  3.61     3\n",
              "1      1  660  3.67     3\n",
              "2      1  800  4.00     1\n",
              "3      1  640  3.19     4\n",
              "4      0  520  2.93     4"
            ]
          },
          "metadata": {
            "tags": []
          },
          "execution_count": 2
        }
      ]
    },
    {
      "cell_type": "code",
      "metadata": {
        "id": "NhGzdquFM-yW",
        "outputId": "f8a48e9c-9ae2-4703-c459-6d37e48f0c20",
        "colab": {
          "base_uri": "https://localhost:8080/",
          "height": 196
        }
      },
      "source": [
        "# titanic 데이터프레임 만들기\n",
        "file_path = 'https://raw.githubusercontent.com/Jangrae/csv/master/titanic_simple.csv'\n",
        "titanic = pd.read_csv(file_path, sep = ',')\n",
        "\n",
        "# 확인\n",
        "titanic.head()"
      ],
      "execution_count": 3,
      "outputs": [
        {
          "output_type": "execute_result",
          "data": {
            "text/html": [
              "<div>\n",
              "<style scoped>\n",
              "    .dataframe tbody tr th:only-of-type {\n",
              "        vertical-align: middle;\n",
              "    }\n",
              "\n",
              "    .dataframe tbody tr th {\n",
              "        vertical-align: top;\n",
              "    }\n",
              "\n",
              "    .dataframe thead th {\n",
              "        text-align: right;\n",
              "    }\n",
              "</style>\n",
              "<table border=\"1\" class=\"dataframe\">\n",
              "  <thead>\n",
              "    <tr style=\"text-align: right;\">\n",
              "      <th></th>\n",
              "      <th>PassengerId</th>\n",
              "      <th>Survived</th>\n",
              "      <th>Pclass</th>\n",
              "      <th>Name</th>\n",
              "      <th>Sex</th>\n",
              "      <th>Age</th>\n",
              "      <th>Fare</th>\n",
              "      <th>Embarked</th>\n",
              "    </tr>\n",
              "  </thead>\n",
              "  <tbody>\n",
              "    <tr>\n",
              "      <th>0</th>\n",
              "      <td>1</td>\n",
              "      <td>0</td>\n",
              "      <td>3</td>\n",
              "      <td>Braund, Mr. Owen Harris</td>\n",
              "      <td>male</td>\n",
              "      <td>22.0</td>\n",
              "      <td>7.2500</td>\n",
              "      <td>Southhampton</td>\n",
              "    </tr>\n",
              "    <tr>\n",
              "      <th>1</th>\n",
              "      <td>2</td>\n",
              "      <td>1</td>\n",
              "      <td>1</td>\n",
              "      <td>Cumings, Mrs. John Bradley (Florence Briggs Th...</td>\n",
              "      <td>female</td>\n",
              "      <td>38.0</td>\n",
              "      <td>71.2833</td>\n",
              "      <td>Cherbourg</td>\n",
              "    </tr>\n",
              "    <tr>\n",
              "      <th>2</th>\n",
              "      <td>3</td>\n",
              "      <td>1</td>\n",
              "      <td>3</td>\n",
              "      <td>Heikkinen, Miss. Laina</td>\n",
              "      <td>female</td>\n",
              "      <td>26.0</td>\n",
              "      <td>7.9250</td>\n",
              "      <td>Southhampton</td>\n",
              "    </tr>\n",
              "    <tr>\n",
              "      <th>3</th>\n",
              "      <td>4</td>\n",
              "      <td>1</td>\n",
              "      <td>1</td>\n",
              "      <td>Futrelle, Mrs. Jacques Heath (Lily May Peel)</td>\n",
              "      <td>female</td>\n",
              "      <td>35.0</td>\n",
              "      <td>53.1000</td>\n",
              "      <td>Southhampton</td>\n",
              "    </tr>\n",
              "    <tr>\n",
              "      <th>4</th>\n",
              "      <td>5</td>\n",
              "      <td>0</td>\n",
              "      <td>3</td>\n",
              "      <td>Allen, Mr. William Henry</td>\n",
              "      <td>male</td>\n",
              "      <td>35.0</td>\n",
              "      <td>8.0500</td>\n",
              "      <td>Southhampton</td>\n",
              "    </tr>\n",
              "  </tbody>\n",
              "</table>\n",
              "</div>"
            ],
            "text/plain": [
              "   PassengerId  Survived  Pclass  ...   Age     Fare      Embarked\n",
              "0            1         0       3  ...  22.0   7.2500  Southhampton\n",
              "1            2         1       1  ...  38.0  71.2833     Cherbourg\n",
              "2            3         1       3  ...  26.0   7.9250  Southhampton\n",
              "3            4         1       1  ...  35.0  53.1000  Southhampton\n",
              "4            5         0       3  ...  35.0   8.0500  Southhampton\n",
              "\n",
              "[5 rows x 8 columns]"
            ]
          },
          "metadata": {
            "tags": []
          },
          "execution_count": 3
        }
      ]
    },
    {
      "cell_type": "markdown",
      "metadata": {
        "id": "BHbPvRq_LwV8"
      },
      "source": [
        "### graduate 데이터프레임 사용"
      ]
    },
    {
      "cell_type": "markdown",
      "metadata": {
        "id": "0FlziGWML113"
      },
      "source": [
        "1) unique() 메소드를 사용해 rank 열에 어떤 값들이 들어 있는 지 확인하세요."
      ]
    },
    {
      "cell_type": "code",
      "metadata": {
        "id": "wo7NCADBwxne",
        "outputId": "bfa43485-2590-4ef6-86de-f55542cd4ce4",
        "colab": {
          "base_uri": "https://localhost:8080/"
        }
      },
      "source": [
        "# rank 값 확인\n",
        "graduate['rank'].unique()"
      ],
      "execution_count": 4,
      "outputs": [
        {
          "output_type": "execute_result",
          "data": {
            "text/plain": [
              "array([3, 1, 4, 2])"
            ]
          },
          "metadata": {
            "tags": []
          },
          "execution_count": 4
        }
      ]
    },
    {
      "cell_type": "markdown",
      "metadata": {
        "id": "bjphgrRfkLjR"
      },
      "source": [
        "2) value_counts() 메소드를 사용해 rank 열에 어떤 값이 몇 개씩 있는지 확인하세요."
      ]
    },
    {
      "cell_type": "code",
      "metadata": {
        "id": "6VSq6tE6kLjU",
        "outputId": "de704dc6-55c4-48b3-c040-da11b0aed041",
        "colab": {
          "base_uri": "https://localhost:8080/"
        }
      },
      "source": [
        "# rank 값 개수 확인\n",
        "graduate['rank'].value_counts()"
      ],
      "execution_count": 5,
      "outputs": [
        {
          "output_type": "execute_result",
          "data": {
            "text/plain": [
              "2    151\n",
              "3    121\n",
              "4     67\n",
              "1     61\n",
              "Name: rank, dtype: int64"
            ]
          },
          "metadata": {
            "tags": []
          },
          "execution_count": 5
        }
      ]
    },
    {
      "cell_type": "markdown",
      "metadata": {
        "id": "uRS1ADKhL_VS"
      },
      "source": [
        "3) gre 값이 평균 이상이면서 rank가 4인 행을 조회하세요."
      ]
    },
    {
      "cell_type": "code",
      "metadata": {
        "id": "U22tWnCrwxnp",
        "scrolled": false,
        "outputId": "8ce9af8b-b0bc-4296-f613-01c5cacfc403",
        "colab": {
          "base_uri": "https://localhost:8080/",
          "height": 822
        }
      },
      "source": [
        "# gre 값 평균\n",
        "gre_mean = graduate['gre'].mean()\n",
        "\n",
        "# gre 값이 gre 평균 이상이고 rank가 4인 사람\n",
        "graduate[(graduate['gre'] >= gre_mean) & (graduate['rank'] == 4)]"
      ],
      "execution_count": 6,
      "outputs": [
        {
          "output_type": "execute_result",
          "data": {
            "text/html": [
              "<div>\n",
              "<style scoped>\n",
              "    .dataframe tbody tr th:only-of-type {\n",
              "        vertical-align: middle;\n",
              "    }\n",
              "\n",
              "    .dataframe tbody tr th {\n",
              "        vertical-align: top;\n",
              "    }\n",
              "\n",
              "    .dataframe thead th {\n",
              "        text-align: right;\n",
              "    }\n",
              "</style>\n",
              "<table border=\"1\" class=\"dataframe\">\n",
              "  <thead>\n",
              "    <tr style=\"text-align: right;\">\n",
              "      <th></th>\n",
              "      <th>admit</th>\n",
              "      <th>gre</th>\n",
              "      <th>gpa</th>\n",
              "      <th>rank</th>\n",
              "    </tr>\n",
              "  </thead>\n",
              "  <tbody>\n",
              "    <tr>\n",
              "      <th>3</th>\n",
              "      <td>1</td>\n",
              "      <td>640</td>\n",
              "      <td>3.19</td>\n",
              "      <td>4</td>\n",
              "    </tr>\n",
              "    <tr>\n",
              "      <th>10</th>\n",
              "      <td>0</td>\n",
              "      <td>800</td>\n",
              "      <td>4.00</td>\n",
              "      <td>4</td>\n",
              "    </tr>\n",
              "    <tr>\n",
              "      <th>16</th>\n",
              "      <td>0</td>\n",
              "      <td>780</td>\n",
              "      <td>3.87</td>\n",
              "      <td>4</td>\n",
              "    </tr>\n",
              "    <tr>\n",
              "      <th>22</th>\n",
              "      <td>0</td>\n",
              "      <td>600</td>\n",
              "      <td>2.82</td>\n",
              "      <td>4</td>\n",
              "    </tr>\n",
              "    <tr>\n",
              "      <th>23</th>\n",
              "      <td>0</td>\n",
              "      <td>680</td>\n",
              "      <td>3.19</td>\n",
              "      <td>4</td>\n",
              "    </tr>\n",
              "    <tr>\n",
              "      <th>52</th>\n",
              "      <td>0</td>\n",
              "      <td>740</td>\n",
              "      <td>3.37</td>\n",
              "      <td>4</td>\n",
              "    </tr>\n",
              "    <tr>\n",
              "      <th>59</th>\n",
              "      <td>0</td>\n",
              "      <td>600</td>\n",
              "      <td>2.82</td>\n",
              "      <td>4</td>\n",
              "    </tr>\n",
              "    <tr>\n",
              "      <th>66</th>\n",
              "      <td>0</td>\n",
              "      <td>740</td>\n",
              "      <td>3.62</td>\n",
              "      <td>4</td>\n",
              "    </tr>\n",
              "    <tr>\n",
              "      <th>74</th>\n",
              "      <td>0</td>\n",
              "      <td>720</td>\n",
              "      <td>3.45</td>\n",
              "      <td>4</td>\n",
              "    </tr>\n",
              "    <tr>\n",
              "      <th>80</th>\n",
              "      <td>0</td>\n",
              "      <td>700</td>\n",
              "      <td>2.90</td>\n",
              "      <td>4</td>\n",
              "    </tr>\n",
              "    <tr>\n",
              "      <th>96</th>\n",
              "      <td>0</td>\n",
              "      <td>640</td>\n",
              "      <td>3.52</td>\n",
              "      <td>4</td>\n",
              "    </tr>\n",
              "    <tr>\n",
              "      <th>110</th>\n",
              "      <td>0</td>\n",
              "      <td>680</td>\n",
              "      <td>3.08</td>\n",
              "      <td>4</td>\n",
              "    </tr>\n",
              "    <tr>\n",
              "      <th>127</th>\n",
              "      <td>0</td>\n",
              "      <td>740</td>\n",
              "      <td>3.74</td>\n",
              "      <td>4</td>\n",
              "    </tr>\n",
              "    <tr>\n",
              "      <th>141</th>\n",
              "      <td>1</td>\n",
              "      <td>700</td>\n",
              "      <td>3.52</td>\n",
              "      <td>4</td>\n",
              "    </tr>\n",
              "    <tr>\n",
              "      <th>142</th>\n",
              "      <td>0</td>\n",
              "      <td>620</td>\n",
              "      <td>3.94</td>\n",
              "      <td>4</td>\n",
              "    </tr>\n",
              "    <tr>\n",
              "      <th>210</th>\n",
              "      <td>0</td>\n",
              "      <td>740</td>\n",
              "      <td>3.34</td>\n",
              "      <td>4</td>\n",
              "    </tr>\n",
              "    <tr>\n",
              "      <th>250</th>\n",
              "      <td>0</td>\n",
              "      <td>660</td>\n",
              "      <td>3.31</td>\n",
              "      <td>4</td>\n",
              "    </tr>\n",
              "    <tr>\n",
              "      <th>251</th>\n",
              "      <td>0</td>\n",
              "      <td>620</td>\n",
              "      <td>3.21</td>\n",
              "      <td>4</td>\n",
              "    </tr>\n",
              "    <tr>\n",
              "      <th>254</th>\n",
              "      <td>1</td>\n",
              "      <td>740</td>\n",
              "      <td>3.52</td>\n",
              "      <td>4</td>\n",
              "    </tr>\n",
              "    <tr>\n",
              "      <th>278</th>\n",
              "      <td>1</td>\n",
              "      <td>680</td>\n",
              "      <td>3.00</td>\n",
              "      <td>4</td>\n",
              "    </tr>\n",
              "    <tr>\n",
              "      <th>282</th>\n",
              "      <td>0</td>\n",
              "      <td>660</td>\n",
              "      <td>3.45</td>\n",
              "      <td>4</td>\n",
              "    </tr>\n",
              "    <tr>\n",
              "      <th>285</th>\n",
              "      <td>0</td>\n",
              "      <td>600</td>\n",
              "      <td>3.31</td>\n",
              "      <td>4</td>\n",
              "    </tr>\n",
              "    <tr>\n",
              "      <th>287</th>\n",
              "      <td>1</td>\n",
              "      <td>660</td>\n",
              "      <td>3.70</td>\n",
              "      <td>4</td>\n",
              "    </tr>\n",
              "    <tr>\n",
              "      <th>288</th>\n",
              "      <td>0</td>\n",
              "      <td>800</td>\n",
              "      <td>3.15</td>\n",
              "      <td>4</td>\n",
              "    </tr>\n",
              "    <tr>\n",
              "      <th>317</th>\n",
              "      <td>1</td>\n",
              "      <td>780</td>\n",
              "      <td>3.63</td>\n",
              "      <td>4</td>\n",
              "    </tr>\n",
              "    <tr>\n",
              "      <th>337</th>\n",
              "      <td>0</td>\n",
              "      <td>620</td>\n",
              "      <td>3.09</td>\n",
              "      <td>4</td>\n",
              "    </tr>\n",
              "  </tbody>\n",
              "</table>\n",
              "</div>"
            ],
            "text/plain": [
              "     admit  gre   gpa  rank\n",
              "3        1  640  3.19     4\n",
              "10       0  800  4.00     4\n",
              "16       0  780  3.87     4\n",
              "22       0  600  2.82     4\n",
              "23       0  680  3.19     4\n",
              "52       0  740  3.37     4\n",
              "59       0  600  2.82     4\n",
              "66       0  740  3.62     4\n",
              "74       0  720  3.45     4\n",
              "80       0  700  2.90     4\n",
              "96       0  640  3.52     4\n",
              "110      0  680  3.08     4\n",
              "127      0  740  3.74     4\n",
              "141      1  700  3.52     4\n",
              "142      0  620  3.94     4\n",
              "210      0  740  3.34     4\n",
              "250      0  660  3.31     4\n",
              "251      0  620  3.21     4\n",
              "254      1  740  3.52     4\n",
              "278      1  680  3.00     4\n",
              "282      0  660  3.45     4\n",
              "285      0  600  3.31     4\n",
              "287      1  660  3.70     4\n",
              "288      0  800  3.15     4\n",
              "317      1  780  3.63     4\n",
              "337      0  620  3.09     4"
            ]
          },
          "metadata": {
            "tags": []
          },
          "execution_count": 6
        }
      ]
    },
    {
      "cell_type": "markdown",
      "metadata": {
        "id": "C_FUr9AGsLRr"
      },
      "source": [
        "4) 인덱스 값이 6 ~ 10 인 행을 조회하세요."
      ]
    },
    {
      "cell_type": "code",
      "metadata": {
        "id": "te0-UuhQk7ZK",
        "outputId": "465f929e-fb23-4bca-d112-7c78d631dac4",
        "colab": {
          "base_uri": "https://localhost:8080/",
          "height": 196
        }
      },
      "source": [
        "# 인덱스 이름 6 ~ 10 조회\n",
        "graduate.loc[6:10]"
      ],
      "execution_count": 7,
      "outputs": [
        {
          "output_type": "execute_result",
          "data": {
            "text/html": [
              "<div>\n",
              "<style scoped>\n",
              "    .dataframe tbody tr th:only-of-type {\n",
              "        vertical-align: middle;\n",
              "    }\n",
              "\n",
              "    .dataframe tbody tr th {\n",
              "        vertical-align: top;\n",
              "    }\n",
              "\n",
              "    .dataframe thead th {\n",
              "        text-align: right;\n",
              "    }\n",
              "</style>\n",
              "<table border=\"1\" class=\"dataframe\">\n",
              "  <thead>\n",
              "    <tr style=\"text-align: right;\">\n",
              "      <th></th>\n",
              "      <th>admit</th>\n",
              "      <th>gre</th>\n",
              "      <th>gpa</th>\n",
              "      <th>rank</th>\n",
              "    </tr>\n",
              "  </thead>\n",
              "  <tbody>\n",
              "    <tr>\n",
              "      <th>6</th>\n",
              "      <td>1</td>\n",
              "      <td>560</td>\n",
              "      <td>2.98</td>\n",
              "      <td>1</td>\n",
              "    </tr>\n",
              "    <tr>\n",
              "      <th>7</th>\n",
              "      <td>0</td>\n",
              "      <td>400</td>\n",
              "      <td>3.08</td>\n",
              "      <td>2</td>\n",
              "    </tr>\n",
              "    <tr>\n",
              "      <th>8</th>\n",
              "      <td>1</td>\n",
              "      <td>540</td>\n",
              "      <td>3.39</td>\n",
              "      <td>3</td>\n",
              "    </tr>\n",
              "    <tr>\n",
              "      <th>9</th>\n",
              "      <td>0</td>\n",
              "      <td>700</td>\n",
              "      <td>3.92</td>\n",
              "      <td>2</td>\n",
              "    </tr>\n",
              "    <tr>\n",
              "      <th>10</th>\n",
              "      <td>0</td>\n",
              "      <td>800</td>\n",
              "      <td>4.00</td>\n",
              "      <td>4</td>\n",
              "    </tr>\n",
              "  </tbody>\n",
              "</table>\n",
              "</div>"
            ],
            "text/plain": [
              "    admit  gre   gpa  rank\n",
              "6       1  560  2.98     1\n",
              "7       0  400  3.08     2\n",
              "8       1  540  3.39     3\n",
              "9       0  700  3.92     2\n",
              "10      0  800  4.00     4"
            ]
          },
          "metadata": {
            "tags": []
          },
          "execution_count": 7
        }
      ]
    },
    {
      "cell_type": "markdown",
      "metadata": {
        "id": "Nie8w_VDsSf4"
      },
      "source": [
        "5) 맨 뒤에서 5번째 행을 조회하세요."
      ]
    },
    {
      "cell_type": "code",
      "metadata": {
        "id": "YVr2B6E5rlKy",
        "outputId": "ffc07e96-2f1e-4bd5-d738-46071e675ecb",
        "colab": {
          "base_uri": "https://localhost:8080/",
          "height": 77
        }
      },
      "source": [
        "# 뒤에서 5 번째 행\n",
        "graduate.iloc[[-5]]"
      ],
      "execution_count": 8,
      "outputs": [
        {
          "output_type": "execute_result",
          "data": {
            "text/html": [
              "<div>\n",
              "<style scoped>\n",
              "    .dataframe tbody tr th:only-of-type {\n",
              "        vertical-align: middle;\n",
              "    }\n",
              "\n",
              "    .dataframe tbody tr th {\n",
              "        vertical-align: top;\n",
              "    }\n",
              "\n",
              "    .dataframe thead th {\n",
              "        text-align: right;\n",
              "    }\n",
              "</style>\n",
              "<table border=\"1\" class=\"dataframe\">\n",
              "  <thead>\n",
              "    <tr style=\"text-align: right;\">\n",
              "      <th></th>\n",
              "      <th>admit</th>\n",
              "      <th>gre</th>\n",
              "      <th>gpa</th>\n",
              "      <th>rank</th>\n",
              "    </tr>\n",
              "  </thead>\n",
              "  <tbody>\n",
              "    <tr>\n",
              "      <th>395</th>\n",
              "      <td>0</td>\n",
              "      <td>620</td>\n",
              "      <td>4.0</td>\n",
              "      <td>2</td>\n",
              "    </tr>\n",
              "  </tbody>\n",
              "</table>\n",
              "</div>"
            ],
            "text/plain": [
              "     admit  gre  gpa  rank\n",
              "395      0  620  4.0     2"
            ]
          },
          "metadata": {
            "tags": []
          },
          "execution_count": 8
        }
      ]
    },
    {
      "cell_type": "markdown",
      "metadata": {
        "id": "l8wuO2rHsXIj"
      },
      "source": [
        "6) gre 열만 조회하세요."
      ]
    },
    {
      "cell_type": "code",
      "metadata": {
        "id": "iZ5_6aDOrztE",
        "outputId": "058197e0-fc52-4b74-85d7-a2ab76f24dfa",
        "colab": {
          "base_uri": "https://localhost:8080/"
        }
      },
      "source": [
        "# gre 열만 조회\n",
        "graduate['gre']"
      ],
      "execution_count": 9,
      "outputs": [
        {
          "output_type": "execute_result",
          "data": {
            "text/plain": [
              "0      380\n",
              "1      660\n",
              "2      800\n",
              "3      640\n",
              "4      520\n",
              "      ... \n",
              "395    620\n",
              "396    560\n",
              "397    460\n",
              "398    700\n",
              "399    600\n",
              "Name: gre, Length: 400, dtype: int64"
            ]
          },
          "metadata": {
            "tags": []
          },
          "execution_count": 9
        }
      ]
    },
    {
      "cell_type": "markdown",
      "metadata": {
        "id": "1nU-0jlIsZql"
      },
      "source": [
        "7) gre, gpa 열만을 갖는 새로운 데이터프레임 graduate2를 선언하고 확인하세요."
      ]
    },
    {
      "cell_type": "code",
      "metadata": {
        "id": "ICKhtT7rr4o6",
        "outputId": "29711d14-e173-4d10-dd14-e34b4e30fe60",
        "colab": {
          "base_uri": "https://localhost:8080/",
          "height": 404
        }
      },
      "source": [
        "# graduate2 만들기\n",
        "graduate2 = graduate[['gre', 'gpa']]\n",
        "\n",
        "# 확인\n",
        "graduate2"
      ],
      "execution_count": 10,
      "outputs": [
        {
          "output_type": "execute_result",
          "data": {
            "text/html": [
              "<div>\n",
              "<style scoped>\n",
              "    .dataframe tbody tr th:only-of-type {\n",
              "        vertical-align: middle;\n",
              "    }\n",
              "\n",
              "    .dataframe tbody tr th {\n",
              "        vertical-align: top;\n",
              "    }\n",
              "\n",
              "    .dataframe thead th {\n",
              "        text-align: right;\n",
              "    }\n",
              "</style>\n",
              "<table border=\"1\" class=\"dataframe\">\n",
              "  <thead>\n",
              "    <tr style=\"text-align: right;\">\n",
              "      <th></th>\n",
              "      <th>gre</th>\n",
              "      <th>gpa</th>\n",
              "    </tr>\n",
              "  </thead>\n",
              "  <tbody>\n",
              "    <tr>\n",
              "      <th>0</th>\n",
              "      <td>380</td>\n",
              "      <td>3.61</td>\n",
              "    </tr>\n",
              "    <tr>\n",
              "      <th>1</th>\n",
              "      <td>660</td>\n",
              "      <td>3.67</td>\n",
              "    </tr>\n",
              "    <tr>\n",
              "      <th>2</th>\n",
              "      <td>800</td>\n",
              "      <td>4.00</td>\n",
              "    </tr>\n",
              "    <tr>\n",
              "      <th>3</th>\n",
              "      <td>640</td>\n",
              "      <td>3.19</td>\n",
              "    </tr>\n",
              "    <tr>\n",
              "      <th>4</th>\n",
              "      <td>520</td>\n",
              "      <td>2.93</td>\n",
              "    </tr>\n",
              "    <tr>\n",
              "      <th>...</th>\n",
              "      <td>...</td>\n",
              "      <td>...</td>\n",
              "    </tr>\n",
              "    <tr>\n",
              "      <th>395</th>\n",
              "      <td>620</td>\n",
              "      <td>4.00</td>\n",
              "    </tr>\n",
              "    <tr>\n",
              "      <th>396</th>\n",
              "      <td>560</td>\n",
              "      <td>3.04</td>\n",
              "    </tr>\n",
              "    <tr>\n",
              "      <th>397</th>\n",
              "      <td>460</td>\n",
              "      <td>2.63</td>\n",
              "    </tr>\n",
              "    <tr>\n",
              "      <th>398</th>\n",
              "      <td>700</td>\n",
              "      <td>3.65</td>\n",
              "    </tr>\n",
              "    <tr>\n",
              "      <th>399</th>\n",
              "      <td>600</td>\n",
              "      <td>3.89</td>\n",
              "    </tr>\n",
              "  </tbody>\n",
              "</table>\n",
              "<p>400 rows × 2 columns</p>\n",
              "</div>"
            ],
            "text/plain": [
              "     gre   gpa\n",
              "0    380  3.61\n",
              "1    660  3.67\n",
              "2    800  4.00\n",
              "3    640  3.19\n",
              "4    520  2.93\n",
              "..   ...   ...\n",
              "395  620  4.00\n",
              "396  560  3.04\n",
              "397  460  2.63\n",
              "398  700  3.65\n",
              "399  600  3.89\n",
              "\n",
              "[400 rows x 2 columns]"
            ]
          },
          "metadata": {
            "tags": []
          },
          "execution_count": 10
        }
      ]
    },
    {
      "cell_type": "markdown",
      "metadata": {
        "id": "JP2nwNdcMFaU"
      },
      "source": [
        "## titanic 데이터프레임 사용"
      ]
    },
    {
      "cell_type": "markdown",
      "metadata": {
        "id": "J0tYFLl4u8PZ"
      },
      "source": [
        "8) 15번째 행을 조회하세요."
      ]
    },
    {
      "cell_type": "code",
      "metadata": {
        "id": "pYlJh0xqvCzH",
        "outputId": "bf5f0e16-90c2-4fbf-879c-9f441ef4e0f9",
        "colab": {
          "base_uri": "https://localhost:8080/"
        }
      },
      "source": [
        "# 15번째 행 조회\n",
        "titanic.iloc[14]"
      ],
      "execution_count": 11,
      "outputs": [
        {
          "output_type": "execute_result",
          "data": {
            "text/plain": [
              "PassengerId                                      15\n",
              "Survived                                          0\n",
              "Pclass                                            3\n",
              "Name           Vestrom, Miss. Hulda Amanda Adolfina\n",
              "Sex                                          female\n",
              "Age                                              14\n",
              "Fare                                         7.8542\n",
              "Embarked                               Southhampton\n",
              "Name: 14, dtype: object"
            ]
          },
          "metadata": {
            "tags": []
          },
          "execution_count": 11
        }
      ]
    },
    {
      "cell_type": "markdown",
      "metadata": {
        "id": "Nd3rJ2SVvzpP"
      },
      "source": [
        "9) PassengerId가 20인 행의 Name, Age 열만 조희하세요."
      ]
    },
    {
      "cell_type": "code",
      "metadata": {
        "id": "nk0N5W9cvMR_",
        "outputId": "61629c6c-3b01-4d23-e4a2-ed9b68250866",
        "colab": {
          "base_uri": "https://localhost:8080/",
          "height": 77
        }
      },
      "source": [
        "# PassengerId가 20인 Name, Age 열 조회\n",
        "titanic.loc[titanic['PassengerId'] == 20, ['Name', 'Age']]"
      ],
      "execution_count": 12,
      "outputs": [
        {
          "output_type": "execute_result",
          "data": {
            "text/html": [
              "<div>\n",
              "<style scoped>\n",
              "    .dataframe tbody tr th:only-of-type {\n",
              "        vertical-align: middle;\n",
              "    }\n",
              "\n",
              "    .dataframe tbody tr th {\n",
              "        vertical-align: top;\n",
              "    }\n",
              "\n",
              "    .dataframe thead th {\n",
              "        text-align: right;\n",
              "    }\n",
              "</style>\n",
              "<table border=\"1\" class=\"dataframe\">\n",
              "  <thead>\n",
              "    <tr style=\"text-align: right;\">\n",
              "      <th></th>\n",
              "      <th>Name</th>\n",
              "      <th>Age</th>\n",
              "    </tr>\n",
              "  </thead>\n",
              "  <tbody>\n",
              "    <tr>\n",
              "      <th>19</th>\n",
              "      <td>Masselmani, Mrs. Fatima</td>\n",
              "      <td>NaN</td>\n",
              "    </tr>\n",
              "  </tbody>\n",
              "</table>\n",
              "</div>"
            ],
            "text/plain": [
              "                       Name  Age\n",
              "19  Masselmani, Mrs. Fatima  NaN"
            ]
          },
          "metadata": {
            "tags": []
          },
          "execution_count": 12
        }
      ]
    },
    {
      "cell_type": "markdown",
      "metadata": {
        "id": "OuuUNMa8ML4c"
      },
      "source": [
        "10) Age가 1 이하인 행을 조회하세요."
      ]
    },
    {
      "cell_type": "code",
      "metadata": {
        "id": "SzziqOVDwxns",
        "scrolled": false,
        "outputId": "045a9c20-c3b2-4a8b-d665-4b9cb86b54a6",
        "colab": {
          "base_uri": "https://localhost:8080/",
          "height": 465
        }
      },
      "source": [
        "# Age가 1 이하인 행 조회\n",
        "titanic[titanic['Age'] <= 1]"
      ],
      "execution_count": 13,
      "outputs": [
        {
          "output_type": "execute_result",
          "data": {
            "text/html": [
              "<div>\n",
              "<style scoped>\n",
              "    .dataframe tbody tr th:only-of-type {\n",
              "        vertical-align: middle;\n",
              "    }\n",
              "\n",
              "    .dataframe tbody tr th {\n",
              "        vertical-align: top;\n",
              "    }\n",
              "\n",
              "    .dataframe thead th {\n",
              "        text-align: right;\n",
              "    }\n",
              "</style>\n",
              "<table border=\"1\" class=\"dataframe\">\n",
              "  <thead>\n",
              "    <tr style=\"text-align: right;\">\n",
              "      <th></th>\n",
              "      <th>PassengerId</th>\n",
              "      <th>Survived</th>\n",
              "      <th>Pclass</th>\n",
              "      <th>Name</th>\n",
              "      <th>Sex</th>\n",
              "      <th>Age</th>\n",
              "      <th>Fare</th>\n",
              "      <th>Embarked</th>\n",
              "    </tr>\n",
              "  </thead>\n",
              "  <tbody>\n",
              "    <tr>\n",
              "      <th>78</th>\n",
              "      <td>79</td>\n",
              "      <td>1</td>\n",
              "      <td>2</td>\n",
              "      <td>Caldwell, Master. Alden Gates</td>\n",
              "      <td>male</td>\n",
              "      <td>0.83</td>\n",
              "      <td>29.0000</td>\n",
              "      <td>Southhampton</td>\n",
              "    </tr>\n",
              "    <tr>\n",
              "      <th>164</th>\n",
              "      <td>165</td>\n",
              "      <td>0</td>\n",
              "      <td>3</td>\n",
              "      <td>Panula, Master. Eino Viljami</td>\n",
              "      <td>male</td>\n",
              "      <td>1.00</td>\n",
              "      <td>39.6875</td>\n",
              "      <td>Southhampton</td>\n",
              "    </tr>\n",
              "    <tr>\n",
              "      <th>172</th>\n",
              "      <td>173</td>\n",
              "      <td>1</td>\n",
              "      <td>3</td>\n",
              "      <td>Johnson, Miss. Eleanor Ileen</td>\n",
              "      <td>female</td>\n",
              "      <td>1.00</td>\n",
              "      <td>11.1333</td>\n",
              "      <td>Southhampton</td>\n",
              "    </tr>\n",
              "    <tr>\n",
              "      <th>183</th>\n",
              "      <td>184</td>\n",
              "      <td>1</td>\n",
              "      <td>2</td>\n",
              "      <td>Becker, Master. Richard F</td>\n",
              "      <td>male</td>\n",
              "      <td>1.00</td>\n",
              "      <td>39.0000</td>\n",
              "      <td>Southhampton</td>\n",
              "    </tr>\n",
              "    <tr>\n",
              "      <th>305</th>\n",
              "      <td>306</td>\n",
              "      <td>1</td>\n",
              "      <td>1</td>\n",
              "      <td>Allison, Master. Hudson Trevor</td>\n",
              "      <td>male</td>\n",
              "      <td>0.92</td>\n",
              "      <td>151.5500</td>\n",
              "      <td>Southhampton</td>\n",
              "    </tr>\n",
              "    <tr>\n",
              "      <th>381</th>\n",
              "      <td>382</td>\n",
              "      <td>1</td>\n",
              "      <td>3</td>\n",
              "      <td>Nakid, Miss. Maria (\"Mary\")</td>\n",
              "      <td>female</td>\n",
              "      <td>1.00</td>\n",
              "      <td>15.7417</td>\n",
              "      <td>Cherbourg</td>\n",
              "    </tr>\n",
              "    <tr>\n",
              "      <th>386</th>\n",
              "      <td>387</td>\n",
              "      <td>0</td>\n",
              "      <td>3</td>\n",
              "      <td>Goodwin, Master. Sidney Leonard</td>\n",
              "      <td>male</td>\n",
              "      <td>1.00</td>\n",
              "      <td>46.9000</td>\n",
              "      <td>Southhampton</td>\n",
              "    </tr>\n",
              "    <tr>\n",
              "      <th>469</th>\n",
              "      <td>470</td>\n",
              "      <td>1</td>\n",
              "      <td>3</td>\n",
              "      <td>Baclini, Miss. Helene Barbara</td>\n",
              "      <td>female</td>\n",
              "      <td>0.75</td>\n",
              "      <td>19.2583</td>\n",
              "      <td>Cherbourg</td>\n",
              "    </tr>\n",
              "    <tr>\n",
              "      <th>644</th>\n",
              "      <td>645</td>\n",
              "      <td>1</td>\n",
              "      <td>3</td>\n",
              "      <td>Baclini, Miss. Eugenie</td>\n",
              "      <td>female</td>\n",
              "      <td>0.75</td>\n",
              "      <td>19.2583</td>\n",
              "      <td>Cherbourg</td>\n",
              "    </tr>\n",
              "    <tr>\n",
              "      <th>755</th>\n",
              "      <td>756</td>\n",
              "      <td>1</td>\n",
              "      <td>2</td>\n",
              "      <td>Hamalainen, Master. Viljo</td>\n",
              "      <td>male</td>\n",
              "      <td>0.67</td>\n",
              "      <td>14.5000</td>\n",
              "      <td>Southhampton</td>\n",
              "    </tr>\n",
              "    <tr>\n",
              "      <th>788</th>\n",
              "      <td>789</td>\n",
              "      <td>1</td>\n",
              "      <td>3</td>\n",
              "      <td>Dean, Master. Bertram Vere</td>\n",
              "      <td>male</td>\n",
              "      <td>1.00</td>\n",
              "      <td>20.5750</td>\n",
              "      <td>Southhampton</td>\n",
              "    </tr>\n",
              "    <tr>\n",
              "      <th>803</th>\n",
              "      <td>804</td>\n",
              "      <td>1</td>\n",
              "      <td>3</td>\n",
              "      <td>Thomas, Master. Assad Alexander</td>\n",
              "      <td>male</td>\n",
              "      <td>0.42</td>\n",
              "      <td>8.5167</td>\n",
              "      <td>Cherbourg</td>\n",
              "    </tr>\n",
              "    <tr>\n",
              "      <th>827</th>\n",
              "      <td>828</td>\n",
              "      <td>1</td>\n",
              "      <td>2</td>\n",
              "      <td>Mallet, Master. Andre</td>\n",
              "      <td>male</td>\n",
              "      <td>1.00</td>\n",
              "      <td>37.0042</td>\n",
              "      <td>Cherbourg</td>\n",
              "    </tr>\n",
              "    <tr>\n",
              "      <th>831</th>\n",
              "      <td>832</td>\n",
              "      <td>1</td>\n",
              "      <td>2</td>\n",
              "      <td>Richards, Master. George Sibley</td>\n",
              "      <td>male</td>\n",
              "      <td>0.83</td>\n",
              "      <td>18.7500</td>\n",
              "      <td>Southhampton</td>\n",
              "    </tr>\n",
              "  </tbody>\n",
              "</table>\n",
              "</div>"
            ],
            "text/plain": [
              "     PassengerId  Survived  Pclass  ...   Age      Fare      Embarked\n",
              "78            79         1       2  ...  0.83   29.0000  Southhampton\n",
              "164          165         0       3  ...  1.00   39.6875  Southhampton\n",
              "172          173         1       3  ...  1.00   11.1333  Southhampton\n",
              "183          184         1       2  ...  1.00   39.0000  Southhampton\n",
              "305          306         1       1  ...  0.92  151.5500  Southhampton\n",
              "381          382         1       3  ...  1.00   15.7417     Cherbourg\n",
              "386          387         0       3  ...  1.00   46.9000  Southhampton\n",
              "469          470         1       3  ...  0.75   19.2583     Cherbourg\n",
              "644          645         1       3  ...  0.75   19.2583     Cherbourg\n",
              "755          756         1       2  ...  0.67   14.5000  Southhampton\n",
              "788          789         1       3  ...  1.00   20.5750  Southhampton\n",
              "803          804         1       3  ...  0.42    8.5167     Cherbourg\n",
              "827          828         1       2  ...  1.00   37.0042     Cherbourg\n",
              "831          832         1       2  ...  0.83   18.7500  Southhampton\n",
              "\n",
              "[14 rows x 8 columns]"
            ]
          },
          "metadata": {
            "tags": []
          },
          "execution_count": 13
        }
      ]
    },
    {
      "cell_type": "markdown",
      "metadata": {
        "id": "E1DKTjrfMO4B"
      },
      "source": [
        "11) 여자(Female)이면서, 탑승지역(Embarked)이 Southhampton 인 행을 조회하세요."
      ]
    },
    {
      "cell_type": "code",
      "metadata": {
        "id": "Gr6YbubAwxnw",
        "scrolled": true,
        "outputId": "95bc47f4-39b3-4731-c9a6-0d488dcb22a2",
        "colab": {
          "base_uri": "https://localhost:8080/",
          "height": 404
        }
      },
      "source": [
        "# 조건에 맞는 행 조회\n",
        "titanic[(titanic['Sex'] == 'female') & (titanic['Embarked'] == 'Southhampton')]"
      ],
      "execution_count": 14,
      "outputs": [
        {
          "output_type": "execute_result",
          "data": {
            "text/html": [
              "<div>\n",
              "<style scoped>\n",
              "    .dataframe tbody tr th:only-of-type {\n",
              "        vertical-align: middle;\n",
              "    }\n",
              "\n",
              "    .dataframe tbody tr th {\n",
              "        vertical-align: top;\n",
              "    }\n",
              "\n",
              "    .dataframe thead th {\n",
              "        text-align: right;\n",
              "    }\n",
              "</style>\n",
              "<table border=\"1\" class=\"dataframe\">\n",
              "  <thead>\n",
              "    <tr style=\"text-align: right;\">\n",
              "      <th></th>\n",
              "      <th>PassengerId</th>\n",
              "      <th>Survived</th>\n",
              "      <th>Pclass</th>\n",
              "      <th>Name</th>\n",
              "      <th>Sex</th>\n",
              "      <th>Age</th>\n",
              "      <th>Fare</th>\n",
              "      <th>Embarked</th>\n",
              "    </tr>\n",
              "  </thead>\n",
              "  <tbody>\n",
              "    <tr>\n",
              "      <th>2</th>\n",
              "      <td>3</td>\n",
              "      <td>1</td>\n",
              "      <td>3</td>\n",
              "      <td>Heikkinen, Miss. Laina</td>\n",
              "      <td>female</td>\n",
              "      <td>26.0</td>\n",
              "      <td>7.9250</td>\n",
              "      <td>Southhampton</td>\n",
              "    </tr>\n",
              "    <tr>\n",
              "      <th>3</th>\n",
              "      <td>4</td>\n",
              "      <td>1</td>\n",
              "      <td>1</td>\n",
              "      <td>Futrelle, Mrs. Jacques Heath (Lily May Peel)</td>\n",
              "      <td>female</td>\n",
              "      <td>35.0</td>\n",
              "      <td>53.1000</td>\n",
              "      <td>Southhampton</td>\n",
              "    </tr>\n",
              "    <tr>\n",
              "      <th>8</th>\n",
              "      <td>9</td>\n",
              "      <td>1</td>\n",
              "      <td>3</td>\n",
              "      <td>Johnson, Mrs. Oscar W (Elisabeth Vilhelmina Berg)</td>\n",
              "      <td>female</td>\n",
              "      <td>27.0</td>\n",
              "      <td>11.1333</td>\n",
              "      <td>Southhampton</td>\n",
              "    </tr>\n",
              "    <tr>\n",
              "      <th>10</th>\n",
              "      <td>11</td>\n",
              "      <td>1</td>\n",
              "      <td>3</td>\n",
              "      <td>Sandstrom, Miss. Marguerite Rut</td>\n",
              "      <td>female</td>\n",
              "      <td>4.0</td>\n",
              "      <td>16.7000</td>\n",
              "      <td>Southhampton</td>\n",
              "    </tr>\n",
              "    <tr>\n",
              "      <th>11</th>\n",
              "      <td>12</td>\n",
              "      <td>1</td>\n",
              "      <td>1</td>\n",
              "      <td>Bonnell, Miss. Elizabeth</td>\n",
              "      <td>female</td>\n",
              "      <td>58.0</td>\n",
              "      <td>26.5500</td>\n",
              "      <td>Southhampton</td>\n",
              "    </tr>\n",
              "    <tr>\n",
              "      <th>...</th>\n",
              "      <td>...</td>\n",
              "      <td>...</td>\n",
              "      <td>...</td>\n",
              "      <td>...</td>\n",
              "      <td>...</td>\n",
              "      <td>...</td>\n",
              "      <td>...</td>\n",
              "      <td>...</td>\n",
              "    </tr>\n",
              "    <tr>\n",
              "      <th>871</th>\n",
              "      <td>872</td>\n",
              "      <td>1</td>\n",
              "      <td>1</td>\n",
              "      <td>Beckwith, Mrs. Richard Leonard (Sallie Monypeny)</td>\n",
              "      <td>female</td>\n",
              "      <td>47.0</td>\n",
              "      <td>52.5542</td>\n",
              "      <td>Southhampton</td>\n",
              "    </tr>\n",
              "    <tr>\n",
              "      <th>880</th>\n",
              "      <td>881</td>\n",
              "      <td>1</td>\n",
              "      <td>2</td>\n",
              "      <td>Shelley, Mrs. William (Imanita Parrish Hall)</td>\n",
              "      <td>female</td>\n",
              "      <td>25.0</td>\n",
              "      <td>26.0000</td>\n",
              "      <td>Southhampton</td>\n",
              "    </tr>\n",
              "    <tr>\n",
              "      <th>882</th>\n",
              "      <td>883</td>\n",
              "      <td>0</td>\n",
              "      <td>3</td>\n",
              "      <td>Dahlberg, Miss. Gerda Ulrika</td>\n",
              "      <td>female</td>\n",
              "      <td>22.0</td>\n",
              "      <td>10.5167</td>\n",
              "      <td>Southhampton</td>\n",
              "    </tr>\n",
              "    <tr>\n",
              "      <th>887</th>\n",
              "      <td>888</td>\n",
              "      <td>1</td>\n",
              "      <td>1</td>\n",
              "      <td>Graham, Miss. Margaret Edith</td>\n",
              "      <td>female</td>\n",
              "      <td>19.0</td>\n",
              "      <td>30.0000</td>\n",
              "      <td>Southhampton</td>\n",
              "    </tr>\n",
              "    <tr>\n",
              "      <th>888</th>\n",
              "      <td>889</td>\n",
              "      <td>0</td>\n",
              "      <td>3</td>\n",
              "      <td>Johnston, Miss. Catherine Helen \"Carrie\"</td>\n",
              "      <td>female</td>\n",
              "      <td>NaN</td>\n",
              "      <td>23.4500</td>\n",
              "      <td>Southhampton</td>\n",
              "    </tr>\n",
              "  </tbody>\n",
              "</table>\n",
              "<p>203 rows × 8 columns</p>\n",
              "</div>"
            ],
            "text/plain": [
              "     PassengerId  Survived  Pclass  ...   Age     Fare      Embarked\n",
              "2              3         1       3  ...  26.0   7.9250  Southhampton\n",
              "3              4         1       1  ...  35.0  53.1000  Southhampton\n",
              "8              9         1       3  ...  27.0  11.1333  Southhampton\n",
              "10            11         1       3  ...   4.0  16.7000  Southhampton\n",
              "11            12         1       1  ...  58.0  26.5500  Southhampton\n",
              "..           ...       ...     ...  ...   ...      ...           ...\n",
              "871          872         1       1  ...  47.0  52.5542  Southhampton\n",
              "880          881         1       2  ...  25.0  26.0000  Southhampton\n",
              "882          883         0       3  ...  22.0  10.5167  Southhampton\n",
              "887          888         1       1  ...  19.0  30.0000  Southhampton\n",
              "888          889         0       3  ...   NaN  23.4500  Southhampton\n",
              "\n",
              "[203 rows x 8 columns]"
            ]
          },
          "metadata": {
            "tags": []
          },
          "execution_count": 14
        }
      ]
    },
    {
      "cell_type": "markdown",
      "metadata": {
        "id": "yzCTG6QsMR4p"
      },
      "source": [
        "12) 11번 문제에서 조회한 탑승객의 평균 나이를 조회하세요."
      ]
    },
    {
      "cell_type": "code",
      "metadata": {
        "id": "l6vBt-YZwxnz",
        "outputId": "0b89b519-4168-459f-ac0c-8c3831b7c378",
        "colab": {
          "base_uri": "https://localhost:8080/"
        }
      },
      "source": [
        "# 조건에 맞는 행의 특정 열 평균 조회\n",
        "titanic[(titanic['Sex'] == 'female') & (titanic['Embarked'] == 'Southhampton')]['Age'].mean()"
      ],
      "execution_count": 15,
      "outputs": [
        {
          "output_type": "execute_result",
          "data": {
            "text/plain": [
              "27.771505376344088"
            ]
          },
          "metadata": {
            "tags": []
          },
          "execution_count": 15
        }
      ]
    },
    {
      "cell_type": "markdown",
      "metadata": {
        "id": "Op9_kd-ruV2k"
      },
      "source": [
        "13) Fare 열 값이 가장 큰 행을 모두 조회하세요."
      ]
    },
    {
      "cell_type": "code",
      "metadata": {
        "id": "WQmJmhO1uFGG",
        "outputId": "bfe8482c-2da6-4b39-8731-c8f3c4325424",
        "colab": {
          "base_uri": "https://localhost:8080/",
          "height": 137
        }
      },
      "source": [
        "# Fare 값이 가장 큰 행 조회\n",
        "titanic[titanic['Fare'] == titanic['Fare'].max()]"
      ],
      "execution_count": 16,
      "outputs": [
        {
          "output_type": "execute_result",
          "data": {
            "text/html": [
              "<div>\n",
              "<style scoped>\n",
              "    .dataframe tbody tr th:only-of-type {\n",
              "        vertical-align: middle;\n",
              "    }\n",
              "\n",
              "    .dataframe tbody tr th {\n",
              "        vertical-align: top;\n",
              "    }\n",
              "\n",
              "    .dataframe thead th {\n",
              "        text-align: right;\n",
              "    }\n",
              "</style>\n",
              "<table border=\"1\" class=\"dataframe\">\n",
              "  <thead>\n",
              "    <tr style=\"text-align: right;\">\n",
              "      <th></th>\n",
              "      <th>PassengerId</th>\n",
              "      <th>Survived</th>\n",
              "      <th>Pclass</th>\n",
              "      <th>Name</th>\n",
              "      <th>Sex</th>\n",
              "      <th>Age</th>\n",
              "      <th>Fare</th>\n",
              "      <th>Embarked</th>\n",
              "    </tr>\n",
              "  </thead>\n",
              "  <tbody>\n",
              "    <tr>\n",
              "      <th>258</th>\n",
              "      <td>259</td>\n",
              "      <td>1</td>\n",
              "      <td>1</td>\n",
              "      <td>Ward, Miss. Anna</td>\n",
              "      <td>female</td>\n",
              "      <td>35.0</td>\n",
              "      <td>512.3292</td>\n",
              "      <td>Cherbourg</td>\n",
              "    </tr>\n",
              "    <tr>\n",
              "      <th>679</th>\n",
              "      <td>680</td>\n",
              "      <td>1</td>\n",
              "      <td>1</td>\n",
              "      <td>Cardeza, Mr. Thomas Drake Martinez</td>\n",
              "      <td>male</td>\n",
              "      <td>36.0</td>\n",
              "      <td>512.3292</td>\n",
              "      <td>Cherbourg</td>\n",
              "    </tr>\n",
              "    <tr>\n",
              "      <th>737</th>\n",
              "      <td>738</td>\n",
              "      <td>1</td>\n",
              "      <td>1</td>\n",
              "      <td>Lesurer, Mr. Gustave J</td>\n",
              "      <td>male</td>\n",
              "      <td>35.0</td>\n",
              "      <td>512.3292</td>\n",
              "      <td>Cherbourg</td>\n",
              "    </tr>\n",
              "  </tbody>\n",
              "</table>\n",
              "</div>"
            ],
            "text/plain": [
              "     PassengerId  Survived  Pclass  ...   Age      Fare   Embarked\n",
              "258          259         1       1  ...  35.0  512.3292  Cherbourg\n",
              "679          680         1       1  ...  36.0  512.3292  Cherbourg\n",
              "737          738         1       1  ...  35.0  512.3292  Cherbourg\n",
              "\n",
              "[3 rows x 8 columns]"
            ]
          },
          "metadata": {
            "tags": []
          },
          "execution_count": 16
        }
      ]
    },
    {
      "cell_type": "markdown",
      "metadata": {
        "id": "rc24C5p1KN5E"
      },
      "source": [
        "<center><img src='https://raw.githubusercontent.com/Jangrae/img/master/end.png' width=300/></center>"
      ]
    }
  ]
}