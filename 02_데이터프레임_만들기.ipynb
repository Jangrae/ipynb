{
  "nbformat": 4,
  "nbformat_minor": 0,
  "metadata": {
    "colab": {
      "name": "02 데이터프레임 만들기.ipynb",
      "provenance": [],
      "collapsed_sections": [],
      "toc_visible": true
    },
    "kernelspec": {
      "display_name": "Python 3",
      "language": "python",
      "name": "python3"
    },
    "language_info": {
      "codemirror_mode": {
        "name": "ipython",
        "version": 3
      },
      "file_extension": ".py",
      "mimetype": "text/x-python",
      "name": "python",
      "nbconvert_exporter": "python",
      "pygments_lexer": "ipython3",
      "version": "3.7.6"
    }
  },
  "cells": [
    {
      "cell_type": "markdown",
      "metadata": {
        "id": "BFhIXgdYoYGp"
      },
      "source": [
        "<center><img src='https://raw.githubusercontent.com/Jangrae/img/master/title.png' width=500/></center>"
      ]
    },
    {
      "cell_type": "markdown",
      "metadata": {
        "id": "DFijIAllYnVQ"
      },
      "source": [
        "# 학습 목표\n",
        "\n",
        "- 리스트와 딕셔너리에서 데이터프레임을 만들 수 있습니다.\n",
        "- 파일에서 읽어와 데이터프레임을 만들 수 있습니다.\n",
        "- 임의의 값을 갖는 데이터프레임을 만들 수 있습니다.\n",
        "- 데이터프레임의 인덱스를 변경하거나 초기화 할 수 있습니다."
      ]
    },
    {
      "cell_type": "markdown",
      "metadata": {
        "id": "-dJ3DGofONJV"
      },
      "source": [
        "https://github.com/Jangrae/ipynb/blob/main/02_%EB%8D%B0%EC%9D%B4%ED%84%B0%ED%94%84%EB%A0%88%EC%9E%84_%EB%A7%8C%EB%93%A4%EA%B8%B0.ipynb"
      ]
    },
    {
      "cell_type": "markdown",
      "metadata": {
        "id": "eYB1ZQpI7_sC"
      },
      "source": [
        "# 2. 데이터프레임 만들기"
      ]
    },
    {
      "cell_type": "markdown",
      "metadata": {
        "id": "qbRryf889VCF"
      },
      "source": [
        "## 2.1. 데이터프레임 이해"
      ]
    },
    {
      "cell_type": "markdown",
      "metadata": {
        "id": "gu7wwR069iwY"
      },
      "source": [
        "### 2.1.1. 데이터프레임이란\r\n",
        "\r\n",
        "\r\n",
        "- Pandas 사용 목적이 데이터프레임을 사용하기 위한 목적으로 봐도 됩니다.\r\n",
        "- 데이터를 처리, 조회, 분석하는 가장 효율적인 방법이 데이터프레임을 사용하는 것입니다.\r\n",
        "- 데이터프레임은 시리즈와는 달리 **하나 이상의 열**을 갖는 형태입니다.\r\n",
        "- 일반적으로 접하게 되는 **테이블** 형태, **엑셀** 형태로 생각하시면 됩니다.\r\n",
        "- 직접 만들 수 있으나 보통은 **csv 파일**, **엑셀 파일** 또는 DB에서 읽어옵니다."
      ]
    },
    {
      "cell_type": "markdown",
      "metadata": {
        "id": "VNBn3rh_7_sH"
      },
      "source": [
        "<img src='https://raw.githubusercontent.com/Jangrae/img/master/dataframe_sample.png' width=800 align=\"left\"/>"
      ]
    },
    {
      "cell_type": "markdown",
      "metadata": {
        "id": "9l6NOVnS9rZW"
      },
      "source": [
        "### 2.1.2. 데이터프레임 형태\r\n",
        "\r\n",
        "- 데이터프레임은 **인덱스(=행 이름)**와 **열 이름**이 있고 없고에 따라 다른 형태를 갖습니다.\r\n",
        "- 인덱스란 행을 지정할 때 사용하는 정보이고, 열 이름은 열을 지정할 때 사용하는 정보입니다."
      ]
    },
    {
      "cell_type": "markdown",
      "metadata": {
        "id": "zYkod1OZ-KDD"
      },
      "source": [
        "<img src='https://raw.githubusercontent.com/Jangrae/img/master/dataframe05.png' width=450 align=\"left\"/>"
      ]
    },
    {
      "cell_type": "markdown",
      "metadata": {
        "id": "o3tnJLJn_E0R"
      },
      "source": [
        "**1) 인덱스와 열 이름이 없는 형태**\r\n",
        "\r\n",
        "- 우선 인덱스와 열 이름이 없는 데이터프레임 형태입니다.\r\n",
        "- 열 이름이 없는 데이터프레임은 실무에서는 자주 볼 수 없을 것입니다."
      ]
    },
    {
      "cell_type": "markdown",
      "metadata": {
        "id": "y0YXQ9HX-pQe"
      },
      "source": [
        "<img src='https://raw.githubusercontent.com/Jangrae/img/master/dataframe01.png' width=380 align=\"left\"/>"
      ]
    },
    {
      "cell_type": "markdown",
      "metadata": {
        "id": "IeTHxeOH_Lmy"
      },
      "source": [
        "**2) 열 이름을 지정한 형태**\r\n",
        "\r\n",
        "- 열 이름만 지정한 데이터프레임 형태입니다.\r\n",
        "- 특별히 인덱스를 지정할 필요가 없는 경우가 많으므로 자주 보게 되는 형태입니다."
      ]
    },
    {
      "cell_type": "markdown",
      "metadata": {
        "id": "mgNuAxJT-wGE"
      },
      "source": [
        "<img src='https://raw.githubusercontent.com/Jangrae/img/master/dataframe02.png' width=380 align=\"left\"/>"
      ]
    },
    {
      "cell_type": "markdown",
      "metadata": {
        "id": "hOCC_U1w_Qnc"
      },
      "source": [
        "**3) 인덱스와 열 이름을 지정한 형태**\r\n",
        "\r\n",
        "- 인덱스와 열 이름 모두를 지정한 데이터프레임 형태입니다.\r\n",
        "- 대부분 주식 시세와 같은 날짜가 인덱스로 지정되는 경우입니다."
      ]
    },
    {
      "cell_type": "markdown",
      "metadata": {
        "id": "uq7TmduU-x5i"
      },
      "source": [
        "<img src='https://raw.githubusercontent.com/Jangrae/img/master/dataframe03.png' width=350 align=\"left\"/>"
      ]
    },
    {
      "cell_type": "markdown",
      "metadata": {
        "id": "c7syzx_xAU3P"
      },
      "source": [
        "**4) 문자열 데이터를 갖는 데이터프레임**\r\n",
        "\r\n",
        "- 대부분 분석 대상은 숫자일 것입니다.\r\n",
        "- 하지만 다음과 같이 문자열을 갖는 데이터프레임도 자주 접하게 됩니다."
      ]
    },
    {
      "cell_type": "markdown",
      "metadata": {
        "id": "xgKdx1KnAhVq"
      },
      "source": [
        "<img src='https://raw.githubusercontent.com/Jangrae/img/master/dataframe04.png' width=700 align=\"left\"/>"
      ]
    },
    {
      "cell_type": "markdown",
      "metadata": {
        "id": "ETVUejBgIJNL"
      },
      "source": [
        "## 2.2. 데이터프레임 직접 만들기\n",
        "\n",
        "- **pd.DataFrame()** 함수를 사용해 데이터프레임을 만듭니다.\n",
        "- 대부분 리스트, 딕셔너리, Numpy 배열로부터 데이터프레임을 만듭니다.\n",
        "- 데이터프레임은 여러 열을 가지므로 **인덱스** 외에도 **열 이름**에 대한 **설정**이 필요합니다.\n",
        "- 데이터프레임을 만들 때 **열 이름**을 직접 지정하거나, 나중에 변경할 수 있습니다.\n",
        "- 열 이름을 지정하지 않으면 **열 번호**에 기반한 정수(0, 1, 2...)가 열 이름이 됩니다.\n",
        "- 우선 다음과 같이 관련 라이브러리를 불러옵니다."
      ]
    },
    {
      "cell_type": "code",
      "metadata": {
        "id": "iyOaNXcnOW6J"
      },
      "source": [
        "# 라이브러리 불러오기\n",
        "import pandas as pd\n",
        "import numpy as np\n",
        "import matplotlib.pyplot as plt"
      ],
      "execution_count": 12,
      "outputs": []
    },
    {
      "cell_type": "markdown",
      "metadata": {
        "id": "r04u5zL5IJNM"
      },
      "source": [
        "### 2.2.1. 리스트로  만들기\n",
        "\n",
        "- 인덱스를 지정하지 않으면 행 번호가 인덱스, 열 번호가 열 이름이 됩니다."
      ]
    },
    {
      "cell_type": "code",
      "metadata": {
        "id": "5dF7MDMy789A",
        "colab": {
          "base_uri": "https://localhost:8080/",
          "height": 196
        },
        "outputId": "7df123a0-a476-4458-cc01-a1f8c3d0b31f"
      },
      "source": [
        "# 리스트 만들기\n",
        "stock = [[94500, 92100, 92200, 92300],\n",
        "         [96500, 93200, 95900, 94300],\n",
        "         [93400, 91900, 93400, 92100],\n",
        "         [94200, 92100, 94100, 92400],\n",
        "         [94500, 92500, 94300, 92600]]\n",
        "\n",
        "# 데이터프레임 만들기\n",
        "df = pd.DataFrame(stock)\n",
        "\n",
        "# 확인\n",
        "df.head()"
      ],
      "execution_count": 13,
      "outputs": [
        {
          "output_type": "execute_result",
          "data": {
            "text/html": [
              "<div>\n",
              "<style scoped>\n",
              "    .dataframe tbody tr th:only-of-type {\n",
              "        vertical-align: middle;\n",
              "    }\n",
              "\n",
              "    .dataframe tbody tr th {\n",
              "        vertical-align: top;\n",
              "    }\n",
              "\n",
              "    .dataframe thead th {\n",
              "        text-align: right;\n",
              "    }\n",
              "</style>\n",
              "<table border=\"1\" class=\"dataframe\">\n",
              "  <thead>\n",
              "    <tr style=\"text-align: right;\">\n",
              "      <th></th>\n",
              "      <th>0</th>\n",
              "      <th>1</th>\n",
              "      <th>2</th>\n",
              "      <th>3</th>\n",
              "    </tr>\n",
              "  </thead>\n",
              "  <tbody>\n",
              "    <tr>\n",
              "      <th>0</th>\n",
              "      <td>94500</td>\n",
              "      <td>92100</td>\n",
              "      <td>92200</td>\n",
              "      <td>92300</td>\n",
              "    </tr>\n",
              "    <tr>\n",
              "      <th>1</th>\n",
              "      <td>96500</td>\n",
              "      <td>93200</td>\n",
              "      <td>95900</td>\n",
              "      <td>94300</td>\n",
              "    </tr>\n",
              "    <tr>\n",
              "      <th>2</th>\n",
              "      <td>93400</td>\n",
              "      <td>91900</td>\n",
              "      <td>93400</td>\n",
              "      <td>92100</td>\n",
              "    </tr>\n",
              "    <tr>\n",
              "      <th>3</th>\n",
              "      <td>94200</td>\n",
              "      <td>92100</td>\n",
              "      <td>94100</td>\n",
              "      <td>92400</td>\n",
              "    </tr>\n",
              "    <tr>\n",
              "      <th>4</th>\n",
              "      <td>94500</td>\n",
              "      <td>92500</td>\n",
              "      <td>94300</td>\n",
              "      <td>92600</td>\n",
              "    </tr>\n",
              "  </tbody>\n",
              "</table>\n",
              "</div>"
            ],
            "text/plain": [
              "       0      1      2      3\n",
              "0  94500  92100  92200  92300\n",
              "1  96500  93200  95900  94300\n",
              "2  93400  91900  93400  92100\n",
              "3  94200  92100  94100  92400\n",
              "4  94500  92500  94300  92600"
            ]
          },
          "metadata": {
            "tags": []
          },
          "execution_count": 13
        }
      ]
    },
    {
      "cell_type": "markdown",
      "metadata": {
        "id": "yvPx1jl2IJNT"
      },
      "source": [
        "- 필요하면 인덱스와 열 이름을 별도로 지정할 수 있습니다."
      ]
    },
    {
      "cell_type": "code",
      "metadata": {
        "id": "_C8hqRoUAMUe",
        "colab": {
          "base_uri": "https://localhost:8080/",
          "height": 196
        },
        "outputId": "64e270c3-b50b-4615-8b6b-eb1d6c15cd67"
      },
      "source": [
        "# 리스트 만들기\n",
        "stock = [[94500, 92100, 92200, 92300],\n",
        "         [96500, 93200, 95900, 94300],\n",
        "         [93400, 91900, 93400, 92100],\n",
        "         [94200, 92100, 94100, 92400],\n",
        "         [94500, 92500, 94300, 92600]]\n",
        "dates = ['2019-02-15', '2019-02-16', '2019-02-17', '2019-02-18', '2019-02-19']\n",
        "names = ['High', 'Low', 'Open', 'Close']\n",
        "\n",
        "# 데이터프레임 만들기\n",
        "df = pd.DataFrame(stock, index=dates, columns=names)\n",
        "\n",
        "# 확인\n",
        "df.head()"
      ],
      "execution_count": 14,
      "outputs": [
        {
          "output_type": "execute_result",
          "data": {
            "text/html": [
              "<div>\n",
              "<style scoped>\n",
              "    .dataframe tbody tr th:only-of-type {\n",
              "        vertical-align: middle;\n",
              "    }\n",
              "\n",
              "    .dataframe tbody tr th {\n",
              "        vertical-align: top;\n",
              "    }\n",
              "\n",
              "    .dataframe thead th {\n",
              "        text-align: right;\n",
              "    }\n",
              "</style>\n",
              "<table border=\"1\" class=\"dataframe\">\n",
              "  <thead>\n",
              "    <tr style=\"text-align: right;\">\n",
              "      <th></th>\n",
              "      <th>High</th>\n",
              "      <th>Low</th>\n",
              "      <th>Open</th>\n",
              "      <th>Close</th>\n",
              "    </tr>\n",
              "  </thead>\n",
              "  <tbody>\n",
              "    <tr>\n",
              "      <th>2019-02-15</th>\n",
              "      <td>94500</td>\n",
              "      <td>92100</td>\n",
              "      <td>92200</td>\n",
              "      <td>92300</td>\n",
              "    </tr>\n",
              "    <tr>\n",
              "      <th>2019-02-16</th>\n",
              "      <td>96500</td>\n",
              "      <td>93200</td>\n",
              "      <td>95900</td>\n",
              "      <td>94300</td>\n",
              "    </tr>\n",
              "    <tr>\n",
              "      <th>2019-02-17</th>\n",
              "      <td>93400</td>\n",
              "      <td>91900</td>\n",
              "      <td>93400</td>\n",
              "      <td>92100</td>\n",
              "    </tr>\n",
              "    <tr>\n",
              "      <th>2019-02-18</th>\n",
              "      <td>94200</td>\n",
              "      <td>92100</td>\n",
              "      <td>94100</td>\n",
              "      <td>92400</td>\n",
              "    </tr>\n",
              "    <tr>\n",
              "      <th>2019-02-19</th>\n",
              "      <td>94500</td>\n",
              "      <td>92500</td>\n",
              "      <td>94300</td>\n",
              "      <td>92600</td>\n",
              "    </tr>\n",
              "  </tbody>\n",
              "</table>\n",
              "</div>"
            ],
            "text/plain": [
              "             High    Low   Open  Close\n",
              "2019-02-15  94500  92100  92200  92300\n",
              "2019-02-16  96500  93200  95900  94300\n",
              "2019-02-17  93400  91900  93400  92100\n",
              "2019-02-18  94200  92100  94100  92400\n",
              "2019-02-19  94500  92500  94300  92600"
            ]
          },
          "metadata": {
            "tags": []
          },
          "execution_count": 14
        }
      ]
    },
    {
      "cell_type": "markdown",
      "metadata": {
        "id": "OAikNLPcIJNm"
      },
      "source": [
        "### 2.2.2. 딕셔너리로 만들기\n",
        "\n",
        "- 딕셔너리로 데이터프레임을 만들면 딕셔너리의 **키**가 **열 이름**이 됩니다.\n",
        "- 인덱스를 지정하지 않으면 행 번호가 인덱스가 됩니다."
      ]
    },
    {
      "cell_type": "code",
      "metadata": {
        "id": "6LkPm72OYnVU",
        "colab": {
          "base_uri": "https://localhost:8080/"
        },
        "outputId": "dc3eb1d6-2df1-4e70-aca6-6280c30f084d"
      },
      "source": [
        "# 딕셔너리 만들기\n",
        "dict = {'이름': ['홍길동', '한사랑', '일지매', '박여인'],\n",
        "        '등급': ['Gold', 'Bronze', 'Silver', 'Gold'],\n",
        "        '점수': [56000, 23000, 44000, 52000]}\n",
        "\n",
        "# 확인\n",
        "dict"
      ],
      "execution_count": 15,
      "outputs": [
        {
          "output_type": "execute_result",
          "data": {
            "text/plain": [
              "{'등급': ['Gold', 'Bronze', 'Silver', 'Gold'],\n",
              " '이름': ['홍길동', '한사랑', '일지매', '박여인'],\n",
              " '점수': [56000, 23000, 44000, 52000]}"
            ]
          },
          "metadata": {
            "tags": []
          },
          "execution_count": 15
        }
      ]
    },
    {
      "cell_type": "code",
      "metadata": {
        "scrolled": true,
        "id": "zxpku5yMOW6u",
        "colab": {
          "base_uri": "https://localhost:8080/",
          "height": 166
        },
        "outputId": "d06a6116-a184-4462-95b8-882020fd25e3"
      },
      "source": [
        "# 데이터프레임 만들기\n",
        "df = pd.DataFrame(dict)\n",
        "\n",
        "# 확인\n",
        "df.head()"
      ],
      "execution_count": 16,
      "outputs": [
        {
          "output_type": "execute_result",
          "data": {
            "text/html": [
              "<div>\n",
              "<style scoped>\n",
              "    .dataframe tbody tr th:only-of-type {\n",
              "        vertical-align: middle;\n",
              "    }\n",
              "\n",
              "    .dataframe tbody tr th {\n",
              "        vertical-align: top;\n",
              "    }\n",
              "\n",
              "    .dataframe thead th {\n",
              "        text-align: right;\n",
              "    }\n",
              "</style>\n",
              "<table border=\"1\" class=\"dataframe\">\n",
              "  <thead>\n",
              "    <tr style=\"text-align: right;\">\n",
              "      <th></th>\n",
              "      <th>이름</th>\n",
              "      <th>등급</th>\n",
              "      <th>점수</th>\n",
              "    </tr>\n",
              "  </thead>\n",
              "  <tbody>\n",
              "    <tr>\n",
              "      <th>0</th>\n",
              "      <td>홍길동</td>\n",
              "      <td>Gold</td>\n",
              "      <td>56000</td>\n",
              "    </tr>\n",
              "    <tr>\n",
              "      <th>1</th>\n",
              "      <td>한사랑</td>\n",
              "      <td>Bronze</td>\n",
              "      <td>23000</td>\n",
              "    </tr>\n",
              "    <tr>\n",
              "      <th>2</th>\n",
              "      <td>일지매</td>\n",
              "      <td>Silver</td>\n",
              "      <td>44000</td>\n",
              "    </tr>\n",
              "    <tr>\n",
              "      <th>3</th>\n",
              "      <td>박여인</td>\n",
              "      <td>Gold</td>\n",
              "      <td>52000</td>\n",
              "    </tr>\n",
              "  </tbody>\n",
              "</table>\n",
              "</div>"
            ],
            "text/plain": [
              "    이름      등급     점수\n",
              "0  홍길동    Gold  56000\n",
              "1  한사랑  Bronze  23000\n",
              "2  일지매  Silver  44000\n",
              "3  박여인    Gold  52000"
            ]
          },
          "metadata": {
            "tags": []
          },
          "execution_count": 16
        }
      ]
    },
    {
      "cell_type": "markdown",
      "metadata": {
        "id": "cQv7wUpVIJNu"
      },
      "source": [
        "- 필요하면 인덱스를 별도로 지정할 수 있습니다."
      ]
    },
    {
      "cell_type": "code",
      "metadata": {
        "id": "tVcRYGYbIJNu",
        "scrolled": true,
        "colab": {
          "base_uri": "https://localhost:8080/",
          "height": 166
        },
        "outputId": "d509a3d2-bc25-4b26-907f-30d8b0a08120"
      },
      "source": [
        "# 딕셔너리 만들기\n",
        "dict = {\n",
        "   '이름': ['홍길동', '한사랑', '일지매', '박여인'],\n",
        "   '등급': ['Gold', 'Bronze', 'Silver', 'Gold'],\n",
        "   '점수': [56000, 23000, 44000, 52000]\n",
        "}\n",
        "\n",
        "# 데이터프레임 만들기(인덱스 지정함)\n",
        "df = pd.DataFrame(dict, index=['C0001', 'C0002', 'C0003', 'C0004'])\n",
        "\n",
        "# 확인\n",
        "df.head()"
      ],
      "execution_count": 17,
      "outputs": [
        {
          "output_type": "execute_result",
          "data": {
            "text/html": [
              "<div>\n",
              "<style scoped>\n",
              "    .dataframe tbody tr th:only-of-type {\n",
              "        vertical-align: middle;\n",
              "    }\n",
              "\n",
              "    .dataframe tbody tr th {\n",
              "        vertical-align: top;\n",
              "    }\n",
              "\n",
              "    .dataframe thead th {\n",
              "        text-align: right;\n",
              "    }\n",
              "</style>\n",
              "<table border=\"1\" class=\"dataframe\">\n",
              "  <thead>\n",
              "    <tr style=\"text-align: right;\">\n",
              "      <th></th>\n",
              "      <th>이름</th>\n",
              "      <th>등급</th>\n",
              "      <th>점수</th>\n",
              "    </tr>\n",
              "  </thead>\n",
              "  <tbody>\n",
              "    <tr>\n",
              "      <th>C0001</th>\n",
              "      <td>홍길동</td>\n",
              "      <td>Gold</td>\n",
              "      <td>56000</td>\n",
              "    </tr>\n",
              "    <tr>\n",
              "      <th>C0002</th>\n",
              "      <td>한사랑</td>\n",
              "      <td>Bronze</td>\n",
              "      <td>23000</td>\n",
              "    </tr>\n",
              "    <tr>\n",
              "      <th>C0003</th>\n",
              "      <td>일지매</td>\n",
              "      <td>Silver</td>\n",
              "      <td>44000</td>\n",
              "    </tr>\n",
              "    <tr>\n",
              "      <th>C0004</th>\n",
              "      <td>박여인</td>\n",
              "      <td>Gold</td>\n",
              "      <td>52000</td>\n",
              "    </tr>\n",
              "  </tbody>\n",
              "</table>\n",
              "</div>"
            ],
            "text/plain": [
              "        이름      등급     점수\n",
              "C0001  홍길동    Gold  56000\n",
              "C0002  한사랑  Bronze  23000\n",
              "C0003  일지매  Silver  44000\n",
              "C0004  박여인    Gold  52000"
            ]
          },
          "metadata": {
            "tags": []
          },
          "execution_count": 17
        }
      ]
    },
    {
      "cell_type": "markdown",
      "metadata": {
        "id": "j7yW5ESDDtkB"
      },
      "source": [
        "### 2.2.3. 배열로  만들기\r\n",
        "\r\n",
        "- 리스트 대신 배열을 사용해서 데이터프레임을 만들 수 있습니다."
      ]
    },
    {
      "cell_type": "code",
      "metadata": {
        "id": "y_HitSPgDUMx",
        "colab": {
          "base_uri": "https://localhost:8080/"
        },
        "outputId": "b5778d54-8462-4288-faf1-9d4d37f152eb"
      },
      "source": [
        "# 배열 만들기\n",
        "stock = np.array([[94500, 92100, 92200, 92300],\n",
        "                  [96500, 93200, 95900, 94300],\n",
        "                  [93400, 91900, 93400, 92100],\n",
        "                  [94200, 92100, 94100, 92400],\n",
        "                  [94500, 92500, 94300, 92600]])\n",
        "dates = np.array(['2019-02-15', '2019-02-16', '2019-02-17', '2019-02-18', '2019-02-19'])\n",
        "names = np.array(['High', 'Low', 'Open', 'Close'])\n",
        "\n",
        "# 확인\n",
        "print(stock)\n",
        "print(dates)\n",
        "print(names)"
      ],
      "execution_count": 18,
      "outputs": [
        {
          "output_type": "stream",
          "text": [
            "[[94500 92100 92200 92300]\n",
            " [96500 93200 95900 94300]\n",
            " [93400 91900 93400 92100]\n",
            " [94200 92100 94100 92400]\n",
            " [94500 92500 94300 92600]]\n",
            "['2019-02-15' '2019-02-16' '2019-02-17' '2019-02-18' '2019-02-19']\n",
            "['High' 'Low' 'Open' 'Close']\n"
          ],
          "name": "stdout"
        }
      ]
    },
    {
      "cell_type": "code",
      "metadata": {
        "id": "46V9AuV8FODQ",
        "colab": {
          "base_uri": "https://localhost:8080/",
          "height": 196
        },
        "outputId": "42c01371-2d3e-47f3-8093-b67dcfe2e059"
      },
      "source": [
        "# 데이터프레임 만들기\n",
        "df = pd.DataFrame(stock, index=dates, columns=names)\n",
        "\n",
        "# 확인\n",
        "df.head()"
      ],
      "execution_count": 19,
      "outputs": [
        {
          "output_type": "execute_result",
          "data": {
            "text/html": [
              "<div>\n",
              "<style scoped>\n",
              "    .dataframe tbody tr th:only-of-type {\n",
              "        vertical-align: middle;\n",
              "    }\n",
              "\n",
              "    .dataframe tbody tr th {\n",
              "        vertical-align: top;\n",
              "    }\n",
              "\n",
              "    .dataframe thead th {\n",
              "        text-align: right;\n",
              "    }\n",
              "</style>\n",
              "<table border=\"1\" class=\"dataframe\">\n",
              "  <thead>\n",
              "    <tr style=\"text-align: right;\">\n",
              "      <th></th>\n",
              "      <th>High</th>\n",
              "      <th>Low</th>\n",
              "      <th>Open</th>\n",
              "      <th>Close</th>\n",
              "    </tr>\n",
              "  </thead>\n",
              "  <tbody>\n",
              "    <tr>\n",
              "      <th>2019-02-15</th>\n",
              "      <td>94500</td>\n",
              "      <td>92100</td>\n",
              "      <td>92200</td>\n",
              "      <td>92300</td>\n",
              "    </tr>\n",
              "    <tr>\n",
              "      <th>2019-02-16</th>\n",
              "      <td>96500</td>\n",
              "      <td>93200</td>\n",
              "      <td>95900</td>\n",
              "      <td>94300</td>\n",
              "    </tr>\n",
              "    <tr>\n",
              "      <th>2019-02-17</th>\n",
              "      <td>93400</td>\n",
              "      <td>91900</td>\n",
              "      <td>93400</td>\n",
              "      <td>92100</td>\n",
              "    </tr>\n",
              "    <tr>\n",
              "      <th>2019-02-18</th>\n",
              "      <td>94200</td>\n",
              "      <td>92100</td>\n",
              "      <td>94100</td>\n",
              "      <td>92400</td>\n",
              "    </tr>\n",
              "    <tr>\n",
              "      <th>2019-02-19</th>\n",
              "      <td>94500</td>\n",
              "      <td>92500</td>\n",
              "      <td>94300</td>\n",
              "      <td>92600</td>\n",
              "    </tr>\n",
              "  </tbody>\n",
              "</table>\n",
              "</div>"
            ],
            "text/plain": [
              "             High    Low   Open  Close\n",
              "2019-02-15  94500  92100  92200  92300\n",
              "2019-02-16  96500  93200  95900  94300\n",
              "2019-02-17  93400  91900  93400  92100\n",
              "2019-02-18  94200  92100  94100  92400\n",
              "2019-02-19  94500  92500  94300  92600"
            ]
          },
          "metadata": {
            "tags": []
          },
          "execution_count": 19
        }
      ]
    },
    {
      "cell_type": "markdown",
      "metadata": {
        "id": "mHrKYYWip4Es"
      },
      "source": [
        "<img src='https://raw.githubusercontent.com/jangrae/img/master/practice_01.png' width=120 align=\"left\"/>"
      ]
    },
    {
      "cell_type": "markdown",
      "metadata": {
        "id": "zOc0Cz-C89nI"
      },
      "source": [
        "[문1] 아래 주어진 리스트들을 사용해 score 데이터프레임을 만들고 확인해 보세요."
      ]
    },
    {
      "cell_type": "code",
      "metadata": {
        "id": "dwA8ygir89nL",
        "colab": {
          "base_uri": "https://localhost:8080/",
          "height": 196
        },
        "outputId": "011e03f0-23de-456c-db76-cb65f24915f2"
      },
      "source": [
        "# 리스트 만들기\n",
        "list_score = [[80, 75, 100, 90, 80],\n",
        "              [85, 70,  80, 95, 90],\n",
        "              [75, 80,  85, 90, 90],\n",
        "              [85, 65,  85, 75, 70],\n",
        "              [70, 85,  90, 85, 95]]\n",
        "              \n",
        "# 인덱스: ['홍길동', '한사랑', '일지매', '박여인', '강우동']\n",
        "list_index = ['홍길동', '한사랑', '일지매', '박여인', '강우동']\n",
        "\n",
        "# 열이름: ['국어', '영어', '수학', '과학', '역사']\n",
        "list_col = ['국어', '영어', '수학', '과학', '역사']\n",
        "\n",
        "# 데이터프레임 만들기\n",
        "score = pd.DataFrame(list_score, index=list_index, columns=list_col)\n",
        "\n",
        "# 확인\n",
        "score"
      ],
      "execution_count": 20,
      "outputs": [
        {
          "output_type": "execute_result",
          "data": {
            "text/html": [
              "<div>\n",
              "<style scoped>\n",
              "    .dataframe tbody tr th:only-of-type {\n",
              "        vertical-align: middle;\n",
              "    }\n",
              "\n",
              "    .dataframe tbody tr th {\n",
              "        vertical-align: top;\n",
              "    }\n",
              "\n",
              "    .dataframe thead th {\n",
              "        text-align: right;\n",
              "    }\n",
              "</style>\n",
              "<table border=\"1\" class=\"dataframe\">\n",
              "  <thead>\n",
              "    <tr style=\"text-align: right;\">\n",
              "      <th></th>\n",
              "      <th>국어</th>\n",
              "      <th>영어</th>\n",
              "      <th>수학</th>\n",
              "      <th>과학</th>\n",
              "      <th>역사</th>\n",
              "    </tr>\n",
              "  </thead>\n",
              "  <tbody>\n",
              "    <tr>\n",
              "      <th>홍길동</th>\n",
              "      <td>80</td>\n",
              "      <td>75</td>\n",
              "      <td>100</td>\n",
              "      <td>90</td>\n",
              "      <td>80</td>\n",
              "    </tr>\n",
              "    <tr>\n",
              "      <th>한사랑</th>\n",
              "      <td>85</td>\n",
              "      <td>70</td>\n",
              "      <td>80</td>\n",
              "      <td>95</td>\n",
              "      <td>90</td>\n",
              "    </tr>\n",
              "    <tr>\n",
              "      <th>일지매</th>\n",
              "      <td>75</td>\n",
              "      <td>80</td>\n",
              "      <td>85</td>\n",
              "      <td>90</td>\n",
              "      <td>90</td>\n",
              "    </tr>\n",
              "    <tr>\n",
              "      <th>박여인</th>\n",
              "      <td>85</td>\n",
              "      <td>65</td>\n",
              "      <td>85</td>\n",
              "      <td>75</td>\n",
              "      <td>70</td>\n",
              "    </tr>\n",
              "    <tr>\n",
              "      <th>강우동</th>\n",
              "      <td>70</td>\n",
              "      <td>85</td>\n",
              "      <td>90</td>\n",
              "      <td>85</td>\n",
              "      <td>95</td>\n",
              "    </tr>\n",
              "  </tbody>\n",
              "</table>\n",
              "</div>"
            ],
            "text/plain": [
              "     국어  영어   수학  과학  역사\n",
              "홍길동  80  75  100  90  80\n",
              "한사랑  85  70   80  95  90\n",
              "일지매  75  80   85  90  90\n",
              "박여인  85  65   85  75  70\n",
              "강우동  70  85   90  85  95"
            ]
          },
          "metadata": {
            "tags": []
          },
          "execution_count": 20
        }
      ]
    },
    {
      "cell_type": "markdown",
      "metadata": {
        "id": "zGDF1AkjIJOX"
      },
      "source": [
        "## 2.3. CSV파일 읽어오기\n",
        "\n",
        "- 분석용 데이터는 대부분 파일에서 읽어 가져옵니다.\n",
        "- **read_csv()** 함수를 사용해서 CSV 파일에서 데이터를 읽어옵니다."
      ]
    },
    {
      "cell_type": "markdown",
      "metadata": {
        "id": "gLqT0zwfLRwn"
      },
      "source": [
        "<img src='https://raw.githubusercontent.com/jangrae/img/master/titanic_simple.png' width=650 align=\"left\"/>"
      ]
    },
    {
      "cell_type": "markdown",
      "metadata": {
        "id": "bB26vSfGLJwX"
      },
      "source": [
        "**[주요옵션]**\n",
        "- sep: 구분자 지정(기본값 = 콤마)\n",
        "- header: 헤더가 될 행 번호 지정(기본값 = 0)\n",
        "- index_col: 인덱스 열 지정(기본값 = False)\n",
        "- names: 열 이름으로 사용할 문자열 리스트\n",
        "- skiprows: 처음 몇 줄을 무시할 것인지 지정, 리스트로 지정 가능"
      ]
    },
    {
      "cell_type": "code",
      "metadata": {
        "id": "DIY8NYXGIJOZ",
        "scrolled": false,
        "colab": {
          "base_uri": "https://localhost:8080/",
          "height": 644
        },
        "outputId": "0a936212-b4fe-4e02-eeab-dcd23d458e94"
      },
      "source": [
        "# Titanic 데이터 불러오기\n",
        "file_path = 'https://raw.githubusercontent.com/Jangrae/csv/master/titanic_simple.csv'\n",
        "titanic = pd.read_csv(file_path, sep = ',', header=0, index_col=False)  \n",
        "\n",
        "# 상위 20행만 확인\n",
        "titanic.head(20)"
      ],
      "execution_count": 21,
      "outputs": [
        {
          "output_type": "execute_result",
          "data": {
            "text/html": [
              "<div>\n",
              "<style scoped>\n",
              "    .dataframe tbody tr th:only-of-type {\n",
              "        vertical-align: middle;\n",
              "    }\n",
              "\n",
              "    .dataframe tbody tr th {\n",
              "        vertical-align: top;\n",
              "    }\n",
              "\n",
              "    .dataframe thead th {\n",
              "        text-align: right;\n",
              "    }\n",
              "</style>\n",
              "<table border=\"1\" class=\"dataframe\">\n",
              "  <thead>\n",
              "    <tr style=\"text-align: right;\">\n",
              "      <th></th>\n",
              "      <th>PassengerId</th>\n",
              "      <th>Survived</th>\n",
              "      <th>Pclass</th>\n",
              "      <th>Name</th>\n",
              "      <th>Sex</th>\n",
              "      <th>Age</th>\n",
              "      <th>Fare</th>\n",
              "      <th>Embarked</th>\n",
              "    </tr>\n",
              "  </thead>\n",
              "  <tbody>\n",
              "    <tr>\n",
              "      <th>0</th>\n",
              "      <td>1</td>\n",
              "      <td>0</td>\n",
              "      <td>3</td>\n",
              "      <td>Braund, Mr. Owen Harris</td>\n",
              "      <td>male</td>\n",
              "      <td>22.0</td>\n",
              "      <td>7.2500</td>\n",
              "      <td>Southhampton</td>\n",
              "    </tr>\n",
              "    <tr>\n",
              "      <th>1</th>\n",
              "      <td>2</td>\n",
              "      <td>1</td>\n",
              "      <td>1</td>\n",
              "      <td>Cumings, Mrs. John Bradley (Florence Briggs Th...</td>\n",
              "      <td>female</td>\n",
              "      <td>38.0</td>\n",
              "      <td>71.2833</td>\n",
              "      <td>Cherbourg</td>\n",
              "    </tr>\n",
              "    <tr>\n",
              "      <th>2</th>\n",
              "      <td>3</td>\n",
              "      <td>1</td>\n",
              "      <td>3</td>\n",
              "      <td>Heikkinen, Miss. Laina</td>\n",
              "      <td>female</td>\n",
              "      <td>26.0</td>\n",
              "      <td>7.9250</td>\n",
              "      <td>Southhampton</td>\n",
              "    </tr>\n",
              "    <tr>\n",
              "      <th>3</th>\n",
              "      <td>4</td>\n",
              "      <td>1</td>\n",
              "      <td>1</td>\n",
              "      <td>Futrelle, Mrs. Jacques Heath (Lily May Peel)</td>\n",
              "      <td>female</td>\n",
              "      <td>35.0</td>\n",
              "      <td>53.1000</td>\n",
              "      <td>Southhampton</td>\n",
              "    </tr>\n",
              "    <tr>\n",
              "      <th>4</th>\n",
              "      <td>5</td>\n",
              "      <td>0</td>\n",
              "      <td>3</td>\n",
              "      <td>Allen, Mr. William Henry</td>\n",
              "      <td>male</td>\n",
              "      <td>35.0</td>\n",
              "      <td>8.0500</td>\n",
              "      <td>Southhampton</td>\n",
              "    </tr>\n",
              "    <tr>\n",
              "      <th>5</th>\n",
              "      <td>6</td>\n",
              "      <td>0</td>\n",
              "      <td>3</td>\n",
              "      <td>Moran, Mr. James</td>\n",
              "      <td>male</td>\n",
              "      <td>NaN</td>\n",
              "      <td>8.4583</td>\n",
              "      <td>Queenstown</td>\n",
              "    </tr>\n",
              "    <tr>\n",
              "      <th>6</th>\n",
              "      <td>7</td>\n",
              "      <td>0</td>\n",
              "      <td>1</td>\n",
              "      <td>McCarthy, Mr. Timothy J</td>\n",
              "      <td>male</td>\n",
              "      <td>54.0</td>\n",
              "      <td>51.8625</td>\n",
              "      <td>Southhampton</td>\n",
              "    </tr>\n",
              "    <tr>\n",
              "      <th>7</th>\n",
              "      <td>8</td>\n",
              "      <td>0</td>\n",
              "      <td>3</td>\n",
              "      <td>Palsson, Master. Gosta Leonard</td>\n",
              "      <td>male</td>\n",
              "      <td>2.0</td>\n",
              "      <td>21.0750</td>\n",
              "      <td>Southhampton</td>\n",
              "    </tr>\n",
              "    <tr>\n",
              "      <th>8</th>\n",
              "      <td>9</td>\n",
              "      <td>1</td>\n",
              "      <td>3</td>\n",
              "      <td>Johnson, Mrs. Oscar W (Elisabeth Vilhelmina Berg)</td>\n",
              "      <td>female</td>\n",
              "      <td>27.0</td>\n",
              "      <td>11.1333</td>\n",
              "      <td>Southhampton</td>\n",
              "    </tr>\n",
              "    <tr>\n",
              "      <th>9</th>\n",
              "      <td>10</td>\n",
              "      <td>1</td>\n",
              "      <td>2</td>\n",
              "      <td>Nasser, Mrs. Nicholas (Adele Achem)</td>\n",
              "      <td>female</td>\n",
              "      <td>14.0</td>\n",
              "      <td>30.0708</td>\n",
              "      <td>Cherbourg</td>\n",
              "    </tr>\n",
              "    <tr>\n",
              "      <th>10</th>\n",
              "      <td>11</td>\n",
              "      <td>1</td>\n",
              "      <td>3</td>\n",
              "      <td>Sandstrom, Miss. Marguerite Rut</td>\n",
              "      <td>female</td>\n",
              "      <td>4.0</td>\n",
              "      <td>16.7000</td>\n",
              "      <td>Southhampton</td>\n",
              "    </tr>\n",
              "    <tr>\n",
              "      <th>11</th>\n",
              "      <td>12</td>\n",
              "      <td>1</td>\n",
              "      <td>1</td>\n",
              "      <td>Bonnell, Miss. Elizabeth</td>\n",
              "      <td>female</td>\n",
              "      <td>58.0</td>\n",
              "      <td>26.5500</td>\n",
              "      <td>Southhampton</td>\n",
              "    </tr>\n",
              "    <tr>\n",
              "      <th>12</th>\n",
              "      <td>13</td>\n",
              "      <td>0</td>\n",
              "      <td>3</td>\n",
              "      <td>Saundercock, Mr. William Henry</td>\n",
              "      <td>male</td>\n",
              "      <td>20.0</td>\n",
              "      <td>8.0500</td>\n",
              "      <td>Southhampton</td>\n",
              "    </tr>\n",
              "    <tr>\n",
              "      <th>13</th>\n",
              "      <td>14</td>\n",
              "      <td>0</td>\n",
              "      <td>3</td>\n",
              "      <td>Andersson, Mr. Anders Johan</td>\n",
              "      <td>male</td>\n",
              "      <td>39.0</td>\n",
              "      <td>31.2750</td>\n",
              "      <td>Southhampton</td>\n",
              "    </tr>\n",
              "    <tr>\n",
              "      <th>14</th>\n",
              "      <td>15</td>\n",
              "      <td>0</td>\n",
              "      <td>3</td>\n",
              "      <td>Vestrom, Miss. Hulda Amanda Adolfina</td>\n",
              "      <td>female</td>\n",
              "      <td>14.0</td>\n",
              "      <td>7.8542</td>\n",
              "      <td>Southhampton</td>\n",
              "    </tr>\n",
              "    <tr>\n",
              "      <th>15</th>\n",
              "      <td>16</td>\n",
              "      <td>1</td>\n",
              "      <td>2</td>\n",
              "      <td>Hewlett, Mrs. (Mary D Kingcome)</td>\n",
              "      <td>female</td>\n",
              "      <td>55.0</td>\n",
              "      <td>16.0000</td>\n",
              "      <td>Southhampton</td>\n",
              "    </tr>\n",
              "    <tr>\n",
              "      <th>16</th>\n",
              "      <td>17</td>\n",
              "      <td>0</td>\n",
              "      <td>3</td>\n",
              "      <td>Rice, Master. Eugene</td>\n",
              "      <td>male</td>\n",
              "      <td>2.0</td>\n",
              "      <td>29.1250</td>\n",
              "      <td>Queenstown</td>\n",
              "    </tr>\n",
              "    <tr>\n",
              "      <th>17</th>\n",
              "      <td>18</td>\n",
              "      <td>1</td>\n",
              "      <td>2</td>\n",
              "      <td>Williams, Mr. Charles Eugene</td>\n",
              "      <td>male</td>\n",
              "      <td>NaN</td>\n",
              "      <td>13.0000</td>\n",
              "      <td>Southhampton</td>\n",
              "    </tr>\n",
              "    <tr>\n",
              "      <th>18</th>\n",
              "      <td>19</td>\n",
              "      <td>0</td>\n",
              "      <td>3</td>\n",
              "      <td>Vander Planke, Mrs. Julius (Emelia Maria Vande...</td>\n",
              "      <td>female</td>\n",
              "      <td>31.0</td>\n",
              "      <td>18.0000</td>\n",
              "      <td>Southhampton</td>\n",
              "    </tr>\n",
              "    <tr>\n",
              "      <th>19</th>\n",
              "      <td>20</td>\n",
              "      <td>1</td>\n",
              "      <td>3</td>\n",
              "      <td>Masselmani, Mrs. Fatima</td>\n",
              "      <td>female</td>\n",
              "      <td>NaN</td>\n",
              "      <td>7.2250</td>\n",
              "      <td>Cherbourg</td>\n",
              "    </tr>\n",
              "  </tbody>\n",
              "</table>\n",
              "</div>"
            ],
            "text/plain": [
              "    PassengerId  Survived  Pclass  ...   Age     Fare      Embarked\n",
              "0             1         0       3  ...  22.0   7.2500  Southhampton\n",
              "1             2         1       1  ...  38.0  71.2833     Cherbourg\n",
              "2             3         1       3  ...  26.0   7.9250  Southhampton\n",
              "3             4         1       1  ...  35.0  53.1000  Southhampton\n",
              "4             5         0       3  ...  35.0   8.0500  Southhampton\n",
              "5             6         0       3  ...   NaN   8.4583    Queenstown\n",
              "6             7         0       1  ...  54.0  51.8625  Southhampton\n",
              "7             8         0       3  ...   2.0  21.0750  Southhampton\n",
              "8             9         1       3  ...  27.0  11.1333  Southhampton\n",
              "9            10         1       2  ...  14.0  30.0708     Cherbourg\n",
              "10           11         1       3  ...   4.0  16.7000  Southhampton\n",
              "11           12         1       1  ...  58.0  26.5500  Southhampton\n",
              "12           13         0       3  ...  20.0   8.0500  Southhampton\n",
              "13           14         0       3  ...  39.0  31.2750  Southhampton\n",
              "14           15         0       3  ...  14.0   7.8542  Southhampton\n",
              "15           16         1       2  ...  55.0  16.0000  Southhampton\n",
              "16           17         0       3  ...   2.0  29.1250    Queenstown\n",
              "17           18         1       2  ...   NaN  13.0000  Southhampton\n",
              "18           19         0       3  ...  31.0  18.0000  Southhampton\n",
              "19           20         1       3  ...   NaN   7.2250     Cherbourg\n",
              "\n",
              "[20 rows x 8 columns]"
            ]
          },
          "metadata": {
            "tags": []
          },
          "execution_count": 21
        }
      ]
    },
    {
      "cell_type": "markdown",
      "metadata": {
        "id": "YnaDv1c3pX3Y"
      },
      "source": [
        "**[참고] 엑셀 시트 읽기 & 쓰기**\n",
        "\n",
        "- 엑셀 시트는 **read_excel()** 함수를 사용해 읽어옵니다.\n",
        "- 엑셀 시트는 여러 형태를 가지므로 사용해야 할 옵션이 많을 수 있습니다."
      ]
    },
    {
      "cell_type": "markdown",
      "metadata": {
        "id": "nC5O_wx5rD0q"
      },
      "source": [
        "<img src='https://raw.githubusercontent.com/jangrae/img/master/excel.png' width=600 align=\"left\"/>"
      ]
    },
    {
      "cell_type": "code",
      "metadata": {
        "scrolled": false,
        "id": "9nekLZRsnLys",
        "colab": {
          "base_uri": "https://localhost:8080/",
          "height": 226
        },
        "outputId": "337f8edc-5f51-4a44-8b84-f9945e26da9d"
      },
      "source": [
        "# 엑셀 시트 읽어오기\n",
        "sample = pd.read_excel('sample.xlsx',\n",
        "                       header=4, \n",
        "                       skiprows=[5], \n",
        "                       index_col=False, \n",
        "                       usecols=[1, 2, 3, 4, 5, 6],\n",
        "                       sheet_name='실적2')  \n",
        "\n",
        "# 확인\n",
        "sample.head(10)"
      ],
      "execution_count": 22,
      "outputs": [
        {
          "output_type": "execute_result",
          "data": {
            "text/html": [
              "<div>\n",
              "<style scoped>\n",
              "    .dataframe tbody tr th:only-of-type {\n",
              "        vertical-align: middle;\n",
              "    }\n",
              "\n",
              "    .dataframe tbody tr th {\n",
              "        vertical-align: top;\n",
              "    }\n",
              "\n",
              "    .dataframe thead th {\n",
              "        text-align: right;\n",
              "    }\n",
              "</style>\n",
              "<table border=\"1\" class=\"dataframe\">\n",
              "  <thead>\n",
              "    <tr style=\"text-align: right;\">\n",
              "      <th></th>\n",
              "      <th>이름</th>\n",
              "      <th>1월</th>\n",
              "      <th>2월</th>\n",
              "      <th>3월</th>\n",
              "      <th>4월</th>\n",
              "      <th>5월</th>\n",
              "    </tr>\n",
              "  </thead>\n",
              "  <tbody>\n",
              "    <tr>\n",
              "      <th>0</th>\n",
              "      <td>홍길동</td>\n",
              "      <td>6700</td>\n",
              "      <td>6800</td>\n",
              "      <td>7800</td>\n",
              "      <td>7000</td>\n",
              "      <td>5800</td>\n",
              "    </tr>\n",
              "    <tr>\n",
              "      <th>1</th>\n",
              "      <td>일지매</td>\n",
              "      <td>5600</td>\n",
              "      <td>5500</td>\n",
              "      <td>6700</td>\n",
              "      <td>7100</td>\n",
              "      <td>6200</td>\n",
              "    </tr>\n",
              "    <tr>\n",
              "      <th>2</th>\n",
              "      <td>한사랑</td>\n",
              "      <td>5200</td>\n",
              "      <td>5900</td>\n",
              "      <td>6500</td>\n",
              "      <td>6700</td>\n",
              "      <td>6500</td>\n",
              "    </tr>\n",
              "    <tr>\n",
              "      <th>3</th>\n",
              "      <td>강우동</td>\n",
              "      <td>5600</td>\n",
              "      <td>4900</td>\n",
              "      <td>6100</td>\n",
              "      <td>6900</td>\n",
              "      <td>7000</td>\n",
              "    </tr>\n",
              "    <tr>\n",
              "      <th>4</th>\n",
              "      <td>박여인</td>\n",
              "      <td>6100</td>\n",
              "      <td>6100</td>\n",
              "      <td>5800</td>\n",
              "      <td>7000</td>\n",
              "      <td>6500</td>\n",
              "    </tr>\n",
              "    <tr>\n",
              "      <th>5</th>\n",
              "      <td>한국인</td>\n",
              "      <td>5600</td>\n",
              "      <td>6200</td>\n",
              "      <td>6000</td>\n",
              "      <td>7100</td>\n",
              "      <td>6900</td>\n",
              "    </tr>\n",
              "  </tbody>\n",
              "</table>\n",
              "</div>"
            ],
            "text/plain": [
              "    이름    1월    2월    3월    4월    5월\n",
              "0  홍길동  6700  6800  7800  7000  5800\n",
              "1  일지매  5600  5500  6700  7100  6200\n",
              "2  한사랑  5200  5900  6500  6700  6500\n",
              "3  강우동  5600  4900  6100  6900  7000\n",
              "4  박여인  6100  6100  5800  7000  6500\n",
              "5  한국인  5600  6200  6000  7100  6900"
            ]
          },
          "metadata": {
            "tags": []
          },
          "execution_count": 22
        }
      ]
    },
    {
      "cell_type": "code",
      "metadata": {
        "scrolled": false,
        "id": "B0cMF2obx8Wm"
      },
      "source": [
        "# 엑셀 시트 쓰기\n",
        "sample.to_excel('sample2.xlsx')  "
      ],
      "execution_count": 23,
      "outputs": []
    },
    {
      "cell_type": "code",
      "metadata": {
        "scrolled": false,
        "id": "rSKyGhWbynlA"
      },
      "source": [
        "# csv 파일 쓰기\n",
        "sample.to_csv('sample2.csv', encoding='CP949')  "
      ],
      "execution_count": 24,
      "outputs": []
    },
    {
      "cell_type": "markdown",
      "metadata": {
        "id": "xSWBmU_Yeu5A"
      },
      "source": [
        "<img src='https://raw.githubusercontent.com/jangrae/img/master/practice_01.png' width=120 align=\"left\"/>"
      ]
    },
    {
      "cell_type": "markdown",
      "metadata": {
        "id": "5eXsOBxDqcoP"
      },
      "source": [
        "[문1] 아래 주어진 경로의 파일에서 데이터를 읽어와 데이터프레임 graduate 만들어 보세요.\n",
        "\n",
        "- 파일 경로: 'https://raw.githubusercontent.com/Jangrae/csv/master/Graduate_apply.csv'"
      ]
    },
    {
      "cell_type": "code",
      "metadata": {
        "id": "Oa9sLGQ8IJOb",
        "scrolled": false,
        "colab": {
          "base_uri": "https://localhost:8080/",
          "height": 196
        },
        "outputId": "458ca47b-81b8-45fd-f045-fa505478830b"
      },
      "source": [
        "# graduate 데이터 불러오기\n",
        "file_path = 'https://raw.githubusercontent.com/Jangrae/csv/master/Graduate_apply.csv'\n",
        "graduate = pd.read_csv(file_path, sep = ',', header=0, index_col=False)  \n",
        "graduate.head(10)\n",
        "\n",
        "# 확인\n",
        "graduate.head()"
      ],
      "execution_count": 25,
      "outputs": [
        {
          "output_type": "execute_result",
          "data": {
            "text/html": [
              "<div>\n",
              "<style scoped>\n",
              "    .dataframe tbody tr th:only-of-type {\n",
              "        vertical-align: middle;\n",
              "    }\n",
              "\n",
              "    .dataframe tbody tr th {\n",
              "        vertical-align: top;\n",
              "    }\n",
              "\n",
              "    .dataframe thead th {\n",
              "        text-align: right;\n",
              "    }\n",
              "</style>\n",
              "<table border=\"1\" class=\"dataframe\">\n",
              "  <thead>\n",
              "    <tr style=\"text-align: right;\">\n",
              "      <th></th>\n",
              "      <th>admit</th>\n",
              "      <th>gre</th>\n",
              "      <th>gpa</th>\n",
              "      <th>rank</th>\n",
              "    </tr>\n",
              "  </thead>\n",
              "  <tbody>\n",
              "    <tr>\n",
              "      <th>0</th>\n",
              "      <td>0</td>\n",
              "      <td>380</td>\n",
              "      <td>3.61</td>\n",
              "      <td>3</td>\n",
              "    </tr>\n",
              "    <tr>\n",
              "      <th>1</th>\n",
              "      <td>1</td>\n",
              "      <td>660</td>\n",
              "      <td>3.67</td>\n",
              "      <td>3</td>\n",
              "    </tr>\n",
              "    <tr>\n",
              "      <th>2</th>\n",
              "      <td>1</td>\n",
              "      <td>800</td>\n",
              "      <td>4.00</td>\n",
              "      <td>1</td>\n",
              "    </tr>\n",
              "    <tr>\n",
              "      <th>3</th>\n",
              "      <td>1</td>\n",
              "      <td>640</td>\n",
              "      <td>3.19</td>\n",
              "      <td>4</td>\n",
              "    </tr>\n",
              "    <tr>\n",
              "      <th>4</th>\n",
              "      <td>0</td>\n",
              "      <td>520</td>\n",
              "      <td>2.93</td>\n",
              "      <td>4</td>\n",
              "    </tr>\n",
              "  </tbody>\n",
              "</table>\n",
              "</div>"
            ],
            "text/plain": [
              "   admit  gre   gpa  rank\n",
              "0      0  380  3.61     3\n",
              "1      1  660  3.67     3\n",
              "2      1  800  4.00     1\n",
              "3      1  640  3.19     4\n",
              "4      0  520  2.93     4"
            ]
          },
          "metadata": {
            "tags": []
          },
          "execution_count": 25
        }
      ]
    },
    {
      "cell_type": "markdown",
      "metadata": {
        "id": "OOyO1KvldQUh"
      },
      "source": [
        "[문2] 아래 주어진 경로의 stock.csv 파일을 읽어와 stock 데이터프레임을 만들어 보세요.\n",
        "\n",
        "- 파일 경로: 'https://raw.githubusercontent.com/Jangrae/csv/master/stock.csv'"
      ]
    },
    {
      "cell_type": "code",
      "metadata": {
        "scrolled": false,
        "id": "UmooiWmRdQUj",
        "colab": {
          "base_uri": "https://localhost:8080/",
          "height": 196
        },
        "outputId": "7b1b3452-392f-4fc5-d4b5-106b3d3f7435"
      },
      "source": [
        "# stock 데이터 불러오기\n",
        "file_path = 'https://raw.githubusercontent.com/Jangrae/csv/master/stock.csv'\n",
        "stock = pd.read_csv(file_path, sep = ',', header=0, index_col=False)  \n",
        "\n",
        "# 확인\n",
        "stock.head()"
      ],
      "execution_count": 26,
      "outputs": [
        {
          "output_type": "execute_result",
          "data": {
            "text/html": [
              "<div>\n",
              "<style scoped>\n",
              "    .dataframe tbody tr th:only-of-type {\n",
              "        vertical-align: middle;\n",
              "    }\n",
              "\n",
              "    .dataframe tbody tr th {\n",
              "        vertical-align: top;\n",
              "    }\n",
              "\n",
              "    .dataframe thead th {\n",
              "        text-align: right;\n",
              "    }\n",
              "</style>\n",
              "<table border=\"1\" class=\"dataframe\">\n",
              "  <thead>\n",
              "    <tr style=\"text-align: right;\">\n",
              "      <th></th>\n",
              "      <th>Date</th>\n",
              "      <th>High</th>\n",
              "      <th>Low</th>\n",
              "      <th>Open</th>\n",
              "      <th>Close</th>\n",
              "      <th>Volume</th>\n",
              "      <th>Adj Close</th>\n",
              "    </tr>\n",
              "  </thead>\n",
              "  <tbody>\n",
              "    <tr>\n",
              "      <th>0</th>\n",
              "      <td>2000-01-03</td>\n",
              "      <td>4.017857</td>\n",
              "      <td>3.631696</td>\n",
              "      <td>3.745536</td>\n",
              "      <td>3.997768</td>\n",
              "      <td>133949200</td>\n",
              "      <td>3.470226</td>\n",
              "    </tr>\n",
              "    <tr>\n",
              "      <th>1</th>\n",
              "      <td>2000-01-04</td>\n",
              "      <td>3.950893</td>\n",
              "      <td>3.613839</td>\n",
              "      <td>3.866071</td>\n",
              "      <td>3.660714</td>\n",
              "      <td>128094400</td>\n",
              "      <td>3.177650</td>\n",
              "    </tr>\n",
              "    <tr>\n",
              "      <th>2</th>\n",
              "      <td>2000-01-05</td>\n",
              "      <td>3.948661</td>\n",
              "      <td>3.678571</td>\n",
              "      <td>3.705357</td>\n",
              "      <td>3.714286</td>\n",
              "      <td>194580400</td>\n",
              "      <td>3.224152</td>\n",
              "    </tr>\n",
              "    <tr>\n",
              "      <th>3</th>\n",
              "      <td>2000-01-06</td>\n",
              "      <td>3.821429</td>\n",
              "      <td>3.392857</td>\n",
              "      <td>3.790179</td>\n",
              "      <td>3.392857</td>\n",
              "      <td>191993200</td>\n",
              "      <td>2.945139</td>\n",
              "    </tr>\n",
              "    <tr>\n",
              "      <th>4</th>\n",
              "      <td>2000-01-07</td>\n",
              "      <td>3.607143</td>\n",
              "      <td>3.410714</td>\n",
              "      <td>3.446429</td>\n",
              "      <td>3.553571</td>\n",
              "      <td>115183600</td>\n",
              "      <td>3.084645</td>\n",
              "    </tr>\n",
              "  </tbody>\n",
              "</table>\n",
              "</div>"
            ],
            "text/plain": [
              "         Date      High       Low      Open     Close     Volume  Adj Close\n",
              "0  2000-01-03  4.017857  3.631696  3.745536  3.997768  133949200   3.470226\n",
              "1  2000-01-04  3.950893  3.613839  3.866071  3.660714  128094400   3.177650\n",
              "2  2000-01-05  3.948661  3.678571  3.705357  3.714286  194580400   3.224152\n",
              "3  2000-01-06  3.821429  3.392857  3.790179  3.392857  191993200   2.945139\n",
              "4  2000-01-07  3.607143  3.410714  3.446429  3.553571  115183600   3.084645"
            ]
          },
          "metadata": {
            "tags": []
          },
          "execution_count": 26
        }
      ]
    },
    {
      "cell_type": "markdown",
      "metadata": {
        "id": "Lv5DeZMzp6mr"
      },
      "source": [
        "## 2.4. 임의의 값을 갖는 데이터프레임 만들기\n",
        "\n",
        "- 테스트용 데이터프레임을 만들 때 많이 사용하니 익혀두는 것이 좋습니다."
      ]
    },
    {
      "cell_type": "markdown",
      "metadata": {
        "id": "iDdxKRKw2Sku"
      },
      "source": [
        "**[참고] 난수 발생 방법**\n",
        "\n",
        "- random.**rand()**: 0부터 1사이의 균일 분포 임의 실수\n",
        "- random.**randn()**: 가우시안 표준 정규 분포 임의 실수\n",
        "- random.**randint()**: 균일 분포의 임의 정수"
      ]
    },
    {
      "cell_type": "markdown",
      "metadata": {
        "id": "irzIW1wcIJOo"
      },
      "source": [
        "**1) 임의의 실수값**\n",
        "\n",
        "- 일정 기간의 날짜 데이터를 만들어 내는 **date_range()** 함수도 기억하기 바랍니다."
      ]
    },
    {
      "cell_type": "code",
      "metadata": {
        "id": "GeDtWx3SHco_",
        "colab": {
          "base_uri": "https://localhost:8080/"
        },
        "outputId": "1983ad5f-cc80-47b9-819d-3dc5e79d1d76"
      },
      "source": [
        "# 2020-02-01 부터 날짜 10개 확인\r\n",
        "pd.date_range('20200201', periods=10)"
      ],
      "execution_count": 27,
      "outputs": [
        {
          "output_type": "execute_result",
          "data": {
            "text/plain": [
              "DatetimeIndex(['2020-02-01', '2020-02-02', '2020-02-03', '2020-02-04',\n",
              "               '2020-02-05', '2020-02-06', '2020-02-07', '2020-02-08',\n",
              "               '2020-02-09', '2020-02-10'],\n",
              "              dtype='datetime64[ns]', freq='D')"
            ]
          },
          "metadata": {
            "tags": []
          },
          "execution_count": 27
        }
      ]
    },
    {
      "cell_type": "code",
      "metadata": {
        "id": "RBwz2q_EHD8c",
        "colab": {
          "base_uri": "https://localhost:8080/"
        },
        "outputId": "f5a29a58-d4d2-4fbc-c035-acbf0156413c"
      },
      "source": [
        "# 임의의 실수를 갖는 10 x 4 형태의 2차원 배열 확인\r\n",
        "np.random.randn(10, 4)"
      ],
      "execution_count": 28,
      "outputs": [
        {
          "output_type": "execute_result",
          "data": {
            "text/plain": [
              "array([[ 0.72613006, -0.13273139,  1.15796492, -1.16838517],\n",
              "       [-0.07294004,  1.40832344, -0.31088701, -1.0494978 ],\n",
              "       [-0.43688673, -0.10174121, -1.13685911, -0.85993589],\n",
              "       [ 0.31273209,  1.54989092, -0.89876531, -0.03704103],\n",
              "       [-0.06520496,  0.61777597, -1.01982272,  0.85505744],\n",
              "       [-2.56518442, -0.37143632,  1.29843396,  2.20745571],\n",
              "       [-0.72809938, -0.27632444, -1.44290125,  0.78208283],\n",
              "       [-0.2478463 , -1.11735959,  0.32210608,  2.43537443],\n",
              "       [ 0.59127828, -0.19096124,  0.52251566, -0.50560185],\n",
              "       [ 0.69437415, -1.11820211,  0.92854198, -0.61693249]])"
            ]
          },
          "metadata": {
            "tags": []
          },
          "execution_count": 28
        }
      ]
    },
    {
      "cell_type": "markdown",
      "metadata": {
        "id": "-l4l6vo4Hh1g"
      },
      "source": [
        "- 함수들 기능을 확인했으니 이제 데이터프레임을 만들어봅니다."
      ]
    },
    {
      "cell_type": "code",
      "metadata": {
        "id": "O3iY6NpZp5_k",
        "colab": {
          "base_uri": "https://localhost:8080/",
          "height": 345
        },
        "outputId": "4f5a5b67-f6c5-4528-91db-ebe1766e5b7b"
      },
      "source": [
        "# 2020-02-01 부터 날짜 10개 만들기\n",
        "dates = pd.date_range('20200201', periods=10)\n",
        "\n",
        "# 임의의 실수를 갖는 10 x 4 형태의 2차원 배열 만들기\n",
        "nums = np.random.randn(10, 4)\n",
        "\n",
        "# 데이터프레임 만들기\n",
        "df = pd.DataFrame(nums, index=dates, columns=list('ABCD'))\n",
        "\n",
        "# 확인\n",
        "df.head(10)"
      ],
      "execution_count": 29,
      "outputs": [
        {
          "output_type": "execute_result",
          "data": {
            "text/html": [
              "<div>\n",
              "<style scoped>\n",
              "    .dataframe tbody tr th:only-of-type {\n",
              "        vertical-align: middle;\n",
              "    }\n",
              "\n",
              "    .dataframe tbody tr th {\n",
              "        vertical-align: top;\n",
              "    }\n",
              "\n",
              "    .dataframe thead th {\n",
              "        text-align: right;\n",
              "    }\n",
              "</style>\n",
              "<table border=\"1\" class=\"dataframe\">\n",
              "  <thead>\n",
              "    <tr style=\"text-align: right;\">\n",
              "      <th></th>\n",
              "      <th>A</th>\n",
              "      <th>B</th>\n",
              "      <th>C</th>\n",
              "      <th>D</th>\n",
              "    </tr>\n",
              "  </thead>\n",
              "  <tbody>\n",
              "    <tr>\n",
              "      <th>2020-02-01</th>\n",
              "      <td>1.183048</td>\n",
              "      <td>-0.563557</td>\n",
              "      <td>-2.175789</td>\n",
              "      <td>-1.396082</td>\n",
              "    </tr>\n",
              "    <tr>\n",
              "      <th>2020-02-02</th>\n",
              "      <td>-0.478661</td>\n",
              "      <td>0.833146</td>\n",
              "      <td>-1.698021</td>\n",
              "      <td>2.212498</td>\n",
              "    </tr>\n",
              "    <tr>\n",
              "      <th>2020-02-03</th>\n",
              "      <td>0.241515</td>\n",
              "      <td>0.279844</td>\n",
              "      <td>-0.748485</td>\n",
              "      <td>-1.585713</td>\n",
              "    </tr>\n",
              "    <tr>\n",
              "      <th>2020-02-04</th>\n",
              "      <td>1.798377</td>\n",
              "      <td>1.029512</td>\n",
              "      <td>-1.239581</td>\n",
              "      <td>-0.856829</td>\n",
              "    </tr>\n",
              "    <tr>\n",
              "      <th>2020-02-05</th>\n",
              "      <td>0.778209</td>\n",
              "      <td>-1.625412</td>\n",
              "      <td>-1.942607</td>\n",
              "      <td>2.417967</td>\n",
              "    </tr>\n",
              "    <tr>\n",
              "      <th>2020-02-06</th>\n",
              "      <td>0.678420</td>\n",
              "      <td>0.556092</td>\n",
              "      <td>1.186296</td>\n",
              "      <td>-0.080556</td>\n",
              "    </tr>\n",
              "    <tr>\n",
              "      <th>2020-02-07</th>\n",
              "      <td>0.822350</td>\n",
              "      <td>0.862262</td>\n",
              "      <td>-0.136615</td>\n",
              "      <td>1.381764</td>\n",
              "    </tr>\n",
              "    <tr>\n",
              "      <th>2020-02-08</th>\n",
              "      <td>0.540114</td>\n",
              "      <td>0.537508</td>\n",
              "      <td>0.202033</td>\n",
              "      <td>-1.935105</td>\n",
              "    </tr>\n",
              "    <tr>\n",
              "      <th>2020-02-09</th>\n",
              "      <td>0.507248</td>\n",
              "      <td>-1.086480</td>\n",
              "      <td>-0.766072</td>\n",
              "      <td>0.927989</td>\n",
              "    </tr>\n",
              "    <tr>\n",
              "      <th>2020-02-10</th>\n",
              "      <td>-0.545863</td>\n",
              "      <td>0.616399</td>\n",
              "      <td>0.516084</td>\n",
              "      <td>-0.772954</td>\n",
              "    </tr>\n",
              "  </tbody>\n",
              "</table>\n",
              "</div>"
            ],
            "text/plain": [
              "                   A         B         C         D\n",
              "2020-02-01  1.183048 -0.563557 -2.175789 -1.396082\n",
              "2020-02-02 -0.478661  0.833146 -1.698021  2.212498\n",
              "2020-02-03  0.241515  0.279844 -0.748485 -1.585713\n",
              "2020-02-04  1.798377  1.029512 -1.239581 -0.856829\n",
              "2020-02-05  0.778209 -1.625412 -1.942607  2.417967\n",
              "2020-02-06  0.678420  0.556092  1.186296 -0.080556\n",
              "2020-02-07  0.822350  0.862262 -0.136615  1.381764\n",
              "2020-02-08  0.540114  0.537508  0.202033 -1.935105\n",
              "2020-02-09  0.507248 -1.086480 -0.766072  0.927989\n",
              "2020-02-10 -0.545863  0.616399  0.516084 -0.772954"
            ]
          },
          "metadata": {
            "tags": []
          },
          "execution_count": 29
        }
      ]
    },
    {
      "cell_type": "markdown",
      "metadata": {
        "id": "Pns7D5fKIJOs"
      },
      "source": [
        "**2) 임의의 정수값**\r\n",
        "\r\n",
        "- 임의 정수를 만들 때는 적절한 범위를 지정해야 합니다."
      ]
    },
    {
      "cell_type": "code",
      "metadata": {
        "id": "80cz5kFXHyxV",
        "colab": {
          "base_uri": "https://localhost:8080/"
        },
        "outputId": "f5b18a58-67fe-4e5a-8b25-59342b966cb6"
      },
      "source": [
        "# 지정한 범위 내의 임의의 정수를 갖는 10 x 4 형태의 2차원 배열 확인\r\n",
        "np.random.randint(100000, 200000, size=(10, 4))"
      ],
      "execution_count": 30,
      "outputs": [
        {
          "output_type": "execute_result",
          "data": {
            "text/plain": [
              "array([[191468, 113341, 160820, 143998],\n",
              "       [156227, 196210, 171710, 154111],\n",
              "       [142423, 138596, 137221, 138115],\n",
              "       [132001, 135958, 101005, 120399],\n",
              "       [172440, 157055, 196103, 158210],\n",
              "       [113962, 184344, 196447, 172589],\n",
              "       [121105, 131497, 161240, 116939],\n",
              "       [121957, 154576, 175520, 109876],\n",
              "       [148592, 105335, 187537, 116015],\n",
              "       [111403, 120222, 147082, 102670]])"
            ]
          },
          "metadata": {
            "tags": []
          },
          "execution_count": 30
        }
      ]
    },
    {
      "cell_type": "markdown",
      "metadata": {
        "id": "0Qk0OPt3IOGb"
      },
      "source": [
        "- 이제 데이터프레임을 만들어봅니다."
      ]
    },
    {
      "cell_type": "code",
      "metadata": {
        "id": "0un0nA-vqILp",
        "colab": {
          "base_uri": "https://localhost:8080/",
          "height": 345
        },
        "outputId": "b9fe18d3-bf29-4c0e-8ef5-db73392b4edb"
      },
      "source": [
        "# 2020-02-01 부터 10개이 날짜 만들기\n",
        "dates = pd.date_range('20200201', periods=10)\n",
        "\n",
        "# 지정한 범위 내의 임의의 정수를 갖는 10 x 4 형태의 2차원 배열 만들기\n",
        "nums = np.random.randint(100000, 200000, size=(10, 4))\n",
        "\n",
        "# 열 이름으로 사용할 리스트 만들기\n",
        "cols = ['col1', 'col2', 'col3', 'col4']\n",
        "\n",
        "# 데이터프레임 만들기\n",
        "df = pd.DataFrame(nums, index=dates, columns=cols)\n",
        "\n",
        "# 확인\n",
        "df.head(10)"
      ],
      "execution_count": 31,
      "outputs": [
        {
          "output_type": "execute_result",
          "data": {
            "text/html": [
              "<div>\n",
              "<style scoped>\n",
              "    .dataframe tbody tr th:only-of-type {\n",
              "        vertical-align: middle;\n",
              "    }\n",
              "\n",
              "    .dataframe tbody tr th {\n",
              "        vertical-align: top;\n",
              "    }\n",
              "\n",
              "    .dataframe thead th {\n",
              "        text-align: right;\n",
              "    }\n",
              "</style>\n",
              "<table border=\"1\" class=\"dataframe\">\n",
              "  <thead>\n",
              "    <tr style=\"text-align: right;\">\n",
              "      <th></th>\n",
              "      <th>col1</th>\n",
              "      <th>col2</th>\n",
              "      <th>col3</th>\n",
              "      <th>col4</th>\n",
              "    </tr>\n",
              "  </thead>\n",
              "  <tbody>\n",
              "    <tr>\n",
              "      <th>2020-02-01</th>\n",
              "      <td>108414</td>\n",
              "      <td>192593</td>\n",
              "      <td>149545</td>\n",
              "      <td>137792</td>\n",
              "    </tr>\n",
              "    <tr>\n",
              "      <th>2020-02-02</th>\n",
              "      <td>142515</td>\n",
              "      <td>195109</td>\n",
              "      <td>175055</td>\n",
              "      <td>128126</td>\n",
              "    </tr>\n",
              "    <tr>\n",
              "      <th>2020-02-03</th>\n",
              "      <td>145473</td>\n",
              "      <td>182570</td>\n",
              "      <td>168278</td>\n",
              "      <td>171637</td>\n",
              "    </tr>\n",
              "    <tr>\n",
              "      <th>2020-02-04</th>\n",
              "      <td>167409</td>\n",
              "      <td>199829</td>\n",
              "      <td>123591</td>\n",
              "      <td>141130</td>\n",
              "    </tr>\n",
              "    <tr>\n",
              "      <th>2020-02-05</th>\n",
              "      <td>123971</td>\n",
              "      <td>170122</td>\n",
              "      <td>171499</td>\n",
              "      <td>180151</td>\n",
              "    </tr>\n",
              "    <tr>\n",
              "      <th>2020-02-06</th>\n",
              "      <td>177599</td>\n",
              "      <td>146164</td>\n",
              "      <td>191585</td>\n",
              "      <td>152625</td>\n",
              "    </tr>\n",
              "    <tr>\n",
              "      <th>2020-02-07</th>\n",
              "      <td>113226</td>\n",
              "      <td>111297</td>\n",
              "      <td>103154</td>\n",
              "      <td>180966</td>\n",
              "    </tr>\n",
              "    <tr>\n",
              "      <th>2020-02-08</th>\n",
              "      <td>109926</td>\n",
              "      <td>171292</td>\n",
              "      <td>105659</td>\n",
              "      <td>167554</td>\n",
              "    </tr>\n",
              "    <tr>\n",
              "      <th>2020-02-09</th>\n",
              "      <td>181618</td>\n",
              "      <td>157929</td>\n",
              "      <td>187416</td>\n",
              "      <td>105384</td>\n",
              "    </tr>\n",
              "    <tr>\n",
              "      <th>2020-02-10</th>\n",
              "      <td>134707</td>\n",
              "      <td>182190</td>\n",
              "      <td>199901</td>\n",
              "      <td>101496</td>\n",
              "    </tr>\n",
              "  </tbody>\n",
              "</table>\n",
              "</div>"
            ],
            "text/plain": [
              "              col1    col2    col3    col4\n",
              "2020-02-01  108414  192593  149545  137792\n",
              "2020-02-02  142515  195109  175055  128126\n",
              "2020-02-03  145473  182570  168278  171637\n",
              "2020-02-04  167409  199829  123591  141130\n",
              "2020-02-05  123971  170122  171499  180151\n",
              "2020-02-06  177599  146164  191585  152625\n",
              "2020-02-07  113226  111297  103154  180966\n",
              "2020-02-08  109926  171292  105659  167554\n",
              "2020-02-09  181618  157929  187416  105384\n",
              "2020-02-10  134707  182190  199901  101496"
            ]
          },
          "metadata": {
            "tags": []
          },
          "execution_count": 31
        }
      ]
    },
    {
      "cell_type": "markdown",
      "metadata": {
        "id": "taC_061cIJOx"
      },
      "source": [
        "## 2.5. 인덱스 다시 설정\n",
        "\n",
        "- 일반 열을 인덱스 열로 설정하거나, 위치 인덱스로 초기화 할 수 있습니다."
      ]
    },
    {
      "cell_type": "code",
      "metadata": {
        "id": "3jg1iaYOmcl_",
        "colab": {
          "base_uri": "https://localhost:8080/",
          "height": 196
        },
        "outputId": "c9a68ec9-637e-423d-c93e-e80c1326fae9"
      },
      "source": [
        "# stock 데이터 불러오기\n",
        "file_path = 'https://raw.githubusercontent.com/jangrae/csv/master/stock.csv'\n",
        "stock = pd.read_csv(file_path, sep = ',')  \n",
        "\n",
        "# 확인\n",
        "stock.head()"
      ],
      "execution_count": 32,
      "outputs": [
        {
          "output_type": "execute_result",
          "data": {
            "text/html": [
              "<div>\n",
              "<style scoped>\n",
              "    .dataframe tbody tr th:only-of-type {\n",
              "        vertical-align: middle;\n",
              "    }\n",
              "\n",
              "    .dataframe tbody tr th {\n",
              "        vertical-align: top;\n",
              "    }\n",
              "\n",
              "    .dataframe thead th {\n",
              "        text-align: right;\n",
              "    }\n",
              "</style>\n",
              "<table border=\"1\" class=\"dataframe\">\n",
              "  <thead>\n",
              "    <tr style=\"text-align: right;\">\n",
              "      <th></th>\n",
              "      <th>Date</th>\n",
              "      <th>High</th>\n",
              "      <th>Low</th>\n",
              "      <th>Open</th>\n",
              "      <th>Close</th>\n",
              "      <th>Volume</th>\n",
              "      <th>Adj Close</th>\n",
              "    </tr>\n",
              "  </thead>\n",
              "  <tbody>\n",
              "    <tr>\n",
              "      <th>0</th>\n",
              "      <td>2000-01-03</td>\n",
              "      <td>4.017857</td>\n",
              "      <td>3.631696</td>\n",
              "      <td>3.745536</td>\n",
              "      <td>3.997768</td>\n",
              "      <td>133949200</td>\n",
              "      <td>3.470226</td>\n",
              "    </tr>\n",
              "    <tr>\n",
              "      <th>1</th>\n",
              "      <td>2000-01-04</td>\n",
              "      <td>3.950893</td>\n",
              "      <td>3.613839</td>\n",
              "      <td>3.866071</td>\n",
              "      <td>3.660714</td>\n",
              "      <td>128094400</td>\n",
              "      <td>3.177650</td>\n",
              "    </tr>\n",
              "    <tr>\n",
              "      <th>2</th>\n",
              "      <td>2000-01-05</td>\n",
              "      <td>3.948661</td>\n",
              "      <td>3.678571</td>\n",
              "      <td>3.705357</td>\n",
              "      <td>3.714286</td>\n",
              "      <td>194580400</td>\n",
              "      <td>3.224152</td>\n",
              "    </tr>\n",
              "    <tr>\n",
              "      <th>3</th>\n",
              "      <td>2000-01-06</td>\n",
              "      <td>3.821429</td>\n",
              "      <td>3.392857</td>\n",
              "      <td>3.790179</td>\n",
              "      <td>3.392857</td>\n",
              "      <td>191993200</td>\n",
              "      <td>2.945139</td>\n",
              "    </tr>\n",
              "    <tr>\n",
              "      <th>4</th>\n",
              "      <td>2000-01-07</td>\n",
              "      <td>3.607143</td>\n",
              "      <td>3.410714</td>\n",
              "      <td>3.446429</td>\n",
              "      <td>3.553571</td>\n",
              "      <td>115183600</td>\n",
              "      <td>3.084645</td>\n",
              "    </tr>\n",
              "  </tbody>\n",
              "</table>\n",
              "</div>"
            ],
            "text/plain": [
              "         Date      High       Low      Open     Close     Volume  Adj Close\n",
              "0  2000-01-03  4.017857  3.631696  3.745536  3.997768  133949200   3.470226\n",
              "1  2000-01-04  3.950893  3.613839  3.866071  3.660714  128094400   3.177650\n",
              "2  2000-01-05  3.948661  3.678571  3.705357  3.714286  194580400   3.224152\n",
              "3  2000-01-06  3.821429  3.392857  3.790179  3.392857  191993200   2.945139\n",
              "4  2000-01-07  3.607143  3.410714  3.446429  3.553571  115183600   3.084645"
            ]
          },
          "metadata": {
            "tags": []
          },
          "execution_count": 32
        }
      ]
    },
    {
      "cell_type": "markdown",
      "metadata": {
        "id": "atOZO4zakLOc"
      },
      "source": [
        "**1) 일반 열을 인덱스로 지정**\n",
        "\n",
        "- 파일을 불러올 때 **index_col** 옵션을 사용해 인덱스가 될 열을 선택할 수 있습니다.\n",
        "- 파일을 불러온 후에 **set_index()** 메소드를 사용해 인덱스가 될 열을 설정할 수 있습니다."
      ]
    },
    {
      "cell_type": "code",
      "metadata": {
        "id": "lZPICPMAmvxD",
        "colab": {
          "base_uri": "https://localhost:8080/",
          "height": 226
        },
        "outputId": "fdaf2202-06f1-49cf-8097-71da9b1c5701"
      },
      "source": [
        "# 기존 열 중에서 인덱스가 될 열 선택\n",
        "stock.set_index('Date', inplace=True)\n",
        "\n",
        "# 확인\n",
        "stock.head()"
      ],
      "execution_count": 33,
      "outputs": [
        {
          "output_type": "execute_result",
          "data": {
            "text/html": [
              "<div>\n",
              "<style scoped>\n",
              "    .dataframe tbody tr th:only-of-type {\n",
              "        vertical-align: middle;\n",
              "    }\n",
              "\n",
              "    .dataframe tbody tr th {\n",
              "        vertical-align: top;\n",
              "    }\n",
              "\n",
              "    .dataframe thead th {\n",
              "        text-align: right;\n",
              "    }\n",
              "</style>\n",
              "<table border=\"1\" class=\"dataframe\">\n",
              "  <thead>\n",
              "    <tr style=\"text-align: right;\">\n",
              "      <th></th>\n",
              "      <th>High</th>\n",
              "      <th>Low</th>\n",
              "      <th>Open</th>\n",
              "      <th>Close</th>\n",
              "      <th>Volume</th>\n",
              "      <th>Adj Close</th>\n",
              "    </tr>\n",
              "    <tr>\n",
              "      <th>Date</th>\n",
              "      <th></th>\n",
              "      <th></th>\n",
              "      <th></th>\n",
              "      <th></th>\n",
              "      <th></th>\n",
              "      <th></th>\n",
              "    </tr>\n",
              "  </thead>\n",
              "  <tbody>\n",
              "    <tr>\n",
              "      <th>2000-01-03</th>\n",
              "      <td>4.017857</td>\n",
              "      <td>3.631696</td>\n",
              "      <td>3.745536</td>\n",
              "      <td>3.997768</td>\n",
              "      <td>133949200</td>\n",
              "      <td>3.470226</td>\n",
              "    </tr>\n",
              "    <tr>\n",
              "      <th>2000-01-04</th>\n",
              "      <td>3.950893</td>\n",
              "      <td>3.613839</td>\n",
              "      <td>3.866071</td>\n",
              "      <td>3.660714</td>\n",
              "      <td>128094400</td>\n",
              "      <td>3.177650</td>\n",
              "    </tr>\n",
              "    <tr>\n",
              "      <th>2000-01-05</th>\n",
              "      <td>3.948661</td>\n",
              "      <td>3.678571</td>\n",
              "      <td>3.705357</td>\n",
              "      <td>3.714286</td>\n",
              "      <td>194580400</td>\n",
              "      <td>3.224152</td>\n",
              "    </tr>\n",
              "    <tr>\n",
              "      <th>2000-01-06</th>\n",
              "      <td>3.821429</td>\n",
              "      <td>3.392857</td>\n",
              "      <td>3.790179</td>\n",
              "      <td>3.392857</td>\n",
              "      <td>191993200</td>\n",
              "      <td>2.945139</td>\n",
              "    </tr>\n",
              "    <tr>\n",
              "      <th>2000-01-07</th>\n",
              "      <td>3.607143</td>\n",
              "      <td>3.410714</td>\n",
              "      <td>3.446429</td>\n",
              "      <td>3.553571</td>\n",
              "      <td>115183600</td>\n",
              "      <td>3.084645</td>\n",
              "    </tr>\n",
              "  </tbody>\n",
              "</table>\n",
              "</div>"
            ],
            "text/plain": [
              "                High       Low      Open     Close     Volume  Adj Close\n",
              "Date                                                                    \n",
              "2000-01-03  4.017857  3.631696  3.745536  3.997768  133949200   3.470226\n",
              "2000-01-04  3.950893  3.613839  3.866071  3.660714  128094400   3.177650\n",
              "2000-01-05  3.948661  3.678571  3.705357  3.714286  194580400   3.224152\n",
              "2000-01-06  3.821429  3.392857  3.790179  3.392857  191993200   2.945139\n",
              "2000-01-07  3.607143  3.410714  3.446429  3.553571  115183600   3.084645"
            ]
          },
          "metadata": {
            "tags": []
          },
          "execution_count": 33
        }
      ]
    },
    {
      "cell_type": "markdown",
      "metadata": {
        "id": "2rdGVeQ-QK_e"
      },
      "source": [
        "**2) 인덱스 이름 삭제**"
      ]
    },
    {
      "cell_type": "code",
      "metadata": {
        "id": "_6a3Z_YtPwED",
        "colab": {
          "base_uri": "https://localhost:8080/",
          "height": 196
        },
        "outputId": "a84786b6-580d-40e8-bdcd-2058bb46882e"
      },
      "source": [
        "# 인덱스 이름 삭제\n",
        "stock.index.name = None\n",
        "\n",
        "# 확인\n",
        "stock.head()"
      ],
      "execution_count": 34,
      "outputs": [
        {
          "output_type": "execute_result",
          "data": {
            "text/html": [
              "<div>\n",
              "<style scoped>\n",
              "    .dataframe tbody tr th:only-of-type {\n",
              "        vertical-align: middle;\n",
              "    }\n",
              "\n",
              "    .dataframe tbody tr th {\n",
              "        vertical-align: top;\n",
              "    }\n",
              "\n",
              "    .dataframe thead th {\n",
              "        text-align: right;\n",
              "    }\n",
              "</style>\n",
              "<table border=\"1\" class=\"dataframe\">\n",
              "  <thead>\n",
              "    <tr style=\"text-align: right;\">\n",
              "      <th></th>\n",
              "      <th>High</th>\n",
              "      <th>Low</th>\n",
              "      <th>Open</th>\n",
              "      <th>Close</th>\n",
              "      <th>Volume</th>\n",
              "      <th>Adj Close</th>\n",
              "    </tr>\n",
              "  </thead>\n",
              "  <tbody>\n",
              "    <tr>\n",
              "      <th>2000-01-03</th>\n",
              "      <td>4.017857</td>\n",
              "      <td>3.631696</td>\n",
              "      <td>3.745536</td>\n",
              "      <td>3.997768</td>\n",
              "      <td>133949200</td>\n",
              "      <td>3.470226</td>\n",
              "    </tr>\n",
              "    <tr>\n",
              "      <th>2000-01-04</th>\n",
              "      <td>3.950893</td>\n",
              "      <td>3.613839</td>\n",
              "      <td>3.866071</td>\n",
              "      <td>3.660714</td>\n",
              "      <td>128094400</td>\n",
              "      <td>3.177650</td>\n",
              "    </tr>\n",
              "    <tr>\n",
              "      <th>2000-01-05</th>\n",
              "      <td>3.948661</td>\n",
              "      <td>3.678571</td>\n",
              "      <td>3.705357</td>\n",
              "      <td>3.714286</td>\n",
              "      <td>194580400</td>\n",
              "      <td>3.224152</td>\n",
              "    </tr>\n",
              "    <tr>\n",
              "      <th>2000-01-06</th>\n",
              "      <td>3.821429</td>\n",
              "      <td>3.392857</td>\n",
              "      <td>3.790179</td>\n",
              "      <td>3.392857</td>\n",
              "      <td>191993200</td>\n",
              "      <td>2.945139</td>\n",
              "    </tr>\n",
              "    <tr>\n",
              "      <th>2000-01-07</th>\n",
              "      <td>3.607143</td>\n",
              "      <td>3.410714</td>\n",
              "      <td>3.446429</td>\n",
              "      <td>3.553571</td>\n",
              "      <td>115183600</td>\n",
              "      <td>3.084645</td>\n",
              "    </tr>\n",
              "  </tbody>\n",
              "</table>\n",
              "</div>"
            ],
            "text/plain": [
              "                High       Low      Open     Close     Volume  Adj Close\n",
              "2000-01-03  4.017857  3.631696  3.745536  3.997768  133949200   3.470226\n",
              "2000-01-04  3.950893  3.613839  3.866071  3.660714  128094400   3.177650\n",
              "2000-01-05  3.948661  3.678571  3.705357  3.714286  194580400   3.224152\n",
              "2000-01-06  3.821429  3.392857  3.790179  3.392857  191993200   2.945139\n",
              "2000-01-07  3.607143  3.410714  3.446429  3.553571  115183600   3.084645"
            ]
          },
          "metadata": {
            "tags": []
          },
          "execution_count": 34
        }
      ]
    },
    {
      "cell_type": "markdown",
      "metadata": {
        "id": "6YBSTyDhlGnS"
      },
      "source": [
        "**3) 인덱스 초기화**\n",
        "\n",
        "- **reset_index()** 메소드를 사용해 행 번호에 기반한 정수 값으로 인덱스를 초기화 할 수 있습니다.\n",
        "- **drop=True**를 설정하면 기존 인덱스 열을 일반 열로 가져오지 않고 버립니다.(기본값=False)"
      ]
    },
    {
      "cell_type": "code",
      "metadata": {
        "id": "cmHauKBZnFNS",
        "colab": {
          "base_uri": "https://localhost:8080/",
          "height": 196
        },
        "outputId": "fece7b2b-bdfa-4b3b-953c-b40ac6a67270"
      },
      "source": [
        "# 인덱스 초기화\n",
        "stock.reset_index(drop=False, inplace=True)\n",
        "\n",
        "# 확인\n",
        "stock.head()"
      ],
      "execution_count": 35,
      "outputs": [
        {
          "output_type": "execute_result",
          "data": {
            "text/html": [
              "<div>\n",
              "<style scoped>\n",
              "    .dataframe tbody tr th:only-of-type {\n",
              "        vertical-align: middle;\n",
              "    }\n",
              "\n",
              "    .dataframe tbody tr th {\n",
              "        vertical-align: top;\n",
              "    }\n",
              "\n",
              "    .dataframe thead th {\n",
              "        text-align: right;\n",
              "    }\n",
              "</style>\n",
              "<table border=\"1\" class=\"dataframe\">\n",
              "  <thead>\n",
              "    <tr style=\"text-align: right;\">\n",
              "      <th></th>\n",
              "      <th>index</th>\n",
              "      <th>High</th>\n",
              "      <th>Low</th>\n",
              "      <th>Open</th>\n",
              "      <th>Close</th>\n",
              "      <th>Volume</th>\n",
              "      <th>Adj Close</th>\n",
              "    </tr>\n",
              "  </thead>\n",
              "  <tbody>\n",
              "    <tr>\n",
              "      <th>0</th>\n",
              "      <td>2000-01-03</td>\n",
              "      <td>4.017857</td>\n",
              "      <td>3.631696</td>\n",
              "      <td>3.745536</td>\n",
              "      <td>3.997768</td>\n",
              "      <td>133949200</td>\n",
              "      <td>3.470226</td>\n",
              "    </tr>\n",
              "    <tr>\n",
              "      <th>1</th>\n",
              "      <td>2000-01-04</td>\n",
              "      <td>3.950893</td>\n",
              "      <td>3.613839</td>\n",
              "      <td>3.866071</td>\n",
              "      <td>3.660714</td>\n",
              "      <td>128094400</td>\n",
              "      <td>3.177650</td>\n",
              "    </tr>\n",
              "    <tr>\n",
              "      <th>2</th>\n",
              "      <td>2000-01-05</td>\n",
              "      <td>3.948661</td>\n",
              "      <td>3.678571</td>\n",
              "      <td>3.705357</td>\n",
              "      <td>3.714286</td>\n",
              "      <td>194580400</td>\n",
              "      <td>3.224152</td>\n",
              "    </tr>\n",
              "    <tr>\n",
              "      <th>3</th>\n",
              "      <td>2000-01-06</td>\n",
              "      <td>3.821429</td>\n",
              "      <td>3.392857</td>\n",
              "      <td>3.790179</td>\n",
              "      <td>3.392857</td>\n",
              "      <td>191993200</td>\n",
              "      <td>2.945139</td>\n",
              "    </tr>\n",
              "    <tr>\n",
              "      <th>4</th>\n",
              "      <td>2000-01-07</td>\n",
              "      <td>3.607143</td>\n",
              "      <td>3.410714</td>\n",
              "      <td>3.446429</td>\n",
              "      <td>3.553571</td>\n",
              "      <td>115183600</td>\n",
              "      <td>3.084645</td>\n",
              "    </tr>\n",
              "  </tbody>\n",
              "</table>\n",
              "</div>"
            ],
            "text/plain": [
              "        index      High       Low      Open     Close     Volume  Adj Close\n",
              "0  2000-01-03  4.017857  3.631696  3.745536  3.997768  133949200   3.470226\n",
              "1  2000-01-04  3.950893  3.613839  3.866071  3.660714  128094400   3.177650\n",
              "2  2000-01-05  3.948661  3.678571  3.705357  3.714286  194580400   3.224152\n",
              "3  2000-01-06  3.821429  3.392857  3.790179  3.392857  191993200   2.945139\n",
              "4  2000-01-07  3.607143  3.410714  3.446429  3.553571  115183600   3.084645"
            ]
          },
          "metadata": {
            "tags": []
          },
          "execution_count": 35
        }
      ]
    },
    {
      "cell_type": "markdown",
      "metadata": {
        "id": "0HIv2VMIQnYb"
      },
      "source": [
        "- 열 이름 변경"
      ]
    },
    {
      "cell_type": "code",
      "metadata": {
        "id": "zfWeMsPvQSRw",
        "colab": {
          "base_uri": "https://localhost:8080/",
          "height": 196
        },
        "outputId": "9d68280b-4abc-4f6b-ae73-b0ed98978948"
      },
      "source": [
        "# 열 이름 변경\n",
        "stock.rename(columns={'index': 'Date'}, inplace=True)\n",
        "\n",
        "# 확인\n",
        "stock.head()"
      ],
      "execution_count": 36,
      "outputs": [
        {
          "output_type": "execute_result",
          "data": {
            "text/html": [
              "<div>\n",
              "<style scoped>\n",
              "    .dataframe tbody tr th:only-of-type {\n",
              "        vertical-align: middle;\n",
              "    }\n",
              "\n",
              "    .dataframe tbody tr th {\n",
              "        vertical-align: top;\n",
              "    }\n",
              "\n",
              "    .dataframe thead th {\n",
              "        text-align: right;\n",
              "    }\n",
              "</style>\n",
              "<table border=\"1\" class=\"dataframe\">\n",
              "  <thead>\n",
              "    <tr style=\"text-align: right;\">\n",
              "      <th></th>\n",
              "      <th>Date</th>\n",
              "      <th>High</th>\n",
              "      <th>Low</th>\n",
              "      <th>Open</th>\n",
              "      <th>Close</th>\n",
              "      <th>Volume</th>\n",
              "      <th>Adj Close</th>\n",
              "    </tr>\n",
              "  </thead>\n",
              "  <tbody>\n",
              "    <tr>\n",
              "      <th>0</th>\n",
              "      <td>2000-01-03</td>\n",
              "      <td>4.017857</td>\n",
              "      <td>3.631696</td>\n",
              "      <td>3.745536</td>\n",
              "      <td>3.997768</td>\n",
              "      <td>133949200</td>\n",
              "      <td>3.470226</td>\n",
              "    </tr>\n",
              "    <tr>\n",
              "      <th>1</th>\n",
              "      <td>2000-01-04</td>\n",
              "      <td>3.950893</td>\n",
              "      <td>3.613839</td>\n",
              "      <td>3.866071</td>\n",
              "      <td>3.660714</td>\n",
              "      <td>128094400</td>\n",
              "      <td>3.177650</td>\n",
              "    </tr>\n",
              "    <tr>\n",
              "      <th>2</th>\n",
              "      <td>2000-01-05</td>\n",
              "      <td>3.948661</td>\n",
              "      <td>3.678571</td>\n",
              "      <td>3.705357</td>\n",
              "      <td>3.714286</td>\n",
              "      <td>194580400</td>\n",
              "      <td>3.224152</td>\n",
              "    </tr>\n",
              "    <tr>\n",
              "      <th>3</th>\n",
              "      <td>2000-01-06</td>\n",
              "      <td>3.821429</td>\n",
              "      <td>3.392857</td>\n",
              "      <td>3.790179</td>\n",
              "      <td>3.392857</td>\n",
              "      <td>191993200</td>\n",
              "      <td>2.945139</td>\n",
              "    </tr>\n",
              "    <tr>\n",
              "      <th>4</th>\n",
              "      <td>2000-01-07</td>\n",
              "      <td>3.607143</td>\n",
              "      <td>3.410714</td>\n",
              "      <td>3.446429</td>\n",
              "      <td>3.553571</td>\n",
              "      <td>115183600</td>\n",
              "      <td>3.084645</td>\n",
              "    </tr>\n",
              "  </tbody>\n",
              "</table>\n",
              "</div>"
            ],
            "text/plain": [
              "         Date      High       Low      Open     Close     Volume  Adj Close\n",
              "0  2000-01-03  4.017857  3.631696  3.745536  3.997768  133949200   3.470226\n",
              "1  2000-01-04  3.950893  3.613839  3.866071  3.660714  128094400   3.177650\n",
              "2  2000-01-05  3.948661  3.678571  3.705357  3.714286  194580400   3.224152\n",
              "3  2000-01-06  3.821429  3.392857  3.790179  3.392857  191993200   2.945139\n",
              "4  2000-01-07  3.607143  3.410714  3.446429  3.553571  115183600   3.084645"
            ]
          },
          "metadata": {
            "tags": []
          },
          "execution_count": 36
        }
      ]
    },
    {
      "cell_type": "markdown",
      "metadata": {
        "id": "yohTkqw2ex7e"
      },
      "source": [
        "<img src='https://raw.githubusercontent.com/jangrae/img/master/practice_01.png' width=120 align=\"left\"/>"
      ]
    },
    {
      "cell_type": "markdown",
      "metadata": {
        "id": "NqG5hTOrqjpi"
      },
      "source": [
        "[문1] 아래 주어진 데이터프레임을 확인하고, 이어지는 셀에 코드를 완성해 보세요."
      ]
    },
    {
      "cell_type": "code",
      "metadata": {
        "id": "cATzMkRgX5p8",
        "colab": {
          "base_uri": "https://localhost:8080/",
          "height": 196
        },
        "outputId": "9c36872b-f89f-4cb2-bdb9-d7e432186e24"
      },
      "source": [
        "# 데이터프레임 만들기\n",
        "dates = pd.date_range('20200201', periods=10)\n",
        "nums = np.random.randn(10, 4)\n",
        "df = pd.DataFrame(nums, index=dates, columns=list('ABCD'))\n",
        "\n",
        "# 확인\n",
        "df.head()"
      ],
      "execution_count": 37,
      "outputs": [
        {
          "output_type": "execute_result",
          "data": {
            "text/html": [
              "<div>\n",
              "<style scoped>\n",
              "    .dataframe tbody tr th:only-of-type {\n",
              "        vertical-align: middle;\n",
              "    }\n",
              "\n",
              "    .dataframe tbody tr th {\n",
              "        vertical-align: top;\n",
              "    }\n",
              "\n",
              "    .dataframe thead th {\n",
              "        text-align: right;\n",
              "    }\n",
              "</style>\n",
              "<table border=\"1\" class=\"dataframe\">\n",
              "  <thead>\n",
              "    <tr style=\"text-align: right;\">\n",
              "      <th></th>\n",
              "      <th>A</th>\n",
              "      <th>B</th>\n",
              "      <th>C</th>\n",
              "      <th>D</th>\n",
              "    </tr>\n",
              "  </thead>\n",
              "  <tbody>\n",
              "    <tr>\n",
              "      <th>2020-02-01</th>\n",
              "      <td>-0.459288</td>\n",
              "      <td>0.711255</td>\n",
              "      <td>0.610122</td>\n",
              "      <td>-0.025113</td>\n",
              "    </tr>\n",
              "    <tr>\n",
              "      <th>2020-02-02</th>\n",
              "      <td>-0.429017</td>\n",
              "      <td>-0.976351</td>\n",
              "      <td>0.563082</td>\n",
              "      <td>1.408121</td>\n",
              "    </tr>\n",
              "    <tr>\n",
              "      <th>2020-02-03</th>\n",
              "      <td>0.228615</td>\n",
              "      <td>-0.518914</td>\n",
              "      <td>1.607185</td>\n",
              "      <td>-0.469066</td>\n",
              "    </tr>\n",
              "    <tr>\n",
              "      <th>2020-02-04</th>\n",
              "      <td>-1.020798</td>\n",
              "      <td>-2.166505</td>\n",
              "      <td>-0.830273</td>\n",
              "      <td>-0.890702</td>\n",
              "    </tr>\n",
              "    <tr>\n",
              "      <th>2020-02-05</th>\n",
              "      <td>-0.423352</td>\n",
              "      <td>1.593891</td>\n",
              "      <td>-1.492042</td>\n",
              "      <td>1.717594</td>\n",
              "    </tr>\n",
              "  </tbody>\n",
              "</table>\n",
              "</div>"
            ],
            "text/plain": [
              "                   A         B         C         D\n",
              "2020-02-01 -0.459288  0.711255  0.610122 -0.025113\n",
              "2020-02-02 -0.429017 -0.976351  0.563082  1.408121\n",
              "2020-02-03  0.228615 -0.518914  1.607185 -0.469066\n",
              "2020-02-04 -1.020798 -2.166505 -0.830273 -0.890702\n",
              "2020-02-05 -0.423352  1.593891 -1.492042  1.717594"
            ]
          },
          "metadata": {
            "tags": []
          },
          "execution_count": 37
        }
      ]
    },
    {
      "cell_type": "code",
      "metadata": {
        "id": "D-X_tx_cYnfj",
        "colab": {
          "base_uri": "https://localhost:8080/",
          "height": 196
        },
        "outputId": "01b350ee-a7ca-42a2-ed23-7974bc3d6159"
      },
      "source": [
        "# 인덱스 초기화\n",
        "df.reset_index(drop=False, inplace=True)\n",
        "\n",
        "# 확인\n",
        "df.head()"
      ],
      "execution_count": 38,
      "outputs": [
        {
          "output_type": "execute_result",
          "data": {
            "text/html": [
              "<div>\n",
              "<style scoped>\n",
              "    .dataframe tbody tr th:only-of-type {\n",
              "        vertical-align: middle;\n",
              "    }\n",
              "\n",
              "    .dataframe tbody tr th {\n",
              "        vertical-align: top;\n",
              "    }\n",
              "\n",
              "    .dataframe thead th {\n",
              "        text-align: right;\n",
              "    }\n",
              "</style>\n",
              "<table border=\"1\" class=\"dataframe\">\n",
              "  <thead>\n",
              "    <tr style=\"text-align: right;\">\n",
              "      <th></th>\n",
              "      <th>index</th>\n",
              "      <th>A</th>\n",
              "      <th>B</th>\n",
              "      <th>C</th>\n",
              "      <th>D</th>\n",
              "    </tr>\n",
              "  </thead>\n",
              "  <tbody>\n",
              "    <tr>\n",
              "      <th>0</th>\n",
              "      <td>2020-02-01</td>\n",
              "      <td>-0.459288</td>\n",
              "      <td>0.711255</td>\n",
              "      <td>0.610122</td>\n",
              "      <td>-0.025113</td>\n",
              "    </tr>\n",
              "    <tr>\n",
              "      <th>1</th>\n",
              "      <td>2020-02-02</td>\n",
              "      <td>-0.429017</td>\n",
              "      <td>-0.976351</td>\n",
              "      <td>0.563082</td>\n",
              "      <td>1.408121</td>\n",
              "    </tr>\n",
              "    <tr>\n",
              "      <th>2</th>\n",
              "      <td>2020-02-03</td>\n",
              "      <td>0.228615</td>\n",
              "      <td>-0.518914</td>\n",
              "      <td>1.607185</td>\n",
              "      <td>-0.469066</td>\n",
              "    </tr>\n",
              "    <tr>\n",
              "      <th>3</th>\n",
              "      <td>2020-02-04</td>\n",
              "      <td>-1.020798</td>\n",
              "      <td>-2.166505</td>\n",
              "      <td>-0.830273</td>\n",
              "      <td>-0.890702</td>\n",
              "    </tr>\n",
              "    <tr>\n",
              "      <th>4</th>\n",
              "      <td>2020-02-05</td>\n",
              "      <td>-0.423352</td>\n",
              "      <td>1.593891</td>\n",
              "      <td>-1.492042</td>\n",
              "      <td>1.717594</td>\n",
              "    </tr>\n",
              "  </tbody>\n",
              "</table>\n",
              "</div>"
            ],
            "text/plain": [
              "       index         A         B         C         D\n",
              "0 2020-02-01 -0.459288  0.711255  0.610122 -0.025113\n",
              "1 2020-02-02 -0.429017 -0.976351  0.563082  1.408121\n",
              "2 2020-02-03  0.228615 -0.518914  1.607185 -0.469066\n",
              "3 2020-02-04 -1.020798 -2.166505 -0.830273 -0.890702\n",
              "4 2020-02-05 -0.423352  1.593891 -1.492042  1.717594"
            ]
          },
          "metadata": {
            "tags": []
          },
          "execution_count": 38
        }
      ]
    },
    {
      "cell_type": "code",
      "metadata": {
        "id": "RnPMufha44kk",
        "colab": {
          "base_uri": "https://localhost:8080/",
          "height": 196
        },
        "outputId": "93a5bee9-f028-4be7-9203-b75cd57bcc5a"
      },
      "source": [
        "# 날짜 열 이름을 Date로 변경\n",
        "df.rename(columns={'index': 'Date'}, inplace=True)\n",
        "\n",
        "# 확인\n",
        "df.head()"
      ],
      "execution_count": 39,
      "outputs": [
        {
          "output_type": "execute_result",
          "data": {
            "text/html": [
              "<div>\n",
              "<style scoped>\n",
              "    .dataframe tbody tr th:only-of-type {\n",
              "        vertical-align: middle;\n",
              "    }\n",
              "\n",
              "    .dataframe tbody tr th {\n",
              "        vertical-align: top;\n",
              "    }\n",
              "\n",
              "    .dataframe thead th {\n",
              "        text-align: right;\n",
              "    }\n",
              "</style>\n",
              "<table border=\"1\" class=\"dataframe\">\n",
              "  <thead>\n",
              "    <tr style=\"text-align: right;\">\n",
              "      <th></th>\n",
              "      <th>Date</th>\n",
              "      <th>A</th>\n",
              "      <th>B</th>\n",
              "      <th>C</th>\n",
              "      <th>D</th>\n",
              "    </tr>\n",
              "  </thead>\n",
              "  <tbody>\n",
              "    <tr>\n",
              "      <th>0</th>\n",
              "      <td>2020-02-01</td>\n",
              "      <td>-0.459288</td>\n",
              "      <td>0.711255</td>\n",
              "      <td>0.610122</td>\n",
              "      <td>-0.025113</td>\n",
              "    </tr>\n",
              "    <tr>\n",
              "      <th>1</th>\n",
              "      <td>2020-02-02</td>\n",
              "      <td>-0.429017</td>\n",
              "      <td>-0.976351</td>\n",
              "      <td>0.563082</td>\n",
              "      <td>1.408121</td>\n",
              "    </tr>\n",
              "    <tr>\n",
              "      <th>2</th>\n",
              "      <td>2020-02-03</td>\n",
              "      <td>0.228615</td>\n",
              "      <td>-0.518914</td>\n",
              "      <td>1.607185</td>\n",
              "      <td>-0.469066</td>\n",
              "    </tr>\n",
              "    <tr>\n",
              "      <th>3</th>\n",
              "      <td>2020-02-04</td>\n",
              "      <td>-1.020798</td>\n",
              "      <td>-2.166505</td>\n",
              "      <td>-0.830273</td>\n",
              "      <td>-0.890702</td>\n",
              "    </tr>\n",
              "    <tr>\n",
              "      <th>4</th>\n",
              "      <td>2020-02-05</td>\n",
              "      <td>-0.423352</td>\n",
              "      <td>1.593891</td>\n",
              "      <td>-1.492042</td>\n",
              "      <td>1.717594</td>\n",
              "    </tr>\n",
              "  </tbody>\n",
              "</table>\n",
              "</div>"
            ],
            "text/plain": [
              "        Date         A         B         C         D\n",
              "0 2020-02-01 -0.459288  0.711255  0.610122 -0.025113\n",
              "1 2020-02-02 -0.429017 -0.976351  0.563082  1.408121\n",
              "2 2020-02-03  0.228615 -0.518914  1.607185 -0.469066\n",
              "3 2020-02-04 -1.020798 -2.166505 -0.830273 -0.890702\n",
              "4 2020-02-05 -0.423352  1.593891 -1.492042  1.717594"
            ]
          },
          "metadata": {
            "tags": []
          },
          "execution_count": 39
        }
      ]
    },
    {
      "cell_type": "code",
      "metadata": {
        "id": "QdC8wQLEYr2w",
        "colab": {
          "base_uri": "https://localhost:8080/",
          "height": 226
        },
        "outputId": "97c7cf94-3fdd-4401-c563-e20c00b26f7f"
      },
      "source": [
        "# 인덱스를 날짜 데이터가 있는 열로 다시 변경\n",
        "df.set_index('Date', inplace=True)\n",
        "\n",
        "# 확인\n",
        "df.head()"
      ],
      "execution_count": 40,
      "outputs": [
        {
          "output_type": "execute_result",
          "data": {
            "text/html": [
              "<div>\n",
              "<style scoped>\n",
              "    .dataframe tbody tr th:only-of-type {\n",
              "        vertical-align: middle;\n",
              "    }\n",
              "\n",
              "    .dataframe tbody tr th {\n",
              "        vertical-align: top;\n",
              "    }\n",
              "\n",
              "    .dataframe thead th {\n",
              "        text-align: right;\n",
              "    }\n",
              "</style>\n",
              "<table border=\"1\" class=\"dataframe\">\n",
              "  <thead>\n",
              "    <tr style=\"text-align: right;\">\n",
              "      <th></th>\n",
              "      <th>A</th>\n",
              "      <th>B</th>\n",
              "      <th>C</th>\n",
              "      <th>D</th>\n",
              "    </tr>\n",
              "    <tr>\n",
              "      <th>Date</th>\n",
              "      <th></th>\n",
              "      <th></th>\n",
              "      <th></th>\n",
              "      <th></th>\n",
              "    </tr>\n",
              "  </thead>\n",
              "  <tbody>\n",
              "    <tr>\n",
              "      <th>2020-02-01</th>\n",
              "      <td>-0.459288</td>\n",
              "      <td>0.711255</td>\n",
              "      <td>0.610122</td>\n",
              "      <td>-0.025113</td>\n",
              "    </tr>\n",
              "    <tr>\n",
              "      <th>2020-02-02</th>\n",
              "      <td>-0.429017</td>\n",
              "      <td>-0.976351</td>\n",
              "      <td>0.563082</td>\n",
              "      <td>1.408121</td>\n",
              "    </tr>\n",
              "    <tr>\n",
              "      <th>2020-02-03</th>\n",
              "      <td>0.228615</td>\n",
              "      <td>-0.518914</td>\n",
              "      <td>1.607185</td>\n",
              "      <td>-0.469066</td>\n",
              "    </tr>\n",
              "    <tr>\n",
              "      <th>2020-02-04</th>\n",
              "      <td>-1.020798</td>\n",
              "      <td>-2.166505</td>\n",
              "      <td>-0.830273</td>\n",
              "      <td>-0.890702</td>\n",
              "    </tr>\n",
              "    <tr>\n",
              "      <th>2020-02-05</th>\n",
              "      <td>-0.423352</td>\n",
              "      <td>1.593891</td>\n",
              "      <td>-1.492042</td>\n",
              "      <td>1.717594</td>\n",
              "    </tr>\n",
              "  </tbody>\n",
              "</table>\n",
              "</div>"
            ],
            "text/plain": [
              "                   A         B         C         D\n",
              "Date                                              \n",
              "2020-02-01 -0.459288  0.711255  0.610122 -0.025113\n",
              "2020-02-02 -0.429017 -0.976351  0.563082  1.408121\n",
              "2020-02-03  0.228615 -0.518914  1.607185 -0.469066\n",
              "2020-02-04 -1.020798 -2.166505 -0.830273 -0.890702\n",
              "2020-02-05 -0.423352  1.593891 -1.492042  1.717594"
            ]
          },
          "metadata": {
            "tags": []
          },
          "execution_count": 40
        }
      ]
    },
    {
      "cell_type": "code",
      "metadata": {
        "id": "8ymSLbqjOW8K",
        "colab": {
          "base_uri": "https://localhost:8080/",
          "height": 196
        },
        "outputId": "6f4a3dfd-5646-4eb0-df63-85829f853b1c"
      },
      "source": [
        "# 인덱스 이름 삭제\n",
        "df.index.name = None\n",
        "\n",
        "# 확인\n",
        "df.head()"
      ],
      "execution_count": 41,
      "outputs": [
        {
          "output_type": "execute_result",
          "data": {
            "text/html": [
              "<div>\n",
              "<style scoped>\n",
              "    .dataframe tbody tr th:only-of-type {\n",
              "        vertical-align: middle;\n",
              "    }\n",
              "\n",
              "    .dataframe tbody tr th {\n",
              "        vertical-align: top;\n",
              "    }\n",
              "\n",
              "    .dataframe thead th {\n",
              "        text-align: right;\n",
              "    }\n",
              "</style>\n",
              "<table border=\"1\" class=\"dataframe\">\n",
              "  <thead>\n",
              "    <tr style=\"text-align: right;\">\n",
              "      <th></th>\n",
              "      <th>A</th>\n",
              "      <th>B</th>\n",
              "      <th>C</th>\n",
              "      <th>D</th>\n",
              "    </tr>\n",
              "  </thead>\n",
              "  <tbody>\n",
              "    <tr>\n",
              "      <th>2020-02-01</th>\n",
              "      <td>-0.459288</td>\n",
              "      <td>0.711255</td>\n",
              "      <td>0.610122</td>\n",
              "      <td>-0.025113</td>\n",
              "    </tr>\n",
              "    <tr>\n",
              "      <th>2020-02-02</th>\n",
              "      <td>-0.429017</td>\n",
              "      <td>-0.976351</td>\n",
              "      <td>0.563082</td>\n",
              "      <td>1.408121</td>\n",
              "    </tr>\n",
              "    <tr>\n",
              "      <th>2020-02-03</th>\n",
              "      <td>0.228615</td>\n",
              "      <td>-0.518914</td>\n",
              "      <td>1.607185</td>\n",
              "      <td>-0.469066</td>\n",
              "    </tr>\n",
              "    <tr>\n",
              "      <th>2020-02-04</th>\n",
              "      <td>-1.020798</td>\n",
              "      <td>-2.166505</td>\n",
              "      <td>-0.830273</td>\n",
              "      <td>-0.890702</td>\n",
              "    </tr>\n",
              "    <tr>\n",
              "      <th>2020-02-05</th>\n",
              "      <td>-0.423352</td>\n",
              "      <td>1.593891</td>\n",
              "      <td>-1.492042</td>\n",
              "      <td>1.717594</td>\n",
              "    </tr>\n",
              "  </tbody>\n",
              "</table>\n",
              "</div>"
            ],
            "text/plain": [
              "                   A         B         C         D\n",
              "2020-02-01 -0.459288  0.711255  0.610122 -0.025113\n",
              "2020-02-02 -0.429017 -0.976351  0.563082  1.408121\n",
              "2020-02-03  0.228615 -0.518914  1.607185 -0.469066\n",
              "2020-02-04 -1.020798 -2.166505 -0.830273 -0.890702\n",
              "2020-02-05 -0.423352  1.593891 -1.492042  1.717594"
            ]
          },
          "metadata": {
            "tags": []
          },
          "execution_count": 41
        }
      ]
    },
    {
      "cell_type": "markdown",
      "metadata": {
        "id": "zPb7_mq4od5p"
      },
      "source": [
        "<center><img src='https://raw.githubusercontent.com/Jangrae/img/master/end.png' width=300/></center>"
      ]
    }
  ]
}