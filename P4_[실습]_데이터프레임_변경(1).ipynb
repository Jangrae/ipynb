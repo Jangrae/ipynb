{
  "nbformat": 4,
  "nbformat_minor": 0,
  "metadata": {
    "colab": {
      "name": "P4 [실습] 데이터프레임 변경(1).ipynb",
      "provenance": [],
      "collapsed_sections": []
    },
    "kernelspec": {
      "display_name": "Python 3",
      "language": "python",
      "name": "python3"
    },
    "language_info": {
      "codemirror_mode": {
        "name": "ipython",
        "version": 3
      },
      "file_extension": ".py",
      "mimetype": "text/x-python",
      "name": "python",
      "nbconvert_exporter": "python",
      "pygments_lexer": "ipython3",
      "version": "3.7.6"
    }
  },
  "cells": [
    {
      "cell_type": "markdown",
      "metadata": {
        "id": "BFhIXgdYoYGp"
      },
      "source": [
        "<center><img src='https://raw.githubusercontent.com/Jangrae/img/master/title.png' width=500/></center>"
      ]
    },
    {
      "cell_type": "markdown",
      "metadata": {
        "id": "YXxggwKZPyYB"
      },
      "source": [
        "<center><img src='https://raw.githubusercontent.com/Jangrae/img/master/practice.png' width=300/></center>"
      ]
    },
    {
      "cell_type": "markdown",
      "metadata": {
        "id": "uRG2unicPyYC"
      },
      "source": [
        "# 실습 목표\n",
        "\n",
        "- CSV 파일에서 데이터를 읽어올 수 있습니다.\n",
        "- 가변수(Dummy Variable)를 만들 수 있습니다.\n",
        "- 열 이름을 바꿀 수 있습니다.\n",
        "- 결측치 정보를 확인하고 제거하거나 다른 값으로 채울 수 있습니다."
      ]
    },
    {
      "cell_type": "markdown",
      "metadata": {
        "id": "PcLUjkq0wxpF"
      },
      "source": [
        "# P4. 데이터프레임 변경(1)"
      ]
    },
    {
      "cell_type": "code",
      "metadata": {
        "id": "8hZaRpngVhlS"
      },
      "source": [
        "# 라이브러리 불러오기\n",
        "import pandas as pd\n",
        "import numpy as np"
      ],
      "execution_count": 1,
      "outputs": []
    },
    {
      "cell_type": "markdown",
      "metadata": {
        "id": "swByQenKUAXS"
      },
      "source": [
        "1) 'titanic_simple.csv' 파일을 불러와 데이터프레임 **titanic**을 만드세요.\n",
        "\n",
        "- 파일 경로: 'https://raw.githubusercontent.com/Jangrae/csv/master/titanic_simple.csv'"
      ]
    },
    {
      "cell_type": "code",
      "metadata": {
        "id": "zFm_DPTaUdqQ",
        "outputId": "1d8f794c-1a32-4b86-f076-98ae88bdbcc7",
        "colab": {
          "base_uri": "https://localhost:8080/",
          "height": 196
        }
      },
      "source": [
        "# titanic 데이터 불러오기\n",
        "file_path = 'https://raw.githubusercontent.com/Jangrae/csv/master/retail_new.csv'\n",
        "titanic = pd.read_csv(file_path, sep = ',')\n",
        "\n",
        "# 확인\n",
        "titanic.head()"
      ],
      "execution_count": 2,
      "outputs": [
        {
          "output_type": "execute_result",
          "data": {
            "text/html": [
              "<div>\n",
              "<style scoped>\n",
              "    .dataframe tbody tr th:only-of-type {\n",
              "        vertical-align: middle;\n",
              "    }\n",
              "\n",
              "    .dataframe tbody tr th {\n",
              "        vertical-align: top;\n",
              "    }\n",
              "\n",
              "    .dataframe thead th {\n",
              "        text-align: right;\n",
              "    }\n",
              "</style>\n",
              "<table border=\"1\" class=\"dataframe\">\n",
              "  <thead>\n",
              "    <tr style=\"text-align: right;\">\n",
              "      <th></th>\n",
              "      <th>order_date</th>\n",
              "      <th>product_id</th>\n",
              "      <th>customer_id</th>\n",
              "      <th>product_name</th>\n",
              "      <th>category</th>\n",
              "      <th>birth_year</th>\n",
              "      <th>reg_date</th>\n",
              "      <th>gender</th>\n",
              "      <th>address1</th>\n",
              "      <th>address2</th>\n",
              "      <th>quantity</th>\n",
              "      <th>amount</th>\n",
              "    </tr>\n",
              "  </thead>\n",
              "  <tbody>\n",
              "    <tr>\n",
              "      <th>0</th>\n",
              "      <td>2019-01-02</td>\n",
              "      <td>p1030071</td>\n",
              "      <td>c107853</td>\n",
              "      <td>토마토</td>\n",
              "      <td>과일</td>\n",
              "      <td>1961</td>\n",
              "      <td>2011-07-11</td>\n",
              "      <td>M</td>\n",
              "      <td>경기도</td>\n",
              "      <td>안성시</td>\n",
              "      <td>2</td>\n",
              "      <td>7900</td>\n",
              "    </tr>\n",
              "    <tr>\n",
              "      <th>1</th>\n",
              "      <td>2019-01-02</td>\n",
              "      <td>p1012761</td>\n",
              "      <td>c110521</td>\n",
              "      <td>쌈모음</td>\n",
              "      <td>채소</td>\n",
              "      <td>1972</td>\n",
              "      <td>2011-09-04</td>\n",
              "      <td>F</td>\n",
              "      <td>경기도</td>\n",
              "      <td>안산시</td>\n",
              "      <td>1</td>\n",
              "      <td>1700</td>\n",
              "    </tr>\n",
              "    <tr>\n",
              "      <th>2</th>\n",
              "      <td>2019-01-02</td>\n",
              "      <td>p1012581</td>\n",
              "      <td>c110521</td>\n",
              "      <td>깻잎</td>\n",
              "      <td>채소</td>\n",
              "      <td>1972</td>\n",
              "      <td>2011-09-04</td>\n",
              "      <td>F</td>\n",
              "      <td>경기도</td>\n",
              "      <td>안산시</td>\n",
              "      <td>1</td>\n",
              "      <td>1000</td>\n",
              "    </tr>\n",
              "    <tr>\n",
              "      <th>3</th>\n",
              "      <td>2019-01-02</td>\n",
              "      <td>p1175481</td>\n",
              "      <td>c110521</td>\n",
              "      <td>콩나물</td>\n",
              "      <td>반찬류</td>\n",
              "      <td>1972</td>\n",
              "      <td>2011-09-04</td>\n",
              "      <td>F</td>\n",
              "      <td>경기도</td>\n",
              "      <td>안산시</td>\n",
              "      <td>1</td>\n",
              "      <td>1300</td>\n",
              "    </tr>\n",
              "    <tr>\n",
              "      <th>4</th>\n",
              "      <td>2019-01-02</td>\n",
              "      <td>p1178011</td>\n",
              "      <td>c110521</td>\n",
              "      <td>사과_소</td>\n",
              "      <td>과일</td>\n",
              "      <td>1972</td>\n",
              "      <td>2011-09-04</td>\n",
              "      <td>F</td>\n",
              "      <td>경기도</td>\n",
              "      <td>안산시</td>\n",
              "      <td>1</td>\n",
              "      <td>8800</td>\n",
              "    </tr>\n",
              "  </tbody>\n",
              "</table>\n",
              "</div>"
            ],
            "text/plain": [
              "   order_date product_id customer_id  ... address2 quantity  amount\n",
              "0  2019-01-02   p1030071     c107853  ...      안성시        2    7900\n",
              "1  2019-01-02   p1012761     c110521  ...      안산시        1    1700\n",
              "2  2019-01-02   p1012581     c110521  ...      안산시        1    1000\n",
              "3  2019-01-02   p1175481     c110521  ...      안산시        1    1300\n",
              "4  2019-01-02   p1178011     c110521  ...      안산시        1    8800\n",
              "\n",
              "[5 rows x 12 columns]"
            ]
          },
          "metadata": {
            "tags": []
          },
          "execution_count": 2
        }
      ]
    },
    {
      "cell_type": "markdown",
      "metadata": {
        "id": "KYLBolspUF5w"
      },
      "source": [
        "2) drop() 메소드를 사용해 Name, PassengerId 열을 삭제하세요."
      ]
    },
    {
      "cell_type": "code",
      "metadata": {
        "id": "MeOZAUVZUepV",
        "scrolled": true,
        "outputId": "e371a021-a38e-48aa-9550-e09a8a4c2ae0",
        "colab": {
          "base_uri": "https://localhost:8080/",
          "height": 370
        }
      },
      "source": [
        "# Name 열 삭제\n",
        "titanic.drop(['Name', 'PassengerId'], axis=1, inplace=True)\n",
        "\n",
        "# 확인\n",
        "titanic.head()"
      ],
      "execution_count": 3,
      "outputs": [
        {
          "output_type": "error",
          "ename": "KeyError",
          "evalue": "ignored",
          "traceback": [
            "\u001b[0;31m---------------------------------------------------------------------------\u001b[0m",
            "\u001b[0;31mKeyError\u001b[0m                                  Traceback (most recent call last)",
            "\u001b[0;32m<ipython-input-3-626b2568da02>\u001b[0m in \u001b[0;36m<module>\u001b[0;34m()\u001b[0m\n\u001b[1;32m      1\u001b[0m \u001b[0;31m# Name 열 삭제\u001b[0m\u001b[0;34m\u001b[0m\u001b[0;34m\u001b[0m\u001b[0;34m\u001b[0m\u001b[0m\n\u001b[0;32m----> 2\u001b[0;31m \u001b[0mtitanic\u001b[0m\u001b[0;34m.\u001b[0m\u001b[0mdrop\u001b[0m\u001b[0;34m(\u001b[0m\u001b[0;34m[\u001b[0m\u001b[0;34m'Name'\u001b[0m\u001b[0;34m,\u001b[0m \u001b[0;34m'PassengerId'\u001b[0m\u001b[0;34m]\u001b[0m\u001b[0;34m,\u001b[0m \u001b[0maxis\u001b[0m\u001b[0;34m=\u001b[0m\u001b[0;36m1\u001b[0m\u001b[0;34m,\u001b[0m \u001b[0minplace\u001b[0m\u001b[0;34m=\u001b[0m\u001b[0;32mTrue\u001b[0m\u001b[0;34m)\u001b[0m\u001b[0;34m\u001b[0m\u001b[0;34m\u001b[0m\u001b[0m\n\u001b[0m\u001b[1;32m      3\u001b[0m \u001b[0;34m\u001b[0m\u001b[0m\n\u001b[1;32m      4\u001b[0m \u001b[0;31m# 확인\u001b[0m\u001b[0;34m\u001b[0m\u001b[0;34m\u001b[0m\u001b[0;34m\u001b[0m\u001b[0m\n\u001b[1;32m      5\u001b[0m \u001b[0mtitanic\u001b[0m\u001b[0;34m.\u001b[0m\u001b[0mhead\u001b[0m\u001b[0;34m(\u001b[0m\u001b[0;34m)\u001b[0m\u001b[0;34m\u001b[0m\u001b[0;34m\u001b[0m\u001b[0m\n",
            "\u001b[0;32m/usr/local/lib/python3.6/dist-packages/pandas/core/frame.py\u001b[0m in \u001b[0;36mdrop\u001b[0;34m(self, labels, axis, index, columns, level, inplace, errors)\u001b[0m\n\u001b[1;32m   4172\u001b[0m             \u001b[0mlevel\u001b[0m\u001b[0;34m=\u001b[0m\u001b[0mlevel\u001b[0m\u001b[0;34m,\u001b[0m\u001b[0;34m\u001b[0m\u001b[0;34m\u001b[0m\u001b[0m\n\u001b[1;32m   4173\u001b[0m             \u001b[0minplace\u001b[0m\u001b[0;34m=\u001b[0m\u001b[0minplace\u001b[0m\u001b[0;34m,\u001b[0m\u001b[0;34m\u001b[0m\u001b[0;34m\u001b[0m\u001b[0m\n\u001b[0;32m-> 4174\u001b[0;31m             \u001b[0merrors\u001b[0m\u001b[0;34m=\u001b[0m\u001b[0merrors\u001b[0m\u001b[0;34m,\u001b[0m\u001b[0;34m\u001b[0m\u001b[0;34m\u001b[0m\u001b[0m\n\u001b[0m\u001b[1;32m   4175\u001b[0m         )\n\u001b[1;32m   4176\u001b[0m \u001b[0;34m\u001b[0m\u001b[0m\n",
            "\u001b[0;32m/usr/local/lib/python3.6/dist-packages/pandas/core/generic.py\u001b[0m in \u001b[0;36mdrop\u001b[0;34m(self, labels, axis, index, columns, level, inplace, errors)\u001b[0m\n\u001b[1;32m   3887\u001b[0m         \u001b[0;32mfor\u001b[0m \u001b[0maxis\u001b[0m\u001b[0;34m,\u001b[0m \u001b[0mlabels\u001b[0m \u001b[0;32min\u001b[0m \u001b[0maxes\u001b[0m\u001b[0;34m.\u001b[0m\u001b[0mitems\u001b[0m\u001b[0;34m(\u001b[0m\u001b[0;34m)\u001b[0m\u001b[0;34m:\u001b[0m\u001b[0;34m\u001b[0m\u001b[0;34m\u001b[0m\u001b[0m\n\u001b[1;32m   3888\u001b[0m             \u001b[0;32mif\u001b[0m \u001b[0mlabels\u001b[0m \u001b[0;32mis\u001b[0m \u001b[0;32mnot\u001b[0m \u001b[0;32mNone\u001b[0m\u001b[0;34m:\u001b[0m\u001b[0;34m\u001b[0m\u001b[0;34m\u001b[0m\u001b[0m\n\u001b[0;32m-> 3889\u001b[0;31m                 \u001b[0mobj\u001b[0m \u001b[0;34m=\u001b[0m \u001b[0mobj\u001b[0m\u001b[0;34m.\u001b[0m\u001b[0m_drop_axis\u001b[0m\u001b[0;34m(\u001b[0m\u001b[0mlabels\u001b[0m\u001b[0;34m,\u001b[0m \u001b[0maxis\u001b[0m\u001b[0;34m,\u001b[0m \u001b[0mlevel\u001b[0m\u001b[0;34m=\u001b[0m\u001b[0mlevel\u001b[0m\u001b[0;34m,\u001b[0m \u001b[0merrors\u001b[0m\u001b[0;34m=\u001b[0m\u001b[0merrors\u001b[0m\u001b[0;34m)\u001b[0m\u001b[0;34m\u001b[0m\u001b[0;34m\u001b[0m\u001b[0m\n\u001b[0m\u001b[1;32m   3890\u001b[0m \u001b[0;34m\u001b[0m\u001b[0m\n\u001b[1;32m   3891\u001b[0m         \u001b[0;32mif\u001b[0m \u001b[0minplace\u001b[0m\u001b[0;34m:\u001b[0m\u001b[0;34m\u001b[0m\u001b[0;34m\u001b[0m\u001b[0m\n",
            "\u001b[0;32m/usr/local/lib/python3.6/dist-packages/pandas/core/generic.py\u001b[0m in \u001b[0;36m_drop_axis\u001b[0;34m(self, labels, axis, level, errors)\u001b[0m\n\u001b[1;32m   3921\u001b[0m                 \u001b[0mnew_axis\u001b[0m \u001b[0;34m=\u001b[0m \u001b[0maxis\u001b[0m\u001b[0;34m.\u001b[0m\u001b[0mdrop\u001b[0m\u001b[0;34m(\u001b[0m\u001b[0mlabels\u001b[0m\u001b[0;34m,\u001b[0m \u001b[0mlevel\u001b[0m\u001b[0;34m=\u001b[0m\u001b[0mlevel\u001b[0m\u001b[0;34m,\u001b[0m \u001b[0merrors\u001b[0m\u001b[0;34m=\u001b[0m\u001b[0merrors\u001b[0m\u001b[0;34m)\u001b[0m\u001b[0;34m\u001b[0m\u001b[0;34m\u001b[0m\u001b[0m\n\u001b[1;32m   3922\u001b[0m             \u001b[0;32melse\u001b[0m\u001b[0;34m:\u001b[0m\u001b[0;34m\u001b[0m\u001b[0;34m\u001b[0m\u001b[0m\n\u001b[0;32m-> 3923\u001b[0;31m                 \u001b[0mnew_axis\u001b[0m \u001b[0;34m=\u001b[0m \u001b[0maxis\u001b[0m\u001b[0;34m.\u001b[0m\u001b[0mdrop\u001b[0m\u001b[0;34m(\u001b[0m\u001b[0mlabels\u001b[0m\u001b[0;34m,\u001b[0m \u001b[0merrors\u001b[0m\u001b[0;34m=\u001b[0m\u001b[0merrors\u001b[0m\u001b[0;34m)\u001b[0m\u001b[0;34m\u001b[0m\u001b[0;34m\u001b[0m\u001b[0m\n\u001b[0m\u001b[1;32m   3924\u001b[0m             \u001b[0mresult\u001b[0m \u001b[0;34m=\u001b[0m \u001b[0mself\u001b[0m\u001b[0;34m.\u001b[0m\u001b[0mreindex\u001b[0m\u001b[0;34m(\u001b[0m\u001b[0;34m**\u001b[0m\u001b[0;34m{\u001b[0m\u001b[0maxis_name\u001b[0m\u001b[0;34m:\u001b[0m \u001b[0mnew_axis\u001b[0m\u001b[0;34m}\u001b[0m\u001b[0;34m)\u001b[0m\u001b[0;34m\u001b[0m\u001b[0;34m\u001b[0m\u001b[0m\n\u001b[1;32m   3925\u001b[0m \u001b[0;34m\u001b[0m\u001b[0m\n",
            "\u001b[0;32m/usr/local/lib/python3.6/dist-packages/pandas/core/indexes/base.py\u001b[0m in \u001b[0;36mdrop\u001b[0;34m(self, labels, errors)\u001b[0m\n\u001b[1;32m   5285\u001b[0m         \u001b[0;32mif\u001b[0m \u001b[0mmask\u001b[0m\u001b[0;34m.\u001b[0m\u001b[0many\u001b[0m\u001b[0;34m(\u001b[0m\u001b[0;34m)\u001b[0m\u001b[0;34m:\u001b[0m\u001b[0;34m\u001b[0m\u001b[0;34m\u001b[0m\u001b[0m\n\u001b[1;32m   5286\u001b[0m             \u001b[0;32mif\u001b[0m \u001b[0merrors\u001b[0m \u001b[0;34m!=\u001b[0m \u001b[0;34m\"ignore\"\u001b[0m\u001b[0;34m:\u001b[0m\u001b[0;34m\u001b[0m\u001b[0;34m\u001b[0m\u001b[0m\n\u001b[0;32m-> 5287\u001b[0;31m                 \u001b[0;32mraise\u001b[0m \u001b[0mKeyError\u001b[0m\u001b[0;34m(\u001b[0m\u001b[0;34mf\"{labels[mask]} not found in axis\"\u001b[0m\u001b[0;34m)\u001b[0m\u001b[0;34m\u001b[0m\u001b[0;34m\u001b[0m\u001b[0m\n\u001b[0m\u001b[1;32m   5288\u001b[0m             \u001b[0mindexer\u001b[0m \u001b[0;34m=\u001b[0m \u001b[0mindexer\u001b[0m\u001b[0;34m[\u001b[0m\u001b[0;34m~\u001b[0m\u001b[0mmask\u001b[0m\u001b[0;34m]\u001b[0m\u001b[0;34m\u001b[0m\u001b[0;34m\u001b[0m\u001b[0m\n\u001b[1;32m   5289\u001b[0m         \u001b[0;32mreturn\u001b[0m \u001b[0mself\u001b[0m\u001b[0;34m.\u001b[0m\u001b[0mdelete\u001b[0m\u001b[0;34m(\u001b[0m\u001b[0mindexer\u001b[0m\u001b[0;34m)\u001b[0m\u001b[0;34m\u001b[0m\u001b[0;34m\u001b[0m\u001b[0m\n",
            "\u001b[0;31mKeyError\u001b[0m: \"['Name' 'PassengerId'] not found in axis\""
          ]
        }
      ]
    },
    {
      "cell_type": "markdown",
      "metadata": {
        "id": "gNr62sj4FkK8"
      },
      "source": [
        "3) 모든 열 이름을 소문자로 변경하세요."
      ]
    },
    {
      "cell_type": "code",
      "metadata": {
        "scrolled": true,
        "id": "b7D3tMiwB37S"
      },
      "source": [
        "# 열 이름 변경\n",
        "titanic.columns = ['survived', 'pclass', 'sex' ,'age' ,'fare', 'embarked']\n",
        "\n",
        "# 확인\n",
        "titanic.head()"
      ],
      "execution_count": null,
      "outputs": []
    },
    {
      "cell_type": "markdown",
      "metadata": {
        "id": "Wfix7F-fFq6s"
      },
      "source": [
        "4) insert() 메소드를 사용해 5번째 열로, 즉 age 열 뒤에 0을 갖는 age2를 추가하세요. "
      ]
    },
    {
      "cell_type": "code",
      "metadata": {
        "id": "KEYBHeCjCpgD"
      },
      "source": [
        "# age2 열 추가\n",
        "titanic.insert(4, 'age2', 0)\n",
        "\n",
        "# 확인\n",
        "titanic.head()"
      ],
      "execution_count": null,
      "outputs": []
    },
    {
      "cell_type": "markdown",
      "metadata": {
        "id": "URLWWxNKGCEu"
      },
      "source": [
        "5) age2 열이 age // 10 * 10 계산 결과를 갖게 변경하세요."
      ]
    },
    {
      "cell_type": "code",
      "metadata": {
        "id": "mS1O89IQC3uU"
      },
      "source": [
        "# age2 열 변경\n",
        "titanic['age2'] = titanic['age'] // 10 * 10\n",
        "\n",
        "# 확인\n",
        "titanic.head()"
      ],
      "execution_count": null,
      "outputs": []
    },
    {
      "cell_type": "markdown",
      "metadata": {
        "id": "NZsS51IjGTN7"
      },
      "source": [
        "6) sex 열 뒤에 0 을 갖는 sex2 열을 추가하세요."
      ]
    },
    {
      "cell_type": "code",
      "metadata": {
        "id": "IjHJK_t2DxS7"
      },
      "source": [
        "# sex2 열 추가\n",
        "titanic.insert(3, 'sex2', 0)\n",
        "\n",
        "# 확인\n",
        "titanic.head()"
      ],
      "execution_count": null,
      "outputs": []
    },
    {
      "cell_type": "markdown",
      "metadata": {
        "id": "iyNbmyeQGgfG"
      },
      "source": [
        "7) sex2 열이 'female', 'male' 대신 0, 1을 갖도록 변경하세요. "
      ]
    },
    {
      "cell_type": "code",
      "metadata": {
        "id": "nMgNm99NDIeG"
      },
      "source": [
        "# female --> 0, male --> 1 \n",
        "titanic['sex2'] = titanic['sex'].map({'female':0, 'male':1})\n",
        "\n",
        "# 확인\n",
        "titanic.head()"
      ],
      "execution_count": null,
      "outputs": []
    },
    {
      "cell_type": "markdown",
      "metadata": {
        "id": "edauj0lzGuZ8"
      },
      "source": [
        "8) embarked 열의 첫 글자만을 갖는 embarked2 열을 맨 뒤에 추가하세요."
      ]
    },
    {
      "cell_type": "code",
      "metadata": {
        "id": "l53Fz5cwE2Or"
      },
      "source": [
        "# embarked2 열 추가\n",
        "titanic['embarked2'] = titanic['embarked'].str[0]\n",
        "\n",
        "# 확인\n",
        "titanic.head()"
      ],
      "execution_count": null,
      "outputs": []
    },
    {
      "cell_type": "markdown",
      "metadata": {
        "id": "Brfti9GAHDiX"
      },
      "source": [
        "9) sex, age, embarked 열을 제거하세요."
      ]
    },
    {
      "cell_type": "code",
      "metadata": {
        "id": "Nnz3j1yaELeo"
      },
      "source": [
        "# 열 제거\n",
        "titanic.drop(['sex', 'age', 'embarked'], axis=1, inplace=True)\n",
        "\n",
        "# 확인\n",
        "titanic.head()"
      ],
      "execution_count": null,
      "outputs": []
    },
    {
      "cell_type": "markdown",
      "metadata": {
        "id": "ucFBVNx5HKuH"
      },
      "source": [
        "10) sex2, age2, embarked2 열 이름을 각각 sex, age, embarked로 변경하세요."
      ]
    },
    {
      "cell_type": "code",
      "metadata": {
        "id": "viXEIN1REX4s"
      },
      "source": [
        "# 열 이름 변경\n",
        "titanic.rename(columns={'sex2': 'sex', 'age2': 'age', 'embarked2': 'embarked'}, inplace=True)\n",
        "\n",
        "# 확인\n",
        "titanic.head()"
      ],
      "execution_count": null,
      "outputs": []
    },
    {
      "cell_type": "markdown",
      "metadata": {
        "id": "KqOHu2W4C_0R"
      },
      "source": [
        "<center><img src='https://raw.githubusercontent.com/Jangrae/img/master/end.png' width=300/></center>"
      ]
    }
  ]
}