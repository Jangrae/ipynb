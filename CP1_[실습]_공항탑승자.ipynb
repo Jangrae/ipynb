{
  "nbformat": 4,
  "nbformat_minor": 0,
  "metadata": {
    "colab": {
      "name": "CP1 [실습] 공항탑승자.ipynb",
      "provenance": [],
      "collapsed_sections": []
    },
    "kernelspec": {
      "display_name": "Python 3",
      "language": "python",
      "name": "python3"
    },
    "language_info": {
      "codemirror_mode": {
        "name": "ipython",
        "version": 3
      },
      "file_extension": ".py",
      "mimetype": "text/x-python",
      "name": "python",
      "nbconvert_exporter": "python",
      "pygments_lexer": "ipython3",
      "version": "3.7.6"
    }
  },
  "cells": [
    {
      "cell_type": "markdown",
      "metadata": {
        "id": "E-qoYWgOC_yk"
      },
      "source": [
        "<center><img src='https://raw.githubusercontent.com/Jangrae/img/master/title.png' width=500/></center>"
      ]
    },
    {
      "cell_type": "markdown",
      "metadata": {
        "id": "BFhIXgdYoYGp"
      },
      "source": [
        "<center><img src='https://raw.githubusercontent.com/Jangrae/img/master/practice.png' width=300/></center>"
      ]
    },
    {
      "cell_type": "markdown",
      "metadata": {
        "id": "Nkw-jfYoFBTc"
      },
      "source": [
        "# CP1. [실습] 데이터 전처리와 시각화: 공항탑승자"
      ]
    },
    {
      "cell_type": "markdown",
      "metadata": {
        "id": "3JfZKTEEcsip"
      },
      "source": [
        "- 본 실습은 간단한 데이터 시각화 방법을 직접 체험하기 위한 것입니다.\n",
        "- 차트를 화려하게 꾸미는데 목적을 두지 말고 전처리 부분에 중점을 두는 것이 좋습니다.\n",
        "- 우선 다음과 같은 과정으로 데이터 시각화를 수행함으로 알고 진행하기 바랍니다."
      ]
    },
    {
      "cell_type": "markdown",
      "metadata": {
        "id": "dUXJuc5kcsiq"
      },
      "source": [
        "<img src='https://raw.githubusercontent.com/Jangrae/img/master/visualization.png' width=\"650\" align=\"left\">"
      ]
    },
    {
      "cell_type": "markdown",
      "metadata": {
        "id": "DFlM89r5CMqi"
      },
      "source": [
        "- 본 실습은 다음과 같은 형태로 전처리하는 과정을 경험합니다."
      ]
    },
    {
      "cell_type": "markdown",
      "metadata": {
        "id": "OrmOC0ZXB_PT"
      },
      "source": [
        "<img src='https://raw.githubusercontent.com/Jangrae/img/master/practice_10.png' width=\"1000\" align=\"left\">"
      ]
    },
    {
      "cell_type": "code",
      "metadata": {
        "id": "UoGi0wbYFFvO"
      },
      "source": [
        "# 라이브러리 불러오기\n",
        "import numpy as np\n",
        "import pandas as pd\n",
        "import matplotlib.pyplot as plt\n",
        "\n",
        "%config InlineBackend.figure_format='retina'"
      ],
      "execution_count": 1,
      "outputs": []
    },
    {
      "cell_type": "markdown",
      "metadata": {
        "id": "Mzcp1oFQcsis"
      },
      "source": [
        "## 1. 데이터 불러오기\n",
        "\n",
        "- **read_csv()** 함수를 사용해 분석할 데이터를 csv 파일에서 불러옵니다.\n",
        "- airline_passengers 데이터 셋은 1949 ~ 1960년 국제공항 월 별 탑승객 수를 제공합니다.\n",
        "- 파일 경로: 'https://raw.githubusercontent.com/Jangrae/csv/master/airline_passengers.csv'"
      ]
    },
    {
      "cell_type": "code",
      "metadata": {
        "id": "MU891tbEcsit"
      },
      "source": [
        "# airline_passengers\n",
        "file_path = 'https://raw.githubusercontent.com/Jangrae/csv/master/airline_passengers.csv'\n",
        "passengers = pd.read_csv(file_path)"
      ],
      "execution_count": 2,
      "outputs": []
    },
    {
      "cell_type": "markdown",
      "metadata": {
        "id": "DCGF0tflcsiu"
      },
      "source": [
        "## 2. 데이터 확인\n",
        "\n",
        "- 데이터를 알아야 데이터를 분석할 수 있습니다.\n",
        "- 우선 분석할 데이터가 어떤 형태의 데이터인지 확인합니다."
      ]
    },
    {
      "cell_type": "markdown",
      "metadata": {
        "id": "kcF3gWylcsiv"
      },
      "source": [
        "**1) 상위/하위 데이터 확인**\n",
        "\n",
        "- **head()**, **tail()** 메소드로 상/하위 데이터를 확인합니다.\n",
        "- 괄호 안에 수를 지정하지 않으면 5가 기본값으로 사용됩니다."
      ]
    },
    {
      "cell_type": "code",
      "metadata": {
        "scrolled": true,
        "id": "DnF4Qv4Jcsiw",
        "colab": {
          "base_uri": "https://localhost:8080/",
          "height": 195
        },
        "outputId": "4a63a432-b35a-49c3-dc57-94271ca97c28"
      },
      "source": [
        "# 상위 5개 행 확인\n",
        "passengers.head()"
      ],
      "execution_count": 3,
      "outputs": [
        {
          "output_type": "execute_result",
          "data": {
            "text/html": [
              "<div>\n",
              "<style scoped>\n",
              "    .dataframe tbody tr th:only-of-type {\n",
              "        vertical-align: middle;\n",
              "    }\n",
              "\n",
              "    .dataframe tbody tr th {\n",
              "        vertical-align: top;\n",
              "    }\n",
              "\n",
              "    .dataframe thead th {\n",
              "        text-align: right;\n",
              "    }\n",
              "</style>\n",
              "<table border=\"1\" class=\"dataframe\">\n",
              "  <thead>\n",
              "    <tr style=\"text-align: right;\">\n",
              "      <th></th>\n",
              "      <th>Month</th>\n",
              "      <th>Thousands as Passengers</th>\n",
              "    </tr>\n",
              "  </thead>\n",
              "  <tbody>\n",
              "    <tr>\n",
              "      <th>0</th>\n",
              "      <td>Jan-49</td>\n",
              "      <td>112</td>\n",
              "    </tr>\n",
              "    <tr>\n",
              "      <th>1</th>\n",
              "      <td>Feb-49</td>\n",
              "      <td>118</td>\n",
              "    </tr>\n",
              "    <tr>\n",
              "      <th>2</th>\n",
              "      <td>Mar-49</td>\n",
              "      <td>132</td>\n",
              "    </tr>\n",
              "    <tr>\n",
              "      <th>3</th>\n",
              "      <td>Apr-49</td>\n",
              "      <td>129</td>\n",
              "    </tr>\n",
              "    <tr>\n",
              "      <th>4</th>\n",
              "      <td>May-49</td>\n",
              "      <td>121</td>\n",
              "    </tr>\n",
              "  </tbody>\n",
              "</table>\n",
              "</div>"
            ],
            "text/plain": [
              "    Month  Thousands as Passengers\n",
              "0  Jan-49                      112\n",
              "1  Feb-49                      118\n",
              "2  Mar-49                      132\n",
              "3  Apr-49                      129\n",
              "4  May-49                      121"
            ]
          },
          "metadata": {
            "tags": []
          },
          "execution_count": 3
        }
      ]
    },
    {
      "cell_type": "code",
      "metadata": {
        "scrolled": true,
        "id": "s0tbl7Ofcsiw",
        "colab": {
          "base_uri": "https://localhost:8080/",
          "height": 195
        },
        "outputId": "41e6b27c-29e8-4ef5-ad7e-757cab69ff85"
      },
      "source": [
        "# 하위 5개 행 확인\n",
        "passengers.tail()"
      ],
      "execution_count": 4,
      "outputs": [
        {
          "output_type": "execute_result",
          "data": {
            "text/html": [
              "<div>\n",
              "<style scoped>\n",
              "    .dataframe tbody tr th:only-of-type {\n",
              "        vertical-align: middle;\n",
              "    }\n",
              "\n",
              "    .dataframe tbody tr th {\n",
              "        vertical-align: top;\n",
              "    }\n",
              "\n",
              "    .dataframe thead th {\n",
              "        text-align: right;\n",
              "    }\n",
              "</style>\n",
              "<table border=\"1\" class=\"dataframe\">\n",
              "  <thead>\n",
              "    <tr style=\"text-align: right;\">\n",
              "      <th></th>\n",
              "      <th>Month</th>\n",
              "      <th>Thousands as Passengers</th>\n",
              "    </tr>\n",
              "  </thead>\n",
              "  <tbody>\n",
              "    <tr>\n",
              "      <th>139</th>\n",
              "      <td>Aug-60</td>\n",
              "      <td>606</td>\n",
              "    </tr>\n",
              "    <tr>\n",
              "      <th>140</th>\n",
              "      <td>Sep-60</td>\n",
              "      <td>508</td>\n",
              "    </tr>\n",
              "    <tr>\n",
              "      <th>141</th>\n",
              "      <td>Oct-60</td>\n",
              "      <td>461</td>\n",
              "    </tr>\n",
              "    <tr>\n",
              "      <th>142</th>\n",
              "      <td>Nov-60</td>\n",
              "      <td>390</td>\n",
              "    </tr>\n",
              "    <tr>\n",
              "      <th>143</th>\n",
              "      <td>Dec-60</td>\n",
              "      <td>432</td>\n",
              "    </tr>\n",
              "  </tbody>\n",
              "</table>\n",
              "</div>"
            ],
            "text/plain": [
              "      Month  Thousands as Passengers\n",
              "139  Aug-60                      606\n",
              "140  Sep-60                      508\n",
              "141  Oct-60                      461\n",
              "142  Nov-60                      390\n",
              "143  Dec-60                      432"
            ]
          },
          "metadata": {
            "tags": []
          },
          "execution_count": 4
        }
      ]
    },
    {
      "cell_type": "markdown",
      "metadata": {
        "id": "8VHg8jbbcsix"
      },
      "source": [
        "**2) 열 데이터 개수, NaN 값 여부 확인**\n",
        "\n",
        "- **info()** 메소드로 각 열의 값 개수, **NaN**값 포함 여부를 확인합니다.\n",
        "- NaN값이 포함되어 있으면 결측치에 대한 해결(제거 또는 변경)이 필요합니다."
      ]
    },
    {
      "cell_type": "code",
      "metadata": {
        "scrolled": true,
        "id": "rTCjF8nkcsix",
        "colab": {
          "base_uri": "https://localhost:8080/"
        },
        "outputId": "09290969-11a8-44b9-b676-fa5b321d4c6e"
      },
      "source": [
        "# 열 정보, NaN 값 포함 여부 확인\n",
        "passengers.info()"
      ],
      "execution_count": 5,
      "outputs": [
        {
          "output_type": "stream",
          "text": [
            "<class 'pandas.core.frame.DataFrame'>\n",
            "RangeIndex: 144 entries, 0 to 143\n",
            "Data columns (total 2 columns):\n",
            " #   Column                   Non-Null Count  Dtype \n",
            "---  ------                   --------------  ----- \n",
            " 0   Month                    144 non-null    object\n",
            " 1   Thousands as Passengers  144 non-null    int64 \n",
            "dtypes: int64(1), object(1)\n",
            "memory usage: 2.4+ KB\n"
          ],
          "name": "stdout"
        }
      ]
    },
    {
      "cell_type": "markdown",
      "metadata": {
        "id": "2B4PZ118csiy"
      },
      "source": [
        "**3) 기초 통계 정보 확인**\n",
        "\n",
        "- **describe()** 메소드를 사용해 기초 통계 정보를 확인합니다."
      ]
    },
    {
      "cell_type": "code",
      "metadata": {
        "scrolled": true,
        "id": "6hKntf3acsiz",
        "colab": {
          "base_uri": "https://localhost:8080/",
          "height": 284
        },
        "outputId": "41b0c1f3-bec5-4e4b-8114-108842fe1105"
      },
      "source": [
        "# 기초 통계 정보 확인\n",
        "passengers.describe()"
      ],
      "execution_count": 6,
      "outputs": [
        {
          "output_type": "execute_result",
          "data": {
            "text/html": [
              "<div>\n",
              "<style scoped>\n",
              "    .dataframe tbody tr th:only-of-type {\n",
              "        vertical-align: middle;\n",
              "    }\n",
              "\n",
              "    .dataframe tbody tr th {\n",
              "        vertical-align: top;\n",
              "    }\n",
              "\n",
              "    .dataframe thead th {\n",
              "        text-align: right;\n",
              "    }\n",
              "</style>\n",
              "<table border=\"1\" class=\"dataframe\">\n",
              "  <thead>\n",
              "    <tr style=\"text-align: right;\">\n",
              "      <th></th>\n",
              "      <th>Thousands as Passengers</th>\n",
              "    </tr>\n",
              "  </thead>\n",
              "  <tbody>\n",
              "    <tr>\n",
              "      <th>count</th>\n",
              "      <td>144.000000</td>\n",
              "    </tr>\n",
              "    <tr>\n",
              "      <th>mean</th>\n",
              "      <td>280.298611</td>\n",
              "    </tr>\n",
              "    <tr>\n",
              "      <th>std</th>\n",
              "      <td>119.966317</td>\n",
              "    </tr>\n",
              "    <tr>\n",
              "      <th>min</th>\n",
              "      <td>104.000000</td>\n",
              "    </tr>\n",
              "    <tr>\n",
              "      <th>25%</th>\n",
              "      <td>180.000000</td>\n",
              "    </tr>\n",
              "    <tr>\n",
              "      <th>50%</th>\n",
              "      <td>265.500000</td>\n",
              "    </tr>\n",
              "    <tr>\n",
              "      <th>75%</th>\n",
              "      <td>360.500000</td>\n",
              "    </tr>\n",
              "    <tr>\n",
              "      <th>max</th>\n",
              "      <td>622.000000</td>\n",
              "    </tr>\n",
              "  </tbody>\n",
              "</table>\n",
              "</div>"
            ],
            "text/plain": [
              "       Thousands as Passengers\n",
              "count               144.000000\n",
              "mean                280.298611\n",
              "std                 119.966317\n",
              "min                 104.000000\n",
              "25%                 180.000000\n",
              "50%                 265.500000\n",
              "75%                 360.500000\n",
              "max                 622.000000"
            ]
          },
          "metadata": {
            "tags": []
          },
          "execution_count": 6
        }
      ]
    },
    {
      "cell_type": "markdown",
      "metadata": {
        "id": "UG3iWk-_csiz"
      },
      "source": [
        "**4) 질문**\n",
        "\n",
        "- passengers 데이터가 분석하기에 적절한 형태인가요?\n",
        "- passengers 데이터에 대해 어떤 분석이 의미가 있을까요?\n",
        "- 분석에 걸림돌이 될 만한 것은 무엇일까요?\n",
        "- 분석을 위해 우선 어떤 처리를 해야 할까요?"
      ]
    },
    {
      "cell_type": "markdown",
      "metadata": {
        "id": "wuoFIVFVcsi0"
      },
      "source": [
        "## 3. 데이터 전처리  #1\n",
        "\n",
        "- NaN 값이 포함된 열이 있으면 제거하거나 다른 값으로 채워야 합니다.\n",
        "- 중복된 데이터는 정확한 분석을 방해하므로 제거해야 합니다.\n",
        "- 기타 데이터에 방해가 되는 요소를 전처리 과정에서 제거합니다."
      ]
    },
    {
      "cell_type": "markdown",
      "metadata": {
        "id": "dc6APXjfcsi0"
      },
      "source": [
        "**1) 년, 월 분리**\n",
        ".\n",
        "- **Jan-49**는 1949년 1월을 의미하니, 이 문자열을 년과 월로 분리해야 합니다.\n",
        "- **.str.split()** 메소드를 사용하면 특정 구분자를 기준으로 문자열을 분리할 수 있습니다.\n",
        "- 우선 의도한 대로 분리가 되는지 확인합니다."
      ]
    },
    {
      "cell_type": "code",
      "metadata": {
        "scrolled": false,
        "id": "TYBIg4djcsi0",
        "colab": {
          "base_uri": "https://localhost:8080/",
          "height": 195
        },
        "outputId": "4c505214-cd63-4546-f5ad-db5523659366"
      },
      "source": [
        "# 상위 5개 행 확인\n",
        "passengers.head()"
      ],
      "execution_count": 7,
      "outputs": [
        {
          "output_type": "execute_result",
          "data": {
            "text/html": [
              "<div>\n",
              "<style scoped>\n",
              "    .dataframe tbody tr th:only-of-type {\n",
              "        vertical-align: middle;\n",
              "    }\n",
              "\n",
              "    .dataframe tbody tr th {\n",
              "        vertical-align: top;\n",
              "    }\n",
              "\n",
              "    .dataframe thead th {\n",
              "        text-align: right;\n",
              "    }\n",
              "</style>\n",
              "<table border=\"1\" class=\"dataframe\">\n",
              "  <thead>\n",
              "    <tr style=\"text-align: right;\">\n",
              "      <th></th>\n",
              "      <th>Month</th>\n",
              "      <th>Thousands as Passengers</th>\n",
              "    </tr>\n",
              "  </thead>\n",
              "  <tbody>\n",
              "    <tr>\n",
              "      <th>0</th>\n",
              "      <td>Jan-49</td>\n",
              "      <td>112</td>\n",
              "    </tr>\n",
              "    <tr>\n",
              "      <th>1</th>\n",
              "      <td>Feb-49</td>\n",
              "      <td>118</td>\n",
              "    </tr>\n",
              "    <tr>\n",
              "      <th>2</th>\n",
              "      <td>Mar-49</td>\n",
              "      <td>132</td>\n",
              "    </tr>\n",
              "    <tr>\n",
              "      <th>3</th>\n",
              "      <td>Apr-49</td>\n",
              "      <td>129</td>\n",
              "    </tr>\n",
              "    <tr>\n",
              "      <th>4</th>\n",
              "      <td>May-49</td>\n",
              "      <td>121</td>\n",
              "    </tr>\n",
              "  </tbody>\n",
              "</table>\n",
              "</div>"
            ],
            "text/plain": [
              "    Month  Thousands as Passengers\n",
              "0  Jan-49                      112\n",
              "1  Feb-49                      118\n",
              "2  Mar-49                      132\n",
              "3  Apr-49                      129\n",
              "4  May-49                      121"
            ]
          },
          "metadata": {
            "tags": []
          },
          "execution_count": 7
        }
      ]
    },
    {
      "cell_type": "code",
      "metadata": {
        "scrolled": true,
        "id": "cqzf7h6Acsi1",
        "colab": {
          "base_uri": "https://localhost:8080/"
        },
        "outputId": "4bc33372-c3d3-44d8-dd2f-97bff47c6adb"
      },
      "source": [
        "# 월 데이터만 확인해 보기\n",
        "passengers['Month'].str.split('-').str[0]"
      ],
      "execution_count": 8,
      "outputs": [
        {
          "output_type": "execute_result",
          "data": {
            "text/plain": [
              "0      Jan\n",
              "1      Feb\n",
              "2      Mar\n",
              "3      Apr\n",
              "4      May\n",
              "      ... \n",
              "139    Aug\n",
              "140    Sep\n",
              "141    Oct\n",
              "142    Nov\n",
              "143    Dec\n",
              "Name: Month, Length: 144, dtype: object"
            ]
          },
          "metadata": {
            "tags": []
          },
          "execution_count": 8
        }
      ]
    },
    {
      "cell_type": "code",
      "metadata": {
        "scrolled": true,
        "id": "aQIpWp12csi1",
        "colab": {
          "base_uri": "https://localhost:8080/"
        },
        "outputId": "83d68867-0e93-48dd-d717-f5a049c8d5d6"
      },
      "source": [
        "# 년 데이터만 분리해 보기\n",
        "passengers['Month'].str.split('-').str[1]"
      ],
      "execution_count": 9,
      "outputs": [
        {
          "output_type": "execute_result",
          "data": {
            "text/plain": [
              "0      49\n",
              "1      49\n",
              "2      49\n",
              "3      49\n",
              "4      49\n",
              "       ..\n",
              "139    60\n",
              "140    60\n",
              "141    60\n",
              "142    60\n",
              "143    60\n",
              "Name: Month, Length: 144, dtype: object"
            ]
          },
          "metadata": {
            "tags": []
          },
          "execution_count": 9
        }
      ]
    },
    {
      "cell_type": "markdown",
      "metadata": {
        "id": "eDtSOlKLcsi2"
      },
      "source": [
        "- 문자열 분리가 의도대로 수행이 되면 기존 데이터프레임에 열로 추가합니다.\n",
        "- 데이터프레임은 **없는 열을 변경하면 그 열이 추가됨**을 기억하세요.\n",
        "- 우선 **월**을 분리해 **mm** 열로 저장합니다."
      ]
    },
    {
      "cell_type": "code",
      "metadata": {
        "scrolled": true,
        "id": "QJLneyxrcsi2",
        "colab": {
          "base_uri": "https://localhost:8080/",
          "height": 195
        },
        "outputId": "20948ad5-3a3c-4c5f-f22b-1678fdcbe3ee"
      },
      "source": [
        "# MM 열 추가\n",
        "passengers['mm'] = passengers['Month'].str.split('-').str[0]\n",
        "\n",
        "# 확인\n",
        "passengers.head()"
      ],
      "execution_count": 10,
      "outputs": [
        {
          "output_type": "execute_result",
          "data": {
            "text/html": [
              "<div>\n",
              "<style scoped>\n",
              "    .dataframe tbody tr th:only-of-type {\n",
              "        vertical-align: middle;\n",
              "    }\n",
              "\n",
              "    .dataframe tbody tr th {\n",
              "        vertical-align: top;\n",
              "    }\n",
              "\n",
              "    .dataframe thead th {\n",
              "        text-align: right;\n",
              "    }\n",
              "</style>\n",
              "<table border=\"1\" class=\"dataframe\">\n",
              "  <thead>\n",
              "    <tr style=\"text-align: right;\">\n",
              "      <th></th>\n",
              "      <th>Month</th>\n",
              "      <th>Thousands as Passengers</th>\n",
              "      <th>mm</th>\n",
              "    </tr>\n",
              "  </thead>\n",
              "  <tbody>\n",
              "    <tr>\n",
              "      <th>0</th>\n",
              "      <td>Jan-49</td>\n",
              "      <td>112</td>\n",
              "      <td>Jan</td>\n",
              "    </tr>\n",
              "    <tr>\n",
              "      <th>1</th>\n",
              "      <td>Feb-49</td>\n",
              "      <td>118</td>\n",
              "      <td>Feb</td>\n",
              "    </tr>\n",
              "    <tr>\n",
              "      <th>2</th>\n",
              "      <td>Mar-49</td>\n",
              "      <td>132</td>\n",
              "      <td>Mar</td>\n",
              "    </tr>\n",
              "    <tr>\n",
              "      <th>3</th>\n",
              "      <td>Apr-49</td>\n",
              "      <td>129</td>\n",
              "      <td>Apr</td>\n",
              "    </tr>\n",
              "    <tr>\n",
              "      <th>4</th>\n",
              "      <td>May-49</td>\n",
              "      <td>121</td>\n",
              "      <td>May</td>\n",
              "    </tr>\n",
              "  </tbody>\n",
              "</table>\n",
              "</div>"
            ],
            "text/plain": [
              "    Month  Thousands as Passengers   mm\n",
              "0  Jan-49                      112  Jan\n",
              "1  Feb-49                      118  Feb\n",
              "2  Mar-49                      132  Mar\n",
              "3  Apr-49                      129  Apr\n",
              "4  May-49                      121  May"
            ]
          },
          "metadata": {
            "tags": []
          },
          "execution_count": 10
        }
      ]
    },
    {
      "cell_type": "markdown",
      "metadata": {
        "id": "j6yA_IKacsi2"
      },
      "source": [
        "- 이제 **년**을 분리해 정수로 바꾼 후 1900을 더한 결과를 **yy** 열로 저장합니다."
      ]
    },
    {
      "cell_type": "code",
      "metadata": {
        "id": "q2GaMcfscsi3",
        "colab": {
          "base_uri": "https://localhost:8080/",
          "height": 195
        },
        "outputId": "63a00349-cc48-4a0d-e91e-318f4bb53620"
      },
      "source": [
        "# yy 열 추가, 정수형으로 바꿔 1900 더하기\n",
        "passengers['yy'] = passengers['Month'].str.split('-').str[1].astype(int) + 1900\n",
        "\n",
        "# 확인\n",
        "passengers.head()"
      ],
      "execution_count": 11,
      "outputs": [
        {
          "output_type": "execute_result",
          "data": {
            "text/html": [
              "<div>\n",
              "<style scoped>\n",
              "    .dataframe tbody tr th:only-of-type {\n",
              "        vertical-align: middle;\n",
              "    }\n",
              "\n",
              "    .dataframe tbody tr th {\n",
              "        vertical-align: top;\n",
              "    }\n",
              "\n",
              "    .dataframe thead th {\n",
              "        text-align: right;\n",
              "    }\n",
              "</style>\n",
              "<table border=\"1\" class=\"dataframe\">\n",
              "  <thead>\n",
              "    <tr style=\"text-align: right;\">\n",
              "      <th></th>\n",
              "      <th>Month</th>\n",
              "      <th>Thousands as Passengers</th>\n",
              "      <th>mm</th>\n",
              "      <th>yy</th>\n",
              "    </tr>\n",
              "  </thead>\n",
              "  <tbody>\n",
              "    <tr>\n",
              "      <th>0</th>\n",
              "      <td>Jan-49</td>\n",
              "      <td>112</td>\n",
              "      <td>Jan</td>\n",
              "      <td>1949</td>\n",
              "    </tr>\n",
              "    <tr>\n",
              "      <th>1</th>\n",
              "      <td>Feb-49</td>\n",
              "      <td>118</td>\n",
              "      <td>Feb</td>\n",
              "      <td>1949</td>\n",
              "    </tr>\n",
              "    <tr>\n",
              "      <th>2</th>\n",
              "      <td>Mar-49</td>\n",
              "      <td>132</td>\n",
              "      <td>Mar</td>\n",
              "      <td>1949</td>\n",
              "    </tr>\n",
              "    <tr>\n",
              "      <th>3</th>\n",
              "      <td>Apr-49</td>\n",
              "      <td>129</td>\n",
              "      <td>Apr</td>\n",
              "      <td>1949</td>\n",
              "    </tr>\n",
              "    <tr>\n",
              "      <th>4</th>\n",
              "      <td>May-49</td>\n",
              "      <td>121</td>\n",
              "      <td>May</td>\n",
              "      <td>1949</td>\n",
              "    </tr>\n",
              "  </tbody>\n",
              "</table>\n",
              "</div>"
            ],
            "text/plain": [
              "    Month  Thousands as Passengers   mm    yy\n",
              "0  Jan-49                      112  Jan  1949\n",
              "1  Feb-49                      118  Feb  1949\n",
              "2  Mar-49                      132  Mar  1949\n",
              "3  Apr-49                      129  Apr  1949\n",
              "4  May-49                      121  May  1949"
            ]
          },
          "metadata": {
            "tags": []
          },
          "execution_count": 11
        }
      ]
    },
    {
      "cell_type": "markdown",
      "metadata": {
        "id": "HtmDeCpAcsi3"
      },
      "source": [
        "- Jan ~ Dec 형식의 월 이름을 1 ~ 12 형식의 숫자로 변환합니다.\n",
        "- **map()** 메소드를 사용하면 범주형 데이터를 다른 값으로 쉽게 바꿀 수 있습니다."
      ]
    },
    {
      "cell_type": "code",
      "metadata": {
        "id": "cblM8GjTemjB",
        "colab": {
          "base_uri": "https://localhost:8080/"
        },
        "outputId": "43f58b64-f4ba-44d2-eba9-39a8f2a84c4b"
      },
      "source": [
        "# 월 이름 확인\r\n",
        "passengers['mm'].unique()"
      ],
      "execution_count": 12,
      "outputs": [
        {
          "output_type": "execute_result",
          "data": {
            "text/plain": [
              "array(['Jan', 'Feb', 'Mar', 'Apr', 'May', 'Jun', 'Jul', 'Aug', 'Sep',\n",
              "       'Oct', 'Nov', 'Dec'], dtype=object)"
            ]
          },
          "metadata": {
            "tags": []
          },
          "execution_count": 12
        }
      ]
    },
    {
      "cell_type": "code",
      "metadata": {
        "scrolled": false,
        "id": "NXXhhiQVcsi4",
        "colab": {
          "base_uri": "https://localhost:8080/",
          "height": 195
        },
        "outputId": "7e3be9af-2eef-465d-d290-36f7db788c78"
      },
      "source": [
        "# 월 이름을 숫자로 변경\n",
        "passengers['mm'] = passengers['mm'].map({'Jan': 1, 'Feb':  2, 'Mar':  3, 'Apr':  4, \n",
        "                                         'May': 5, 'Jun':  6, 'Jul':  7, 'Aug':  8, \n",
        "                                         'Sep': 9, 'Oct': 10, 'Nov': 11, 'Dec': 12})\n",
        "\n",
        "# 확인\n",
        "passengers.head()"
      ],
      "execution_count": 13,
      "outputs": [
        {
          "output_type": "execute_result",
          "data": {
            "text/html": [
              "<div>\n",
              "<style scoped>\n",
              "    .dataframe tbody tr th:only-of-type {\n",
              "        vertical-align: middle;\n",
              "    }\n",
              "\n",
              "    .dataframe tbody tr th {\n",
              "        vertical-align: top;\n",
              "    }\n",
              "\n",
              "    .dataframe thead th {\n",
              "        text-align: right;\n",
              "    }\n",
              "</style>\n",
              "<table border=\"1\" class=\"dataframe\">\n",
              "  <thead>\n",
              "    <tr style=\"text-align: right;\">\n",
              "      <th></th>\n",
              "      <th>Month</th>\n",
              "      <th>Thousands as Passengers</th>\n",
              "      <th>mm</th>\n",
              "      <th>yy</th>\n",
              "    </tr>\n",
              "  </thead>\n",
              "  <tbody>\n",
              "    <tr>\n",
              "      <th>0</th>\n",
              "      <td>Jan-49</td>\n",
              "      <td>112</td>\n",
              "      <td>1</td>\n",
              "      <td>1949</td>\n",
              "    </tr>\n",
              "    <tr>\n",
              "      <th>1</th>\n",
              "      <td>Feb-49</td>\n",
              "      <td>118</td>\n",
              "      <td>2</td>\n",
              "      <td>1949</td>\n",
              "    </tr>\n",
              "    <tr>\n",
              "      <th>2</th>\n",
              "      <td>Mar-49</td>\n",
              "      <td>132</td>\n",
              "      <td>3</td>\n",
              "      <td>1949</td>\n",
              "    </tr>\n",
              "    <tr>\n",
              "      <th>3</th>\n",
              "      <td>Apr-49</td>\n",
              "      <td>129</td>\n",
              "      <td>4</td>\n",
              "      <td>1949</td>\n",
              "    </tr>\n",
              "    <tr>\n",
              "      <th>4</th>\n",
              "      <td>May-49</td>\n",
              "      <td>121</td>\n",
              "      <td>5</td>\n",
              "      <td>1949</td>\n",
              "    </tr>\n",
              "  </tbody>\n",
              "</table>\n",
              "</div>"
            ],
            "text/plain": [
              "    Month  Thousands as Passengers  mm    yy\n",
              "0  Jan-49                      112   1  1949\n",
              "1  Feb-49                      118   2  1949\n",
              "2  Mar-49                      132   3  1949\n",
              "3  Apr-49                      129   4  1949\n",
              "4  May-49                      121   5  1949"
            ]
          },
          "metadata": {
            "tags": []
          },
          "execution_count": 13
        }
      ]
    },
    {
      "cell_type": "markdown",
      "metadata": {
        "id": "pr1DyfU5csi4"
      },
      "source": [
        "**2) 불필요한 열 제거**\n",
        "\n",
        "- 분석에 불필요한 열은 과감히 제거합니다.\n",
        "- 년, 월을 분리해서 별도 열로 가지고 있으니 기존 **Month** 열은 제거합니다.\n",
        "- 기존 열을 제거하는 **drop()** 메소드 사용 구문을 꼭 기억하세요."
      ]
    },
    {
      "cell_type": "code",
      "metadata": {
        "scrolled": false,
        "id": "21VMsKz0csi4",
        "colab": {
          "base_uri": "https://localhost:8080/",
          "height": 195
        },
        "outputId": "5d4bd9f1-3f7f-4f7f-e67c-f8cb8dd90947"
      },
      "source": [
        "# Month열 제거\n",
        "passengers.drop(['Month'], axis=1, inplace=True)\n",
        "\n",
        "# 확인\n",
        "passengers.head()"
      ],
      "execution_count": 14,
      "outputs": [
        {
          "output_type": "execute_result",
          "data": {
            "text/html": [
              "<div>\n",
              "<style scoped>\n",
              "    .dataframe tbody tr th:only-of-type {\n",
              "        vertical-align: middle;\n",
              "    }\n",
              "\n",
              "    .dataframe tbody tr th {\n",
              "        vertical-align: top;\n",
              "    }\n",
              "\n",
              "    .dataframe thead th {\n",
              "        text-align: right;\n",
              "    }\n",
              "</style>\n",
              "<table border=\"1\" class=\"dataframe\">\n",
              "  <thead>\n",
              "    <tr style=\"text-align: right;\">\n",
              "      <th></th>\n",
              "      <th>Thousands as Passengers</th>\n",
              "      <th>mm</th>\n",
              "      <th>yy</th>\n",
              "    </tr>\n",
              "  </thead>\n",
              "  <tbody>\n",
              "    <tr>\n",
              "      <th>0</th>\n",
              "      <td>112</td>\n",
              "      <td>1</td>\n",
              "      <td>1949</td>\n",
              "    </tr>\n",
              "    <tr>\n",
              "      <th>1</th>\n",
              "      <td>118</td>\n",
              "      <td>2</td>\n",
              "      <td>1949</td>\n",
              "    </tr>\n",
              "    <tr>\n",
              "      <th>2</th>\n",
              "      <td>132</td>\n",
              "      <td>3</td>\n",
              "      <td>1949</td>\n",
              "    </tr>\n",
              "    <tr>\n",
              "      <th>3</th>\n",
              "      <td>129</td>\n",
              "      <td>4</td>\n",
              "      <td>1949</td>\n",
              "    </tr>\n",
              "    <tr>\n",
              "      <th>4</th>\n",
              "      <td>121</td>\n",
              "      <td>5</td>\n",
              "      <td>1949</td>\n",
              "    </tr>\n",
              "  </tbody>\n",
              "</table>\n",
              "</div>"
            ],
            "text/plain": [
              "   Thousands as Passengers  mm    yy\n",
              "0                      112   1  1949\n",
              "1                      118   2  1949\n",
              "2                      132   3  1949\n",
              "3                      129   4  1949\n",
              "4                      121   5  1949"
            ]
          },
          "metadata": {
            "tags": []
          },
          "execution_count": 14
        }
      ]
    },
    {
      "cell_type": "markdown",
      "metadata": {
        "id": "NwMMPqt9csi5"
      },
      "source": [
        "**3) 열 이름 변경**\n",
        "\n",
        "- 이후 분석을 위해 열 이름을 쉽게 이해햘 수 있는 이름으로 변경합니다.\n",
        "- Thousands as Passengers 열 이름을 짧게 **passengers**로 변경합니다.\n",
        "- 대소문자를 구분하므로 대문자인지 소문자인지 고민하지 않기 위해 **소문자만 사용**하는 것이 좋습니다.\n",
        "- 열 이름 변경은 **rename()** 메소드를 사용합니다."
      ]
    },
    {
      "cell_type": "code",
      "metadata": {
        "scrolled": true,
        "id": "nrxXURAvcsi5",
        "colab": {
          "base_uri": "https://localhost:8080/",
          "height": 195
        },
        "outputId": "dcb0b1b8-e02a-4bcd-8235-f36b2c8dccd0"
      },
      "source": [
        "# 열 이름 변경\n",
        "passengers.rename(columns={'Thousands as Passengers': 'passengers'}, inplace=True)\n",
        "\n",
        "# 확인\n",
        "passengers.head()"
      ],
      "execution_count": 15,
      "outputs": [
        {
          "output_type": "execute_result",
          "data": {
            "text/html": [
              "<div>\n",
              "<style scoped>\n",
              "    .dataframe tbody tr th:only-of-type {\n",
              "        vertical-align: middle;\n",
              "    }\n",
              "\n",
              "    .dataframe tbody tr th {\n",
              "        vertical-align: top;\n",
              "    }\n",
              "\n",
              "    .dataframe thead th {\n",
              "        text-align: right;\n",
              "    }\n",
              "</style>\n",
              "<table border=\"1\" class=\"dataframe\">\n",
              "  <thead>\n",
              "    <tr style=\"text-align: right;\">\n",
              "      <th></th>\n",
              "      <th>passengers</th>\n",
              "      <th>mm</th>\n",
              "      <th>yy</th>\n",
              "    </tr>\n",
              "  </thead>\n",
              "  <tbody>\n",
              "    <tr>\n",
              "      <th>0</th>\n",
              "      <td>112</td>\n",
              "      <td>1</td>\n",
              "      <td>1949</td>\n",
              "    </tr>\n",
              "    <tr>\n",
              "      <th>1</th>\n",
              "      <td>118</td>\n",
              "      <td>2</td>\n",
              "      <td>1949</td>\n",
              "    </tr>\n",
              "    <tr>\n",
              "      <th>2</th>\n",
              "      <td>132</td>\n",
              "      <td>3</td>\n",
              "      <td>1949</td>\n",
              "    </tr>\n",
              "    <tr>\n",
              "      <th>3</th>\n",
              "      <td>129</td>\n",
              "      <td>4</td>\n",
              "      <td>1949</td>\n",
              "    </tr>\n",
              "    <tr>\n",
              "      <th>4</th>\n",
              "      <td>121</td>\n",
              "      <td>5</td>\n",
              "      <td>1949</td>\n",
              "    </tr>\n",
              "  </tbody>\n",
              "</table>\n",
              "</div>"
            ],
            "text/plain": [
              "   passengers  mm    yy\n",
              "0         112   1  1949\n",
              "1         118   2  1949\n",
              "2         132   3  1949\n",
              "3         129   4  1949\n",
              "4         121   5  1949"
            ]
          },
          "metadata": {
            "tags": []
          },
          "execution_count": 15
        }
      ]
    },
    {
      "cell_type": "markdown",
      "metadata": {
        "id": "saH8fHQIcsi5"
      },
      "source": [
        "- 보기 편하게 열을 yy, mm, passengers 순서로 변경합니다."
      ]
    },
    {
      "cell_type": "code",
      "metadata": {
        "id": "163JK7Owcsi6",
        "colab": {
          "base_uri": "https://localhost:8080/",
          "height": 402
        },
        "outputId": "81c37ba9-7c6e-4c41-a624-6d774ca58fab"
      },
      "source": [
        "# 열 순서를 보기 좋게 변경\n",
        "passengers = passengers[['yy', 'mm', 'passengers']]\n",
        "\n",
        "# 확인\n",
        "passengers"
      ],
      "execution_count": 16,
      "outputs": [
        {
          "output_type": "execute_result",
          "data": {
            "text/html": [
              "<div>\n",
              "<style scoped>\n",
              "    .dataframe tbody tr th:only-of-type {\n",
              "        vertical-align: middle;\n",
              "    }\n",
              "\n",
              "    .dataframe tbody tr th {\n",
              "        vertical-align: top;\n",
              "    }\n",
              "\n",
              "    .dataframe thead th {\n",
              "        text-align: right;\n",
              "    }\n",
              "</style>\n",
              "<table border=\"1\" class=\"dataframe\">\n",
              "  <thead>\n",
              "    <tr style=\"text-align: right;\">\n",
              "      <th></th>\n",
              "      <th>yy</th>\n",
              "      <th>mm</th>\n",
              "      <th>passengers</th>\n",
              "    </tr>\n",
              "  </thead>\n",
              "  <tbody>\n",
              "    <tr>\n",
              "      <th>0</th>\n",
              "      <td>1949</td>\n",
              "      <td>1</td>\n",
              "      <td>112</td>\n",
              "    </tr>\n",
              "    <tr>\n",
              "      <th>1</th>\n",
              "      <td>1949</td>\n",
              "      <td>2</td>\n",
              "      <td>118</td>\n",
              "    </tr>\n",
              "    <tr>\n",
              "      <th>2</th>\n",
              "      <td>1949</td>\n",
              "      <td>3</td>\n",
              "      <td>132</td>\n",
              "    </tr>\n",
              "    <tr>\n",
              "      <th>3</th>\n",
              "      <td>1949</td>\n",
              "      <td>4</td>\n",
              "      <td>129</td>\n",
              "    </tr>\n",
              "    <tr>\n",
              "      <th>4</th>\n",
              "      <td>1949</td>\n",
              "      <td>5</td>\n",
              "      <td>121</td>\n",
              "    </tr>\n",
              "    <tr>\n",
              "      <th>...</th>\n",
              "      <td>...</td>\n",
              "      <td>...</td>\n",
              "      <td>...</td>\n",
              "    </tr>\n",
              "    <tr>\n",
              "      <th>139</th>\n",
              "      <td>1960</td>\n",
              "      <td>8</td>\n",
              "      <td>606</td>\n",
              "    </tr>\n",
              "    <tr>\n",
              "      <th>140</th>\n",
              "      <td>1960</td>\n",
              "      <td>9</td>\n",
              "      <td>508</td>\n",
              "    </tr>\n",
              "    <tr>\n",
              "      <th>141</th>\n",
              "      <td>1960</td>\n",
              "      <td>10</td>\n",
              "      <td>461</td>\n",
              "    </tr>\n",
              "    <tr>\n",
              "      <th>142</th>\n",
              "      <td>1960</td>\n",
              "      <td>11</td>\n",
              "      <td>390</td>\n",
              "    </tr>\n",
              "    <tr>\n",
              "      <th>143</th>\n",
              "      <td>1960</td>\n",
              "      <td>12</td>\n",
              "      <td>432</td>\n",
              "    </tr>\n",
              "  </tbody>\n",
              "</table>\n",
              "<p>144 rows × 3 columns</p>\n",
              "</div>"
            ],
            "text/plain": [
              "       yy  mm  passengers\n",
              "0    1949   1         112\n",
              "1    1949   2         118\n",
              "2    1949   3         132\n",
              "3    1949   4         129\n",
              "4    1949   5         121\n",
              "..    ...  ..         ...\n",
              "139  1960   8         606\n",
              "140  1960   9         508\n",
              "141  1960  10         461\n",
              "142  1960  11         390\n",
              "143  1960  12         432\n",
              "\n",
              "[144 rows x 3 columns]"
            ]
          },
          "metadata": {
            "tags": []
          },
          "execution_count": 16
        }
      ]
    },
    {
      "cell_type": "markdown",
      "metadata": {
        "id": "K57lnedHcsi6"
      },
      "source": [
        "## 4. 데이터 전처리  #2\n",
        "\n",
        "- 위 과정에서 충분히 전처리가 진행되었습니다.\n",
        "- Pivoting 연습을 위해 다른 모습으로 전처리 해봅니다.\n",
        "- **pivot()**함수를 사용해 yy 열 데이터를, 즉 연도를 열 이름으로 올립니다."
      ]
    },
    {
      "cell_type": "code",
      "metadata": {
        "scrolled": true,
        "id": "tOli5UC9csi7",
        "colab": {
          "base_uri": "https://localhost:8080/",
          "height": 225
        },
        "outputId": "46e5966a-0794-4c4d-8a08-b3dc6785c850"
      },
      "source": [
        "# 연도를 열로 올리기(Pivoting)\n",
        "passengers = passengers.pivot(index='mm', columns='yy', values='passengers')\n",
        "\n",
        "# 확인\n",
        "passengers.head()"
      ],
      "execution_count": 17,
      "outputs": [
        {
          "output_type": "execute_result",
          "data": {
            "text/html": [
              "<div>\n",
              "<style scoped>\n",
              "    .dataframe tbody tr th:only-of-type {\n",
              "        vertical-align: middle;\n",
              "    }\n",
              "\n",
              "    .dataframe tbody tr th {\n",
              "        vertical-align: top;\n",
              "    }\n",
              "\n",
              "    .dataframe thead th {\n",
              "        text-align: right;\n",
              "    }\n",
              "</style>\n",
              "<table border=\"1\" class=\"dataframe\">\n",
              "  <thead>\n",
              "    <tr style=\"text-align: right;\">\n",
              "      <th>yy</th>\n",
              "      <th>1949</th>\n",
              "      <th>1950</th>\n",
              "      <th>1951</th>\n",
              "      <th>1952</th>\n",
              "      <th>1953</th>\n",
              "      <th>1954</th>\n",
              "      <th>1955</th>\n",
              "      <th>1956</th>\n",
              "      <th>1957</th>\n",
              "      <th>1958</th>\n",
              "      <th>1959</th>\n",
              "      <th>1960</th>\n",
              "    </tr>\n",
              "    <tr>\n",
              "      <th>mm</th>\n",
              "      <th></th>\n",
              "      <th></th>\n",
              "      <th></th>\n",
              "      <th></th>\n",
              "      <th></th>\n",
              "      <th></th>\n",
              "      <th></th>\n",
              "      <th></th>\n",
              "      <th></th>\n",
              "      <th></th>\n",
              "      <th></th>\n",
              "      <th></th>\n",
              "    </tr>\n",
              "  </thead>\n",
              "  <tbody>\n",
              "    <tr>\n",
              "      <th>1</th>\n",
              "      <td>112</td>\n",
              "      <td>115</td>\n",
              "      <td>145</td>\n",
              "      <td>171</td>\n",
              "      <td>196</td>\n",
              "      <td>204</td>\n",
              "      <td>242</td>\n",
              "      <td>284</td>\n",
              "      <td>315</td>\n",
              "      <td>340</td>\n",
              "      <td>360</td>\n",
              "      <td>417</td>\n",
              "    </tr>\n",
              "    <tr>\n",
              "      <th>2</th>\n",
              "      <td>118</td>\n",
              "      <td>126</td>\n",
              "      <td>150</td>\n",
              "      <td>180</td>\n",
              "      <td>196</td>\n",
              "      <td>188</td>\n",
              "      <td>233</td>\n",
              "      <td>277</td>\n",
              "      <td>301</td>\n",
              "      <td>318</td>\n",
              "      <td>342</td>\n",
              "      <td>391</td>\n",
              "    </tr>\n",
              "    <tr>\n",
              "      <th>3</th>\n",
              "      <td>132</td>\n",
              "      <td>141</td>\n",
              "      <td>178</td>\n",
              "      <td>193</td>\n",
              "      <td>236</td>\n",
              "      <td>235</td>\n",
              "      <td>267</td>\n",
              "      <td>317</td>\n",
              "      <td>356</td>\n",
              "      <td>362</td>\n",
              "      <td>406</td>\n",
              "      <td>419</td>\n",
              "    </tr>\n",
              "    <tr>\n",
              "      <th>4</th>\n",
              "      <td>129</td>\n",
              "      <td>135</td>\n",
              "      <td>163</td>\n",
              "      <td>181</td>\n",
              "      <td>235</td>\n",
              "      <td>227</td>\n",
              "      <td>269</td>\n",
              "      <td>313</td>\n",
              "      <td>348</td>\n",
              "      <td>348</td>\n",
              "      <td>396</td>\n",
              "      <td>461</td>\n",
              "    </tr>\n",
              "    <tr>\n",
              "      <th>5</th>\n",
              "      <td>121</td>\n",
              "      <td>125</td>\n",
              "      <td>172</td>\n",
              "      <td>183</td>\n",
              "      <td>229</td>\n",
              "      <td>234</td>\n",
              "      <td>270</td>\n",
              "      <td>318</td>\n",
              "      <td>355</td>\n",
              "      <td>363</td>\n",
              "      <td>420</td>\n",
              "      <td>472</td>\n",
              "    </tr>\n",
              "  </tbody>\n",
              "</table>\n",
              "</div>"
            ],
            "text/plain": [
              "yy  1949  1950  1951  1952  1953  1954  1955  1956  1957  1958  1959  1960\n",
              "mm                                                                        \n",
              "1    112   115   145   171   196   204   242   284   315   340   360   417\n",
              "2    118   126   150   180   196   188   233   277   301   318   342   391\n",
              "3    132   141   178   193   236   235   267   317   356   362   406   419\n",
              "4    129   135   163   181   235   227   269   313   348   348   396   461\n",
              "5    121   125   172   183   229   234   270   318   355   363   420   472"
            ]
          },
          "metadata": {
            "tags": []
          },
          "execution_count": 17
        }
      ]
    },
    {
      "cell_type": "markdown",
      "metadata": {
        "id": "RYVffPqicsi7"
      },
      "source": [
        "- 불필요한 인덱스 이름과 열 이름을 대표하는 이름을 제거합니다."
      ]
    },
    {
      "cell_type": "code",
      "metadata": {
        "id": "KdXfRCyxcsi7",
        "colab": {
          "base_uri": "https://localhost:8080/",
          "height": 402
        },
        "outputId": "daf536b6-ccc3-46f7-b372-4932573d3c03"
      },
      "source": [
        "# 인덱스, 열 대표 이름 제거\n",
        "passengers.columns.name = None\n",
        "passengers.index.name = None\n",
        "\n",
        "# 확인\n",
        "passengers"
      ],
      "execution_count": 18,
      "outputs": [
        {
          "output_type": "execute_result",
          "data": {
            "text/html": [
              "<div>\n",
              "<style scoped>\n",
              "    .dataframe tbody tr th:only-of-type {\n",
              "        vertical-align: middle;\n",
              "    }\n",
              "\n",
              "    .dataframe tbody tr th {\n",
              "        vertical-align: top;\n",
              "    }\n",
              "\n",
              "    .dataframe thead th {\n",
              "        text-align: right;\n",
              "    }\n",
              "</style>\n",
              "<table border=\"1\" class=\"dataframe\">\n",
              "  <thead>\n",
              "    <tr style=\"text-align: right;\">\n",
              "      <th></th>\n",
              "      <th>1949</th>\n",
              "      <th>1950</th>\n",
              "      <th>1951</th>\n",
              "      <th>1952</th>\n",
              "      <th>1953</th>\n",
              "      <th>1954</th>\n",
              "      <th>1955</th>\n",
              "      <th>1956</th>\n",
              "      <th>1957</th>\n",
              "      <th>1958</th>\n",
              "      <th>1959</th>\n",
              "      <th>1960</th>\n",
              "    </tr>\n",
              "  </thead>\n",
              "  <tbody>\n",
              "    <tr>\n",
              "      <th>1</th>\n",
              "      <td>112</td>\n",
              "      <td>115</td>\n",
              "      <td>145</td>\n",
              "      <td>171</td>\n",
              "      <td>196</td>\n",
              "      <td>204</td>\n",
              "      <td>242</td>\n",
              "      <td>284</td>\n",
              "      <td>315</td>\n",
              "      <td>340</td>\n",
              "      <td>360</td>\n",
              "      <td>417</td>\n",
              "    </tr>\n",
              "    <tr>\n",
              "      <th>2</th>\n",
              "      <td>118</td>\n",
              "      <td>126</td>\n",
              "      <td>150</td>\n",
              "      <td>180</td>\n",
              "      <td>196</td>\n",
              "      <td>188</td>\n",
              "      <td>233</td>\n",
              "      <td>277</td>\n",
              "      <td>301</td>\n",
              "      <td>318</td>\n",
              "      <td>342</td>\n",
              "      <td>391</td>\n",
              "    </tr>\n",
              "    <tr>\n",
              "      <th>3</th>\n",
              "      <td>132</td>\n",
              "      <td>141</td>\n",
              "      <td>178</td>\n",
              "      <td>193</td>\n",
              "      <td>236</td>\n",
              "      <td>235</td>\n",
              "      <td>267</td>\n",
              "      <td>317</td>\n",
              "      <td>356</td>\n",
              "      <td>362</td>\n",
              "      <td>406</td>\n",
              "      <td>419</td>\n",
              "    </tr>\n",
              "    <tr>\n",
              "      <th>4</th>\n",
              "      <td>129</td>\n",
              "      <td>135</td>\n",
              "      <td>163</td>\n",
              "      <td>181</td>\n",
              "      <td>235</td>\n",
              "      <td>227</td>\n",
              "      <td>269</td>\n",
              "      <td>313</td>\n",
              "      <td>348</td>\n",
              "      <td>348</td>\n",
              "      <td>396</td>\n",
              "      <td>461</td>\n",
              "    </tr>\n",
              "    <tr>\n",
              "      <th>5</th>\n",
              "      <td>121</td>\n",
              "      <td>125</td>\n",
              "      <td>172</td>\n",
              "      <td>183</td>\n",
              "      <td>229</td>\n",
              "      <td>234</td>\n",
              "      <td>270</td>\n",
              "      <td>318</td>\n",
              "      <td>355</td>\n",
              "      <td>363</td>\n",
              "      <td>420</td>\n",
              "      <td>472</td>\n",
              "    </tr>\n",
              "    <tr>\n",
              "      <th>6</th>\n",
              "      <td>135</td>\n",
              "      <td>149</td>\n",
              "      <td>178</td>\n",
              "      <td>218</td>\n",
              "      <td>243</td>\n",
              "      <td>264</td>\n",
              "      <td>315</td>\n",
              "      <td>374</td>\n",
              "      <td>422</td>\n",
              "      <td>435</td>\n",
              "      <td>472</td>\n",
              "      <td>535</td>\n",
              "    </tr>\n",
              "    <tr>\n",
              "      <th>7</th>\n",
              "      <td>148</td>\n",
              "      <td>170</td>\n",
              "      <td>199</td>\n",
              "      <td>230</td>\n",
              "      <td>264</td>\n",
              "      <td>302</td>\n",
              "      <td>364</td>\n",
              "      <td>413</td>\n",
              "      <td>465</td>\n",
              "      <td>491</td>\n",
              "      <td>548</td>\n",
              "      <td>622</td>\n",
              "    </tr>\n",
              "    <tr>\n",
              "      <th>8</th>\n",
              "      <td>148</td>\n",
              "      <td>170</td>\n",
              "      <td>199</td>\n",
              "      <td>242</td>\n",
              "      <td>272</td>\n",
              "      <td>293</td>\n",
              "      <td>347</td>\n",
              "      <td>405</td>\n",
              "      <td>467</td>\n",
              "      <td>505</td>\n",
              "      <td>559</td>\n",
              "      <td>606</td>\n",
              "    </tr>\n",
              "    <tr>\n",
              "      <th>9</th>\n",
              "      <td>136</td>\n",
              "      <td>158</td>\n",
              "      <td>184</td>\n",
              "      <td>209</td>\n",
              "      <td>237</td>\n",
              "      <td>259</td>\n",
              "      <td>312</td>\n",
              "      <td>355</td>\n",
              "      <td>404</td>\n",
              "      <td>404</td>\n",
              "      <td>463</td>\n",
              "      <td>508</td>\n",
              "    </tr>\n",
              "    <tr>\n",
              "      <th>10</th>\n",
              "      <td>119</td>\n",
              "      <td>133</td>\n",
              "      <td>162</td>\n",
              "      <td>191</td>\n",
              "      <td>211</td>\n",
              "      <td>229</td>\n",
              "      <td>274</td>\n",
              "      <td>306</td>\n",
              "      <td>347</td>\n",
              "      <td>359</td>\n",
              "      <td>407</td>\n",
              "      <td>461</td>\n",
              "    </tr>\n",
              "    <tr>\n",
              "      <th>11</th>\n",
              "      <td>104</td>\n",
              "      <td>114</td>\n",
              "      <td>146</td>\n",
              "      <td>172</td>\n",
              "      <td>180</td>\n",
              "      <td>203</td>\n",
              "      <td>237</td>\n",
              "      <td>271</td>\n",
              "      <td>305</td>\n",
              "      <td>310</td>\n",
              "      <td>362</td>\n",
              "      <td>390</td>\n",
              "    </tr>\n",
              "    <tr>\n",
              "      <th>12</th>\n",
              "      <td>118</td>\n",
              "      <td>140</td>\n",
              "      <td>166</td>\n",
              "      <td>194</td>\n",
              "      <td>201</td>\n",
              "      <td>229</td>\n",
              "      <td>278</td>\n",
              "      <td>306</td>\n",
              "      <td>336</td>\n",
              "      <td>337</td>\n",
              "      <td>405</td>\n",
              "      <td>432</td>\n",
              "    </tr>\n",
              "  </tbody>\n",
              "</table>\n",
              "</div>"
            ],
            "text/plain": [
              "    1949  1950  1951  1952  1953  1954  1955  1956  1957  1958  1959  1960\n",
              "1    112   115   145   171   196   204   242   284   315   340   360   417\n",
              "2    118   126   150   180   196   188   233   277   301   318   342   391\n",
              "3    132   141   178   193   236   235   267   317   356   362   406   419\n",
              "4    129   135   163   181   235   227   269   313   348   348   396   461\n",
              "5    121   125   172   183   229   234   270   318   355   363   420   472\n",
              "6    135   149   178   218   243   264   315   374   422   435   472   535\n",
              "7    148   170   199   230   264   302   364   413   465   491   548   622\n",
              "8    148   170   199   242   272   293   347   405   467   505   559   606\n",
              "9    136   158   184   209   237   259   312   355   404   404   463   508\n",
              "10   119   133   162   191   211   229   274   306   347   359   407   461\n",
              "11   104   114   146   172   180   203   237   271   305   310   362   390\n",
              "12   118   140   166   194   201   229   278   306   336   337   405   432"
            ]
          },
          "metadata": {
            "tags": []
          },
          "execution_count": 18
        }
      ]
    },
    {
      "cell_type": "markdown",
      "metadata": {
        "id": "EVuNk9S5csi8"
      },
      "source": [
        "## 5. [옵션] 데이터 시각화\n",
        "\n",
        "- 이제 전처리가 진행된 데이터를 시각화해서 분석합니다.\n",
        "- 본 실습에서는 간단한 Line Graph를 표시해 보는 것을 목표로 합니다."
      ]
    },
    {
      "cell_type": "markdown",
      "metadata": {
        "id": "H9jz3JUVcsi9"
      },
      "source": [
        "**1) 1960년 월별 승객 수 변화**\n",
        "\n",
        "- 1960년 승객 변황을 표시해 봅니다."
      ]
    },
    {
      "cell_type": "code",
      "metadata": {
        "id": "nRQiWLlxcsi9",
        "colab": {
          "base_uri": "https://localhost:8080/",
          "height": 265
        },
        "outputId": "ffd21cd6-1c7f-4d74-d671-3ede08f4acbf"
      },
      "source": [
        "# 1960년 월별 승객 수 변화\n",
        "passengers.plot(kind='line', y=1960)\n",
        "plt.show()"
      ],
      "execution_count": 19,
      "outputs": [
        {
          "output_type": "display_data",
          "data": {
            "image/png": "[encoded data removed]",
            "text/plain": [
              "<Figure size 432x288 with 1 Axes>"
            ]
          },
          "metadata": {
            "tags": [],
            "image/png": {
              "width": 375,
              "height": 248
            },
            "needs_background": "light"
          }
        }
      ]
    },
    {
      "cell_type": "markdown",
      "metadata": {
        "id": "d2nXRWw3csi-"
      },
      "source": [
        "**2) 1959, 1960년 월별 승객 수 변화 비교**\n",
        "\n",
        "- 1959년, 1960년 데이터를 같이 분석해 봅니다."
      ]
    },
    {
      "cell_type": "code",
      "metadata": {
        "scrolled": true,
        "id": "7qrpKufrcsi_",
        "colab": {
          "base_uri": "https://localhost:8080/",
          "height": 265
        },
        "outputId": "95137ef9-0f40-47c2-8500-7c63f6cbe211"
      },
      "source": [
        "# 1959, 1960년 월별 승객 수 변화\n",
        "passengers.plot(kind='line', y=[1959, 1960])\n",
        "plt.show()"
      ],
      "execution_count": 20,
      "outputs": [
        {
          "output_type": "display_data",
          "data": {
            "image/png": "[encoded data removed]",
            "text/plain": [
              "<Figure size 432x288 with 1 Axes>"
            ]
          },
          "metadata": {
            "tags": [],
            "image/png": {
              "width": 375,
              "height": 248
            },
            "needs_background": "light"
          }
        }
      ]
    },
    {
      "cell_type": "markdown",
      "metadata": {
        "id": "r8v-Xppacsi_"
      },
      "source": [
        "**3) 1956 ~ 1960년 월별 승객 수 변화 비교**\n",
        "\n",
        "- 1956 ~ 1960년 데이터를 같이 분석해 봅니다."
      ]
    },
    {
      "cell_type": "code",
      "metadata": {
        "scrolled": true,
        "id": "1q3qa77DcsjA",
        "colab": {
          "base_uri": "https://localhost:8080/",
          "height": 265
        },
        "outputId": "99c404ae-b870-41ef-81a8-69b44a0d93af"
      },
      "source": [
        "# 1956 ~ 1960년 월별 승객 수 변화\n",
        "passengers.plot(kind='line', y=range(1956, 1961))\n",
        "plt.show()"
      ],
      "execution_count": 21,
      "outputs": [
        {
          "output_type": "display_data",
          "data": {
            "image/png": "[encoded data removed]",
            "text/plain": [
              "<Figure size 432x288 with 1 Axes>"
            ]
          },
          "metadata": {
            "tags": [],
            "image/png": {
              "width": 375,
              "height": 248
            },
            "needs_background": "light"
          }
        }
      ]
    },
    {
      "cell_type": "markdown",
      "metadata": {
        "id": "dfmsXraGcsjA"
      },
      "source": [
        "- 선 그래프를 조금만 꾸며봅니다."
      ]
    },
    {
      "cell_type": "code",
      "metadata": {
        "id": "zvihNYmecsjB",
        "colab": {
          "base_uri": "https://localhost:8080/",
          "height": 280
        },
        "outputId": "121407f4-0576-48c7-d6ca-ca37b1b0564c"
      },
      "source": [
        "# 1956 ~ 1960년 월별 승객 수 변화\n",
        "passengers.plot(kind='line', y=range(1956, 1961))\n",
        "plt.title('Passenger Status (1956 ~ 1960)')\n",
        "plt.xticks(np.arange(1, 13, step=1))\n",
        "plt.show()"
      ],
      "execution_count": 22,
      "outputs": [
        {
          "output_type": "display_data",
          "data": {
            "image/png": "[encoded data removed]",
            "text/plain": [
              "<Figure size 432x288 with 1 Axes>"
            ]
          },
          "metadata": {
            "tags": [],
            "image/png": {
              "width": 375,
              "height": 263
            },
            "needs_background": "light"
          }
        }
      ]
    },
    {
      "cell_type": "markdown",
      "metadata": {
        "id": "EDeOZa-qcsjB"
      },
      "source": [
        "## 6. 의미 찾기"
      ]
    },
    {
      "cell_type": "markdown",
      "metadata": {
        "id": "1UXG26RkcsjB"
      },
      "source": [
        "- 단순히 데이터 전처리 과정과 시각화 과정을 경험한 것이므로 분석 결과에 대해 큰 의미를 두지 않아도 됩니다.\n",
        "- 주위에서 위 형태와 같은 데이터를 찾아 위 과정으로 분석해 보면 유익할 것입니다."
      ]
    },
    {
      "cell_type": "markdown",
      "metadata": {
        "id": "JCxYOA8G37ld"
      },
      "source": [
        "<center><img src='https://raw.githubusercontent.com/Jangrae/img/master/end.png' width=300/></center>"
      ]
    }
  ]
}