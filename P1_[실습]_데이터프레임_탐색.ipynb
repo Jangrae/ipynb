{
  "nbformat": 4,
  "nbformat_minor": 0,
  "metadata": {
    "colab": {
      "name": "P1 [실습] 데이터프레임 탐색.ipynb",
      "provenance": [],
      "collapsed_sections": []
    },
    "kernelspec": {
      "display_name": "Python 3",
      "language": "python",
      "name": "python3"
    },
    "language_info": {
      "codemirror_mode": {
        "name": "ipython",
        "version": 3
      },
      "file_extension": ".py",
      "mimetype": "text/x-python",
      "name": "python",
      "nbconvert_exporter": "python",
      "pygments_lexer": "ipython3",
      "version": "3.7.6"
    }
  },
  "cells": [
    {
      "cell_type": "markdown",
      "metadata": {
        "id": "BFhIXgdYoYGp"
      },
      "source": [
        "<center><img src='https://raw.githubusercontent.com/Jangrae/img/master/title.png' width=500/></center>"
      ]
    },
    {
      "cell_type": "markdown",
      "metadata": {
        "id": "loDr2hXslH19"
      },
      "source": [
        "<center><img src='https://raw.githubusercontent.com/Jangrae/img/master/practice.png' width=300/></center>"
      ]
    },
    {
      "cell_type": "markdown",
      "metadata": {
        "id": "b3ObHFpc8BfK"
      },
      "source": [
        "# 실습 목표\n",
        "\n",
        "- CSV 파일에서 데이터를 읽어올 수 있습니다.\n",
        "- 다양한 속성와 메소드를 사용해서 데이터프레임 정보를 확인할 수 있습니다.\n",
        "- 집계 메소드로 합, 평균, 최댓값, 최솟값을 확인할 수 있습니다.\n",
        "- 데이터를 정렬할 수 있습니다.\n",
        "- 시각화 방법으로 데이터 분포를 확인할 수 있습니다."
      ]
    },
    {
      "cell_type": "markdown",
      "metadata": {
        "id": "-sdzPN0Uwxi2"
      },
      "source": [
        "# P1. [실습] 데이터프레임 탐색"
      ]
    },
    {
      "cell_type": "code",
      "metadata": {
        "id": "ewDJEDDIwxlJ"
      },
      "source": [
        "# 라이브러리 불러오기\n",
        "import pandas as pd\n",
        "import numpy as np\n",
        "import matplotlib.pyplot as plt\n",
        "\n",
        "%config InlineBackend.figure_format='retina'"
      ],
      "execution_count": 1,
      "outputs": []
    },
    {
      "cell_type": "markdown",
      "metadata": {
        "id": "N2T9zxdat2YB"
      },
      "source": [
        "1) read_csv() 함수를 사용해 'Graduate_apply.csv' 파일을 읽어 데이터프레임 graduate를 만드세요.\n",
        "\n",
        "- 파일 경로: 'https://raw.githubusercontent.com/Jangrae/csv/master/Graduate_apply.csv'\n",
        "- 대소문자를 구분하니 주의하세요."
      ]
    },
    {
      "cell_type": "code",
      "metadata": {
        "id": "Hp-hMK2At-av",
        "scrolled": true,
        "colab": {
          "base_uri": "https://localhost:8080/",
          "height": 203
        },
        "outputId": "cecb149e-dd29-48bf-ab03-108193ba3df4"
      },
      "source": [
        "# 파일 읽어오기\n",
        "file_path = 'https://raw.githubusercontent.com/Jangrae/csv/master/Graduate_apply.csv'\n",
        "graduate = pd.read_csv(file_path, sep=',')\n",
        "\n",
        "# 확인\n",
        "graduate.head(5)"
      ],
      "execution_count": 2,
      "outputs": [
        {
          "output_type": "execute_result",
          "data": {
            "text/html": [
              "<div>\n",
              "<style scoped>\n",
              "    .dataframe tbody tr th:only-of-type {\n",
              "        vertical-align: middle;\n",
              "    }\n",
              "\n",
              "    .dataframe tbody tr th {\n",
              "        vertical-align: top;\n",
              "    }\n",
              "\n",
              "    .dataframe thead th {\n",
              "        text-align: right;\n",
              "    }\n",
              "</style>\n",
              "<table border=\"1\" class=\"dataframe\">\n",
              "  <thead>\n",
              "    <tr style=\"text-align: right;\">\n",
              "      <th></th>\n",
              "      <th>admit</th>\n",
              "      <th>gre</th>\n",
              "      <th>gpa</th>\n",
              "      <th>rank</th>\n",
              "    </tr>\n",
              "  </thead>\n",
              "  <tbody>\n",
              "    <tr>\n",
              "      <th>0</th>\n",
              "      <td>0</td>\n",
              "      <td>380</td>\n",
              "      <td>3.61</td>\n",
              "      <td>3</td>\n",
              "    </tr>\n",
              "    <tr>\n",
              "      <th>1</th>\n",
              "      <td>1</td>\n",
              "      <td>660</td>\n",
              "      <td>3.67</td>\n",
              "      <td>3</td>\n",
              "    </tr>\n",
              "    <tr>\n",
              "      <th>2</th>\n",
              "      <td>1</td>\n",
              "      <td>800</td>\n",
              "      <td>4.00</td>\n",
              "      <td>1</td>\n",
              "    </tr>\n",
              "    <tr>\n",
              "      <th>3</th>\n",
              "      <td>1</td>\n",
              "      <td>640</td>\n",
              "      <td>3.19</td>\n",
              "      <td>4</td>\n",
              "    </tr>\n",
              "    <tr>\n",
              "      <th>4</th>\n",
              "      <td>0</td>\n",
              "      <td>520</td>\n",
              "      <td>2.93</td>\n",
              "      <td>4</td>\n",
              "    </tr>\n",
              "  </tbody>\n",
              "</table>\n",
              "</div>"
            ],
            "text/plain": [
              "   admit  gre   gpa  rank\n",
              "0      0  380  3.61     3\n",
              "1      1  660  3.67     3\n",
              "2      1  800  4.00     1\n",
              "3      1  640  3.19     4\n",
              "4      0  520  2.93     4"
            ]
          },
          "metadata": {
            "tags": []
          },
          "execution_count": 2
        }
      ]
    },
    {
      "cell_type": "markdown",
      "metadata": {
        "id": "DXY8duJwt8el"
      },
      "source": [
        "2) graduate의 shape를 확인하세요."
      ]
    },
    {
      "cell_type": "code",
      "metadata": {
        "id": "iGvE_yATt_4k",
        "colab": {
          "base_uri": "https://localhost:8080/"
        },
        "outputId": "cd00fc3a-0a79-4b61-a730-b481bef5dc70"
      },
      "source": [
        "# shape 확인\n",
        "graduate.shape"
      ],
      "execution_count": 3,
      "outputs": [
        {
          "output_type": "execute_result",
          "data": {
            "text/plain": [
              "(400, 4)"
            ]
          },
          "metadata": {
            "tags": []
          },
          "execution_count": 3
        }
      ]
    },
    {
      "cell_type": "markdown",
      "metadata": {
        "id": "U_lqQzcxuGNR"
      },
      "source": [
        "3) columns 속성과 types 속성을 사용해 graduate의 열 이름과 각 열의 데이터 형식을 확인하세요."
      ]
    },
    {
      "cell_type": "code",
      "metadata": {
        "id": "UeTNe8GduUeZ",
        "colab": {
          "base_uri": "https://localhost:8080/"
        },
        "outputId": "05c0bf88-240b-4d95-e5db-56f7c124162b"
      },
      "source": [
        "# 열 이름 확인\n",
        "graduate.columns"
      ],
      "execution_count": 4,
      "outputs": [
        {
          "output_type": "execute_result",
          "data": {
            "text/plain": [
              "Index(['admit', 'gre', 'gpa', 'rank'], dtype='object')"
            ]
          },
          "metadata": {
            "tags": []
          },
          "execution_count": 4
        }
      ]
    },
    {
      "cell_type": "code",
      "metadata": {
        "id": "e1R4r5EClH2d",
        "colab": {
          "base_uri": "https://localhost:8080/"
        },
        "outputId": "54dce47a-f0e4-4608-9a99-3dc27966bee7"
      },
      "source": [
        "# 열 데이터 형식 확인\n",
        "graduate.dtypes"
      ],
      "execution_count": 5,
      "outputs": [
        {
          "output_type": "execute_result",
          "data": {
            "text/plain": [
              "admit      int64\n",
              "gre        int64\n",
              "gpa      float64\n",
              "rank       int64\n",
              "dtype: object"
            ]
          },
          "metadata": {
            "tags": []
          },
          "execution_count": 5
        }
      ]
    },
    {
      "cell_type": "markdown",
      "metadata": {
        "id": "i66lkNglVPBr"
      },
      "source": [
        "4) info() 메소드를 사용해 graduate의 열 자료형과 값 개수를 확인하세요."
      ]
    },
    {
      "cell_type": "code",
      "metadata": {
        "id": "Qypn9hb2VPBv",
        "colab": {
          "base_uri": "https://localhost:8080/"
        },
        "outputId": "78c04e60-771d-430a-df43-fe0be238e32d"
      },
      "source": [
        "# 열 정보 확인\n",
        "graduate.info()"
      ],
      "execution_count": 6,
      "outputs": [
        {
          "output_type": "stream",
          "text": [
            "<class 'pandas.core.frame.DataFrame'>\n",
            "RangeIndex: 400 entries, 0 to 399\n",
            "Data columns (total 4 columns):\n",
            " #   Column  Non-Null Count  Dtype  \n",
            "---  ------  --------------  -----  \n",
            " 0   admit   400 non-null    int64  \n",
            " 1   gre     400 non-null    int64  \n",
            " 2   gpa     400 non-null    float64\n",
            " 3   rank    400 non-null    int64  \n",
            "dtypes: float64(1), int64(3)\n",
            "memory usage: 12.6 KB\n"
          ],
          "name": "stdout"
        }
      ]
    },
    {
      "cell_type": "markdown",
      "metadata": {
        "id": "JNui_NWguIXi"
      },
      "source": [
        "5) head() 메소드와 tail() 메소드를 사용해 graduate의 데이터의 첫 3행과 마지막 3행의 데이터를 확인하세요."
      ]
    },
    {
      "cell_type": "code",
      "metadata": {
        "id": "vqKG_IH6uTaJ",
        "colab": {
          "base_uri": "https://localhost:8080/",
          "height": 141
        },
        "outputId": "b1a630b5-0284-4a61-82bb-3f35fde77b52"
      },
      "source": [
        "# 상위 3행 출력\n",
        "graduate.head(3)"
      ],
      "execution_count": 7,
      "outputs": [
        {
          "output_type": "execute_result",
          "data": {
            "text/html": [
              "<div>\n",
              "<style scoped>\n",
              "    .dataframe tbody tr th:only-of-type {\n",
              "        vertical-align: middle;\n",
              "    }\n",
              "\n",
              "    .dataframe tbody tr th {\n",
              "        vertical-align: top;\n",
              "    }\n",
              "\n",
              "    .dataframe thead th {\n",
              "        text-align: right;\n",
              "    }\n",
              "</style>\n",
              "<table border=\"1\" class=\"dataframe\">\n",
              "  <thead>\n",
              "    <tr style=\"text-align: right;\">\n",
              "      <th></th>\n",
              "      <th>admit</th>\n",
              "      <th>gre</th>\n",
              "      <th>gpa</th>\n",
              "      <th>rank</th>\n",
              "    </tr>\n",
              "  </thead>\n",
              "  <tbody>\n",
              "    <tr>\n",
              "      <th>0</th>\n",
              "      <td>0</td>\n",
              "      <td>380</td>\n",
              "      <td>3.61</td>\n",
              "      <td>3</td>\n",
              "    </tr>\n",
              "    <tr>\n",
              "      <th>1</th>\n",
              "      <td>1</td>\n",
              "      <td>660</td>\n",
              "      <td>3.67</td>\n",
              "      <td>3</td>\n",
              "    </tr>\n",
              "    <tr>\n",
              "      <th>2</th>\n",
              "      <td>1</td>\n",
              "      <td>800</td>\n",
              "      <td>4.00</td>\n",
              "      <td>1</td>\n",
              "    </tr>\n",
              "  </tbody>\n",
              "</table>\n",
              "</div>"
            ],
            "text/plain": [
              "   admit  gre   gpa  rank\n",
              "0      0  380  3.61     3\n",
              "1      1  660  3.67     3\n",
              "2      1  800  4.00     1"
            ]
          },
          "metadata": {
            "tags": []
          },
          "execution_count": 7
        }
      ]
    },
    {
      "cell_type": "code",
      "metadata": {
        "id": "y1hpyIab48SC",
        "colab": {
          "base_uri": "https://localhost:8080/",
          "height": 141
        },
        "outputId": "9c194388-9072-418e-bb54-baef1f719e30"
      },
      "source": [
        "# 마지막 3행 출력\n",
        "graduate.tail(3)"
      ],
      "execution_count": 8,
      "outputs": [
        {
          "output_type": "execute_result",
          "data": {
            "text/html": [
              "<div>\n",
              "<style scoped>\n",
              "    .dataframe tbody tr th:only-of-type {\n",
              "        vertical-align: middle;\n",
              "    }\n",
              "\n",
              "    .dataframe tbody tr th {\n",
              "        vertical-align: top;\n",
              "    }\n",
              "\n",
              "    .dataframe thead th {\n",
              "        text-align: right;\n",
              "    }\n",
              "</style>\n",
              "<table border=\"1\" class=\"dataframe\">\n",
              "  <thead>\n",
              "    <tr style=\"text-align: right;\">\n",
              "      <th></th>\n",
              "      <th>admit</th>\n",
              "      <th>gre</th>\n",
              "      <th>gpa</th>\n",
              "      <th>rank</th>\n",
              "    </tr>\n",
              "  </thead>\n",
              "  <tbody>\n",
              "    <tr>\n",
              "      <th>397</th>\n",
              "      <td>0</td>\n",
              "      <td>460</td>\n",
              "      <td>2.63</td>\n",
              "      <td>2</td>\n",
              "    </tr>\n",
              "    <tr>\n",
              "      <th>398</th>\n",
              "      <td>0</td>\n",
              "      <td>700</td>\n",
              "      <td>3.65</td>\n",
              "      <td>2</td>\n",
              "    </tr>\n",
              "    <tr>\n",
              "      <th>399</th>\n",
              "      <td>0</td>\n",
              "      <td>600</td>\n",
              "      <td>3.89</td>\n",
              "      <td>3</td>\n",
              "    </tr>\n",
              "  </tbody>\n",
              "</table>\n",
              "</div>"
            ],
            "text/plain": [
              "     admit  gre   gpa  rank\n",
              "397      0  460  2.63     2\n",
              "398      0  700  3.65     2\n",
              "399      0  600  3.89     3"
            ]
          },
          "metadata": {
            "tags": []
          },
          "execution_count": 8
        }
      ]
    },
    {
      "cell_type": "markdown",
      "metadata": {
        "id": "GaTc90ue8BgG"
      },
      "source": [
        "6) describe() 메소드를 사용해 graduate의 기초 통계 정보를 확인하세요."
      ]
    },
    {
      "cell_type": "code",
      "metadata": {
        "id": "NUT4N-LL8BgH",
        "colab": {
          "base_uri": "https://localhost:8080/",
          "height": 296
        },
        "outputId": "3bc1464c-dbda-4d7d-b4da-411157357ce0"
      },
      "source": [
        "# 기초 통계 정보 확인\n",
        "graduate.describe()"
      ],
      "execution_count": 9,
      "outputs": [
        {
          "output_type": "execute_result",
          "data": {
            "text/html": [
              "<div>\n",
              "<style scoped>\n",
              "    .dataframe tbody tr th:only-of-type {\n",
              "        vertical-align: middle;\n",
              "    }\n",
              "\n",
              "    .dataframe tbody tr th {\n",
              "        vertical-align: top;\n",
              "    }\n",
              "\n",
              "    .dataframe thead th {\n",
              "        text-align: right;\n",
              "    }\n",
              "</style>\n",
              "<table border=\"1\" class=\"dataframe\">\n",
              "  <thead>\n",
              "    <tr style=\"text-align: right;\">\n",
              "      <th></th>\n",
              "      <th>admit</th>\n",
              "      <th>gre</th>\n",
              "      <th>gpa</th>\n",
              "      <th>rank</th>\n",
              "    </tr>\n",
              "  </thead>\n",
              "  <tbody>\n",
              "    <tr>\n",
              "      <th>count</th>\n",
              "      <td>400.000000</td>\n",
              "      <td>400.000000</td>\n",
              "      <td>400.000000</td>\n",
              "      <td>400.00000</td>\n",
              "    </tr>\n",
              "    <tr>\n",
              "      <th>mean</th>\n",
              "      <td>0.317500</td>\n",
              "      <td>587.700000</td>\n",
              "      <td>3.389900</td>\n",
              "      <td>2.48500</td>\n",
              "    </tr>\n",
              "    <tr>\n",
              "      <th>std</th>\n",
              "      <td>0.466087</td>\n",
              "      <td>115.516536</td>\n",
              "      <td>0.380567</td>\n",
              "      <td>0.94446</td>\n",
              "    </tr>\n",
              "    <tr>\n",
              "      <th>min</th>\n",
              "      <td>0.000000</td>\n",
              "      <td>220.000000</td>\n",
              "      <td>2.260000</td>\n",
              "      <td>1.00000</td>\n",
              "    </tr>\n",
              "    <tr>\n",
              "      <th>25%</th>\n",
              "      <td>0.000000</td>\n",
              "      <td>520.000000</td>\n",
              "      <td>3.130000</td>\n",
              "      <td>2.00000</td>\n",
              "    </tr>\n",
              "    <tr>\n",
              "      <th>50%</th>\n",
              "      <td>0.000000</td>\n",
              "      <td>580.000000</td>\n",
              "      <td>3.395000</td>\n",
              "      <td>2.00000</td>\n",
              "    </tr>\n",
              "    <tr>\n",
              "      <th>75%</th>\n",
              "      <td>1.000000</td>\n",
              "      <td>660.000000</td>\n",
              "      <td>3.670000</td>\n",
              "      <td>3.00000</td>\n",
              "    </tr>\n",
              "    <tr>\n",
              "      <th>max</th>\n",
              "      <td>1.000000</td>\n",
              "      <td>800.000000</td>\n",
              "      <td>4.000000</td>\n",
              "      <td>4.00000</td>\n",
              "    </tr>\n",
              "  </tbody>\n",
              "</table>\n",
              "</div>"
            ],
            "text/plain": [
              "            admit         gre         gpa       rank\n",
              "count  400.000000  400.000000  400.000000  400.00000\n",
              "mean     0.317500  587.700000    3.389900    2.48500\n",
              "std      0.466087  115.516536    0.380567    0.94446\n",
              "min      0.000000  220.000000    2.260000    1.00000\n",
              "25%      0.000000  520.000000    3.130000    2.00000\n",
              "50%      0.000000  580.000000    3.395000    2.00000\n",
              "75%      1.000000  660.000000    3.670000    3.00000\n",
              "max      1.000000  800.000000    4.000000    4.00000"
            ]
          },
          "metadata": {
            "tags": []
          },
          "execution_count": 9
        }
      ]
    },
    {
      "cell_type": "markdown",
      "metadata": {
        "id": "H-CzuP0GuKCq"
      },
      "source": [
        "7) np.array() 함수를 사용해 graduate를 n_array 라는 이름의 배열로 변환하고 배열 값을 확인하세요."
      ]
    },
    {
      "cell_type": "code",
      "metadata": {
        "id": "Lwk62L4wlH28",
        "colab": {
          "base_uri": "https://localhost:8080/"
        },
        "outputId": "2390a92e-cc71-4afc-c9e8-217234500883"
      },
      "source": [
        "# 배열로 변환\n",
        "n_array = np.array(graduate)\n",
        "\n",
        "# 확인\n",
        "print(n_array)"
      ],
      "execution_count": 10,
      "outputs": [
        {
          "output_type": "stream",
          "text": [
            "[[  0.   380.     3.61   3.  ]\n",
            " [  1.   660.     3.67   3.  ]\n",
            " [  1.   800.     4.     1.  ]\n",
            " ...\n",
            " [  0.   460.     2.63   2.  ]\n",
            " [  0.   700.     3.65   2.  ]\n",
            " [  0.   600.     3.89   3.  ]]\n"
          ],
          "name": "stdout"
        }
      ]
    },
    {
      "cell_type": "markdown",
      "metadata": {
        "id": "mWS7xhZtWFn-"
      },
      "source": [
        "8) 위 과정에서 만든 n_array 배열의 shape를 확인하세요."
      ]
    },
    {
      "cell_type": "code",
      "metadata": {
        "id": "_JUsBil6WQVr",
        "colab": {
          "base_uri": "https://localhost:8080/"
        },
        "outputId": "60e0dcc2-a965-41e9-ba3f-4448798b1396"
      },
      "source": [
        "# 배열 크기 확인\n",
        "n_array.shape"
      ],
      "execution_count": 11,
      "outputs": [
        {
          "output_type": "execute_result",
          "data": {
            "text/plain": [
              "(400, 4)"
            ]
          },
          "metadata": {
            "tags": []
          },
          "execution_count": 11
        }
      ]
    },
    {
      "cell_type": "markdown",
      "metadata": {
        "id": "BH-MvRj_uPm1"
      },
      "source": [
        "9) sort_values() 메소드를 사용해 gre 열을 기준으로 오름차순 정렬하여 상위 10개 행만 확인하세요."
      ]
    },
    {
      "cell_type": "code",
      "metadata": {
        "id": "lIpC0Cf0uQww",
        "colab": {
          "base_uri": "https://localhost:8080/",
          "height": 358
        },
        "outputId": "99fcd5f2-90e2-40e5-8263-99fdaf321012"
      },
      "source": [
        "# gre 열 기준 오름차순 정렬\n",
        "graduate.sort_values('gre', ascending=True).head(10)"
      ],
      "execution_count": 12,
      "outputs": [
        {
          "output_type": "execute_result",
          "data": {
            "text/html": [
              "<div>\n",
              "<style scoped>\n",
              "    .dataframe tbody tr th:only-of-type {\n",
              "        vertical-align: middle;\n",
              "    }\n",
              "\n",
              "    .dataframe tbody tr th {\n",
              "        vertical-align: top;\n",
              "    }\n",
              "\n",
              "    .dataframe thead th {\n",
              "        text-align: right;\n",
              "    }\n",
              "</style>\n",
              "<table border=\"1\" class=\"dataframe\">\n",
              "  <thead>\n",
              "    <tr style=\"text-align: right;\">\n",
              "      <th></th>\n",
              "      <th>admit</th>\n",
              "      <th>gre</th>\n",
              "      <th>gpa</th>\n",
              "      <th>rank</th>\n",
              "    </tr>\n",
              "  </thead>\n",
              "  <tbody>\n",
              "    <tr>\n",
              "      <th>304</th>\n",
              "      <td>0</td>\n",
              "      <td>220</td>\n",
              "      <td>2.83</td>\n",
              "      <td>3</td>\n",
              "    </tr>\n",
              "    <tr>\n",
              "      <th>179</th>\n",
              "      <td>0</td>\n",
              "      <td>300</td>\n",
              "      <td>3.01</td>\n",
              "      <td>3</td>\n",
              "    </tr>\n",
              "    <tr>\n",
              "      <th>71</th>\n",
              "      <td>0</td>\n",
              "      <td>300</td>\n",
              "      <td>2.92</td>\n",
              "      <td>4</td>\n",
              "    </tr>\n",
              "    <tr>\n",
              "      <th>315</th>\n",
              "      <td>1</td>\n",
              "      <td>300</td>\n",
              "      <td>2.84</td>\n",
              "      <td>2</td>\n",
              "    </tr>\n",
              "    <tr>\n",
              "      <th>316</th>\n",
              "      <td>1</td>\n",
              "      <td>340</td>\n",
              "      <td>3.00</td>\n",
              "      <td>2</td>\n",
              "    </tr>\n",
              "    <tr>\n",
              "      <th>216</th>\n",
              "      <td>0</td>\n",
              "      <td>340</td>\n",
              "      <td>2.90</td>\n",
              "      <td>1</td>\n",
              "    </tr>\n",
              "    <tr>\n",
              "      <th>119</th>\n",
              "      <td>0</td>\n",
              "      <td>340</td>\n",
              "      <td>2.92</td>\n",
              "      <td>3</td>\n",
              "    </tr>\n",
              "    <tr>\n",
              "      <th>100</th>\n",
              "      <td>0</td>\n",
              "      <td>340</td>\n",
              "      <td>3.15</td>\n",
              "      <td>3</td>\n",
              "    </tr>\n",
              "    <tr>\n",
              "      <th>34</th>\n",
              "      <td>0</td>\n",
              "      <td>360</td>\n",
              "      <td>3.14</td>\n",
              "      <td>1</td>\n",
              "    </tr>\n",
              "    <tr>\n",
              "      <th>17</th>\n",
              "      <td>0</td>\n",
              "      <td>360</td>\n",
              "      <td>2.56</td>\n",
              "      <td>3</td>\n",
              "    </tr>\n",
              "  </tbody>\n",
              "</table>\n",
              "</div>"
            ],
            "text/plain": [
              "     admit  gre   gpa  rank\n",
              "304      0  220  2.83     3\n",
              "179      0  300  3.01     3\n",
              "71       0  300  2.92     4\n",
              "315      1  300  2.84     2\n",
              "316      1  340  3.00     2\n",
              "216      0  340  2.90     1\n",
              "119      0  340  2.92     3\n",
              "100      0  340  3.15     3\n",
              "34       0  360  3.14     1\n",
              "17       0  360  2.56     3"
            ]
          },
          "metadata": {
            "tags": []
          },
          "execution_count": 12
        }
      ]
    },
    {
      "cell_type": "markdown",
      "metadata": {
        "id": "XB5vziB6ZEQ7"
      },
      "source": [
        "10) gre 열 합과 평균을 gre_sum, gre_mean 변수로 선언하고 변수 값을 확인하세요."
      ]
    },
    {
      "cell_type": "code",
      "metadata": {
        "id": "8MQUA5xbZERA",
        "colab": {
          "base_uri": "https://localhost:8080/"
        },
        "outputId": "8b414cbc-0c68-45b5-cbed-49e78b0917c1"
      },
      "source": [
        "# gre 열 합\n",
        "gre_sum = graduate['gre'].sum()\n",
        "\n",
        "# gre 열 평균\n",
        "gre_mean = graduate['gre'].mean()\n",
        "\n",
        "# 확인\n",
        "print('합:', gre_sum, '평균:', gre_mean)"
      ],
      "execution_count": 13,
      "outputs": [
        {
          "output_type": "stream",
          "text": [
            "합: 235080 평균: 587.7\n"
          ],
          "name": "stdout"
        }
      ]
    },
    {
      "cell_type": "markdown",
      "metadata": {
        "id": "-OF77kKlfxI4"
      },
      "source": [
        "11) gpa 열 최댓값과 최솟값을 gpa_max, gpa_min 변수로 선언하고 변수 값을 확인하세요."
      ]
    },
    {
      "cell_type": "code",
      "metadata": {
        "id": "YTXQIR5sfxI5",
        "colab": {
          "base_uri": "https://localhost:8080/"
        },
        "outputId": "0ca38746-fe3e-4d22-9ae9-ad51836d9928"
      },
      "source": [
        "# gpa 열 최댓값\n",
        "gpa_max = graduate['gpa'].max()\n",
        "\n",
        "# gpa 열 최솟값\n",
        "gpa_min = graduate['gpa'].min()\n",
        "\n",
        "# 확인\n",
        "print('최댓값:', gpa_max, '최솟값:', gpa_min)"
      ],
      "execution_count": 14,
      "outputs": [
        {
          "output_type": "stream",
          "text": [
            "최댓값: 4.0 최솟값: 2.26\n"
          ],
          "name": "stdout"
        }
      ]
    },
    {
      "cell_type": "code",
      "metadata": {
        "id": "otjgsCDee8Ce",
        "colab": {
          "base_uri": "https://localhost:8080/"
        },
        "outputId": "6b4a82bb-59af-4864-80bc-e89445a6a3e7"
      },
      "source": [
        "# gpa 열 최댓값\n",
        "graduate['gpa'].min()"
      ],
      "execution_count": 15,
      "outputs": [
        {
          "output_type": "execute_result",
          "data": {
            "text/plain": [
              "2.26"
            ]
          },
          "metadata": {
            "tags": []
          },
          "execution_count": 15
        }
      ]
    },
    {
      "cell_type": "markdown",
      "metadata": {
        "id": "6Eain2QkXo13"
      },
      "source": [
        "12) 히스토그램으로 시각화하여 gre 데이터 분포를 확인하세요. 단 bins 옵션을 설정하지 마세요."
      ]
    },
    {
      "cell_type": "code",
      "metadata": {
        "id": "K3jN8aLbW8Os",
        "colab": {
          "base_uri": "https://localhost:8080/",
          "height": 265
        },
        "outputId": "263fed29-9426-459f-a443-7e53b053fc67"
      },
      "source": [
        "# gre 데이터 분포 확인\n",
        "graduate.plot(kind='hist', y='gre')\n",
        "plt.show()"
      ],
      "execution_count": 16,
      "outputs": [
        {
          "output_type": "display_data",
          "data": {
            "image/png": "[encoded data removed]",
            "text/plain": [
              "<Figure size 432x288 with 1 Axes>"
            ]
          },
          "metadata": {
            "tags": [],
            "image/png": {
              "width": 382,
              "height": 248
            },
            "needs_background": "light"
          }
        }
      ]
    },
    {
      "cell_type": "markdown",
      "metadata": {
        "id": "wApLbEfPXpYn"
      },
      "source": [
        "13) 앞에서 작성한 코드에 bins 옵션을 30으로 설정하여 gre 데이터 분포를 확인하세요."
      ]
    },
    {
      "cell_type": "code",
      "metadata": {
        "id": "VFEdHYgHXZia",
        "colab": {
          "base_uri": "https://localhost:8080/",
          "height": 265
        },
        "outputId": "151b0800-1a57-443e-c436-e51a024abae5"
      },
      "source": [
        "# gre 데이터 분포 확인\n",
        "graduate.plot(kind='hist', y='gre', bins=30)\n",
        "plt.show()"
      ],
      "execution_count": 17,
      "outputs": [
        {
          "output_type": "display_data",
          "data": {
            "image/png": "[encoded data removed]",
            "text/plain": [
              "<Figure size 432x288 with 1 Axes>"
            ]
          },
          "metadata": {
            "tags": [],
            "image/png": {
              "width": 382,
              "height": 248
            },
            "needs_background": "light"
          }
        }
      ]
    },
    {
      "cell_type": "markdown",
      "metadata": {
        "id": "cCvVnCf1XpxA"
      },
      "source": [
        "14) 커널밀도추정(kde) 그래프로 시각화하여 gre 데이터 분포를 확인하세요."
      ]
    },
    {
      "cell_type": "code",
      "metadata": {
        "id": "Hks8l58UXbA5",
        "colab": {
          "base_uri": "https://localhost:8080/",
          "height": 265
        },
        "outputId": "5d82b281-d06d-4dd6-cb1a-c27d2c01811e"
      },
      "source": [
        "# gre 데이터 분포 확인\n",
        "graduate.plot(kind='kde', y='gre')\n",
        "plt.show()"
      ],
      "execution_count": 18,
      "outputs": [
        {
          "output_type": "display_data",
          "data": {
            "image/png": "[encoded data removed]",
            "text/plain": [
              "<Figure size 432x288 with 1 Axes>"
            ]
          },
          "metadata": {
            "tags": [],
            "image/png": {
              "width": 405,
              "height": 248
            },
            "needs_background": "light"
          }
        }
      ]
    },
    {
      "cell_type": "markdown",
      "metadata": {
        "id": "2IVlVoRNXqKs"
      },
      "source": [
        "15) 박스 플롯으로 시각화하여 gre 데이터 분포를 확인하세요."
      ]
    },
    {
      "cell_type": "code",
      "metadata": {
        "id": "sIrVa0y6XeYv",
        "colab": {
          "base_uri": "https://localhost:8080/",
          "height": 265
        },
        "outputId": "bc723a6c-7338-483c-b23f-153431ae2345"
      },
      "source": [
        "# gre 데이터 분포 확인\n",
        "graduate.plot(kind='box', y='gre')\n",
        "plt.show()"
      ],
      "execution_count": 19,
      "outputs": [
        {
          "output_type": "display_data",
          "data": {
            "image/png": "[encoded data removed]",
            "text/plain": [
              "<Figure size 432x288 with 1 Axes>"
            ]
          },
          "metadata": {
            "tags": [],
            "image/png": {
              "width": 375,
              "height": 248
            },
            "needs_background": "light"
          }
        }
      ]
    },
    {
      "cell_type": "markdown",
      "metadata": {
        "id": "zPb7_mq4od5p"
      },
      "source": [
        "<center><img src='https://raw.githubusercontent.com/Jangrae/img/master/end.png' width=300/></center>"
      ]
    }
  ]
}