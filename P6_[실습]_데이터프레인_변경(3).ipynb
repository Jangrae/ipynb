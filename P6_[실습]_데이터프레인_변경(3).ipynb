{
  "nbformat": 4,
  "nbformat_minor": 0,
  "metadata": {
    "colab": {
      "name": "P6 [실습] 데이터프레인 변경 - 3.ipynb",
      "provenance": [],
      "collapsed_sections": []
    },
    "kernelspec": {
      "display_name": "Python 3",
      "language": "python",
      "name": "python3"
    },
    "language_info": {
      "codemirror_mode": {
        "name": "ipython",
        "version": 3
      },
      "file_extension": ".py",
      "mimetype": "text/x-python",
      "name": "python",
      "nbconvert_exporter": "python",
      "pygments_lexer": "ipython3",
      "version": "3.7.6"
    }
  },
  "cells": [
    {
      "cell_type": "markdown",
      "metadata": {
        "id": "BFhIXgdYoYGp"
      },
      "source": [
        "<center><img src='https://raw.githubusercontent.com/Jangrae/img/master/title.png' width=500/></center>"
      ]
    },
    {
      "cell_type": "markdown",
      "metadata": {
        "id": "ZL7qtmsDGtwk"
      },
      "source": [
        "<center><img src='https://raw.githubusercontent.com/Jangrae/img/master/practice.png' width=300/></center>"
      ]
    },
    {
      "cell_type": "markdown",
      "metadata": {
        "id": "8f_GOwiqGtwl"
      },
      "source": [
        "# 실습 목표\n",
        "\n",
        "- 데이터를 집계할 수 있습니다.\n",
        "- 데이터프레임을 연결할 수 있습니다.\n",
        "- 데이터프레임을 조인할 수 있습니다.\n",
        "- Rolling, Shift 기능을 활용할 수 있습니다."
      ]
    },
    {
      "cell_type": "markdown",
      "metadata": {
        "id": "L14aTzDENWv3"
      },
      "source": [
        "# P6. [실습] 데이터프레임 변경 - 3"
      ]
    },
    {
      "cell_type": "markdown",
      "metadata": {
        "id": "835Jajwnji1L"
      },
      "source": [
        "## [실습1] 데이터프레임 연결"
      ]
    },
    {
      "cell_type": "code",
      "metadata": {
        "id": "Q1Z0Gzo1jmEY"
      },
      "source": [
        "# 라이브러리 불러오기\n",
        "import pandas as pd\n",
        "import numpy as np\n",
        "import matplotlib.pyplot as plt\n",
        "\n",
        "%config InlineBackend.figure_format='retina'"
      ],
      "execution_count": 1,
      "outputs": []
    },
    {
      "cell_type": "code",
      "metadata": {
        "id": "LTO6BRAiGtwp"
      },
      "source": [
        "# graduate 데이터 불러오기\n",
        "file_path = 'https://raw.githubusercontent.com/Jangrae/csv/master/Graduate_apply.csv'\n",
        "graduate = pd.read_csv(file_path, sep = ',') "
      ],
      "execution_count": 2,
      "outputs": []
    },
    {
      "cell_type": "markdown",
      "metadata": {
        "id": "R-PlkBKxjBsW"
      },
      "source": [
        "1) groupby() 메소드를 사용해 rank 별 gre, gpa 최댓값을 집계해서 df_max 데이터프레임을 만드세요.\n",
        "\n",
        "- 단, as_index=False 옵션을 지정하세요."
      ]
    },
    {
      "cell_type": "code",
      "metadata": {
        "id": "5uBLKPN_wxq8",
        "colab": {
          "base_uri": "https://localhost:8080/",
          "height": 166
        },
        "outputId": "4c895bfe-10f8-4f1b-b88b-a09a8fb0942b"
      },
      "source": [
        "# 집계\n",
        "df_max = graduate.groupby('rank', as_index=False)[['gre','gpa']].max()\n",
        "\n",
        "# 확인\n",
        "df_max.head()"
      ],
      "execution_count": 3,
      "outputs": [
        {
          "output_type": "execute_result",
          "data": {
            "text/html": [
              "<div>\n",
              "<style scoped>\n",
              "    .dataframe tbody tr th:only-of-type {\n",
              "        vertical-align: middle;\n",
              "    }\n",
              "\n",
              "    .dataframe tbody tr th {\n",
              "        vertical-align: top;\n",
              "    }\n",
              "\n",
              "    .dataframe thead th {\n",
              "        text-align: right;\n",
              "    }\n",
              "</style>\n",
              "<table border=\"1\" class=\"dataframe\">\n",
              "  <thead>\n",
              "    <tr style=\"text-align: right;\">\n",
              "      <th></th>\n",
              "      <th>rank</th>\n",
              "      <th>gre</th>\n",
              "      <th>gpa</th>\n",
              "    </tr>\n",
              "  </thead>\n",
              "  <tbody>\n",
              "    <tr>\n",
              "      <th>0</th>\n",
              "      <td>1</td>\n",
              "      <td>800</td>\n",
              "      <td>4.0</td>\n",
              "    </tr>\n",
              "    <tr>\n",
              "      <th>1</th>\n",
              "      <td>2</td>\n",
              "      <td>800</td>\n",
              "      <td>4.0</td>\n",
              "    </tr>\n",
              "    <tr>\n",
              "      <th>2</th>\n",
              "      <td>3</td>\n",
              "      <td>800</td>\n",
              "      <td>4.0</td>\n",
              "    </tr>\n",
              "    <tr>\n",
              "      <th>3</th>\n",
              "      <td>4</td>\n",
              "      <td>800</td>\n",
              "      <td>4.0</td>\n",
              "    </tr>\n",
              "  </tbody>\n",
              "</table>\n",
              "</div>"
            ],
            "text/plain": [
              "   rank  gre  gpa\n",
              "0     1  800  4.0\n",
              "1     2  800  4.0\n",
              "2     3  800  4.0\n",
              "3     4  800  4.0"
            ]
          },
          "metadata": {
            "tags": []
          },
          "execution_count": 3
        }
      ]
    },
    {
      "cell_type": "markdown",
      "metadata": {
        "id": "kUIvFmEWGtwv"
      },
      "source": [
        "2) rename() 메소드를 사용해 df_max 데이터프레임의 gre, gpa 열 이름을 각각 gre_max, gpa_max로 변경하세요."
      ]
    },
    {
      "cell_type": "code",
      "metadata": {
        "id": "kXaXQG4qGtwv",
        "colab": {
          "base_uri": "https://localhost:8080/",
          "height": 166
        },
        "outputId": "2f0fb692-4c68-4752-f66e-12ca9814d556"
      },
      "source": [
        "# 열 이름 변경\n",
        "df_max.rename(columns={'gre':'gre_max', 'gpa':'gpa_max'}, inplace=True)\n",
        "\n",
        "# 확인\n",
        "df_max.head()"
      ],
      "execution_count": 4,
      "outputs": [
        {
          "output_type": "execute_result",
          "data": {
            "text/html": [
              "<div>\n",
              "<style scoped>\n",
              "    .dataframe tbody tr th:only-of-type {\n",
              "        vertical-align: middle;\n",
              "    }\n",
              "\n",
              "    .dataframe tbody tr th {\n",
              "        vertical-align: top;\n",
              "    }\n",
              "\n",
              "    .dataframe thead th {\n",
              "        text-align: right;\n",
              "    }\n",
              "</style>\n",
              "<table border=\"1\" class=\"dataframe\">\n",
              "  <thead>\n",
              "    <tr style=\"text-align: right;\">\n",
              "      <th></th>\n",
              "      <th>rank</th>\n",
              "      <th>gre_max</th>\n",
              "      <th>gpa_max</th>\n",
              "    </tr>\n",
              "  </thead>\n",
              "  <tbody>\n",
              "    <tr>\n",
              "      <th>0</th>\n",
              "      <td>1</td>\n",
              "      <td>800</td>\n",
              "      <td>4.0</td>\n",
              "    </tr>\n",
              "    <tr>\n",
              "      <th>1</th>\n",
              "      <td>2</td>\n",
              "      <td>800</td>\n",
              "      <td>4.0</td>\n",
              "    </tr>\n",
              "    <tr>\n",
              "      <th>2</th>\n",
              "      <td>3</td>\n",
              "      <td>800</td>\n",
              "      <td>4.0</td>\n",
              "    </tr>\n",
              "    <tr>\n",
              "      <th>3</th>\n",
              "      <td>4</td>\n",
              "      <td>800</td>\n",
              "      <td>4.0</td>\n",
              "    </tr>\n",
              "  </tbody>\n",
              "</table>\n",
              "</div>"
            ],
            "text/plain": [
              "   rank  gre_max  gpa_max\n",
              "0     1      800      4.0\n",
              "1     2      800      4.0\n",
              "2     3      800      4.0\n",
              "3     4      800      4.0"
            ]
          },
          "metadata": {
            "tags": []
          },
          "execution_count": 4
        }
      ]
    },
    {
      "cell_type": "markdown",
      "metadata": {
        "id": "n0yzwwWwjNNb"
      },
      "source": [
        "3) rank 별 gre, gpa 최솟값을 집계해서 df_min 데이터프레임을 만드세요.\n",
        "\n",
        "- 단, as_index=False 옵션을 지정하세요."
      ]
    },
    {
      "cell_type": "code",
      "metadata": {
        "id": "TaejXlLZwxrD",
        "colab": {
          "base_uri": "https://localhost:8080/",
          "height": 166
        },
        "outputId": "f47a109b-f950-4c80-e65d-1aa7e0ed6583"
      },
      "source": [
        "# 집계\n",
        "df_min = graduate.groupby('rank', as_index=False)[['gre','gpa']].min()\n",
        "\n",
        "# 확인\n",
        "df_min.head()"
      ],
      "execution_count": 5,
      "outputs": [
        {
          "output_type": "execute_result",
          "data": {
            "text/html": [
              "<div>\n",
              "<style scoped>\n",
              "    .dataframe tbody tr th:only-of-type {\n",
              "        vertical-align: middle;\n",
              "    }\n",
              "\n",
              "    .dataframe tbody tr th {\n",
              "        vertical-align: top;\n",
              "    }\n",
              "\n",
              "    .dataframe thead th {\n",
              "        text-align: right;\n",
              "    }\n",
              "</style>\n",
              "<table border=\"1\" class=\"dataframe\">\n",
              "  <thead>\n",
              "    <tr style=\"text-align: right;\">\n",
              "      <th></th>\n",
              "      <th>rank</th>\n",
              "      <th>gre</th>\n",
              "      <th>gpa</th>\n",
              "    </tr>\n",
              "  </thead>\n",
              "  <tbody>\n",
              "    <tr>\n",
              "      <th>0</th>\n",
              "      <td>1</td>\n",
              "      <td>340</td>\n",
              "      <td>2.42</td>\n",
              "    </tr>\n",
              "    <tr>\n",
              "      <th>1</th>\n",
              "      <td>2</td>\n",
              "      <td>300</td>\n",
              "      <td>2.42</td>\n",
              "    </tr>\n",
              "    <tr>\n",
              "      <th>2</th>\n",
              "      <td>3</td>\n",
              "      <td>220</td>\n",
              "      <td>2.56</td>\n",
              "    </tr>\n",
              "    <tr>\n",
              "      <th>3</th>\n",
              "      <td>4</td>\n",
              "      <td>300</td>\n",
              "      <td>2.26</td>\n",
              "    </tr>\n",
              "  </tbody>\n",
              "</table>\n",
              "</div>"
            ],
            "text/plain": [
              "   rank  gre   gpa\n",
              "0     1  340  2.42\n",
              "1     2  300  2.42\n",
              "2     3  220  2.56\n",
              "3     4  300  2.26"
            ]
          },
          "metadata": {
            "tags": []
          },
          "execution_count": 5
        }
      ]
    },
    {
      "cell_type": "markdown",
      "metadata": {
        "id": "p-zYtOsTGtw0"
      },
      "source": [
        "4) df_min 데이터프레임의 gre, gpa 열 이름을 각각 gre_min, gpa_min로 변경하세요."
      ]
    },
    {
      "cell_type": "code",
      "metadata": {
        "id": "IVz9Y7x3Gtw1",
        "colab": {
          "base_uri": "https://localhost:8080/",
          "height": 166
        },
        "outputId": "9f8901bd-0c90-44bb-8cd5-53ecf6dec05b"
      },
      "source": [
        "# 열 이름 변경\n",
        "df_min.rename(columns = {'gre':'gre_min', 'gpa':'gpa_min'},inplace=True)\n",
        "\n",
        "# 확인\n",
        "df_min.head()"
      ],
      "execution_count": 6,
      "outputs": [
        {
          "output_type": "execute_result",
          "data": {
            "text/html": [
              "<div>\n",
              "<style scoped>\n",
              "    .dataframe tbody tr th:only-of-type {\n",
              "        vertical-align: middle;\n",
              "    }\n",
              "\n",
              "    .dataframe tbody tr th {\n",
              "        vertical-align: top;\n",
              "    }\n",
              "\n",
              "    .dataframe thead th {\n",
              "        text-align: right;\n",
              "    }\n",
              "</style>\n",
              "<table border=\"1\" class=\"dataframe\">\n",
              "  <thead>\n",
              "    <tr style=\"text-align: right;\">\n",
              "      <th></th>\n",
              "      <th>rank</th>\n",
              "      <th>gre_min</th>\n",
              "      <th>gpa_min</th>\n",
              "    </tr>\n",
              "  </thead>\n",
              "  <tbody>\n",
              "    <tr>\n",
              "      <th>0</th>\n",
              "      <td>1</td>\n",
              "      <td>340</td>\n",
              "      <td>2.42</td>\n",
              "    </tr>\n",
              "    <tr>\n",
              "      <th>1</th>\n",
              "      <td>2</td>\n",
              "      <td>300</td>\n",
              "      <td>2.42</td>\n",
              "    </tr>\n",
              "    <tr>\n",
              "      <th>2</th>\n",
              "      <td>3</td>\n",
              "      <td>220</td>\n",
              "      <td>2.56</td>\n",
              "    </tr>\n",
              "    <tr>\n",
              "      <th>3</th>\n",
              "      <td>4</td>\n",
              "      <td>300</td>\n",
              "      <td>2.26</td>\n",
              "    </tr>\n",
              "  </tbody>\n",
              "</table>\n",
              "</div>"
            ],
            "text/plain": [
              "   rank  gre_min  gpa_min\n",
              "0     1      340     2.42\n",
              "1     2      300     2.42\n",
              "2     3      220     2.56\n",
              "3     4      300     2.26"
            ]
          },
          "metadata": {
            "tags": []
          },
          "execution_count": 6
        }
      ]
    },
    {
      "cell_type": "markdown",
      "metadata": {
        "id": "6vPZMsXUjUih"
      },
      "source": [
        "5) concat() 함수를 사용해 df_max, df_min 데이터프레임을 연결한 결과를 갖는 df_graduate1 데이터프레임을 만드세요.\n",
        "\n",
        "- 단, rank 열 중복을 없애기 위해 df_min 데이터프레임에서는 gre_min, gpa_min 열만 연결되게 하세요."
      ]
    },
    {
      "cell_type": "code",
      "metadata": {
        "id": "Qc4ap82mwxrH",
        "colab": {
          "base_uri": "https://localhost:8080/",
          "height": 166
        },
        "outputId": "e2417427-c50f-4240-db95-feff9a749d62"
      },
      "source": [
        "# 데이터프레임 연결\n",
        "df_graduate1 = pd.concat([df_max, df_min[['gre_min', 'gpa_min']]], axis=1)\n",
        "\n",
        "#확인\n",
        "df_graduate1.head()"
      ],
      "execution_count": 7,
      "outputs": [
        {
          "output_type": "execute_result",
          "data": {
            "text/html": [
              "<div>\n",
              "<style scoped>\n",
              "    .dataframe tbody tr th:only-of-type {\n",
              "        vertical-align: middle;\n",
              "    }\n",
              "\n",
              "    .dataframe tbody tr th {\n",
              "        vertical-align: top;\n",
              "    }\n",
              "\n",
              "    .dataframe thead th {\n",
              "        text-align: right;\n",
              "    }\n",
              "</style>\n",
              "<table border=\"1\" class=\"dataframe\">\n",
              "  <thead>\n",
              "    <tr style=\"text-align: right;\">\n",
              "      <th></th>\n",
              "      <th>rank</th>\n",
              "      <th>gre_max</th>\n",
              "      <th>gpa_max</th>\n",
              "      <th>gre_min</th>\n",
              "      <th>gpa_min</th>\n",
              "    </tr>\n",
              "  </thead>\n",
              "  <tbody>\n",
              "    <tr>\n",
              "      <th>0</th>\n",
              "      <td>1</td>\n",
              "      <td>800</td>\n",
              "      <td>4.0</td>\n",
              "      <td>340</td>\n",
              "      <td>2.42</td>\n",
              "    </tr>\n",
              "    <tr>\n",
              "      <th>1</th>\n",
              "      <td>2</td>\n",
              "      <td>800</td>\n",
              "      <td>4.0</td>\n",
              "      <td>300</td>\n",
              "      <td>2.42</td>\n",
              "    </tr>\n",
              "    <tr>\n",
              "      <th>2</th>\n",
              "      <td>3</td>\n",
              "      <td>800</td>\n",
              "      <td>4.0</td>\n",
              "      <td>220</td>\n",
              "      <td>2.56</td>\n",
              "    </tr>\n",
              "    <tr>\n",
              "      <th>3</th>\n",
              "      <td>4</td>\n",
              "      <td>800</td>\n",
              "      <td>4.0</td>\n",
              "      <td>300</td>\n",
              "      <td>2.26</td>\n",
              "    </tr>\n",
              "  </tbody>\n",
              "</table>\n",
              "</div>"
            ],
            "text/plain": [
              "   rank  gre_max  gpa_max  gre_min  gpa_min\n",
              "0     1      800      4.0      340     2.42\n",
              "1     2      800      4.0      300     2.42\n",
              "2     3      800      4.0      220     2.56\n",
              "3     4      800      4.0      300     2.26"
            ]
          },
          "metadata": {
            "tags": []
          },
          "execution_count": 7
        }
      ]
    },
    {
      "cell_type": "markdown",
      "metadata": {
        "id": "44LKykZbeJXp"
      },
      "source": [
        "## [실습2] 데이터프레임 조인 #1"
      ]
    },
    {
      "cell_type": "code",
      "metadata": {
        "id": "I6UU1bImgxjL"
      },
      "source": [
        "# 라이브러리 불러오기\n",
        "import pandas as pd\n",
        "import numpy as np\n",
        "import matplotlib.pyplot as plt\n",
        "\n",
        "%config InlineBackend.figure_format='retina'"
      ],
      "execution_count": 8,
      "outputs": []
    },
    {
      "cell_type": "code",
      "metadata": {
        "id": "QJYkG6nVgxjT"
      },
      "source": [
        "# graduate 데이터 불러오기\n",
        "file_path = 'https://raw.githubusercontent.com/Jangrae/csv/master/Graduate_apply.csv'\n",
        "graduate = pd.read_csv(file_path, sep = ',') "
      ],
      "execution_count": 9,
      "outputs": []
    },
    {
      "cell_type": "markdown",
      "metadata": {
        "id": "CUj6EXWweJXt"
      },
      "source": [
        "6) groupby() 메소드를 사용해 rank 별 gre, gpa 평균을 집계해서 df_mean 데이터프레임을 만드세요.\n",
        "\n",
        "- 단, as_index=False 옵션을 지정하세요."
      ]
    },
    {
      "cell_type": "code",
      "metadata": {
        "id": "0KvvZwdNeJXv",
        "colab": {
          "base_uri": "https://localhost:8080/",
          "height": 166
        },
        "outputId": "fdef29a6-da18-474c-8496-9262ed850f1e"
      },
      "source": [
        "# 집계\n",
        "df_mean = graduate.groupby('rank', as_index=False)[['gre','gpa']].mean()\n",
        "\n",
        "# 확인\n",
        "df_mean.head()"
      ],
      "execution_count": 10,
      "outputs": [
        {
          "output_type": "execute_result",
          "data": {
            "text/html": [
              "<div>\n",
              "<style scoped>\n",
              "    .dataframe tbody tr th:only-of-type {\n",
              "        vertical-align: middle;\n",
              "    }\n",
              "\n",
              "    .dataframe tbody tr th {\n",
              "        vertical-align: top;\n",
              "    }\n",
              "\n",
              "    .dataframe thead th {\n",
              "        text-align: right;\n",
              "    }\n",
              "</style>\n",
              "<table border=\"1\" class=\"dataframe\">\n",
              "  <thead>\n",
              "    <tr style=\"text-align: right;\">\n",
              "      <th></th>\n",
              "      <th>rank</th>\n",
              "      <th>gre</th>\n",
              "      <th>gpa</th>\n",
              "    </tr>\n",
              "  </thead>\n",
              "  <tbody>\n",
              "    <tr>\n",
              "      <th>0</th>\n",
              "      <td>1</td>\n",
              "      <td>611.803279</td>\n",
              "      <td>3.453115</td>\n",
              "    </tr>\n",
              "    <tr>\n",
              "      <th>1</th>\n",
              "      <td>2</td>\n",
              "      <td>596.026490</td>\n",
              "      <td>3.361656</td>\n",
              "    </tr>\n",
              "    <tr>\n",
              "      <th>2</th>\n",
              "      <td>3</td>\n",
              "      <td>574.876033</td>\n",
              "      <td>3.432893</td>\n",
              "    </tr>\n",
              "    <tr>\n",
              "      <th>3</th>\n",
              "      <td>4</td>\n",
              "      <td>570.149254</td>\n",
              "      <td>3.318358</td>\n",
              "    </tr>\n",
              "  </tbody>\n",
              "</table>\n",
              "</div>"
            ],
            "text/plain": [
              "   rank         gre       gpa\n",
              "0     1  611.803279  3.453115\n",
              "1     2  596.026490  3.361656\n",
              "2     3  574.876033  3.432893\n",
              "3     4  570.149254  3.318358"
            ]
          },
          "metadata": {
            "tags": []
          },
          "execution_count": 10
        }
      ]
    },
    {
      "cell_type": "markdown",
      "metadata": {
        "id": "RU6J7ZRPeJX4"
      },
      "source": [
        "7) rename() 메소드를 사용해 df_mean 데이터프레임의 gre, gpa 열 이름을 각각 gre_mean, gpa_mean로 변경하세요."
      ]
    },
    {
      "cell_type": "code",
      "metadata": {
        "id": "KXY1KrqFeJX5",
        "colab": {
          "base_uri": "https://localhost:8080/",
          "height": 166
        },
        "outputId": "e255c3a9-2967-4cbe-a233-acf482194abb"
      },
      "source": [
        "# 열 이름 변경\n",
        "df_mean.rename(columns={'gre':'gre_mean', 'gpa':'gpa_mean'}, inplace=True)\n",
        "\n",
        "# 확인\n",
        "df_mean.head()"
      ],
      "execution_count": 11,
      "outputs": [
        {
          "output_type": "execute_result",
          "data": {
            "text/html": [
              "<div>\n",
              "<style scoped>\n",
              "    .dataframe tbody tr th:only-of-type {\n",
              "        vertical-align: middle;\n",
              "    }\n",
              "\n",
              "    .dataframe tbody tr th {\n",
              "        vertical-align: top;\n",
              "    }\n",
              "\n",
              "    .dataframe thead th {\n",
              "        text-align: right;\n",
              "    }\n",
              "</style>\n",
              "<table border=\"1\" class=\"dataframe\">\n",
              "  <thead>\n",
              "    <tr style=\"text-align: right;\">\n",
              "      <th></th>\n",
              "      <th>rank</th>\n",
              "      <th>gre_mean</th>\n",
              "      <th>gpa_mean</th>\n",
              "    </tr>\n",
              "  </thead>\n",
              "  <tbody>\n",
              "    <tr>\n",
              "      <th>0</th>\n",
              "      <td>1</td>\n",
              "      <td>611.803279</td>\n",
              "      <td>3.453115</td>\n",
              "    </tr>\n",
              "    <tr>\n",
              "      <th>1</th>\n",
              "      <td>2</td>\n",
              "      <td>596.026490</td>\n",
              "      <td>3.361656</td>\n",
              "    </tr>\n",
              "    <tr>\n",
              "      <th>2</th>\n",
              "      <td>3</td>\n",
              "      <td>574.876033</td>\n",
              "      <td>3.432893</td>\n",
              "    </tr>\n",
              "    <tr>\n",
              "      <th>3</th>\n",
              "      <td>4</td>\n",
              "      <td>570.149254</td>\n",
              "      <td>3.318358</td>\n",
              "    </tr>\n",
              "  </tbody>\n",
              "</table>\n",
              "</div>"
            ],
            "text/plain": [
              "   rank    gre_mean  gpa_mean\n",
              "0     1  611.803279  3.453115\n",
              "1     2  596.026490  3.361656\n",
              "2     3  574.876033  3.432893\n",
              "3     4  570.149254  3.318358"
            ]
          },
          "metadata": {
            "tags": []
          },
          "execution_count": 11
        }
      ]
    },
    {
      "cell_type": "markdown",
      "metadata": {
        "id": "6KS3uxw2eJX-"
      },
      "source": [
        "8) rank 별 gre, gpa 합계를 집계해서 df_sum 데이터프레임을 만드세요.\n",
        "\n",
        "- 단, as_index=False 옵션을 지정하세요."
      ]
    },
    {
      "cell_type": "code",
      "metadata": {
        "id": "atAJbIvDeJX_",
        "colab": {
          "base_uri": "https://localhost:8080/",
          "height": 166
        },
        "outputId": "67e5bc20-905f-483c-f95d-909d1d00bd00"
      },
      "source": [
        "# 집계\n",
        "df_sum = graduate.groupby('rank', as_index=False)[['gre','gpa']].sum()\n",
        "\n",
        "# 확인\n",
        "df_sum.head()"
      ],
      "execution_count": 12,
      "outputs": [
        {
          "output_type": "execute_result",
          "data": {
            "text/html": [
              "<div>\n",
              "<style scoped>\n",
              "    .dataframe tbody tr th:only-of-type {\n",
              "        vertical-align: middle;\n",
              "    }\n",
              "\n",
              "    .dataframe tbody tr th {\n",
              "        vertical-align: top;\n",
              "    }\n",
              "\n",
              "    .dataframe thead th {\n",
              "        text-align: right;\n",
              "    }\n",
              "</style>\n",
              "<table border=\"1\" class=\"dataframe\">\n",
              "  <thead>\n",
              "    <tr style=\"text-align: right;\">\n",
              "      <th></th>\n",
              "      <th>rank</th>\n",
              "      <th>gre</th>\n",
              "      <th>gpa</th>\n",
              "    </tr>\n",
              "  </thead>\n",
              "  <tbody>\n",
              "    <tr>\n",
              "      <th>0</th>\n",
              "      <td>1</td>\n",
              "      <td>37320</td>\n",
              "      <td>210.64</td>\n",
              "    </tr>\n",
              "    <tr>\n",
              "      <th>1</th>\n",
              "      <td>2</td>\n",
              "      <td>90000</td>\n",
              "      <td>507.61</td>\n",
              "    </tr>\n",
              "    <tr>\n",
              "      <th>2</th>\n",
              "      <td>3</td>\n",
              "      <td>69560</td>\n",
              "      <td>415.38</td>\n",
              "    </tr>\n",
              "    <tr>\n",
              "      <th>3</th>\n",
              "      <td>4</td>\n",
              "      <td>38200</td>\n",
              "      <td>222.33</td>\n",
              "    </tr>\n",
              "  </tbody>\n",
              "</table>\n",
              "</div>"
            ],
            "text/plain": [
              "   rank    gre     gpa\n",
              "0     1  37320  210.64\n",
              "1     2  90000  507.61\n",
              "2     3  69560  415.38\n",
              "3     4  38200  222.33"
            ]
          },
          "metadata": {
            "tags": []
          },
          "execution_count": 12
        }
      ]
    },
    {
      "cell_type": "markdown",
      "metadata": {
        "id": "F0ToSh2ZeJYE"
      },
      "source": [
        "9) df_sum 데이터프레임의 gre, gpa 열 이름을 각각 gre_sum, gpa_sum로 변경하세요."
      ]
    },
    {
      "cell_type": "code",
      "metadata": {
        "id": "nUGgT9B0eJYF",
        "colab": {
          "base_uri": "https://localhost:8080/",
          "height": 166
        },
        "outputId": "675e904b-7336-4dd8-f278-4fa4562ce3c7"
      },
      "source": [
        "# 열 이름 변경\n",
        "df_sum.rename(columns = {'gre':'gre_sum', 'gpa':'gpa_sum'},inplace=True)\n",
        "\n",
        "# 확인\n",
        "df_sum.head()"
      ],
      "execution_count": 13,
      "outputs": [
        {
          "output_type": "execute_result",
          "data": {
            "text/html": [
              "<div>\n",
              "<style scoped>\n",
              "    .dataframe tbody tr th:only-of-type {\n",
              "        vertical-align: middle;\n",
              "    }\n",
              "\n",
              "    .dataframe tbody tr th {\n",
              "        vertical-align: top;\n",
              "    }\n",
              "\n",
              "    .dataframe thead th {\n",
              "        text-align: right;\n",
              "    }\n",
              "</style>\n",
              "<table border=\"1\" class=\"dataframe\">\n",
              "  <thead>\n",
              "    <tr style=\"text-align: right;\">\n",
              "      <th></th>\n",
              "      <th>rank</th>\n",
              "      <th>gre_sum</th>\n",
              "      <th>gpa_sum</th>\n",
              "    </tr>\n",
              "  </thead>\n",
              "  <tbody>\n",
              "    <tr>\n",
              "      <th>0</th>\n",
              "      <td>1</td>\n",
              "      <td>37320</td>\n",
              "      <td>210.64</td>\n",
              "    </tr>\n",
              "    <tr>\n",
              "      <th>1</th>\n",
              "      <td>2</td>\n",
              "      <td>90000</td>\n",
              "      <td>507.61</td>\n",
              "    </tr>\n",
              "    <tr>\n",
              "      <th>2</th>\n",
              "      <td>3</td>\n",
              "      <td>69560</td>\n",
              "      <td>415.38</td>\n",
              "    </tr>\n",
              "    <tr>\n",
              "      <th>3</th>\n",
              "      <td>4</td>\n",
              "      <td>38200</td>\n",
              "      <td>222.33</td>\n",
              "    </tr>\n",
              "  </tbody>\n",
              "</table>\n",
              "</div>"
            ],
            "text/plain": [
              "   rank  gre_sum  gpa_sum\n",
              "0     1    37320   210.64\n",
              "1     2    90000   507.61\n",
              "2     3    69560   415.38\n",
              "3     4    38200   222.33"
            ]
          },
          "metadata": {
            "tags": []
          },
          "execution_count": 13
        }
      ]
    },
    {
      "cell_type": "markdown",
      "metadata": {
        "id": "-Jn7GHvUeJYR"
      },
      "source": [
        "10) merge() 함수를 사용해 df_mean, df_sum 데이터프레임을 조인한 결과를 갖는 df_graduate2 데이터프레임을 만드세요.\n",
        "\n",
        "- 단, 양쪽 데이터프레임의 rank 열을 기준으로 inner join 하세요."
      ]
    },
    {
      "cell_type": "code",
      "metadata": {
        "id": "SHBbRkKseJYS",
        "colab": {
          "base_uri": "https://localhost:8080/",
          "height": 166
        },
        "outputId": "39517f98-bdda-4a81-ef46-5ddd52a1a8df"
      },
      "source": [
        "# 데이터프레임 조인\n",
        "df_graduate2 = pd.merge(df_mean, df_sum, on='rank', how='inner')\n",
        "\n",
        "# 확인\n",
        "df_graduate2.head()"
      ],
      "execution_count": 14,
      "outputs": [
        {
          "output_type": "execute_result",
          "data": {
            "text/html": [
              "<div>\n",
              "<style scoped>\n",
              "    .dataframe tbody tr th:only-of-type {\n",
              "        vertical-align: middle;\n",
              "    }\n",
              "\n",
              "    .dataframe tbody tr th {\n",
              "        vertical-align: top;\n",
              "    }\n",
              "\n",
              "    .dataframe thead th {\n",
              "        text-align: right;\n",
              "    }\n",
              "</style>\n",
              "<table border=\"1\" class=\"dataframe\">\n",
              "  <thead>\n",
              "    <tr style=\"text-align: right;\">\n",
              "      <th></th>\n",
              "      <th>rank</th>\n",
              "      <th>gre_mean</th>\n",
              "      <th>gpa_mean</th>\n",
              "      <th>gre_sum</th>\n",
              "      <th>gpa_sum</th>\n",
              "    </tr>\n",
              "  </thead>\n",
              "  <tbody>\n",
              "    <tr>\n",
              "      <th>0</th>\n",
              "      <td>1</td>\n",
              "      <td>611.803279</td>\n",
              "      <td>3.453115</td>\n",
              "      <td>37320</td>\n",
              "      <td>210.64</td>\n",
              "    </tr>\n",
              "    <tr>\n",
              "      <th>1</th>\n",
              "      <td>2</td>\n",
              "      <td>596.026490</td>\n",
              "      <td>3.361656</td>\n",
              "      <td>90000</td>\n",
              "      <td>507.61</td>\n",
              "    </tr>\n",
              "    <tr>\n",
              "      <th>2</th>\n",
              "      <td>3</td>\n",
              "      <td>574.876033</td>\n",
              "      <td>3.432893</td>\n",
              "      <td>69560</td>\n",
              "      <td>415.38</td>\n",
              "    </tr>\n",
              "    <tr>\n",
              "      <th>3</th>\n",
              "      <td>4</td>\n",
              "      <td>570.149254</td>\n",
              "      <td>3.318358</td>\n",
              "      <td>38200</td>\n",
              "      <td>222.33</td>\n",
              "    </tr>\n",
              "  </tbody>\n",
              "</table>\n",
              "</div>"
            ],
            "text/plain": [
              "   rank    gre_mean  gpa_mean  gre_sum  gpa_sum\n",
              "0     1  611.803279  3.453115    37320   210.64\n",
              "1     2  596.026490  3.361656    90000   507.61\n",
              "2     3  574.876033  3.432893    69560   415.38\n",
              "3     4  570.149254  3.318358    38200   222.33"
            ]
          },
          "metadata": {
            "tags": []
          },
          "execution_count": 14
        }
      ]
    },
    {
      "cell_type": "markdown",
      "metadata": {
        "id": "OtFGubJVjZM6"
      },
      "source": [
        "## [실습3] 데이터프레임 조인 #2"
      ]
    },
    {
      "cell_type": "code",
      "metadata": {
        "id": "alHBNob1gzEw"
      },
      "source": [
        "# 라이브러리 불러오기\n",
        "import pandas as pd\n",
        "import numpy as np\n",
        "import matplotlib.pyplot as plt\n",
        "\n",
        "%config InlineBackend.figure_format='retina'"
      ],
      "execution_count": 15,
      "outputs": []
    },
    {
      "cell_type": "code",
      "metadata": {
        "id": "hlUZvNq7gzE1"
      },
      "source": [
        "# titanic 데이터 불러오기\n",
        "file_path = 'https://raw.githubusercontent.com/Jangrae/csv/master/titanic_simple.csv'\n",
        "titanic = pd.read_csv(file_path, sep = ',') "
      ],
      "execution_count": 16,
      "outputs": []
    },
    {
      "cell_type": "markdown",
      "metadata": {
        "id": "U-_2jBRQjdpi"
      },
      "source": [
        "11) 다음 세 가지 데이터프레임을 만드세요.\n",
        "\n",
        "- 탑승지역 + 남녀별 평균 나이를 갖는 데이터프레임 df_mean\n",
        "- 탑승지역 + 남녀별 최대 나이를 갖는 데이터프레임 df_max\n",
        "- 탑승지역 + 남녀별 최소 나이를 갖는 데이터프레임 df_min\n",
        "- 단, as_index=False 옵션을 지정하세요."
      ]
    },
    {
      "cell_type": "code",
      "metadata": {
        "id": "b1mgvjxjwxrJ",
        "colab": {
          "base_uri": "https://localhost:8080/",
          "height": 196
        },
        "outputId": "2ffdc829-a125-49cd-a4f0-d6404d28cfd1"
      },
      "source": [
        "# df_mean 데이터프레임 만들기\n",
        "df_mean = titanic.groupby(['Embarked', 'Sex'], as_index=False)['Age'].mean()\n",
        "\n",
        "# 확인\n",
        "df_mean.head()"
      ],
      "execution_count": 17,
      "outputs": [
        {
          "output_type": "execute_result",
          "data": {
            "text/html": [
              "<div>\n",
              "<style scoped>\n",
              "    .dataframe tbody tr th:only-of-type {\n",
              "        vertical-align: middle;\n",
              "    }\n",
              "\n",
              "    .dataframe tbody tr th {\n",
              "        vertical-align: top;\n",
              "    }\n",
              "\n",
              "    .dataframe thead th {\n",
              "        text-align: right;\n",
              "    }\n",
              "</style>\n",
              "<table border=\"1\" class=\"dataframe\">\n",
              "  <thead>\n",
              "    <tr style=\"text-align: right;\">\n",
              "      <th></th>\n",
              "      <th>Embarked</th>\n",
              "      <th>Sex</th>\n",
              "      <th>Age</th>\n",
              "    </tr>\n",
              "  </thead>\n",
              "  <tbody>\n",
              "    <tr>\n",
              "      <th>0</th>\n",
              "      <td>Cherbourg</td>\n",
              "      <td>female</td>\n",
              "      <td>28.344262</td>\n",
              "    </tr>\n",
              "    <tr>\n",
              "      <th>1</th>\n",
              "      <td>Cherbourg</td>\n",
              "      <td>male</td>\n",
              "      <td>32.998841</td>\n",
              "    </tr>\n",
              "    <tr>\n",
              "      <th>2</th>\n",
              "      <td>Queenstown</td>\n",
              "      <td>female</td>\n",
              "      <td>24.291667</td>\n",
              "    </tr>\n",
              "    <tr>\n",
              "      <th>3</th>\n",
              "      <td>Queenstown</td>\n",
              "      <td>male</td>\n",
              "      <td>30.937500</td>\n",
              "    </tr>\n",
              "    <tr>\n",
              "      <th>4</th>\n",
              "      <td>Southhampton</td>\n",
              "      <td>female</td>\n",
              "      <td>27.771505</td>\n",
              "    </tr>\n",
              "  </tbody>\n",
              "</table>\n",
              "</div>"
            ],
            "text/plain": [
              "       Embarked     Sex        Age\n",
              "0     Cherbourg  female  28.344262\n",
              "1     Cherbourg    male  32.998841\n",
              "2    Queenstown  female  24.291667\n",
              "3    Queenstown    male  30.937500\n",
              "4  Southhampton  female  27.771505"
            ]
          },
          "metadata": {
            "tags": []
          },
          "execution_count": 17
        }
      ]
    },
    {
      "cell_type": "code",
      "metadata": {
        "id": "VR8gPiFHGtw8",
        "colab": {
          "base_uri": "https://localhost:8080/",
          "height": 196
        },
        "outputId": "d055347e-cdd6-44b8-835a-171cb2ca3945"
      },
      "source": [
        "# df_max 데이터프레임 만들기\n",
        "df_max = titanic.groupby(['Embarked', 'Sex'], as_index=False)['Age'].max()\n",
        "\n",
        "# 확인\n",
        "df_max.head()"
      ],
      "execution_count": 18,
      "outputs": [
        {
          "output_type": "execute_result",
          "data": {
            "text/html": [
              "<div>\n",
              "<style scoped>\n",
              "    .dataframe tbody tr th:only-of-type {\n",
              "        vertical-align: middle;\n",
              "    }\n",
              "\n",
              "    .dataframe tbody tr th {\n",
              "        vertical-align: top;\n",
              "    }\n",
              "\n",
              "    .dataframe thead th {\n",
              "        text-align: right;\n",
              "    }\n",
              "</style>\n",
              "<table border=\"1\" class=\"dataframe\">\n",
              "  <thead>\n",
              "    <tr style=\"text-align: right;\">\n",
              "      <th></th>\n",
              "      <th>Embarked</th>\n",
              "      <th>Sex</th>\n",
              "      <th>Age</th>\n",
              "    </tr>\n",
              "  </thead>\n",
              "  <tbody>\n",
              "    <tr>\n",
              "      <th>0</th>\n",
              "      <td>Cherbourg</td>\n",
              "      <td>female</td>\n",
              "      <td>60.0</td>\n",
              "    </tr>\n",
              "    <tr>\n",
              "      <th>1</th>\n",
              "      <td>Cherbourg</td>\n",
              "      <td>male</td>\n",
              "      <td>71.0</td>\n",
              "    </tr>\n",
              "    <tr>\n",
              "      <th>2</th>\n",
              "      <td>Queenstown</td>\n",
              "      <td>female</td>\n",
              "      <td>39.0</td>\n",
              "    </tr>\n",
              "    <tr>\n",
              "      <th>3</th>\n",
              "      <td>Queenstown</td>\n",
              "      <td>male</td>\n",
              "      <td>70.5</td>\n",
              "    </tr>\n",
              "    <tr>\n",
              "      <th>4</th>\n",
              "      <td>Southhampton</td>\n",
              "      <td>female</td>\n",
              "      <td>63.0</td>\n",
              "    </tr>\n",
              "  </tbody>\n",
              "</table>\n",
              "</div>"
            ],
            "text/plain": [
              "       Embarked     Sex   Age\n",
              "0     Cherbourg  female  60.0\n",
              "1     Cherbourg    male  71.0\n",
              "2    Queenstown  female  39.0\n",
              "3    Queenstown    male  70.5\n",
              "4  Southhampton  female  63.0"
            ]
          },
          "metadata": {
            "tags": []
          },
          "execution_count": 18
        }
      ]
    },
    {
      "cell_type": "code",
      "metadata": {
        "id": "zYUk1UeFGtw_",
        "colab": {
          "base_uri": "https://localhost:8080/",
          "height": 196
        },
        "outputId": "469ad74f-2ece-492b-ddde-5084ba0f9724"
      },
      "source": [
        "# df_min 데이터프레임 만들기\n",
        "df_min = titanic.groupby(['Embarked', 'Sex'], as_index=False)['Age'].min()\n",
        "\n",
        "# 확인\n",
        "df_min.head()"
      ],
      "execution_count": 19,
      "outputs": [
        {
          "output_type": "execute_result",
          "data": {
            "text/html": [
              "<div>\n",
              "<style scoped>\n",
              "    .dataframe tbody tr th:only-of-type {\n",
              "        vertical-align: middle;\n",
              "    }\n",
              "\n",
              "    .dataframe tbody tr th {\n",
              "        vertical-align: top;\n",
              "    }\n",
              "\n",
              "    .dataframe thead th {\n",
              "        text-align: right;\n",
              "    }\n",
              "</style>\n",
              "<table border=\"1\" class=\"dataframe\">\n",
              "  <thead>\n",
              "    <tr style=\"text-align: right;\">\n",
              "      <th></th>\n",
              "      <th>Embarked</th>\n",
              "      <th>Sex</th>\n",
              "      <th>Age</th>\n",
              "    </tr>\n",
              "  </thead>\n",
              "  <tbody>\n",
              "    <tr>\n",
              "      <th>0</th>\n",
              "      <td>Cherbourg</td>\n",
              "      <td>female</td>\n",
              "      <td>0.75</td>\n",
              "    </tr>\n",
              "    <tr>\n",
              "      <th>1</th>\n",
              "      <td>Cherbourg</td>\n",
              "      <td>male</td>\n",
              "      <td>0.42</td>\n",
              "    </tr>\n",
              "    <tr>\n",
              "      <th>2</th>\n",
              "      <td>Queenstown</td>\n",
              "      <td>female</td>\n",
              "      <td>15.00</td>\n",
              "    </tr>\n",
              "    <tr>\n",
              "      <th>3</th>\n",
              "      <td>Queenstown</td>\n",
              "      <td>male</td>\n",
              "      <td>2.00</td>\n",
              "    </tr>\n",
              "    <tr>\n",
              "      <th>4</th>\n",
              "      <td>Southhampton</td>\n",
              "      <td>female</td>\n",
              "      <td>1.00</td>\n",
              "    </tr>\n",
              "  </tbody>\n",
              "</table>\n",
              "</div>"
            ],
            "text/plain": [
              "       Embarked     Sex    Age\n",
              "0     Cherbourg  female   0.75\n",
              "1     Cherbourg    male   0.42\n",
              "2    Queenstown  female  15.00\n",
              "3    Queenstown    male   2.00\n",
              "4  Southhampton  female   1.00"
            ]
          },
          "metadata": {
            "tags": []
          },
          "execution_count": 19
        }
      ]
    },
    {
      "cell_type": "markdown",
      "metadata": {
        "id": "2zXHOrDxGtxB"
      },
      "source": [
        "12) df_mean, df_max, df_min 데이터프레임의 Age 열 이름을 각각 age_mean, age_max, age_min으로 바꾸세요."
      ]
    },
    {
      "cell_type": "code",
      "metadata": {
        "id": "4GTWBGMxGtxB",
        "colab": {
          "base_uri": "https://localhost:8080/",
          "height": 196
        },
        "outputId": "90c29b2c-d790-45a1-fade-1ffbbaed865a"
      },
      "source": [
        "# df_mean 데이터프레임 열 이름 변경: Age --> Age_mean\n",
        "df_mean.rename(columns={'Age':'Age_mean'}, inplace=True)\n",
        "\n",
        "# 확인\n",
        "df_mean.head()"
      ],
      "execution_count": 20,
      "outputs": [
        {
          "output_type": "execute_result",
          "data": {
            "text/html": [
              "<div>\n",
              "<style scoped>\n",
              "    .dataframe tbody tr th:only-of-type {\n",
              "        vertical-align: middle;\n",
              "    }\n",
              "\n",
              "    .dataframe tbody tr th {\n",
              "        vertical-align: top;\n",
              "    }\n",
              "\n",
              "    .dataframe thead th {\n",
              "        text-align: right;\n",
              "    }\n",
              "</style>\n",
              "<table border=\"1\" class=\"dataframe\">\n",
              "  <thead>\n",
              "    <tr style=\"text-align: right;\">\n",
              "      <th></th>\n",
              "      <th>Embarked</th>\n",
              "      <th>Sex</th>\n",
              "      <th>Age_mean</th>\n",
              "    </tr>\n",
              "  </thead>\n",
              "  <tbody>\n",
              "    <tr>\n",
              "      <th>0</th>\n",
              "      <td>Cherbourg</td>\n",
              "      <td>female</td>\n",
              "      <td>28.344262</td>\n",
              "    </tr>\n",
              "    <tr>\n",
              "      <th>1</th>\n",
              "      <td>Cherbourg</td>\n",
              "      <td>male</td>\n",
              "      <td>32.998841</td>\n",
              "    </tr>\n",
              "    <tr>\n",
              "      <th>2</th>\n",
              "      <td>Queenstown</td>\n",
              "      <td>female</td>\n",
              "      <td>24.291667</td>\n",
              "    </tr>\n",
              "    <tr>\n",
              "      <th>3</th>\n",
              "      <td>Queenstown</td>\n",
              "      <td>male</td>\n",
              "      <td>30.937500</td>\n",
              "    </tr>\n",
              "    <tr>\n",
              "      <th>4</th>\n",
              "      <td>Southhampton</td>\n",
              "      <td>female</td>\n",
              "      <td>27.771505</td>\n",
              "    </tr>\n",
              "  </tbody>\n",
              "</table>\n",
              "</div>"
            ],
            "text/plain": [
              "       Embarked     Sex   Age_mean\n",
              "0     Cherbourg  female  28.344262\n",
              "1     Cherbourg    male  32.998841\n",
              "2    Queenstown  female  24.291667\n",
              "3    Queenstown    male  30.937500\n",
              "4  Southhampton  female  27.771505"
            ]
          },
          "metadata": {
            "tags": []
          },
          "execution_count": 20
        }
      ]
    },
    {
      "cell_type": "code",
      "metadata": {
        "id": "4HZkVboJGtxE",
        "colab": {
          "base_uri": "https://localhost:8080/",
          "height": 196
        },
        "outputId": "c94eed48-50f3-4d29-fb20-18eb508086e0"
      },
      "source": [
        "# df_max 데이터프레임 열 이름 변경: Age --> Age_max\n",
        "df_max.rename(columns={'Age':'Age_max'}, inplace=True)\n",
        "\n",
        "# 확인\n",
        "df_max.head()"
      ],
      "execution_count": 21,
      "outputs": [
        {
          "output_type": "execute_result",
          "data": {
            "text/html": [
              "<div>\n",
              "<style scoped>\n",
              "    .dataframe tbody tr th:only-of-type {\n",
              "        vertical-align: middle;\n",
              "    }\n",
              "\n",
              "    .dataframe tbody tr th {\n",
              "        vertical-align: top;\n",
              "    }\n",
              "\n",
              "    .dataframe thead th {\n",
              "        text-align: right;\n",
              "    }\n",
              "</style>\n",
              "<table border=\"1\" class=\"dataframe\">\n",
              "  <thead>\n",
              "    <tr style=\"text-align: right;\">\n",
              "      <th></th>\n",
              "      <th>Embarked</th>\n",
              "      <th>Sex</th>\n",
              "      <th>Age_max</th>\n",
              "    </tr>\n",
              "  </thead>\n",
              "  <tbody>\n",
              "    <tr>\n",
              "      <th>0</th>\n",
              "      <td>Cherbourg</td>\n",
              "      <td>female</td>\n",
              "      <td>60.0</td>\n",
              "    </tr>\n",
              "    <tr>\n",
              "      <th>1</th>\n",
              "      <td>Cherbourg</td>\n",
              "      <td>male</td>\n",
              "      <td>71.0</td>\n",
              "    </tr>\n",
              "    <tr>\n",
              "      <th>2</th>\n",
              "      <td>Queenstown</td>\n",
              "      <td>female</td>\n",
              "      <td>39.0</td>\n",
              "    </tr>\n",
              "    <tr>\n",
              "      <th>3</th>\n",
              "      <td>Queenstown</td>\n",
              "      <td>male</td>\n",
              "      <td>70.5</td>\n",
              "    </tr>\n",
              "    <tr>\n",
              "      <th>4</th>\n",
              "      <td>Southhampton</td>\n",
              "      <td>female</td>\n",
              "      <td>63.0</td>\n",
              "    </tr>\n",
              "  </tbody>\n",
              "</table>\n",
              "</div>"
            ],
            "text/plain": [
              "       Embarked     Sex  Age_max\n",
              "0     Cherbourg  female     60.0\n",
              "1     Cherbourg    male     71.0\n",
              "2    Queenstown  female     39.0\n",
              "3    Queenstown    male     70.5\n",
              "4  Southhampton  female     63.0"
            ]
          },
          "metadata": {
            "tags": []
          },
          "execution_count": 21
        }
      ]
    },
    {
      "cell_type": "code",
      "metadata": {
        "id": "5imUi-miGtxG",
        "colab": {
          "base_uri": "https://localhost:8080/",
          "height": 196
        },
        "outputId": "af1092d5-422a-4479-dfbd-b2abcaab3b9f"
      },
      "source": [
        "# df_min 데이터프레임 열 이름 변경: Age --> Age_min\n",
        "df_min.rename(columns={'Age':'Age_min'}, inplace=True)\n",
        "\n",
        "# 확인\n",
        "df_min.head()"
      ],
      "execution_count": 22,
      "outputs": [
        {
          "output_type": "execute_result",
          "data": {
            "text/html": [
              "<div>\n",
              "<style scoped>\n",
              "    .dataframe tbody tr th:only-of-type {\n",
              "        vertical-align: middle;\n",
              "    }\n",
              "\n",
              "    .dataframe tbody tr th {\n",
              "        vertical-align: top;\n",
              "    }\n",
              "\n",
              "    .dataframe thead th {\n",
              "        text-align: right;\n",
              "    }\n",
              "</style>\n",
              "<table border=\"1\" class=\"dataframe\">\n",
              "  <thead>\n",
              "    <tr style=\"text-align: right;\">\n",
              "      <th></th>\n",
              "      <th>Embarked</th>\n",
              "      <th>Sex</th>\n",
              "      <th>Age_min</th>\n",
              "    </tr>\n",
              "  </thead>\n",
              "  <tbody>\n",
              "    <tr>\n",
              "      <th>0</th>\n",
              "      <td>Cherbourg</td>\n",
              "      <td>female</td>\n",
              "      <td>0.75</td>\n",
              "    </tr>\n",
              "    <tr>\n",
              "      <th>1</th>\n",
              "      <td>Cherbourg</td>\n",
              "      <td>male</td>\n",
              "      <td>0.42</td>\n",
              "    </tr>\n",
              "    <tr>\n",
              "      <th>2</th>\n",
              "      <td>Queenstown</td>\n",
              "      <td>female</td>\n",
              "      <td>15.00</td>\n",
              "    </tr>\n",
              "    <tr>\n",
              "      <th>3</th>\n",
              "      <td>Queenstown</td>\n",
              "      <td>male</td>\n",
              "      <td>2.00</td>\n",
              "    </tr>\n",
              "    <tr>\n",
              "      <th>4</th>\n",
              "      <td>Southhampton</td>\n",
              "      <td>female</td>\n",
              "      <td>1.00</td>\n",
              "    </tr>\n",
              "  </tbody>\n",
              "</table>\n",
              "</div>"
            ],
            "text/plain": [
              "       Embarked     Sex  Age_min\n",
              "0     Cherbourg  female     0.75\n",
              "1     Cherbourg    male     0.42\n",
              "2    Queenstown  female    15.00\n",
              "3    Queenstown    male     2.00\n",
              "4  Southhampton  female     1.00"
            ]
          },
          "metadata": {
            "tags": []
          },
          "execution_count": 22
        }
      ]
    },
    {
      "cell_type": "markdown",
      "metadata": {
        "id": "ofV97U6UGtxI"
      },
      "source": [
        "13) df_mean, df_max, df_min 데이터프레임을 조인해서 df_titanic 데이터프레임을 만드세요.\n",
        "\n",
        "- 단, Embarked, Sex 열을 기준으로 inner join 하세요."
      ]
    },
    {
      "cell_type": "code",
      "metadata": {
        "id": "Nt5uh4qqGtxI",
        "colab": {
          "base_uri": "https://localhost:8080/",
          "height": 196
        },
        "outputId": "156ef8cc-e468-44a9-d166-55b6f1bf0cff"
      },
      "source": [
        "# 조인 #1\n",
        "df_titanic = pd.merge(df_mean, df_max, on=['Embarked', 'Sex'], how='inner')\n",
        "\n",
        "# 조인 #2\n",
        "df_titanic = pd.merge(df_titanic, df_min, on=['Embarked', 'Sex'], how='inner')\n",
        "\n",
        "# 확인\n",
        "df_titanic.head()"
      ],
      "execution_count": 23,
      "outputs": [
        {
          "output_type": "execute_result",
          "data": {
            "text/html": [
              "<div>\n",
              "<style scoped>\n",
              "    .dataframe tbody tr th:only-of-type {\n",
              "        vertical-align: middle;\n",
              "    }\n",
              "\n",
              "    .dataframe tbody tr th {\n",
              "        vertical-align: top;\n",
              "    }\n",
              "\n",
              "    .dataframe thead th {\n",
              "        text-align: right;\n",
              "    }\n",
              "</style>\n",
              "<table border=\"1\" class=\"dataframe\">\n",
              "  <thead>\n",
              "    <tr style=\"text-align: right;\">\n",
              "      <th></th>\n",
              "      <th>Embarked</th>\n",
              "      <th>Sex</th>\n",
              "      <th>Age_mean</th>\n",
              "      <th>Age_max</th>\n",
              "      <th>Age_min</th>\n",
              "    </tr>\n",
              "  </thead>\n",
              "  <tbody>\n",
              "    <tr>\n",
              "      <th>0</th>\n",
              "      <td>Cherbourg</td>\n",
              "      <td>female</td>\n",
              "      <td>28.344262</td>\n",
              "      <td>60.0</td>\n",
              "      <td>0.75</td>\n",
              "    </tr>\n",
              "    <tr>\n",
              "      <th>1</th>\n",
              "      <td>Cherbourg</td>\n",
              "      <td>male</td>\n",
              "      <td>32.998841</td>\n",
              "      <td>71.0</td>\n",
              "      <td>0.42</td>\n",
              "    </tr>\n",
              "    <tr>\n",
              "      <th>2</th>\n",
              "      <td>Queenstown</td>\n",
              "      <td>female</td>\n",
              "      <td>24.291667</td>\n",
              "      <td>39.0</td>\n",
              "      <td>15.00</td>\n",
              "    </tr>\n",
              "    <tr>\n",
              "      <th>3</th>\n",
              "      <td>Queenstown</td>\n",
              "      <td>male</td>\n",
              "      <td>30.937500</td>\n",
              "      <td>70.5</td>\n",
              "      <td>2.00</td>\n",
              "    </tr>\n",
              "    <tr>\n",
              "      <th>4</th>\n",
              "      <td>Southhampton</td>\n",
              "      <td>female</td>\n",
              "      <td>27.771505</td>\n",
              "      <td>63.0</td>\n",
              "      <td>1.00</td>\n",
              "    </tr>\n",
              "  </tbody>\n",
              "</table>\n",
              "</div>"
            ],
            "text/plain": [
              "       Embarked     Sex   Age_mean  Age_max  Age_min\n",
              "0     Cherbourg  female  28.344262     60.0     0.75\n",
              "1     Cherbourg    male  32.998841     71.0     0.42\n",
              "2    Queenstown  female  24.291667     39.0    15.00\n",
              "3    Queenstown    male  30.937500     70.5     2.00\n",
              "4  Southhampton  female  27.771505     63.0     1.00"
            ]
          },
          "metadata": {
            "tags": []
          },
          "execution_count": 23
        }
      ]
    },
    {
      "cell_type": "markdown",
      "metadata": {
        "id": "4aefGZ-GInlR"
      },
      "source": [
        "## [실습4] 데이터프레임 롤링 시프트\n"
      ]
    },
    {
      "cell_type": "code",
      "metadata": {
        "id": "b46u7om7LInB"
      },
      "source": [
        "# 라이브러리와 파일 불러오기\n",
        "import pandas as pd\n",
        "import numpy as np\n",
        "import matplotlib.pyplot as plt\n",
        "\n",
        "%config InlineBackend.figure_format='retina'"
      ],
      "execution_count": 24,
      "outputs": []
    },
    {
      "cell_type": "code",
      "metadata": {
        "id": "5xUG91RFB-RA",
        "colab": {
          "base_uri": "https://localhost:8080/",
          "height": 196
        },
        "outputId": "eb4fc808-239c-429b-cd85-6849a8b2b47c"
      },
      "source": [
        "# 파일 읽어오기\n",
        "file_path = 'https://raw.githubusercontent.com/Jangrae/csv/master/stock.csv'\n",
        "stock = pd.read_csv(file_path, sep = ',') \n",
        "stock.head()"
      ],
      "execution_count": 25,
      "outputs": [
        {
          "output_type": "execute_result",
          "data": {
            "text/html": [
              "<div>\n",
              "<style scoped>\n",
              "    .dataframe tbody tr th:only-of-type {\n",
              "        vertical-align: middle;\n",
              "    }\n",
              "\n",
              "    .dataframe tbody tr th {\n",
              "        vertical-align: top;\n",
              "    }\n",
              "\n",
              "    .dataframe thead th {\n",
              "        text-align: right;\n",
              "    }\n",
              "</style>\n",
              "<table border=\"1\" class=\"dataframe\">\n",
              "  <thead>\n",
              "    <tr style=\"text-align: right;\">\n",
              "      <th></th>\n",
              "      <th>Date</th>\n",
              "      <th>High</th>\n",
              "      <th>Low</th>\n",
              "      <th>Open</th>\n",
              "      <th>Close</th>\n",
              "      <th>Volume</th>\n",
              "      <th>Adj Close</th>\n",
              "    </tr>\n",
              "  </thead>\n",
              "  <tbody>\n",
              "    <tr>\n",
              "      <th>0</th>\n",
              "      <td>2000-01-03</td>\n",
              "      <td>4.017857</td>\n",
              "      <td>3.631696</td>\n",
              "      <td>3.745536</td>\n",
              "      <td>3.997768</td>\n",
              "      <td>133949200</td>\n",
              "      <td>3.470226</td>\n",
              "    </tr>\n",
              "    <tr>\n",
              "      <th>1</th>\n",
              "      <td>2000-01-04</td>\n",
              "      <td>3.950893</td>\n",
              "      <td>3.613839</td>\n",
              "      <td>3.866071</td>\n",
              "      <td>3.660714</td>\n",
              "      <td>128094400</td>\n",
              "      <td>3.177650</td>\n",
              "    </tr>\n",
              "    <tr>\n",
              "      <th>2</th>\n",
              "      <td>2000-01-05</td>\n",
              "      <td>3.948661</td>\n",
              "      <td>3.678571</td>\n",
              "      <td>3.705357</td>\n",
              "      <td>3.714286</td>\n",
              "      <td>194580400</td>\n",
              "      <td>3.224152</td>\n",
              "    </tr>\n",
              "    <tr>\n",
              "      <th>3</th>\n",
              "      <td>2000-01-06</td>\n",
              "      <td>3.821429</td>\n",
              "      <td>3.392857</td>\n",
              "      <td>3.790179</td>\n",
              "      <td>3.392857</td>\n",
              "      <td>191993200</td>\n",
              "      <td>2.945139</td>\n",
              "    </tr>\n",
              "    <tr>\n",
              "      <th>4</th>\n",
              "      <td>2000-01-07</td>\n",
              "      <td>3.607143</td>\n",
              "      <td>3.410714</td>\n",
              "      <td>3.446429</td>\n",
              "      <td>3.553571</td>\n",
              "      <td>115183600</td>\n",
              "      <td>3.084645</td>\n",
              "    </tr>\n",
              "  </tbody>\n",
              "</table>\n",
              "</div>"
            ],
            "text/plain": [
              "         Date      High       Low      Open     Close     Volume  Adj Close\n",
              "0  2000-01-03  4.017857  3.631696  3.745536  3.997768  133949200   3.470226\n",
              "1  2000-01-04  3.950893  3.613839  3.866071  3.660714  128094400   3.177650\n",
              "2  2000-01-05  3.948661  3.678571  3.705357  3.714286  194580400   3.224152\n",
              "3  2000-01-06  3.821429  3.392857  3.790179  3.392857  191993200   2.945139\n",
              "4  2000-01-07  3.607143  3.410714  3.446429  3.553571  115183600   3.084645"
            ]
          },
          "metadata": {
            "tags": []
          },
          "execution_count": 25
        }
      ]
    },
    {
      "cell_type": "markdown",
      "metadata": {
        "id": "UvjlUiVxCVqQ"
      },
      "source": [
        "14) stock 데이터프레임에서 Adj Close 열을 제거하세요."
      ]
    },
    {
      "cell_type": "code",
      "metadata": {
        "id": "sEA1Eeu4CarG",
        "colab": {
          "base_uri": "https://localhost:8080/",
          "height": 196
        },
        "outputId": "ea341a3c-9671-4657-bd49-c861d1c7825e"
      },
      "source": [
        "# Adj Close 열 제거\n",
        "stock.drop('Adj Close', axis=1, inplace=True)\n",
        "\n",
        "# 확인\n",
        "stock.head()"
      ],
      "execution_count": 26,
      "outputs": [
        {
          "output_type": "execute_result",
          "data": {
            "text/html": [
              "<div>\n",
              "<style scoped>\n",
              "    .dataframe tbody tr th:only-of-type {\n",
              "        vertical-align: middle;\n",
              "    }\n",
              "\n",
              "    .dataframe tbody tr th {\n",
              "        vertical-align: top;\n",
              "    }\n",
              "\n",
              "    .dataframe thead th {\n",
              "        text-align: right;\n",
              "    }\n",
              "</style>\n",
              "<table border=\"1\" class=\"dataframe\">\n",
              "  <thead>\n",
              "    <tr style=\"text-align: right;\">\n",
              "      <th></th>\n",
              "      <th>Date</th>\n",
              "      <th>High</th>\n",
              "      <th>Low</th>\n",
              "      <th>Open</th>\n",
              "      <th>Close</th>\n",
              "      <th>Volume</th>\n",
              "    </tr>\n",
              "  </thead>\n",
              "  <tbody>\n",
              "    <tr>\n",
              "      <th>0</th>\n",
              "      <td>2000-01-03</td>\n",
              "      <td>4.017857</td>\n",
              "      <td>3.631696</td>\n",
              "      <td>3.745536</td>\n",
              "      <td>3.997768</td>\n",
              "      <td>133949200</td>\n",
              "    </tr>\n",
              "    <tr>\n",
              "      <th>1</th>\n",
              "      <td>2000-01-04</td>\n",
              "      <td>3.950893</td>\n",
              "      <td>3.613839</td>\n",
              "      <td>3.866071</td>\n",
              "      <td>3.660714</td>\n",
              "      <td>128094400</td>\n",
              "    </tr>\n",
              "    <tr>\n",
              "      <th>2</th>\n",
              "      <td>2000-01-05</td>\n",
              "      <td>3.948661</td>\n",
              "      <td>3.678571</td>\n",
              "      <td>3.705357</td>\n",
              "      <td>3.714286</td>\n",
              "      <td>194580400</td>\n",
              "    </tr>\n",
              "    <tr>\n",
              "      <th>3</th>\n",
              "      <td>2000-01-06</td>\n",
              "      <td>3.821429</td>\n",
              "      <td>3.392857</td>\n",
              "      <td>3.790179</td>\n",
              "      <td>3.392857</td>\n",
              "      <td>191993200</td>\n",
              "    </tr>\n",
              "    <tr>\n",
              "      <th>4</th>\n",
              "      <td>2000-01-07</td>\n",
              "      <td>3.607143</td>\n",
              "      <td>3.410714</td>\n",
              "      <td>3.446429</td>\n",
              "      <td>3.553571</td>\n",
              "      <td>115183600</td>\n",
              "    </tr>\n",
              "  </tbody>\n",
              "</table>\n",
              "</div>"
            ],
            "text/plain": [
              "         Date      High       Low      Open     Close     Volume\n",
              "0  2000-01-03  4.017857  3.631696  3.745536  3.997768  133949200\n",
              "1  2000-01-04  3.950893  3.613839  3.866071  3.660714  128094400\n",
              "2  2000-01-05  3.948661  3.678571  3.705357  3.714286  194580400\n",
              "3  2000-01-06  3.821429  3.392857  3.790179  3.392857  191993200\n",
              "4  2000-01-07  3.607143  3.410714  3.446429  3.553571  115183600"
            ]
          },
          "metadata": {
            "tags": []
          },
          "execution_count": 26
        }
      ]
    },
    {
      "cell_type": "markdown",
      "metadata": {
        "id": "OI_w1tC1-RFV"
      },
      "source": [
        "15) rolling() 메소드를 사용해 기준일 포함 최근 3일 최대 주가를 갖는 Close_lag3_1 열을 추가하세요."
      ]
    },
    {
      "cell_type": "code",
      "metadata": {
        "id": "D3IDbDFywxrh",
        "colab": {
          "base_uri": "https://localhost:8080/",
          "height": 345
        },
        "outputId": "38a103a4-e701-4917-ade3-84ee2e64303e"
      },
      "source": [
        "# 3일 이동 최대 주가\n",
        "stock['Close_lag3_1'] = stock['Close'].rolling(3).max()\n",
        "\n",
        "# 확인\n",
        "stock.head(10)"
      ],
      "execution_count": 27,
      "outputs": [
        {
          "output_type": "execute_result",
          "data": {
            "text/html": [
              "<div>\n",
              "<style scoped>\n",
              "    .dataframe tbody tr th:only-of-type {\n",
              "        vertical-align: middle;\n",
              "    }\n",
              "\n",
              "    .dataframe tbody tr th {\n",
              "        vertical-align: top;\n",
              "    }\n",
              "\n",
              "    .dataframe thead th {\n",
              "        text-align: right;\n",
              "    }\n",
              "</style>\n",
              "<table border=\"1\" class=\"dataframe\">\n",
              "  <thead>\n",
              "    <tr style=\"text-align: right;\">\n",
              "      <th></th>\n",
              "      <th>Date</th>\n",
              "      <th>High</th>\n",
              "      <th>Low</th>\n",
              "      <th>Open</th>\n",
              "      <th>Close</th>\n",
              "      <th>Volume</th>\n",
              "      <th>Close_lag3_1</th>\n",
              "    </tr>\n",
              "  </thead>\n",
              "  <tbody>\n",
              "    <tr>\n",
              "      <th>0</th>\n",
              "      <td>2000-01-03</td>\n",
              "      <td>4.017857</td>\n",
              "      <td>3.631696</td>\n",
              "      <td>3.745536</td>\n",
              "      <td>3.997768</td>\n",
              "      <td>133949200</td>\n",
              "      <td>NaN</td>\n",
              "    </tr>\n",
              "    <tr>\n",
              "      <th>1</th>\n",
              "      <td>2000-01-04</td>\n",
              "      <td>3.950893</td>\n",
              "      <td>3.613839</td>\n",
              "      <td>3.866071</td>\n",
              "      <td>3.660714</td>\n",
              "      <td>128094400</td>\n",
              "      <td>NaN</td>\n",
              "    </tr>\n",
              "    <tr>\n",
              "      <th>2</th>\n",
              "      <td>2000-01-05</td>\n",
              "      <td>3.948661</td>\n",
              "      <td>3.678571</td>\n",
              "      <td>3.705357</td>\n",
              "      <td>3.714286</td>\n",
              "      <td>194580400</td>\n",
              "      <td>3.997768</td>\n",
              "    </tr>\n",
              "    <tr>\n",
              "      <th>3</th>\n",
              "      <td>2000-01-06</td>\n",
              "      <td>3.821429</td>\n",
              "      <td>3.392857</td>\n",
              "      <td>3.790179</td>\n",
              "      <td>3.392857</td>\n",
              "      <td>191993200</td>\n",
              "      <td>3.714286</td>\n",
              "    </tr>\n",
              "    <tr>\n",
              "      <th>4</th>\n",
              "      <td>2000-01-07</td>\n",
              "      <td>3.607143</td>\n",
              "      <td>3.410714</td>\n",
              "      <td>3.446429</td>\n",
              "      <td>3.553571</td>\n",
              "      <td>115183600</td>\n",
              "      <td>3.714286</td>\n",
              "    </tr>\n",
              "    <tr>\n",
              "      <th>5</th>\n",
              "      <td>2000-01-10</td>\n",
              "      <td>3.651786</td>\n",
              "      <td>3.383929</td>\n",
              "      <td>3.642857</td>\n",
              "      <td>3.491071</td>\n",
              "      <td>126266000</td>\n",
              "      <td>3.553571</td>\n",
              "    </tr>\n",
              "    <tr>\n",
              "      <th>6</th>\n",
              "      <td>2000-01-11</td>\n",
              "      <td>3.549107</td>\n",
              "      <td>3.232143</td>\n",
              "      <td>3.426339</td>\n",
              "      <td>3.312500</td>\n",
              "      <td>110387200</td>\n",
              "      <td>3.553571</td>\n",
              "    </tr>\n",
              "    <tr>\n",
              "      <th>7</th>\n",
              "      <td>2000-01-12</td>\n",
              "      <td>3.410714</td>\n",
              "      <td>3.089286</td>\n",
              "      <td>3.392857</td>\n",
              "      <td>3.113839</td>\n",
              "      <td>244017200</td>\n",
              "      <td>3.491071</td>\n",
              "    </tr>\n",
              "    <tr>\n",
              "      <th>8</th>\n",
              "      <td>2000-01-13</td>\n",
              "      <td>3.526786</td>\n",
              "      <td>3.303571</td>\n",
              "      <td>3.374442</td>\n",
              "      <td>3.455357</td>\n",
              "      <td>258171200</td>\n",
              "      <td>3.455357</td>\n",
              "    </tr>\n",
              "    <tr>\n",
              "      <th>9</th>\n",
              "      <td>2000-01-14</td>\n",
              "      <td>3.651786</td>\n",
              "      <td>3.549107</td>\n",
              "      <td>3.571429</td>\n",
              "      <td>3.587054</td>\n",
              "      <td>97594000</td>\n",
              "      <td>3.587054</td>\n",
              "    </tr>\n",
              "  </tbody>\n",
              "</table>\n",
              "</div>"
            ],
            "text/plain": [
              "         Date      High       Low      Open     Close     Volume  Close_lag3_1\n",
              "0  2000-01-03  4.017857  3.631696  3.745536  3.997768  133949200           NaN\n",
              "1  2000-01-04  3.950893  3.613839  3.866071  3.660714  128094400           NaN\n",
              "2  2000-01-05  3.948661  3.678571  3.705357  3.714286  194580400      3.997768\n",
              "3  2000-01-06  3.821429  3.392857  3.790179  3.392857  191993200      3.714286\n",
              "4  2000-01-07  3.607143  3.410714  3.446429  3.553571  115183600      3.714286\n",
              "5  2000-01-10  3.651786  3.383929  3.642857  3.491071  126266000      3.553571\n",
              "6  2000-01-11  3.549107  3.232143  3.426339  3.312500  110387200      3.553571\n",
              "7  2000-01-12  3.410714  3.089286  3.392857  3.113839  244017200      3.491071\n",
              "8  2000-01-13  3.526786  3.303571  3.374442  3.455357  258171200      3.455357\n",
              "9  2000-01-14  3.651786  3.549107  3.571429  3.587054   97594000      3.587054"
            ]
          },
          "metadata": {
            "tags": []
          },
          "execution_count": 27
        }
      ]
    },
    {
      "cell_type": "markdown",
      "metadata": {
        "id": "Lc7SaCSB-Wib"
      },
      "source": [
        "16) rolling(), shift() 메소드를 사용해 기준일을 포함하지 않은 최근 3일의 최대 주가를 갖는 Close_lag3_2 열을 추가하세요."
      ]
    },
    {
      "cell_type": "code",
      "metadata": {
        "id": "bz3MLaILwxrl",
        "colab": {
          "base_uri": "https://localhost:8080/",
          "height": 345
        },
        "outputId": "7f5bcbe1-7525-45c8-997c-90d4e4337190"
      },
      "source": [
        "# 과거 3일의 최대 주가\n",
        "stock['Close_lag3_2'] = stock['Close'].rolling(3).max().shift(1)\n",
        "\n",
        "# 확인\n",
        "stock.head(10)"
      ],
      "execution_count": 28,
      "outputs": [
        {
          "output_type": "execute_result",
          "data": {
            "text/html": [
              "<div>\n",
              "<style scoped>\n",
              "    .dataframe tbody tr th:only-of-type {\n",
              "        vertical-align: middle;\n",
              "    }\n",
              "\n",
              "    .dataframe tbody tr th {\n",
              "        vertical-align: top;\n",
              "    }\n",
              "\n",
              "    .dataframe thead th {\n",
              "        text-align: right;\n",
              "    }\n",
              "</style>\n",
              "<table border=\"1\" class=\"dataframe\">\n",
              "  <thead>\n",
              "    <tr style=\"text-align: right;\">\n",
              "      <th></th>\n",
              "      <th>Date</th>\n",
              "      <th>High</th>\n",
              "      <th>Low</th>\n",
              "      <th>Open</th>\n",
              "      <th>Close</th>\n",
              "      <th>Volume</th>\n",
              "      <th>Close_lag3_1</th>\n",
              "      <th>Close_lag3_2</th>\n",
              "    </tr>\n",
              "  </thead>\n",
              "  <tbody>\n",
              "    <tr>\n",
              "      <th>0</th>\n",
              "      <td>2000-01-03</td>\n",
              "      <td>4.017857</td>\n",
              "      <td>3.631696</td>\n",
              "      <td>3.745536</td>\n",
              "      <td>3.997768</td>\n",
              "      <td>133949200</td>\n",
              "      <td>NaN</td>\n",
              "      <td>NaN</td>\n",
              "    </tr>\n",
              "    <tr>\n",
              "      <th>1</th>\n",
              "      <td>2000-01-04</td>\n",
              "      <td>3.950893</td>\n",
              "      <td>3.613839</td>\n",
              "      <td>3.866071</td>\n",
              "      <td>3.660714</td>\n",
              "      <td>128094400</td>\n",
              "      <td>NaN</td>\n",
              "      <td>NaN</td>\n",
              "    </tr>\n",
              "    <tr>\n",
              "      <th>2</th>\n",
              "      <td>2000-01-05</td>\n",
              "      <td>3.948661</td>\n",
              "      <td>3.678571</td>\n",
              "      <td>3.705357</td>\n",
              "      <td>3.714286</td>\n",
              "      <td>194580400</td>\n",
              "      <td>3.997768</td>\n",
              "      <td>NaN</td>\n",
              "    </tr>\n",
              "    <tr>\n",
              "      <th>3</th>\n",
              "      <td>2000-01-06</td>\n",
              "      <td>3.821429</td>\n",
              "      <td>3.392857</td>\n",
              "      <td>3.790179</td>\n",
              "      <td>3.392857</td>\n",
              "      <td>191993200</td>\n",
              "      <td>3.714286</td>\n",
              "      <td>3.997768</td>\n",
              "    </tr>\n",
              "    <tr>\n",
              "      <th>4</th>\n",
              "      <td>2000-01-07</td>\n",
              "      <td>3.607143</td>\n",
              "      <td>3.410714</td>\n",
              "      <td>3.446429</td>\n",
              "      <td>3.553571</td>\n",
              "      <td>115183600</td>\n",
              "      <td>3.714286</td>\n",
              "      <td>3.714286</td>\n",
              "    </tr>\n",
              "    <tr>\n",
              "      <th>5</th>\n",
              "      <td>2000-01-10</td>\n",
              "      <td>3.651786</td>\n",
              "      <td>3.383929</td>\n",
              "      <td>3.642857</td>\n",
              "      <td>3.491071</td>\n",
              "      <td>126266000</td>\n",
              "      <td>3.553571</td>\n",
              "      <td>3.714286</td>\n",
              "    </tr>\n",
              "    <tr>\n",
              "      <th>6</th>\n",
              "      <td>2000-01-11</td>\n",
              "      <td>3.549107</td>\n",
              "      <td>3.232143</td>\n",
              "      <td>3.426339</td>\n",
              "      <td>3.312500</td>\n",
              "      <td>110387200</td>\n",
              "      <td>3.553571</td>\n",
              "      <td>3.553571</td>\n",
              "    </tr>\n",
              "    <tr>\n",
              "      <th>7</th>\n",
              "      <td>2000-01-12</td>\n",
              "      <td>3.410714</td>\n",
              "      <td>3.089286</td>\n",
              "      <td>3.392857</td>\n",
              "      <td>3.113839</td>\n",
              "      <td>244017200</td>\n",
              "      <td>3.491071</td>\n",
              "      <td>3.553571</td>\n",
              "    </tr>\n",
              "    <tr>\n",
              "      <th>8</th>\n",
              "      <td>2000-01-13</td>\n",
              "      <td>3.526786</td>\n",
              "      <td>3.303571</td>\n",
              "      <td>3.374442</td>\n",
              "      <td>3.455357</td>\n",
              "      <td>258171200</td>\n",
              "      <td>3.455357</td>\n",
              "      <td>3.491071</td>\n",
              "    </tr>\n",
              "    <tr>\n",
              "      <th>9</th>\n",
              "      <td>2000-01-14</td>\n",
              "      <td>3.651786</td>\n",
              "      <td>3.549107</td>\n",
              "      <td>3.571429</td>\n",
              "      <td>3.587054</td>\n",
              "      <td>97594000</td>\n",
              "      <td>3.587054</td>\n",
              "      <td>3.455357</td>\n",
              "    </tr>\n",
              "  </tbody>\n",
              "</table>\n",
              "</div>"
            ],
            "text/plain": [
              "         Date      High       Low  ...     Volume  Close_lag3_1  Close_lag3_2\n",
              "0  2000-01-03  4.017857  3.631696  ...  133949200           NaN           NaN\n",
              "1  2000-01-04  3.950893  3.613839  ...  128094400           NaN           NaN\n",
              "2  2000-01-05  3.948661  3.678571  ...  194580400      3.997768           NaN\n",
              "3  2000-01-06  3.821429  3.392857  ...  191993200      3.714286      3.997768\n",
              "4  2000-01-07  3.607143  3.410714  ...  115183600      3.714286      3.714286\n",
              "5  2000-01-10  3.651786  3.383929  ...  126266000      3.553571      3.714286\n",
              "6  2000-01-11  3.549107  3.232143  ...  110387200      3.553571      3.553571\n",
              "7  2000-01-12  3.410714  3.089286  ...  244017200      3.491071      3.553571\n",
              "8  2000-01-13  3.526786  3.303571  ...  258171200      3.455357      3.491071\n",
              "9  2000-01-14  3.651786  3.549107  ...   97594000      3.587054      3.455357\n",
              "\n",
              "[10 rows x 8 columns]"
            ]
          },
          "metadata": {
            "tags": []
          },
          "execution_count": 28
        }
      ]
    },
    {
      "cell_type": "markdown",
      "metadata": {
        "id": "y0WJstrj-aQP"
      },
      "source": [
        "17) 기준일을 포함하지 않은 최근 7일 평균 거래량을 갖는 Volume_lag7 열을 추가하세요."
      ]
    },
    {
      "cell_type": "code",
      "metadata": {
        "id": "7XSxeLVrwxrq",
        "colab": {
          "base_uri": "https://localhost:8080/",
          "height": 345
        },
        "outputId": "b5844391-7614-4cf1-9738-c88e6d320d5a"
      },
      "source": [
        "# 과거 7일 평균 거래량\n",
        "stock['Volume_lag7'] = stock['Volume'].rolling(7).mean().shift(1)\n",
        "\n",
        "# 확인\n",
        "stock.head(10)"
      ],
      "execution_count": 29,
      "outputs": [
        {
          "output_type": "execute_result",
          "data": {
            "text/html": [
              "<div>\n",
              "<style scoped>\n",
              "    .dataframe tbody tr th:only-of-type {\n",
              "        vertical-align: middle;\n",
              "    }\n",
              "\n",
              "    .dataframe tbody tr th {\n",
              "        vertical-align: top;\n",
              "    }\n",
              "\n",
              "    .dataframe thead th {\n",
              "        text-align: right;\n",
              "    }\n",
              "</style>\n",
              "<table border=\"1\" class=\"dataframe\">\n",
              "  <thead>\n",
              "    <tr style=\"text-align: right;\">\n",
              "      <th></th>\n",
              "      <th>Date</th>\n",
              "      <th>High</th>\n",
              "      <th>Low</th>\n",
              "      <th>Open</th>\n",
              "      <th>Close</th>\n",
              "      <th>Volume</th>\n",
              "      <th>Close_lag3_1</th>\n",
              "      <th>Close_lag3_2</th>\n",
              "      <th>Volume_lag7</th>\n",
              "    </tr>\n",
              "  </thead>\n",
              "  <tbody>\n",
              "    <tr>\n",
              "      <th>0</th>\n",
              "      <td>2000-01-03</td>\n",
              "      <td>4.017857</td>\n",
              "      <td>3.631696</td>\n",
              "      <td>3.745536</td>\n",
              "      <td>3.997768</td>\n",
              "      <td>133949200</td>\n",
              "      <td>NaN</td>\n",
              "      <td>NaN</td>\n",
              "      <td>NaN</td>\n",
              "    </tr>\n",
              "    <tr>\n",
              "      <th>1</th>\n",
              "      <td>2000-01-04</td>\n",
              "      <td>3.950893</td>\n",
              "      <td>3.613839</td>\n",
              "      <td>3.866071</td>\n",
              "      <td>3.660714</td>\n",
              "      <td>128094400</td>\n",
              "      <td>NaN</td>\n",
              "      <td>NaN</td>\n",
              "      <td>NaN</td>\n",
              "    </tr>\n",
              "    <tr>\n",
              "      <th>2</th>\n",
              "      <td>2000-01-05</td>\n",
              "      <td>3.948661</td>\n",
              "      <td>3.678571</td>\n",
              "      <td>3.705357</td>\n",
              "      <td>3.714286</td>\n",
              "      <td>194580400</td>\n",
              "      <td>3.997768</td>\n",
              "      <td>NaN</td>\n",
              "      <td>NaN</td>\n",
              "    </tr>\n",
              "    <tr>\n",
              "      <th>3</th>\n",
              "      <td>2000-01-06</td>\n",
              "      <td>3.821429</td>\n",
              "      <td>3.392857</td>\n",
              "      <td>3.790179</td>\n",
              "      <td>3.392857</td>\n",
              "      <td>191993200</td>\n",
              "      <td>3.714286</td>\n",
              "      <td>3.997768</td>\n",
              "      <td>NaN</td>\n",
              "    </tr>\n",
              "    <tr>\n",
              "      <th>4</th>\n",
              "      <td>2000-01-07</td>\n",
              "      <td>3.607143</td>\n",
              "      <td>3.410714</td>\n",
              "      <td>3.446429</td>\n",
              "      <td>3.553571</td>\n",
              "      <td>115183600</td>\n",
              "      <td>3.714286</td>\n",
              "      <td>3.714286</td>\n",
              "      <td>NaN</td>\n",
              "    </tr>\n",
              "    <tr>\n",
              "      <th>5</th>\n",
              "      <td>2000-01-10</td>\n",
              "      <td>3.651786</td>\n",
              "      <td>3.383929</td>\n",
              "      <td>3.642857</td>\n",
              "      <td>3.491071</td>\n",
              "      <td>126266000</td>\n",
              "      <td>3.553571</td>\n",
              "      <td>3.714286</td>\n",
              "      <td>NaN</td>\n",
              "    </tr>\n",
              "    <tr>\n",
              "      <th>6</th>\n",
              "      <td>2000-01-11</td>\n",
              "      <td>3.549107</td>\n",
              "      <td>3.232143</td>\n",
              "      <td>3.426339</td>\n",
              "      <td>3.312500</td>\n",
              "      <td>110387200</td>\n",
              "      <td>3.553571</td>\n",
              "      <td>3.553571</td>\n",
              "      <td>NaN</td>\n",
              "    </tr>\n",
              "    <tr>\n",
              "      <th>7</th>\n",
              "      <td>2000-01-12</td>\n",
              "      <td>3.410714</td>\n",
              "      <td>3.089286</td>\n",
              "      <td>3.392857</td>\n",
              "      <td>3.113839</td>\n",
              "      <td>244017200</td>\n",
              "      <td>3.491071</td>\n",
              "      <td>3.553571</td>\n",
              "      <td>142922000.0</td>\n",
              "    </tr>\n",
              "    <tr>\n",
              "      <th>8</th>\n",
              "      <td>2000-01-13</td>\n",
              "      <td>3.526786</td>\n",
              "      <td>3.303571</td>\n",
              "      <td>3.374442</td>\n",
              "      <td>3.455357</td>\n",
              "      <td>258171200</td>\n",
              "      <td>3.455357</td>\n",
              "      <td>3.491071</td>\n",
              "      <td>158646000.0</td>\n",
              "    </tr>\n",
              "    <tr>\n",
              "      <th>9</th>\n",
              "      <td>2000-01-14</td>\n",
              "      <td>3.651786</td>\n",
              "      <td>3.549107</td>\n",
              "      <td>3.571429</td>\n",
              "      <td>3.587054</td>\n",
              "      <td>97594000</td>\n",
              "      <td>3.587054</td>\n",
              "      <td>3.455357</td>\n",
              "      <td>177228400.0</td>\n",
              "    </tr>\n",
              "  </tbody>\n",
              "</table>\n",
              "</div>"
            ],
            "text/plain": [
              "         Date      High       Low  ...  Close_lag3_1  Close_lag3_2  Volume_lag7\n",
              "0  2000-01-03  4.017857  3.631696  ...           NaN           NaN          NaN\n",
              "1  2000-01-04  3.950893  3.613839  ...           NaN           NaN          NaN\n",
              "2  2000-01-05  3.948661  3.678571  ...      3.997768           NaN          NaN\n",
              "3  2000-01-06  3.821429  3.392857  ...      3.714286      3.997768          NaN\n",
              "4  2000-01-07  3.607143  3.410714  ...      3.714286      3.714286          NaN\n",
              "5  2000-01-10  3.651786  3.383929  ...      3.553571      3.714286          NaN\n",
              "6  2000-01-11  3.549107  3.232143  ...      3.553571      3.553571          NaN\n",
              "7  2000-01-12  3.410714  3.089286  ...      3.491071      3.553571  142922000.0\n",
              "8  2000-01-13  3.526786  3.303571  ...      3.455357      3.491071  158646000.0\n",
              "9  2000-01-14  3.651786  3.549107  ...      3.587054      3.455357  177228400.0\n",
              "\n",
              "[10 rows x 9 columns]"
            ]
          },
          "metadata": {
            "tags": []
          },
          "execution_count": 29
        }
      ]
    },
    {
      "cell_type": "markdown",
      "metadata": {
        "id": "rF8iEqBSDQM7"
      },
      "source": [
        "18) stock 데이터프레임에서 2019년 1월 ~ 6월 데이터만 가져와 stock2019 데이터프레임을 만드세요.\n",
        "\n",
        "- 단, copy() 메소드를 사용해 완전히 복사하세요."
      ]
    },
    {
      "cell_type": "code",
      "metadata": {
        "id": "dfjCgWkEDbMI",
        "colab": {
          "base_uri": "https://localhost:8080/",
          "height": 196
        },
        "outputId": "1fb039b3-e534-4b16-bda7-8b040fea7650"
      },
      "source": [
        "# 2019년 1월 ~ 6월 데이터 복사\n",
        "stock2019 = stock[stock['Date'].between('2019-01-01', '2019-06-31')].copy()\n",
        "\n",
        "# 확인\n",
        "stock2019.head()"
      ],
      "execution_count": 30,
      "outputs": [
        {
          "output_type": "execute_result",
          "data": {
            "text/html": [
              "<div>\n",
              "<style scoped>\n",
              "    .dataframe tbody tr th:only-of-type {\n",
              "        vertical-align: middle;\n",
              "    }\n",
              "\n",
              "    .dataframe tbody tr th {\n",
              "        vertical-align: top;\n",
              "    }\n",
              "\n",
              "    .dataframe thead th {\n",
              "        text-align: right;\n",
              "    }\n",
              "</style>\n",
              "<table border=\"1\" class=\"dataframe\">\n",
              "  <thead>\n",
              "    <tr style=\"text-align: right;\">\n",
              "      <th></th>\n",
              "      <th>Date</th>\n",
              "      <th>High</th>\n",
              "      <th>Low</th>\n",
              "      <th>Open</th>\n",
              "      <th>Close</th>\n",
              "      <th>Volume</th>\n",
              "      <th>Close_lag3_1</th>\n",
              "      <th>Close_lag3_2</th>\n",
              "      <th>Volume_lag7</th>\n",
              "    </tr>\n",
              "  </thead>\n",
              "  <tbody>\n",
              "    <tr>\n",
              "      <th>4779</th>\n",
              "      <td>2019-01-02</td>\n",
              "      <td>158.850006</td>\n",
              "      <td>154.229996</td>\n",
              "      <td>154.889999</td>\n",
              "      <td>157.919998</td>\n",
              "      <td>37039700</td>\n",
              "      <td>157.919998</td>\n",
              "      <td>157.740005</td>\n",
              "      <td>5.524019e+07</td>\n",
              "    </tr>\n",
              "    <tr>\n",
              "      <th>4780</th>\n",
              "      <td>2019-01-03</td>\n",
              "      <td>145.720001</td>\n",
              "      <td>142.000000</td>\n",
              "      <td>143.979996</td>\n",
              "      <td>142.190002</td>\n",
              "      <td>91312200</td>\n",
              "      <td>157.919998</td>\n",
              "      <td>157.919998</td>\n",
              "      <td>5.127829e+07</td>\n",
              "    </tr>\n",
              "    <tr>\n",
              "      <th>4781</th>\n",
              "      <td>2019-01-04</td>\n",
              "      <td>148.550003</td>\n",
              "      <td>143.800003</td>\n",
              "      <td>144.529999</td>\n",
              "      <td>148.259995</td>\n",
              "      <td>58607100</td>\n",
              "      <td>157.919998</td>\n",
              "      <td>157.919998</td>\n",
              "      <td>5.064509e+07</td>\n",
              "    </tr>\n",
              "    <tr>\n",
              "      <th>4782</th>\n",
              "      <td>2019-01-07</td>\n",
              "      <td>148.830002</td>\n",
              "      <td>145.899994</td>\n",
              "      <td>148.699997</td>\n",
              "      <td>147.929993</td>\n",
              "      <td>54777800</td>\n",
              "      <td>148.259995</td>\n",
              "      <td>157.919998</td>\n",
              "      <td>5.370764e+07</td>\n",
              "    </tr>\n",
              "    <tr>\n",
              "      <th>4783</th>\n",
              "      <td>2019-01-08</td>\n",
              "      <td>151.820007</td>\n",
              "      <td>148.520004</td>\n",
              "      <td>149.559998</td>\n",
              "      <td>150.750000</td>\n",
              "      <td>41025300</td>\n",
              "      <td>150.750000</td>\n",
              "      <td>148.259995</td>\n",
              "      <td>5.316411e+07</td>\n",
              "    </tr>\n",
              "  </tbody>\n",
              "</table>\n",
              "</div>"
            ],
            "text/plain": [
              "            Date        High  ...  Close_lag3_2   Volume_lag7\n",
              "4779  2019-01-02  158.850006  ...    157.740005  5.524019e+07\n",
              "4780  2019-01-03  145.720001  ...    157.919998  5.127829e+07\n",
              "4781  2019-01-04  148.550003  ...    157.919998  5.064509e+07\n",
              "4782  2019-01-07  148.830002  ...    157.919998  5.370764e+07\n",
              "4783  2019-01-08  151.820007  ...    148.259995  5.316411e+07\n",
              "\n",
              "[5 rows x 9 columns]"
            ]
          },
          "metadata": {
            "tags": []
          },
          "execution_count": 30
        }
      ]
    },
    {
      "cell_type": "markdown",
      "metadata": {
        "id": "f4WD_FEZD_tq"
      },
      "source": [
        "19) stock2019 데이터프레임의 인덱스를 초기화 하세요."
      ]
    },
    {
      "cell_type": "code",
      "metadata": {
        "id": "kdiBd2ZQEE_H",
        "colab": {
          "base_uri": "https://localhost:8080/",
          "height": 196
        },
        "outputId": "d40766c0-510a-4f0a-db63-becc543a5af1"
      },
      "source": [
        "# 인덱스 초기화\n",
        "stock2019.reset_index(drop=True, inplace=True)\n",
        "\n",
        "# 확인\n",
        "stock2019.head()"
      ],
      "execution_count": 31,
      "outputs": [
        {
          "output_type": "execute_result",
          "data": {
            "text/html": [
              "<div>\n",
              "<style scoped>\n",
              "    .dataframe tbody tr th:only-of-type {\n",
              "        vertical-align: middle;\n",
              "    }\n",
              "\n",
              "    .dataframe tbody tr th {\n",
              "        vertical-align: top;\n",
              "    }\n",
              "\n",
              "    .dataframe thead th {\n",
              "        text-align: right;\n",
              "    }\n",
              "</style>\n",
              "<table border=\"1\" class=\"dataframe\">\n",
              "  <thead>\n",
              "    <tr style=\"text-align: right;\">\n",
              "      <th></th>\n",
              "      <th>Date</th>\n",
              "      <th>High</th>\n",
              "      <th>Low</th>\n",
              "      <th>Open</th>\n",
              "      <th>Close</th>\n",
              "      <th>Volume</th>\n",
              "      <th>Close_lag3_1</th>\n",
              "      <th>Close_lag3_2</th>\n",
              "      <th>Volume_lag7</th>\n",
              "    </tr>\n",
              "  </thead>\n",
              "  <tbody>\n",
              "    <tr>\n",
              "      <th>0</th>\n",
              "      <td>2019-01-02</td>\n",
              "      <td>158.850006</td>\n",
              "      <td>154.229996</td>\n",
              "      <td>154.889999</td>\n",
              "      <td>157.919998</td>\n",
              "      <td>37039700</td>\n",
              "      <td>157.919998</td>\n",
              "      <td>157.740005</td>\n",
              "      <td>5.524019e+07</td>\n",
              "    </tr>\n",
              "    <tr>\n",
              "      <th>1</th>\n",
              "      <td>2019-01-03</td>\n",
              "      <td>145.720001</td>\n",
              "      <td>142.000000</td>\n",
              "      <td>143.979996</td>\n",
              "      <td>142.190002</td>\n",
              "      <td>91312200</td>\n",
              "      <td>157.919998</td>\n",
              "      <td>157.919998</td>\n",
              "      <td>5.127829e+07</td>\n",
              "    </tr>\n",
              "    <tr>\n",
              "      <th>2</th>\n",
              "      <td>2019-01-04</td>\n",
              "      <td>148.550003</td>\n",
              "      <td>143.800003</td>\n",
              "      <td>144.529999</td>\n",
              "      <td>148.259995</td>\n",
              "      <td>58607100</td>\n",
              "      <td>157.919998</td>\n",
              "      <td>157.919998</td>\n",
              "      <td>5.064509e+07</td>\n",
              "    </tr>\n",
              "    <tr>\n",
              "      <th>3</th>\n",
              "      <td>2019-01-07</td>\n",
              "      <td>148.830002</td>\n",
              "      <td>145.899994</td>\n",
              "      <td>148.699997</td>\n",
              "      <td>147.929993</td>\n",
              "      <td>54777800</td>\n",
              "      <td>148.259995</td>\n",
              "      <td>157.919998</td>\n",
              "      <td>5.370764e+07</td>\n",
              "    </tr>\n",
              "    <tr>\n",
              "      <th>4</th>\n",
              "      <td>2019-01-08</td>\n",
              "      <td>151.820007</td>\n",
              "      <td>148.520004</td>\n",
              "      <td>149.559998</td>\n",
              "      <td>150.750000</td>\n",
              "      <td>41025300</td>\n",
              "      <td>150.750000</td>\n",
              "      <td>148.259995</td>\n",
              "      <td>5.316411e+07</td>\n",
              "    </tr>\n",
              "  </tbody>\n",
              "</table>\n",
              "</div>"
            ],
            "text/plain": [
              "         Date        High         Low  ...  Close_lag3_1  Close_lag3_2   Volume_lag7\n",
              "0  2019-01-02  158.850006  154.229996  ...    157.919998    157.740005  5.524019e+07\n",
              "1  2019-01-03  145.720001  142.000000  ...    157.919998    157.919998  5.127829e+07\n",
              "2  2019-01-04  148.550003  143.800003  ...    157.919998    157.919998  5.064509e+07\n",
              "3  2019-01-07  148.830002  145.899994  ...    148.259995    157.919998  5.370764e+07\n",
              "4  2019-01-08  151.820007  148.520004  ...    150.750000    148.259995  5.316411e+07\n",
              "\n",
              "[5 rows x 9 columns]"
            ]
          },
          "metadata": {
            "tags": []
          },
          "execution_count": 31
        }
      ]
    },
    {
      "cell_type": "markdown",
      "metadata": {
        "id": "muXBK7wSkdF6"
      },
      "source": [
        "20) 아래 구문을 실행해 시각화된 결과를 확인하세요."
      ]
    },
    {
      "cell_type": "code",
      "metadata": {
        "id": "OVU5WTs2ilJq",
        "colab": {
          "base_uri": "https://localhost:8080/",
          "height": 333
        },
        "outputId": "aef5be9b-51ab-4962-ed9e-aa34e447fb79"
      },
      "source": [
        "stock2019.plot(x='Date', y=['Close', 'Close_lag3_1', 'Close_lag3_2'], figsize=(10, 5))\n",
        "plt.show()"
      ],
      "execution_count": 32,
      "outputs": [
        {
          "output_type": "display_data",
          "data": {
            "image/png": "[encoded data removed]",
            "text/plain": [
              "<Figure size 720x360 with 1 Axes>"
            ]
          },
          "metadata": {
            "tags": [],
            "image/png": {
              "width": 598,
              "height": 316
            },
            "needs_background": "light"
          }
        }
      ]
    },
    {
      "cell_type": "markdown",
      "metadata": {
        "id": "KqOHu2W4C_0R"
      },
      "source": [
        "<center><img src='https://raw.githubusercontent.com/Jangrae/img/master/end.png' width=300/></center>"
      ]
    }
  ]
}
