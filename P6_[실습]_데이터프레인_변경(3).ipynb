{
  "nbformat": 4,
  "nbformat_minor": 0,
  "metadata": {
    "colab": {
      "name": "P6 [실습] 데이터프레인 변경(3).ipynb",
      "provenance": [],
      "collapsed_sections": []
    },
    "kernelspec": {
      "display_name": "Python 3",
      "language": "python",
      "name": "python3"
    },
    "language_info": {
      "codemirror_mode": {
        "name": "ipython",
        "version": 3
      },
      "file_extension": ".py",
      "mimetype": "text/x-python",
      "name": "python",
      "nbconvert_exporter": "python",
      "pygments_lexer": "ipython3",
      "version": "3.7.6"
    }
  },
  "cells": [
    {
      "cell_type": "markdown",
      "metadata": {
        "id": "BFhIXgdYoYGp"
      },
      "source": [
        "<center><img src='https://raw.githubusercontent.com/Jangrae/img/master/title.png' width=500/></center>"
      ]
    },
    {
      "cell_type": "markdown",
      "metadata": {
        "id": "ZL7qtmsDGtwk"
      },
      "source": [
        "<center><img src='https://raw.githubusercontent.com/Jangrae/img/master/practice.png' width=300/></center>"
      ]
    },
    {
      "cell_type": "markdown",
      "metadata": {
        "id": "8f_GOwiqGtwl"
      },
      "source": [
        "# 실습 목표\n",
        "\n",
        "- 데이터를 집계할 수 있습니다.\n",
        "- 데이터프레임을 연결할 수 있습니다.\n",
        "- 데이터프레임을 조인할 수 있습니다.\n",
        "- Rolling, Shift 기능을 활용할 수 있습니다."
      ]
    },
    {
      "cell_type": "markdown",
      "metadata": {
        "id": "L14aTzDENWv3"
      },
      "source": [
        "# P6. [실습] 데이터프레임 변경(3)"
      ]
    },
    {
      "cell_type": "markdown",
      "metadata": {
        "id": "835Jajwnji1L"
      },
      "source": [
        "## [실습1] 데이터프레임 연결"
      ]
    },
    {
      "cell_type": "code",
      "metadata": {
        "id": "Q1Z0Gzo1jmEY"
      },
      "source": [
        "# 라이브러리 불러오기\n",
        "import pandas as pd\n",
        "import numpy as np\n",
        "import matplotlib.pyplot as plt\n",
        "\n",
        "%config InlineBackend.figure_format='retina'"
      ],
      "execution_count": 1,
      "outputs": []
    },
    {
      "cell_type": "code",
      "metadata": {
        "id": "LTO6BRAiGtwp"
      },
      "source": [
        "# graduate 데이터 불러오기\n",
        "file_path = 'https://raw.githubusercontent.com/Jangrae/csv/master/Graduate_apply.csv'\n",
        "graduate = pd.read_csv(file_path, sep = ',') "
      ],
      "execution_count": 2,
      "outputs": []
    },
    {
      "cell_type": "markdown",
      "metadata": {
        "id": "R-PlkBKxjBsW"
      },
      "source": [
        "1) groupby() 메소드를 사용해 rank 별 gre, gpa 최댓값을 집계해서 df_max 데이터프레임을 만드세요.\n",
        "\n",
        "- 단, as_index=False 옵션을 지정하세요."
      ]
    },
    {
      "cell_type": "code",
      "metadata": {
        "id": "5uBLKPN_wxq8",
        "colab": {
          "base_uri": "https://localhost:8080/",
          "height": 166
        },
        "outputId": "daaed2cf-a830-43ca-c938-0ab223999ae8"
      },
      "source": [
        "# 집계\n",
        "df_max = graduate.groupby('rank', as_index=False)[['gre','gpa']].max()\n",
        "\n",
        "# 확인\n",
        "df_max.head()"
      ],
      "execution_count": 3,
      "outputs": [
        {
          "output_type": "execute_result",
          "data": {
            "text/html": [
              "<div>\n",
              "<style scoped>\n",
              "    .dataframe tbody tr th:only-of-type {\n",
              "        vertical-align: middle;\n",
              "    }\n",
              "\n",
              "    .dataframe tbody tr th {\n",
              "        vertical-align: top;\n",
              "    }\n",
              "\n",
              "    .dataframe thead th {\n",
              "        text-align: right;\n",
              "    }\n",
              "</style>\n",
              "<table border=\"1\" class=\"dataframe\">\n",
              "  <thead>\n",
              "    <tr style=\"text-align: right;\">\n",
              "      <th></th>\n",
              "      <th>rank</th>\n",
              "      <th>gre</th>\n",
              "      <th>gpa</th>\n",
              "    </tr>\n",
              "  </thead>\n",
              "  <tbody>\n",
              "    <tr>\n",
              "      <th>0</th>\n",
              "      <td>1</td>\n",
              "      <td>800</td>\n",
              "      <td>4.0</td>\n",
              "    </tr>\n",
              "    <tr>\n",
              "      <th>1</th>\n",
              "      <td>2</td>\n",
              "      <td>800</td>\n",
              "      <td>4.0</td>\n",
              "    </tr>\n",
              "    <tr>\n",
              "      <th>2</th>\n",
              "      <td>3</td>\n",
              "      <td>800</td>\n",
              "      <td>4.0</td>\n",
              "    </tr>\n",
              "    <tr>\n",
              "      <th>3</th>\n",
              "      <td>4</td>\n",
              "      <td>800</td>\n",
              "      <td>4.0</td>\n",
              "    </tr>\n",
              "  </tbody>\n",
              "</table>\n",
              "</div>"
            ],
            "text/plain": [
              "   rank  gre  gpa\n",
              "0     1  800  4.0\n",
              "1     2  800  4.0\n",
              "2     3  800  4.0\n",
              "3     4  800  4.0"
            ]
          },
          "metadata": {
            "tags": []
          },
          "execution_count": 3
        }
      ]
    },
    {
      "cell_type": "markdown",
      "metadata": {
        "id": "kUIvFmEWGtwv"
      },
      "source": [
        "2) rename() 메소드를 사용해 df_max 데이터프레임의 gre, gpa 열 이름을 각각 gre_max, gpa_max로 변경하세요."
      ]
    },
    {
      "cell_type": "code",
      "metadata": {
        "id": "kXaXQG4qGtwv",
        "colab": {
          "base_uri": "https://localhost:8080/",
          "height": 166
        },
        "outputId": "9a318655-0a28-457c-ec52-c2d43b6de1a5"
      },
      "source": [
        "# 열 이름 변경\n",
        "df_max.rename(columns={'gre':'gre_max', 'gpa':'gpa_max'}, inplace=True)\n",
        "\n",
        "# 확인\n",
        "df_max.head()"
      ],
      "execution_count": 4,
      "outputs": [
        {
          "output_type": "execute_result",
          "data": {
            "text/html": [
              "<div>\n",
              "<style scoped>\n",
              "    .dataframe tbody tr th:only-of-type {\n",
              "        vertical-align: middle;\n",
              "    }\n",
              "\n",
              "    .dataframe tbody tr th {\n",
              "        vertical-align: top;\n",
              "    }\n",
              "\n",
              "    .dataframe thead th {\n",
              "        text-align: right;\n",
              "    }\n",
              "</style>\n",
              "<table border=\"1\" class=\"dataframe\">\n",
              "  <thead>\n",
              "    <tr style=\"text-align: right;\">\n",
              "      <th></th>\n",
              "      <th>rank</th>\n",
              "      <th>gre_max</th>\n",
              "      <th>gpa_max</th>\n",
              "    </tr>\n",
              "  </thead>\n",
              "  <tbody>\n",
              "    <tr>\n",
              "      <th>0</th>\n",
              "      <td>1</td>\n",
              "      <td>800</td>\n",
              "      <td>4.0</td>\n",
              "    </tr>\n",
              "    <tr>\n",
              "      <th>1</th>\n",
              "      <td>2</td>\n",
              "      <td>800</td>\n",
              "      <td>4.0</td>\n",
              "    </tr>\n",
              "    <tr>\n",
              "      <th>2</th>\n",
              "      <td>3</td>\n",
              "      <td>800</td>\n",
              "      <td>4.0</td>\n",
              "    </tr>\n",
              "    <tr>\n",
              "      <th>3</th>\n",
              "      <td>4</td>\n",
              "      <td>800</td>\n",
              "      <td>4.0</td>\n",
              "    </tr>\n",
              "  </tbody>\n",
              "</table>\n",
              "</div>"
            ],
            "text/plain": [
              "   rank  gre_max  gpa_max\n",
              "0     1      800      4.0\n",
              "1     2      800      4.0\n",
              "2     3      800      4.0\n",
              "3     4      800      4.0"
            ]
          },
          "metadata": {
            "tags": []
          },
          "execution_count": 4
        }
      ]
    },
    {
      "cell_type": "markdown",
      "metadata": {
        "id": "n0yzwwWwjNNb"
      },
      "source": [
        "3) rank 별 gre, gpa 최솟값을 집계해서 df_min 데이터프레임을 만드세요.\n",
        "\n",
        "- 단, as_index=False 옵션을 지정하세요."
      ]
    },
    {
      "cell_type": "code",
      "metadata": {
        "id": "TaejXlLZwxrD",
        "colab": {
          "base_uri": "https://localhost:8080/",
          "height": 166
        },
        "outputId": "3db0c6ec-2577-48dc-c298-835f98fb408d"
      },
      "source": [
        "# 집계\n",
        "df_min = graduate.groupby('rank', as_index=False)[['gre','gpa']].min()\n",
        "\n",
        "# 확인\n",
        "df_min.head()"
      ],
      "execution_count": 5,
      "outputs": [
        {
          "output_type": "execute_result",
          "data": {
            "text/html": [
              "<div>\n",
              "<style scoped>\n",
              "    .dataframe tbody tr th:only-of-type {\n",
              "        vertical-align: middle;\n",
              "    }\n",
              "\n",
              "    .dataframe tbody tr th {\n",
              "        vertical-align: top;\n",
              "    }\n",
              "\n",
              "    .dataframe thead th {\n",
              "        text-align: right;\n",
              "    }\n",
              "</style>\n",
              "<table border=\"1\" class=\"dataframe\">\n",
              "  <thead>\n",
              "    <tr style=\"text-align: right;\">\n",
              "      <th></th>\n",
              "      <th>rank</th>\n",
              "      <th>gre</th>\n",
              "      <th>gpa</th>\n",
              "    </tr>\n",
              "  </thead>\n",
              "  <tbody>\n",
              "    <tr>\n",
              "      <th>0</th>\n",
              "      <td>1</td>\n",
              "      <td>340</td>\n",
              "      <td>2.42</td>\n",
              "    </tr>\n",
              "    <tr>\n",
              "      <th>1</th>\n",
              "      <td>2</td>\n",
              "      <td>300</td>\n",
              "      <td>2.42</td>\n",
              "    </tr>\n",
              "    <tr>\n",
              "      <th>2</th>\n",
              "      <td>3</td>\n",
              "      <td>220</td>\n",
              "      <td>2.56</td>\n",
              "    </tr>\n",
              "    <tr>\n",
              "      <th>3</th>\n",
              "      <td>4</td>\n",
              "      <td>300</td>\n",
              "      <td>2.26</td>\n",
              "    </tr>\n",
              "  </tbody>\n",
              "</table>\n",
              "</div>"
            ],
            "text/plain": [
              "   rank  gre   gpa\n",
              "0     1  340  2.42\n",
              "1     2  300  2.42\n",
              "2     3  220  2.56\n",
              "3     4  300  2.26"
            ]
          },
          "metadata": {
            "tags": []
          },
          "execution_count": 5
        }
      ]
    },
    {
      "cell_type": "markdown",
      "metadata": {
        "id": "p-zYtOsTGtw0"
      },
      "source": [
        "4) df_min 데이터프레임의 gre, gpa 열 이름을 각각 gre_min, gpa_min로 변경하세요."
      ]
    },
    {
      "cell_type": "code",
      "metadata": {
        "id": "IVz9Y7x3Gtw1",
        "colab": {
          "base_uri": "https://localhost:8080/",
          "height": 166
        },
        "outputId": "aa28ed78-1b5f-44fa-cd4b-c1b758cd137e"
      },
      "source": [
        "# 열 이름 변경\n",
        "df_min.rename(columns = {'gre':'gre_min', 'gpa':'gpa_min'},inplace=True)\n",
        "\n",
        "# 확인\n",
        "df_min.head()"
      ],
      "execution_count": 6,
      "outputs": [
        {
          "output_type": "execute_result",
          "data": {
            "text/html": [
              "<div>\n",
              "<style scoped>\n",
              "    .dataframe tbody tr th:only-of-type {\n",
              "        vertical-align: middle;\n",
              "    }\n",
              "\n",
              "    .dataframe tbody tr th {\n",
              "        vertical-align: top;\n",
              "    }\n",
              "\n",
              "    .dataframe thead th {\n",
              "        text-align: right;\n",
              "    }\n",
              "</style>\n",
              "<table border=\"1\" class=\"dataframe\">\n",
              "  <thead>\n",
              "    <tr style=\"text-align: right;\">\n",
              "      <th></th>\n",
              "      <th>rank</th>\n",
              "      <th>gre_min</th>\n",
              "      <th>gpa_min</th>\n",
              "    </tr>\n",
              "  </thead>\n",
              "  <tbody>\n",
              "    <tr>\n",
              "      <th>0</th>\n",
              "      <td>1</td>\n",
              "      <td>340</td>\n",
              "      <td>2.42</td>\n",
              "    </tr>\n",
              "    <tr>\n",
              "      <th>1</th>\n",
              "      <td>2</td>\n",
              "      <td>300</td>\n",
              "      <td>2.42</td>\n",
              "    </tr>\n",
              "    <tr>\n",
              "      <th>2</th>\n",
              "      <td>3</td>\n",
              "      <td>220</td>\n",
              "      <td>2.56</td>\n",
              "    </tr>\n",
              "    <tr>\n",
              "      <th>3</th>\n",
              "      <td>4</td>\n",
              "      <td>300</td>\n",
              "      <td>2.26</td>\n",
              "    </tr>\n",
              "  </tbody>\n",
              "</table>\n",
              "</div>"
            ],
            "text/plain": [
              "   rank  gre_min  gpa_min\n",
              "0     1      340     2.42\n",
              "1     2      300     2.42\n",
              "2     3      220     2.56\n",
              "3     4      300     2.26"
            ]
          },
          "metadata": {
            "tags": []
          },
          "execution_count": 6
        }
      ]
    },
    {
      "cell_type": "markdown",
      "metadata": {
        "id": "6vPZMsXUjUih"
      },
      "source": [
        "5) concat() 함수를 사용해 df_max, df_min 데이터프레임을 연결한 결과를 갖는 df_graduate1 데이터프레임을 만드세요.\n",
        "\n",
        "- 단, rank 열 중복을 없애기 위해 df_min 데이터프레임에서는 gre_min, gpa_min 열만 연결되게 하세요."
      ]
    },
    {
      "cell_type": "code",
      "metadata": {
        "id": "Qc4ap82mwxrH",
        "colab": {
          "base_uri": "https://localhost:8080/",
          "height": 166
        },
        "outputId": "d8de5cb3-0ce3-415a-f041-661fc0e8d8f0"
      },
      "source": [
        "# 데이터프레임 연결\n",
        "df_graduate1 = pd.concat([df_max, df_min[['gre_min', 'gpa_min']]], axis=1)\n",
        "\n",
        "#확인\n",
        "df_graduate1.head()"
      ],
      "execution_count": 7,
      "outputs": [
        {
          "output_type": "execute_result",
          "data": {
            "text/html": [
              "<div>\n",
              "<style scoped>\n",
              "    .dataframe tbody tr th:only-of-type {\n",
              "        vertical-align: middle;\n",
              "    }\n",
              "\n",
              "    .dataframe tbody tr th {\n",
              "        vertical-align: top;\n",
              "    }\n",
              "\n",
              "    .dataframe thead th {\n",
              "        text-align: right;\n",
              "    }\n",
              "</style>\n",
              "<table border=\"1\" class=\"dataframe\">\n",
              "  <thead>\n",
              "    <tr style=\"text-align: right;\">\n",
              "      <th></th>\n",
              "      <th>rank</th>\n",
              "      <th>gre_max</th>\n",
              "      <th>gpa_max</th>\n",
              "      <th>gre_min</th>\n",
              "      <th>gpa_min</th>\n",
              "    </tr>\n",
              "  </thead>\n",
              "  <tbody>\n",
              "    <tr>\n",
              "      <th>0</th>\n",
              "      <td>1</td>\n",
              "      <td>800</td>\n",
              "      <td>4.0</td>\n",
              "      <td>340</td>\n",
              "      <td>2.42</td>\n",
              "    </tr>\n",
              "    <tr>\n",
              "      <th>1</th>\n",
              "      <td>2</td>\n",
              "      <td>800</td>\n",
              "      <td>4.0</td>\n",
              "      <td>300</td>\n",
              "      <td>2.42</td>\n",
              "    </tr>\n",
              "    <tr>\n",
              "      <th>2</th>\n",
              "      <td>3</td>\n",
              "      <td>800</td>\n",
              "      <td>4.0</td>\n",
              "      <td>220</td>\n",
              "      <td>2.56</td>\n",
              "    </tr>\n",
              "    <tr>\n",
              "      <th>3</th>\n",
              "      <td>4</td>\n",
              "      <td>800</td>\n",
              "      <td>4.0</td>\n",
              "      <td>300</td>\n",
              "      <td>2.26</td>\n",
              "    </tr>\n",
              "  </tbody>\n",
              "</table>\n",
              "</div>"
            ],
            "text/plain": [
              "   rank  gre_max  gpa_max  gre_min  gpa_min\n",
              "0     1      800      4.0      340     2.42\n",
              "1     2      800      4.0      300     2.42\n",
              "2     3      800      4.0      220     2.56\n",
              "3     4      800      4.0      300     2.26"
            ]
          },
          "metadata": {
            "tags": []
          },
          "execution_count": 7
        }
      ]
    },
    {
      "cell_type": "markdown",
      "metadata": {
        "id": "44LKykZbeJXp"
      },
      "source": [
        "## [실습2] 데이터프레임 조인"
      ]
    },
    {
      "cell_type": "code",
      "metadata": {
        "id": "I6UU1bImgxjL"
      },
      "source": [
        "# 라이브러리 불러오기\n",
        "import pandas as pd\n",
        "import numpy as np\n",
        "import matplotlib.pyplot as plt\n",
        "\n",
        "%config InlineBackend.figure_format='retina'"
      ],
      "execution_count": 8,
      "outputs": []
    },
    {
      "cell_type": "code",
      "metadata": {
        "id": "QJYkG6nVgxjT"
      },
      "source": [
        "# graduate 데이터 불러오기\n",
        "file_path = 'https://raw.githubusercontent.com/Jangrae/csv/master/Graduate_apply.csv'\n",
        "graduate = pd.read_csv(file_path, sep = ',') "
      ],
      "execution_count": 9,
      "outputs": []
    },
    {
      "cell_type": "markdown",
      "metadata": {
        "id": "CUj6EXWweJXt"
      },
      "source": [
        "6) groupby() 메소드를 사용해 rank 별 gre, gpa 평균을 집계해서 df_mean 데이터프레임을 만드세요.\n",
        "\n",
        "- 단, as_index=False 옵션을 지정하세요."
      ]
    },
    {
      "cell_type": "code",
      "metadata": {
        "id": "0KvvZwdNeJXv",
        "colab": {
          "base_uri": "https://localhost:8080/",
          "height": 166
        },
        "outputId": "9468cda5-a39d-4e79-9984-45bde09fa9ff"
      },
      "source": [
        "# 집계\n",
        "df_mean = graduate.groupby('rank', as_index=False)[['gre','gpa']].mean()\n",
        "\n",
        "# 확인\n",
        "df_mean.head()"
      ],
      "execution_count": 10,
      "outputs": [
        {
          "output_type": "execute_result",
          "data": {
            "text/html": [
              "<div>\n",
              "<style scoped>\n",
              "    .dataframe tbody tr th:only-of-type {\n",
              "        vertical-align: middle;\n",
              "    }\n",
              "\n",
              "    .dataframe tbody tr th {\n",
              "        vertical-align: top;\n",
              "    }\n",
              "\n",
              "    .dataframe thead th {\n",
              "        text-align: right;\n",
              "    }\n",
              "</style>\n",
              "<table border=\"1\" class=\"dataframe\">\n",
              "  <thead>\n",
              "    <tr style=\"text-align: right;\">\n",
              "      <th></th>\n",
              "      <th>rank</th>\n",
              "      <th>gre</th>\n",
              "      <th>gpa</th>\n",
              "    </tr>\n",
              "  </thead>\n",
              "  <tbody>\n",
              "    <tr>\n",
              "      <th>0</th>\n",
              "      <td>1</td>\n",
              "      <td>611.803279</td>\n",
              "      <td>3.453115</td>\n",
              "    </tr>\n",
              "    <tr>\n",
              "      <th>1</th>\n",
              "      <td>2</td>\n",
              "      <td>596.026490</td>\n",
              "      <td>3.361656</td>\n",
              "    </tr>\n",
              "    <tr>\n",
              "      <th>2</th>\n",
              "      <td>3</td>\n",
              "      <td>574.876033</td>\n",
              "      <td>3.432893</td>\n",
              "    </tr>\n",
              "    <tr>\n",
              "      <th>3</th>\n",
              "      <td>4</td>\n",
              "      <td>570.149254</td>\n",
              "      <td>3.318358</td>\n",
              "    </tr>\n",
              "  </tbody>\n",
              "</table>\n",
              "</div>"
            ],
            "text/plain": [
              "   rank         gre       gpa\n",
              "0     1  611.803279  3.453115\n",
              "1     2  596.026490  3.361656\n",
              "2     3  574.876033  3.432893\n",
              "3     4  570.149254  3.318358"
            ]
          },
          "metadata": {
            "tags": []
          },
          "execution_count": 10
        }
      ]
    },
    {
      "cell_type": "markdown",
      "metadata": {
        "id": "RU6J7ZRPeJX4"
      },
      "source": [
        "7) rename() 메소드를 사용해 df_mean 데이터프레임의 gre, gpa 열 이름을 각각 gre_mean, gpa_mean로 변경하세요."
      ]
    },
    {
      "cell_type": "code",
      "metadata": {
        "id": "KXY1KrqFeJX5",
        "colab": {
          "base_uri": "https://localhost:8080/",
          "height": 166
        },
        "outputId": "23963b38-39ad-443c-b65b-23e59da25ea9"
      },
      "source": [
        "# 열 이름 변경\n",
        "df_mean.rename(columns={'gre':'gre_mean', 'gpa':'gpa_mean'}, inplace=True)\n",
        "\n",
        "# 확인\n",
        "df_mean.head()"
      ],
      "execution_count": 11,
      "outputs": [
        {
          "output_type": "execute_result",
          "data": {
            "text/html": [
              "<div>\n",
              "<style scoped>\n",
              "    .dataframe tbody tr th:only-of-type {\n",
              "        vertical-align: middle;\n",
              "    }\n",
              "\n",
              "    .dataframe tbody tr th {\n",
              "        vertical-align: top;\n",
              "    }\n",
              "\n",
              "    .dataframe thead th {\n",
              "        text-align: right;\n",
              "    }\n",
              "</style>\n",
              "<table border=\"1\" class=\"dataframe\">\n",
              "  <thead>\n",
              "    <tr style=\"text-align: right;\">\n",
              "      <th></th>\n",
              "      <th>rank</th>\n",
              "      <th>gre_mean</th>\n",
              "      <th>gpa_mean</th>\n",
              "    </tr>\n",
              "  </thead>\n",
              "  <tbody>\n",
              "    <tr>\n",
              "      <th>0</th>\n",
              "      <td>1</td>\n",
              "      <td>611.803279</td>\n",
              "      <td>3.453115</td>\n",
              "    </tr>\n",
              "    <tr>\n",
              "      <th>1</th>\n",
              "      <td>2</td>\n",
              "      <td>596.026490</td>\n",
              "      <td>3.361656</td>\n",
              "    </tr>\n",
              "    <tr>\n",
              "      <th>2</th>\n",
              "      <td>3</td>\n",
              "      <td>574.876033</td>\n",
              "      <td>3.432893</td>\n",
              "    </tr>\n",
              "    <tr>\n",
              "      <th>3</th>\n",
              "      <td>4</td>\n",
              "      <td>570.149254</td>\n",
              "      <td>3.318358</td>\n",
              "    </tr>\n",
              "  </tbody>\n",
              "</table>\n",
              "</div>"
            ],
            "text/plain": [
              "   rank    gre_mean  gpa_mean\n",
              "0     1  611.803279  3.453115\n",
              "1     2  596.026490  3.361656\n",
              "2     3  574.876033  3.432893\n",
              "3     4  570.149254  3.318358"
            ]
          },
          "metadata": {
            "tags": []
          },
          "execution_count": 11
        }
      ]
    },
    {
      "cell_type": "markdown",
      "metadata": {
        "id": "6KS3uxw2eJX-"
      },
      "source": [
        "8) rank 별 gre, gpa 합계를 집계해서 df_sum 데이터프레임을 만드세요.\n",
        "\n",
        "- 단, as_index=False 옵션을 지정하세요."
      ]
    },
    {
      "cell_type": "code",
      "metadata": {
        "id": "atAJbIvDeJX_",
        "colab": {
          "base_uri": "https://localhost:8080/",
          "height": 166
        },
        "outputId": "5b315883-0697-4655-cacb-8b7fef53bfd7"
      },
      "source": [
        "# 집계\n",
        "df_sum = graduate.groupby('rank', as_index=False)[['gre','gpa']].sum()\n",
        "\n",
        "# 확인\n",
        "df_sum.head()"
      ],
      "execution_count": 12,
      "outputs": [
        {
          "output_type": "execute_result",
          "data": {
            "text/html": [
              "<div>\n",
              "<style scoped>\n",
              "    .dataframe tbody tr th:only-of-type {\n",
              "        vertical-align: middle;\n",
              "    }\n",
              "\n",
              "    .dataframe tbody tr th {\n",
              "        vertical-align: top;\n",
              "    }\n",
              "\n",
              "    .dataframe thead th {\n",
              "        text-align: right;\n",
              "    }\n",
              "</style>\n",
              "<table border=\"1\" class=\"dataframe\">\n",
              "  <thead>\n",
              "    <tr style=\"text-align: right;\">\n",
              "      <th></th>\n",
              "      <th>rank</th>\n",
              "      <th>gre</th>\n",
              "      <th>gpa</th>\n",
              "    </tr>\n",
              "  </thead>\n",
              "  <tbody>\n",
              "    <tr>\n",
              "      <th>0</th>\n",
              "      <td>1</td>\n",
              "      <td>37320</td>\n",
              "      <td>210.64</td>\n",
              "    </tr>\n",
              "    <tr>\n",
              "      <th>1</th>\n",
              "      <td>2</td>\n",
              "      <td>90000</td>\n",
              "      <td>507.61</td>\n",
              "    </tr>\n",
              "    <tr>\n",
              "      <th>2</th>\n",
              "      <td>3</td>\n",
              "      <td>69560</td>\n",
              "      <td>415.38</td>\n",
              "    </tr>\n",
              "    <tr>\n",
              "      <th>3</th>\n",
              "      <td>4</td>\n",
              "      <td>38200</td>\n",
              "      <td>222.33</td>\n",
              "    </tr>\n",
              "  </tbody>\n",
              "</table>\n",
              "</div>"
            ],
            "text/plain": [
              "   rank    gre     gpa\n",
              "0     1  37320  210.64\n",
              "1     2  90000  507.61\n",
              "2     3  69560  415.38\n",
              "3     4  38200  222.33"
            ]
          },
          "metadata": {
            "tags": []
          },
          "execution_count": 12
        }
      ]
    },
    {
      "cell_type": "markdown",
      "metadata": {
        "id": "F0ToSh2ZeJYE"
      },
      "source": [
        "9) df_sum 데이터프레임의 gre, gpa 열 이름을 각각 gre_sum, gpa_sum로 변경하세요."
      ]
    },
    {
      "cell_type": "code",
      "metadata": {
        "id": "nUGgT9B0eJYF",
        "colab": {
          "base_uri": "https://localhost:8080/",
          "height": 166
        },
        "outputId": "53b3e074-4357-49d0-c01c-bb2c7fdecb11"
      },
      "source": [
        "# 열 이름 변경\n",
        "df_sum.rename(columns = {'gre':'gre_sum', 'gpa':'gpa_sum'},inplace=True)\n",
        "\n",
        "# 확인\n",
        "df_sum.head()"
      ],
      "execution_count": 13,
      "outputs": [
        {
          "output_type": "execute_result",
          "data": {
            "text/html": [
              "<div>\n",
              "<style scoped>\n",
              "    .dataframe tbody tr th:only-of-type {\n",
              "        vertical-align: middle;\n",
              "    }\n",
              "\n",
              "    .dataframe tbody tr th {\n",
              "        vertical-align: top;\n",
              "    }\n",
              "\n",
              "    .dataframe thead th {\n",
              "        text-align: right;\n",
              "    }\n",
              "</style>\n",
              "<table border=\"1\" class=\"dataframe\">\n",
              "  <thead>\n",
              "    <tr style=\"text-align: right;\">\n",
              "      <th></th>\n",
              "      <th>rank</th>\n",
              "      <th>gre_sum</th>\n",
              "      <th>gpa_sum</th>\n",
              "    </tr>\n",
              "  </thead>\n",
              "  <tbody>\n",
              "    <tr>\n",
              "      <th>0</th>\n",
              "      <td>1</td>\n",
              "      <td>37320</td>\n",
              "      <td>210.64</td>\n",
              "    </tr>\n",
              "    <tr>\n",
              "      <th>1</th>\n",
              "      <td>2</td>\n",
              "      <td>90000</td>\n",
              "      <td>507.61</td>\n",
              "    </tr>\n",
              "    <tr>\n",
              "      <th>2</th>\n",
              "      <td>3</td>\n",
              "      <td>69560</td>\n",
              "      <td>415.38</td>\n",
              "    </tr>\n",
              "    <tr>\n",
              "      <th>3</th>\n",
              "      <td>4</td>\n",
              "      <td>38200</td>\n",
              "      <td>222.33</td>\n",
              "    </tr>\n",
              "  </tbody>\n",
              "</table>\n",
              "</div>"
            ],
            "text/plain": [
              "   rank  gre_sum  gpa_sum\n",
              "0     1    37320   210.64\n",
              "1     2    90000   507.61\n",
              "2     3    69560   415.38\n",
              "3     4    38200   222.33"
            ]
          },
          "metadata": {
            "tags": []
          },
          "execution_count": 13
        }
      ]
    },
    {
      "cell_type": "markdown",
      "metadata": {
        "id": "-Jn7GHvUeJYR"
      },
      "source": [
        "10) merge() 함수를 사용해 df_mean, df_sum 데이터프레임을 조인한 결과를 갖는 df_graduate2 데이터프레임을 만드세요.\n",
        "\n",
        "- 단, 양쪽 데이터프레임의 rank 열을 기준으로 inner join 하세요."
      ]
    },
    {
      "cell_type": "code",
      "metadata": {
        "id": "SHBbRkKseJYS",
        "colab": {
          "base_uri": "https://localhost:8080/",
          "height": 166
        },
        "outputId": "4aac3058-d106-402a-a127-f075505b06c2"
      },
      "source": [
        "# 데이터프레임 조인\n",
        "df_graduate2 = pd.merge(df_mean, df_sum, on='rank', how='inner')\n",
        "\n",
        "# 확인\n",
        "df_graduate2.head()"
      ],
      "execution_count": 14,
      "outputs": [
        {
          "output_type": "execute_result",
          "data": {
            "text/html": [
              "<div>\n",
              "<style scoped>\n",
              "    .dataframe tbody tr th:only-of-type {\n",
              "        vertical-align: middle;\n",
              "    }\n",
              "\n",
              "    .dataframe tbody tr th {\n",
              "        vertical-align: top;\n",
              "    }\n",
              "\n",
              "    .dataframe thead th {\n",
              "        text-align: right;\n",
              "    }\n",
              "</style>\n",
              "<table border=\"1\" class=\"dataframe\">\n",
              "  <thead>\n",
              "    <tr style=\"text-align: right;\">\n",
              "      <th></th>\n",
              "      <th>rank</th>\n",
              "      <th>gre_mean</th>\n",
              "      <th>gpa_mean</th>\n",
              "      <th>gre_sum</th>\n",
              "      <th>gpa_sum</th>\n",
              "    </tr>\n",
              "  </thead>\n",
              "  <tbody>\n",
              "    <tr>\n",
              "      <th>0</th>\n",
              "      <td>1</td>\n",
              "      <td>611.803279</td>\n",
              "      <td>3.453115</td>\n",
              "      <td>37320</td>\n",
              "      <td>210.64</td>\n",
              "    </tr>\n",
              "    <tr>\n",
              "      <th>1</th>\n",
              "      <td>2</td>\n",
              "      <td>596.026490</td>\n",
              "      <td>3.361656</td>\n",
              "      <td>90000</td>\n",
              "      <td>507.61</td>\n",
              "    </tr>\n",
              "    <tr>\n",
              "      <th>2</th>\n",
              "      <td>3</td>\n",
              "      <td>574.876033</td>\n",
              "      <td>3.432893</td>\n",
              "      <td>69560</td>\n",
              "      <td>415.38</td>\n",
              "    </tr>\n",
              "    <tr>\n",
              "      <th>3</th>\n",
              "      <td>4</td>\n",
              "      <td>570.149254</td>\n",
              "      <td>3.318358</td>\n",
              "      <td>38200</td>\n",
              "      <td>222.33</td>\n",
              "    </tr>\n",
              "  </tbody>\n",
              "</table>\n",
              "</div>"
            ],
            "text/plain": [
              "   rank    gre_mean  gpa_mean  gre_sum  gpa_sum\n",
              "0     1  611.803279  3.453115    37320   210.64\n",
              "1     2  596.026490  3.361656    90000   507.61\n",
              "2     3  574.876033  3.432893    69560   415.38\n",
              "3     4  570.149254  3.318358    38200   222.33"
            ]
          },
          "metadata": {
            "tags": []
          },
          "execution_count": 14
        }
      ]
    },
    {
      "cell_type": "markdown",
      "metadata": {
        "id": "KqOHu2W4C_0R"
      },
      "source": [
        "<center><img src='https://raw.githubusercontent.com/Jangrae/img/master/end.png' width=300/></center>"
      ]
    }
  ]
}